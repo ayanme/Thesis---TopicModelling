{
 "cells": [
  {
   "cell_type": "markdown",
   "metadata": {},
   "source": [
    "# Title Page i"
   ]
  },
  {
   "cell_type": "markdown",
   "metadata": {},
   "source": [
    "# Abstract ii\n",
    "\n",
    "\n",
    "\n",
    "Index Terms—topic model, latent dirichlet allocation, skipgram model, final project abstracts"
   ]
  },
  {
   "cell_type": "markdown",
   "metadata": {},
   "source": [
    "# Acknowledgments iii\n",
    "\n",
    "\n",
    "I would like to thank my parents and friends for their unwavering support and their confidence in my abilities even when I was really skeptical.\n",
    "\n",
    "I would like to thank Dr. Atabey Kaygun whose guidance has made this thesis possible. I would like to thank him for putting up with me as I put this together."
   ]
  },
  {
   "cell_type": "markdown",
   "metadata": {},
   "source": [
    "# Table of Contents \n",
    "\n",
    "    Title Page  i\n",
    "    Abstract ii\n",
    "    Acknowledgments iii\n",
    "\n",
    "    1. Introduction  \n",
    "        1.1 Natural Language Processing \n",
    "        1.2 Topic Modeling  \n",
    "\n",
    "    2. Review of Literature \n",
    "        2.1 Terminology\n",
    "        2.2 Brief History of Topic Modelling \n",
    "        2.3 Latent Dirichlet Allocation\n",
    "        \n",
    "    3. Model Training\n",
    "        3.1 Training Overview\n",
    "        3.2 Data Retrieving\n",
    "        3.3 Data Pre-processing\n",
    "\n",
    "    4. Experimental Validation\n",
    "        4.1 Dictionary and Corpus\n",
    "        4.2 LDA Topic Model\n",
    "        4.3 Model Perplexity and Coherence Score\n",
    "        4.4 Visualization of the Topics and Keywords\n",
    "        \n",
    "    5. Conclusion \n",
    "    \n",
    "    References "
   ]
  },
  {
   "cell_type": "markdown",
   "metadata": {},
   "source": [
    "## 1. Introduction\n",
    "\n",
    "..."
   ]
  },
  {
   "cell_type": "markdown",
   "metadata": {},
   "source": [
    "   ### 1.1 Natural Language Processing\n",
    "\n",
    "Natural Language Processing is an area of computer science and information engineering within the field of Artificial Intelligence that is focused on the interaction between machines and humans using the natural language. The major tasks of NLP include:\n",
    "\n",
    "- *Question Answering Systems (QAS)* - These systems automatically answer questions from users in a natural language.\n",
    "\n",
    "- *Summarization* - The goal of this field is to create a logical and fluent summary from a collection of documents or emails. \n",
    "\n",
    "- *Machine Translation* - Being one of the significant areas of NLP, machine translation refers to the assignment of automatically converting a given text to other languages fluently while preserving the original meaning of the text.\n",
    "\n",
    "- *Speech Recognition* - Speech recognition aims to enable machines to recognize and translate the spoken language into text.\n",
    "\n",
    "- *Document classification* - This is one of the strong areas of NLP.  Document classification aims to distinguish the category of a document.\n",
    "\n"
   ]
  },
  {
   "cell_type": "markdown",
   "metadata": {},
   "source": [
    "### 1.2 Topic Modelling\n",
    "\n",
    "\n",
    "Topic modelling is the process of discovering the key themes that occur in a collection of documents. It is mostly used as a text-mining tool to find hidden semantic structures in a text body. One of the topic models vastly used is Latent Dirichlet Allocation. LDA assumes that documents are randomly generated from a set of topics which each of these topics being a word distribution. These topics are hidden distributions derived from the regulation through the Dirichlet process. The algorithm repeats this process a number of times for each document, adjusting the topics thoroughly to adapt them to reach a fixed convergence.\n"
   ]
  },
  {
   "cell_type": "markdown",
   "metadata": {},
   "source": [
    "## 2. Review of Literature"
   ]
  },
  {
   "cell_type": "markdown",
   "metadata": {},
   "source": [
    "### 2.1 Terminology\n",
    "    \n",
    "  In the paper, we use specific terms for the text collections. We refer to these such as \"words\", \"corpora\" and \"topic\".  It makes it easier for us to understand and make it much clearer when we are trying to identify topics after we precede latent variables. \n",
    "    \n",
    "   We define the following terms:\n",
    "    \n",
    "   - *Word* - The basic element of discrete data. It is also called a \"token\". It can be formally defined as an element from a vocabulary that is indexed by {1,...,V}. Words are represented as unit-based vectors that have one componant equal to one and other components equal to zero. So, the *v*th word from a vocabulary is denoted as a V-vector w such as $w^v$ = 1 and $w^u$ = 0 for u$\\neq$v.\n",
    "   \n",
    "   \n",
    "   - *Vocabulary* - A vocabulary is defined as a collection of all unique words. Formally, it is denoted as a V-vector that is indexed by {1,...,V}. \n",
    "   \n",
    "   \n",
    "   - *Document* - A document denoted by w = ($w_1$,$w_2$,...,$w_N$) is a sequence of N words, where $w_n$ is the *n*th word in the sequence.\n",
    "   \n",
    "  \n",
    "   - *Corpus* -  A corpus denoted by D = {$w_1$,$w_2$,...,$w_M$} is a collection of M documents. \n",
    "   \n",
    "  \n",
    "   - *Topic* - A topic is a probability distribution on vocabulary\n",
    "    "
   ]
  },
  {
   "cell_type": "markdown",
   "metadata": {},
   "source": [
    "**Topic Models**"
   ]
  },
  {
   "cell_type": "markdown",
   "metadata": {},
   "source": [
    "   Topic models are used for identifying abstract \"topics\", or \"latent\" variables in a collection of documents. With the use of topics, the goals differ from examining a large corpus to classifying new documents."
   ]
  },
  {
   "cell_type": "markdown",
   "metadata": {},
   "source": [
    "### 2.2 Brief History of Topic Modelling"
   ]
  },
  {
   "cell_type": "markdown",
   "metadata": {},
   "source": [
    " With the need for making documents more understandable, the methods for text mining were created. The basic concept of text mining is to extract meaningful numeric indices from a text. Term-frequency inverse-document-frequency (tf-idf) was the first method to be used. This method compares the frequency of a word in a document to its overall occurrence in all documents, which shows us the importance of that word in the document. But it does not provide a special insight. For example, it may show us the high frequency of two terms but we can't see the information about how frequently they are used together.  Tf-idf matrix is used by latent semantic indexing (LSI) which is where the foundation of a topic model came from. We can get the key correlation by applying the Singular Value Decomposition(SVD) to the matrix. Continuing from the example above, this will give us the information about how frequently they are used together. \n",
    " \n",
    "LSI was introduced in 1988 by Deerwester et al.  It was used for the progress of a topic model in 1990 as a source but it is not a probabilistic model, therefore it is not a genuine model. \n",
    "  \n",
    "In 1999, Thomas Hofmann created probabilistic latent semantic analysis (PLSA or also known as PLSI). PLSI is a latent class model that is established from a mixture decomposition.  It chooses a random topic from the document's topic distribution and then it chooses a random word from the document's word distribution to generate a word. Basically, as a generative model, it analyses the co-occurrence data of words and documents. For example, if the algorithm chose the topic as vehicle, the generated words will be such as \"car\" or \"door\" and in that case, we can also see them having a high occurrence. The disadvantage is that this method leads to overfitting. \n",
    "   \n",
    "Latent Dirichlet allocation (LDA) is an extension of PLSA. LDA is the most popular topic model that is being used as a base for other probabilistic models.  "
   ]
  },
  {
   "cell_type": "markdown",
   "metadata": {},
   "source": [
    "   ### 2.3 Latent Dirichlet Allocation"
   ]
  },
  {
   "cell_type": "markdown",
   "metadata": {},
   "source": [
    "   #### 2.3.1 LDA Assumptions"
   ]
  },
  {
   "cell_type": "markdown",
   "metadata": {},
   "source": [
    "LDA is the simplest topic model and has a couple of key assumptions: "
   ]
  },
  {
   "cell_type": "markdown",
   "metadata": {},
   "source": [
    "1. Distribution over a vocabulary is called a *topic*.\n",
    "\n",
    "2. Each document is created by randomly choosing a topic over a topic mixture, and then randomly choosing a word from that topic. Each word in the document is generated by repeating this process.\n",
    "\n",
    "3. Each document have a set of topics.\n",
    "\n",
    "4. Documents are represented by by a probability mass function for topic selection.\n",
    "\n",
    "5. Words are assumed to be unordered and they are also generated indepently of other words. In other way, it means we can take each document as \"bag of words\".\n",
    "\n",
    "6. The number of topics is the only parameter that is defined prior.\n",
    "\n",
    "We can observe only  the results for the given documents.  Hidden distributions of topics must be deduced.  The difference between LDA and other methods is that for LDA, Dirichlet distribution is the prior distribution for each topic. After randomly choosing topics, Bayesian Inference is used for iterating them which in every iteration the algorithm renews every topic in accordance to the relation between the topics and documents. This process proceeds until the user is satisfied."
   ]
  },
  {
   "cell_type": "markdown",
   "metadata": {},
   "source": [
    "  #### 2.3.2 Bayesian Inference"
   ]
  },
  {
   "cell_type": "markdown",
   "metadata": {},
   "source": [
    "Bayesian Inference is the process of adjusting the changes of an event which is the Bayesian interpretation of probability, in regards to the new data that is being collected. But it does not ignore the previous data. \n",
    "For example, you went to your hometown. I can make several assumptions about how you travelled:\n",
    "- You traveled by car.\n",
    "- You traveled by train.\n",
    "- You walked all the way.\n",
    "\n",
    "With the previos data or observation I can tell that that the probability of you travelling by foot is low because the data shows people do not usually travel like that. If I see a train ticket, the probability of you taking the train gets higher and other possibilities gets lower. If I see dirt on your shoes I can assume you walked all the way but I will be skeptical about it because of the previous data. So with the observation of the available data I have, I can improve the possibilities of my estimates. "
   ]
  },
  {
   "cell_type": "markdown",
   "metadata": {},
   "source": [
    "  #### 2.3.3 Dirichlet Distribution"
   ]
  },
  {
   "cell_type": "markdown",
   "metadata": {},
   "source": [
    "LDA assumes the following generative process for each document w in a corpus D:\n",
    "1. Choose *N* ∼ Poisson(ξ).\n",
    "2. Choose θ ∼ Dir(α).\n",
    "3. For each of the *N* words $w_n$:\n",
    "    - Choose a topic $z_n$ ∼ Multinomial(θ).\n",
    "    - Choose a word $w_n$ from p($w_n$ |$z_n$,β), a multinomial probability conditioned on the topic $z_n$.\n",
    "\n",
    "Dirichlet distribution is a multivariate generalization of the Beta distribution. Thus, we need to start with *Beta Distribution*."
   ]
  },
  {
   "cell_type": "markdown",
   "metadata": {},
   "source": [
    "**Beta Distribution:**"
   ]
  },
  {
   "cell_type": "markdown",
   "metadata": {},
   "source": [
    "This is a distribution over [0,1] with parameters, α and β. These parameters control the shape of the distribution, and it's probability density function is given by\n",
    "\n",
    "\\begin{aligned}f(x;\\alpha ,\\beta )&={\\frac {1}{\\mathrm {B} (\\alpha ,\\beta )}}x^{\\alpha -1}(1-x)^{\\beta -1}\\end{aligned}\n",
    "\n",
    "\n",
    "\n",
    "- *B(α, β)* - Beta function serves to normalize the distribution.\n"
   ]
  },
  {
   "cell_type": "markdown",
   "metadata": {},
   "source": [
    "**Multinomial Distribution:**"
   ]
  },
  {
   "cell_type": "markdown",
   "metadata": {},
   "source": [
    "$x_i$ ∈ {0, . . . , n} , $θ_i$ $\\geq$ 0\n",
    "\n",
    "\\begin{aligned} P(X_1=x_1,...,X_n=x_n)=\\frac{N!}{\\prod_{i=1}^{k}{x_i!}}\\prod_{i=1}^{k}\\theta_i^{x_i},N=\\sum_{i=1}^kx_i, \\sum_{i=1}^k\\theta_i = 1\\end{aligned} "
   ]
  },
  {
   "cell_type": "markdown",
   "metadata": {},
   "source": [
    "When k = 1, the multinomial distribution simplifies to a unigram language model with 1-of-V coding:"
   ]
  },
  {
   "cell_type": "markdown",
   "metadata": {},
   "source": [
    "\\begin{aligned}P(x|\\theta)=\\prod_{i=1}^k\\theta_i^{x_i}, \\sum_{i=1}^k\\theta_i =1\\end{aligned} \n",
    "\n",
    "In multimonial distribution: \n",
    "\n",
    "- $x_i$ indicates word *i* of the vocabulary observed.\n",
    "\n",
    "- $θ_i$ = P($w_i$) indicates the probability that word *i* is seen."
   ]
  },
  {
   "cell_type": "markdown",
   "metadata": {},
   "source": [
    "**Dirichlet Distribution:**"
   ]
  },
  {
   "cell_type": "markdown",
   "metadata": {},
   "source": [
    "Dirichlet (continuous) distribution with parameter α given by:\n",
    "\n",
    "\\begin{aligned}p(x|\\alpha) = {\\frac{\\Gamma (\\sum_{i=1}^{k}\\alpha_{i})}{\\prod_{i=1}^{k}\\Gamma (\\alpha_{i})}{\\prod_{i=1}^{k}x_i^{\\alpha_{i}-1}} }\\end{aligned} \n",
    "\n",
    "- k is the dimensionality of the distribution.\n",
    "- α is a k-vector with components $α_i$ > 0\n",
    "- Γ(x) is the Gamma function"
   ]
  },
  {
   "cell_type": "markdown",
   "metadata": {},
   "source": [
    "Given the parameters α and β, the joint distribution of a topic mixture θ, a set of N topics z, and a set of N words w is given by:\n",
    "\n",
    "\\begin{aligned}p(\\theta,z,w|\\alpha,\\beta)={{p(\\theta|\\alpha)}{\\prod_{n=1}^{n}p(z_n|\\theta)p(w_n|z_n,\\beta)}}\\end{aligned}"
   ]
  },
  {
   "cell_type": "markdown",
   "metadata": {},
   "source": [
    "<img alt=\"File:Latent Dirichlet allocation.svg\" src=\"http://www.wikizero.biz/index.php?q=aHR0cDovL3VwbG9hZC53aWtpbWVkaWEub3JnL3dpa2lwZWRpYS9jb21tb25zL3RodW1iL2QvZDMvTGF0ZW50X0RpcmljaGxldF9hbGxvY2F0aW9uLnN2Zy81OTNweC1MYXRlbnRfRGlyaWNobGV0X2FsbG9jYXRpb24uc3ZnLnBuZw\" decoding=\"async\" width=\"300\" height=\"100\" srcset=\"//upload.wikimedia.org/wikipedia/commons/thumb/d/d3/Latent_Dirichlet_allocation.svg/890px-Latent_Dirichlet_allocation.svg.png 1.5x, //upload.wikimedia.org/wikipedia/commons/thumb/d/d3/Latent_Dirichlet_allocation.svg/1186px-Latent_Dirichlet_allocation.svg.png 2x\" data-file-width=\"593\" data-file-height=\"311\">\n",
    "\n",
    "This is the *Plate diagram of the graphical model of LDA*. The boxes are “plates” representing replicates. The outer plate represents documents, while the inner plate represents the repeated choice of topics and words within a document."
   ]
  },
  {
   "cell_type": "markdown",
   "metadata": {},
   "source": [
    "  #### 2.3.4 LDA Implementations"
   ]
  },
  {
   "cell_type": "markdown",
   "metadata": {},
   "source": [
    "LDA has various implementations but it all comes down to two standart formulations. The difference in these formulations lays within the changes of Dirichlet priors based on the iterations. \n",
    "\n",
    "Variational Bayes creates small sets that are optimized analytically with controllable local optimums using the unknows. These optimums are dependent of other parameters. Thus, to reach a convergence, sets are optimized in a iterative process. \n",
    "\n",
    "With Gibbs sampling, each measurement is examined over and over again which renews the latent distributions using Bayesin Inference. The posterior distribution will tend toward the values of the deduced parameters that are mostly likely to generate the observed data, but Gibbs sampling being a Monte Carlo method the rate of convergence is unbounded. So, there is a burn-in period which is the time between until the estimated distribution reaches a convergent behavior to represent the true distribution.\n",
    "\n",
    "If we compare the two of them, Gibbs sampling is easier to use but the burn-in period makes it less desirable to use. In the end, both methods are used for approximating the hidden parameters through iteration."
   ]
  },
  {
   "cell_type": "markdown",
   "metadata": {},
   "source": [
    "  #### 2.3.5 LDA Strengths and Weaknesses"
   ]
  },
  {
   "cell_type": "markdown",
   "metadata": {},
   "source": [
    "Since every document is important for LDA, when we try to evaluate documents over a long span of time, it becomes hard to process. If we try to compare the documents that has a big time difference, we need to process each of them separately which in the end reduces the corpus. Consequently, we also can't observe the topic evaluation over the years. Topic evaluation being an importance of different fields, can only be observed by baseline LDA."
   ]
  },
  {
   "cell_type": "markdown",
   "metadata": {},
   "source": [
    "## **3. Experimental Validation**"
   ]
  },
  {
   "cell_type": "markdown",
   "metadata": {},
   "source": [
    "### 3.1 Training Overview\n",
    "    \n",
    "I will use *Python programming language* to process the data, which is widely used for statistical computing. \n",
    "\n",
    "*Python Package Index* is able to interact with most of the different languages. It provides a huge standard library which even includes high use programming tasks as scripts. The advantage of language is in the fast use of different codes which shortens the coding time. Python being an open source tool, it is also free to use and distribute.\n",
    "\n",
    "This research consists of scraping websites, pre-processing of the data and model training. The first step is scraping the RSS feeds of Hürriyet and Cumhuriyet newspapers, but the format can not be processed directly by the algorithm. Thus, I need pre-processing steps to make the raw text data clean and useful. Pre-processing includes parsing the text data, tokenization, stopwords and removing. After the pre-processing step, a dictionary and a corpus is created. Then I apply the data to fit the LDA topic model. Finally, the fitted model will be used for clustering."
   ]
  },
  {
   "cell_type": "markdown",
   "metadata": {},
   "source": [
    " -  *RSS* - RSS is an abbreviation of Rich Site Summary. It is used for publishing regularly updated information. An RSS document includes texts and metadata such as title, description and publishing date.\n",
    " \n",
    "The main advantage of using RSS is that all of the content is in one centralized location which is time effective for users. Otherwise, you need to visit the websites one by one and try to find if there is any new content. \n",
    "Another advantage is that the links that are in the RSS feed have topics as subdirectories. For instance, if an article's topic is sports, you can see that in the link as *https://www..../sports/.../...*"
   ]
  },
  {
   "cell_type": "markdown",
   "metadata": {},
   "source": [
    "### 3.2 Data Retrieving"
   ]
  },
  {
   "cell_type": "code",
   "execution_count": 1,
   "metadata": {},
   "outputs": [],
   "source": [
    "import requests\n",
    "import feedparser\n",
    "from bs4 import BeautifulSoup\n",
    "import csv"
   ]
  },
  {
   "cell_type": "markdown",
   "metadata": {},
   "source": [
    "- [*requests*](https://pypi.org/project/requests/2.7.0/) - It allows you to send organic, grass-fed HTTP/1.1 requests, without doing any manual work. \n",
    "9\n",
    "- [*feedparser*](https://pypi.org/project/feedparser/) - FeedParser is a library that parses ATOM and RSS feeds. \n",
    "\n",
    "- [*BeautifulSoup*](https://pypi.org/project/beautifulsoup4) - Beautiful Soup is used for extracting data from HTML and XML files."
   ]
  },
  {
   "cell_type": "markdown",
   "metadata": {},
   "source": [
    "Below, I extracted the articles, or 'data', from [Hürriyet](http://www.cumhuriyet.com.tr/rss/son_dakika.xml) and [Cumhuriyet](http://www.hurriyet.com.tr/rss/gundem) newspapers' RSS feeds using feedparser and BeautifulSoup libraries. First, I created an empty list and after I extracted the links, I appended them to the empy list."
   ]
  },
  {
   "cell_type": "code",
   "execution_count": 42,
   "metadata": {
    "scrolled": true
   },
   "outputs": [
    {
     "name": "stdout",
     "output_type": "stream",
     "text": [
      "http://www.cumhuriyet.com.tr/haber/siyaset/1405987/imamoglu_ndan_Yildirim_a__canli_yayinda_tartisma__yaniti.html\n",
      "http://www.cumhuriyet.com.tr/haber/turkiye/1405913/Kopru_cezalarina_af_getiren_teklif_komisyondan_gecti.html\n",
      "http://www.cumhuriyet.com.tr/haber/siyaset/1405898/Binali_Yildirim_dan__gerekceli_karar__aciklamasi.html\n",
      "http://www.cumhuriyet.com.tr/haber/futbol/1405883/Turkcell_den_Galatasaraylilara_mujde.html\n",
      "http://www.cumhuriyet.com.tr/haber/siyaset/1405877/YSK_nin_istanbul_kararina_serh_koyan_uyelerin_dikkat_cektigi_noktalar.html\n",
      "http://www.cumhuriyet.com.tr/haber/turkiye/1405875/imamoglu_ndan_YSK_nin_gerekceli_kararina_iliskin_aciklama__Hani_caldilar_.html\n",
      "http://www.cumhuriyet.com.tr/haber/siyaset/1405865/iYi_Partili_Seymen__YSK_kararini_acikladi__calma_yok.html\n",
      "http://www.cumhuriyet.com.tr/haber/siyaset/1405854/CHP_Sozcusu_Faik_Oztrak__Millet_iradesi_cezalandirilmistir.html\n",
      "http://www.cumhuriyet.com.tr/haber/turkiye/1405843/YSK_nin_gerekceli_kararinda__oy_calindi__ifadesi_bulunmuyor.html\n",
      "http://www.cumhuriyet.com.tr/haber/turkiye/1405835/Jandarmalari_tasiyan_kamyonet_kaza_yapti__1_i_agir_4_asker_yarali.html\n",
      "http://www.cumhuriyet.com.tr/haber/turkiye/1405831/YSK_Baskani_Sadi_Guven_AKP_nin__gerekce_sini_kabul_etmedi.html\n",
      "http://www.cumhuriyet.com.tr/haber/siyaset/1405815/YSK_nin_gerekceli_kararina_CHP_den_ilk_tepkiler.html\n",
      "http://www.cumhuriyet.com.tr/haber/futbol/1405807/Olympique_Marsilya_da_Garcia_donemi_sona_eriyor.html\n",
      "http://www.cumhuriyet.com.tr/haber/futbol/1405806/Willy_Caballero_bir_yil_daha_Chelsea_de.html\n",
      "http://www.cumhuriyet.com.tr/haber/futbol/1405805/Dortmund__Julian_Brandt_i_renklerine_bagladi.html\n",
      "http://www.cumhuriyet.com.tr/haber/siyaset/1405794/Devlet_Bahceli_nin_hesabi_sasti_.html\n"
     ]
    }
   ],
   "source": [
    "cumhuriyet_list_sondakika=[]\n",
    "\n",
    "feed = feedparser.parse('http://www.cumhuriyet.com.tr/rss/son_dakika.xml') \n",
    "   \n",
    "for post in feed.entries:\n",
    "    print(post.link)\n",
    "    cumhuriyet_list_sondakika.append(post.link) "
   ]
  },
  {
   "cell_type": "markdown",
   "metadata": {},
   "source": [
    "Below, I used the *cumhuriyet_list_sondakika* list to extract the article paragraphs.\n",
    "\n",
    "- The first *for loop* is for scraping every link one by one. \n",
    "\n",
    "- *request.get()* method is used for retrieving the data from the links. \n",
    "\n",
    "- BeautifulSoup creates a parse tree for parsed pages that. Using that parse tree we can find the elements of HTML such as *body*, *h1* and *p elements. \n",
    "The div* element here is a section which has an attribute of *news-body*.\n",
    "\n",
    "- The *if* loop works to find each of the *p* elements inside the *news-body* one by one.  \n",
    "\n",
    "- After this process, I created içerik.csv and saved the data to csv.\n",
    "\n",
    "    - içerik.csv - It has all the article paragraphs."
   ]
  },
  {
   "cell_type": "markdown",
   "metadata": {},
   "source": [
    "Note that we have to use different codes for different websites when scraping. Because every site has a structure that is individual to them. HTML elements can be contained with different names. So you need to inspect the source of the page and try to find the elements you want for each site.\n",
    "\n",
    "As an example, you can see the difference between the structures in Hürriyet and Cumhuriyet sites:\n",
    "- In Cumhuriyet, *rhd-all-article-detail* is used as a *div* attribute.\n",
    "- In Hürriyet, *news-body* is used as a *div* attribute. "
   ]
  },
  {
   "cell_type": "code",
   "execution_count": 3,
   "metadata": {},
   "outputs": [],
   "source": [
    "for link in cumhuriyet_list_sondakika: \n",
    "    source2 = requests.get(link).text\n",
    "    soup2 = BeautifulSoup(source2, 'lxml') \n",
    "    paragraf_cumh = soup2.findAll('div', id = 'news-body')\n",
    "    if len(paragraf_cumh) != 0:\n",
    "        paragraf_cumh = paragraf_cumh[0] \n",
    "        icerik2 = str()\n",
    "        for paragraf2_cumh in paragraf_cumh.find_all('p'):\n",
    "            icerik2 = icerik2 + paragraf2_cumh.text\n",
    "        icerik2.replace('\\n', '')\n",
    "        csv2 ='\"' + icerik2 + '\"\\n'\n",
    "        with open('clean_data.txt', 'a', encoding = 'utf-8') as f: \n",
    "            f.write(csv2)\n",
    "            f.close()   "
   ]
  },
  {
   "cell_type": "markdown",
   "metadata": {},
   "source": [
    "In the codes below, I used the same procedure. "
   ]
  },
  {
   "cell_type": "code",
   "execution_count": 4,
   "metadata": {
    "scrolled": true
   },
   "outputs": [
    {
     "name": "stdout",
     "output_type": "stream",
     "text": [
      "http://www.hurriyet.com.tr/gundem/abdden-dikkat-ceken-aciklama-trump-sdg-ile-pkk-arasindaki-bagin-farkinda-41222647\n",
      "http://www.hurriyet.com.tr/gundem/giris-cikislar-kapatildi-cember-daraltildi-ve-yakalandi-41222630\n",
      "http://www.hurriyet.com.tr/gundem/yikici-olmak-kimseye-yarar-saglamaz-dedi-ve-uyardi-41222613\n",
      "http://www.hurriyet.com.tr/gundem/ysknin-gerekceli-kararina-kilicdaroglu-ve-imamoglundan-ilk-tepki-41222609\n",
      "http://www.hurriyet.com.tr/gundem/feci-kaza-cok-sayida-yarali-var-41222599\n",
      "http://www.hurriyet.com.tr/gundem/kadikoyde-ozel-bir-hastanede-yangin-41222580\n",
      "http://www.hurriyet.com.tr/gundem/torba-teklif-tbmm-plan-ve-butce-komisyonunda-kabul-edildi-41222562\n",
      "http://www.hurriyet.com.tr/gundem/ysk-gerekceli-karari-acikladi-41222567\n",
      "http://www.hurriyet.com.tr/gundem/boyle-yakalandi-41222559\n",
      "http://www.hurriyet.com.tr/gundem/cumhurbaskani-erdogandan-aliyeve-kutlama-mesaji-41222552\n",
      "http://www.hurriyet.com.tr/gundem/ysk-kesin-sonuclari-ilan-etti-41222551\n",
      "http://www.hurriyet.com.tr/gundem/meteorolojiuyardi-yarin-aksama-kadar-surecek-41222549\n",
      "http://www.hurriyet.com.tr/gundem/sarar-ailesine-kabusu-yasatmislardi-karar-belli-oldu-41222527\n",
      "http://www.hurriyet.com.tr/gundem/ak-parti-sozcusu-omer-celik-siyasi-matruskanin-tepesine-turkiye-ve-erdogan-dusmanligini-koydular-41222528\n",
      "http://www.hurriyet.com.tr/gundem/jet-skiye-tutunarak-kacmaya-calistilar-yakalandilar-41222486\n",
      "http://www.hurriyet.com.tr/gundem/evinde-celik-yelekle-yakalanmisti-flas-karar-41222488\n",
      "http://www.hurriyet.com.tr/gundem/dersten-cagirdigi-ogretmeni-dovdu-41222482\n",
      "http://www.hurriyet.com.tr/gundem/son-dakika-izmitte-halk-otobusu-devrildi-cok-sayida-yarali-var-41222483\n",
      "http://www.hurriyet.com.tr/gundem/apartman-temeli-icin-kazilinca-ortaya-cikti-41222471\n",
      "http://www.hurriyet.com.tr/gundem/afyonkarahisarda-arazi-anlasmazligi-kanli-bitti-2-olu-41222472\n",
      "http://www.hurriyet.com.tr/gundem/milli-savunma-bakanligindan-atina-aciklamasi-41222470\n",
      "http://www.hurriyet.com.tr/gundem/son-dakika-ak-parti-myk-toplantisi-basladi-41222465\n",
      "http://www.hurriyet.com.tr/gundem/uskudarda-liseliler-birbirine-girdi-3-ogrenci-bicaklandi-41222460\n",
      "http://www.hurriyet.com.tr/gundem/diyarbakirda-inanilmaz-anlar-41222436\n",
      "http://www.hurriyet.com.tr/gundem/yer-marmaris-atese-verdiler-41222435\n",
      "http://www.hurriyet.com.tr/gundem/duzcede-ortalik-bir-anda-karisti-41222427\n",
      "http://www.hurriyet.com.tr/gundem/anne-iliginin-tutup-tutmadigi-bu-hafta-belli-olacak-41222272\n",
      "http://www.hurriyet.com.tr/gundem/pkklilarin-eren-bulbulun-evinden-caldigi-erzak-depolarinda-bulundu-41222412\n",
      "http://www.hurriyet.com.tr/gundem/cumhurbaskani-erdogan-kanada-senatosu-baskani-furey-ile-gorustu-41222409\n",
      "http://www.hurriyet.com.tr/gundem/sentop-kanada-senatosu-baskani-furey-ile-gorustu-41222405\n",
      "http://www.hurriyet.com.tr/gundem/uluslararasi-anadolu-ankasi-tatbikati-nefes-kesti-41222396\n",
      "http://www.hurriyet.com.tr/gundem/imamoglu-yol-haritasini-koordinasyon-toplantisiyla-acikladi-41222390\n",
      "http://www.hurriyet.com.tr/gundem/baskentte-faciadan-donuldu-41222388\n",
      "http://www.hurriyet.com.tr/gundem/eski-tabip-yarbaya-fetoden-hapis-41222365\n",
      "http://www.hurriyet.com.tr/gundem/cin-baskonsolosu-cui-weiden-demiroren-medyaya-ziyaret-41222345\n",
      "http://www.hurriyet.com.tr/gundem/son-dakika-savci-kirazin-sehit-edilmesine-iliskin-davada-flas-gelisme-41222342\n",
      "http://www.hurriyet.com.tr/gundem/feto-sanigi-is-adamina-hapis-cezasi-41222305\n",
      "http://www.hurriyet.com.tr/gundem/bursada-uyusturucu-cetesine-operasyon-17-gozalti-41222304\n",
      "http://www.hurriyet.com.tr/gundem/8-gun-sonra-tesadufen-bulundu-su-icerek-hayatta-kalmis-41222274\n",
      "http://www.hurriyet.com.tr/gundem/evinde-celik-yelekle-yakalanmisti-flas-karar-41222488\n",
      "http://www.hurriyet.com.tr/gundem/son-dakika-izmitte-halk-otobusu-devrildi-cok-sayida-yarali-var-41222483\n",
      "http://www.hurriyet.com.tr/gundem/son-dakika-ak-parti-myk-toplantisi-basladi-41222465\n",
      "http://www.hurriyet.com.tr/gundem/diyarbakirda-inanilmaz-anlar-41222436\n",
      "http://www.hurriyet.com.tr/gundem/duzcede-ortalik-bir-anda-karisti-41222427\n",
      "http://www.hurriyet.com.tr/gundem/cumhurbaskani-erdogan-kanada-senatosu-baskani-furey-ile-gorustu-41222409\n",
      "http://www.hurriyet.com.tr/gundem/sentop-kanada-senatosu-baskani-furey-ile-gorustu-41222405\n",
      "http://www.hurriyet.com.tr/gundem/baskentte-faciadan-donuldu-41222388\n",
      "http://www.hurriyet.com.tr/gundem/eski-tabip-yarbaya-fetoden-hapis-41222365\n",
      "http://www.hurriyet.com.tr/gundem/cin-baskonsolosu-cui-weiden-demiroren-medyaya-ziyaret-41222345\n",
      "http://www.hurriyet.com.tr/gundem/feto-sanigi-is-adamina-hapis-cezasi-41222305\n",
      "http://www.hurriyet.com.tr/gundem/mersinde-uzucu-olay-traktor-romorkunda-bulundu-41222214\n",
      "http://www.hurriyet.com.tr/gundem/son-dakika-cumhurbaskani-erdogandan-onemli-aciklamalar-41222172\n",
      "http://www.hurriyet.com.tr/gundem/aymden-osman-kavalaya-ret-41222064\n",
      "http://www.hurriyet.com.tr/gundem/baris-dalanin-korumasi-oldurmustu-yeni-gelisme-41222017\n",
      "http://www.hurriyet.com.tr/gundem/kocaelideki-feto-pdy-davasinda-karar-41222015\n",
      "http://www.hurriyet.com.tr/gundem/samsunda-aranan-feto-firarisi-istanbulda-yakalandi-41221993\n",
      "http://www.hurriyet.com.tr/gundem/arkadasina-dehseti-yasatti-pisman-degilim-dedi-41221958\n",
      "http://www.hurriyet.com.tr/gundem/tuncelide-benekli-anadolu-semenderleri-goruntulendi-41221936\n",
      "http://www.hurriyet.com.tr/gundem/taslarin-arasindan-toplaniyor-kilosu-80-lira-41221876\n",
      "http://www.hurriyet.com.tr/gundem/can-cekisirken-bulunmuslardi-iyi-haber-geldi-41221833\n",
      "http://www.hurriyet.com.tr/gundem/motosikletli-besiktastaki-kazada-olumden-dondu-41221742\n",
      "http://www.hurriyet.com.tr/gundem/son-dakika-tbmmde-teror-girisimi-failleri-adliyede-41221708\n",
      "http://www.hurriyet.com.tr/gundem/vahsi-cinayetin-ayrintilari-ortaya-cikti-41221657\n",
      "http://www.hurriyet.com.tr/gundem/yargitay-cumhuriyet-bassavciligina-mehmet-akarca-yeniden-secildi-41221652\n",
      "http://www.hurriyet.com.tr/gundem/adanada-ele-gecirildi-250-kilo-41221638\n",
      "http://www.hurriyet.com.tr/gundem/eskisehirde-otelde-yangin-41221635\n",
      "http://www.hurriyet.com.tr/gundem/atakoydeki-tente-faciasi-davasi-basladi-41221306\n",
      "http://www.hurriyet.com.tr/gundem/ortalik-bir-anda-savas-alaninda-dondu-1-kisi-agir-yaralandi-41221291\n",
      "http://www.hurriyet.com.tr/gundem/halk-bankasina-para-cezasi-iddiasina-iliskin-davada-karar-41221290\n",
      "http://www.hurriyet.com.tr/gundem/gaziantepte-feto-pdy-operasyonu-41221273\n",
      "http://www.hurriyet.com.tr/gundem/son-dakika-marmara-denizinde-3-6-buyuklugunde-deprem-41221237\n",
      "http://www.hurriyet.com.tr/gundem/kilicdaroglu-ortak-amacimiz-guclu-bir-demokrasiyi-insa-etmektir-41221228\n",
      "http://www.hurriyet.com.tr/gundem/iskeleden-dusen-su-tesisatcisi-agir-yaralandi-41221224\n",
      "http://www.hurriyet.com.tr/gundem/feto-firarisi-aydinda-yakalandi-41221209\n",
      "http://www.hurriyet.com.tr/gundem/feto-saniklarinin-yargilandigi-davalarda-karar-41221205\n",
      "http://www.hurriyet.com.tr/gundem/luks-aracin-kaza-ani-kamerada-41221165\n",
      "http://www.hurriyet.com.tr/gundem/feto-sanigi-eski-hakimlere-hapis-cezasi-41221157\n",
      "http://www.hurriyet.com.tr/gundem/suriye-sinirinda-yakalandilar-41221145\n",
      "http://www.hurriyet.com.tr/gundem/genc-arkeologa-aci-veda-41221107\n",
      "http://www.hurriyet.com.tr/gundem/evlerden-200-bin-tllik-vurgun-yapan-hirsiz-rezidansta-eglenirken-yakalandi-41221043\n",
      "http://www.hurriyet.com.tr/gundem/cumhurbaskanligi-iletisim-baskani-prof-dr-fahrettin-altundan-cerkes-surgunu-aciklamasi-41221036\n",
      "http://www.hurriyet.com.tr/gundem/universitedeki-katliamda-sir-perdesi-aralaniyor-41220937\n",
      "http://www.hurriyet.com.tr/gundem/esenyurtta-sahte-altin-kavgasi-41220920\n",
      "http://www.hurriyet.com.tr/gundem/kayseride-vahsi-cinayet-41220877\n",
      "http://www.hurriyet.com.tr/gundem/oz-ogluna-para-gonderilmesini-engelleyen-esini-oldurdu-41220822\n",
      "http://www.hurriyet.com.tr/gundem/gumushanede-kene-isiran-ciftciden-aci-haber-geldi-41220814\n",
      "http://www.hurriyet.com.tr/gundem/tekirdagda-deas-suphelisine-gozaltina-41220793\n",
      "http://www.hurriyet.com.tr/gundem/eski-emniyet-muduru-fetoden-gozaltina-alindi-41220740\n",
      "http://www.hurriyet.com.tr/gundem/eski-yuzbasiya-fetoden-6-yil-3-ay-hapis-cezasi-41220736\n"
     ]
    }
   ],
   "source": [
    "hürriyet_link_list = []\n",
    "\n",
    "feed = feedparser.parse('http://www.hurriyet.com.tr/rss/gundem') #extracting links\n",
    "   \n",
    "for post in feed.entries:\n",
    "    print(post.link)\n",
    "    hürriyet_link_list.append(post.link) #adding the links to this list"
   ]
  },
  {
   "cell_type": "code",
   "execution_count": 5,
   "metadata": {},
   "outputs": [],
   "source": [
    "for link in hürriyet_link_list: #scraping every link one by one in a for loop\n",
    "    source = requests.get(link).text #requesting links\n",
    "    soup = BeautifulSoup(source, 'lxml')\n",
    "    paragraf = soup.findAll('div',attrs={'class':'rhd-all-article-detail'}) \n",
    "    if len(paragraf) != 0:\n",
    "        paragraf = paragraf[0] \n",
    "        icerik = str()\n",
    "        for paragraf2 in paragraf.find_all('p'): #finding body paragraphs of articles\n",
    "            icerik = icerik + paragraf2.text\n",
    "        icerik.replace('\\n', '')\n",
    "        csv ='\"' + icerik + '\"\\n'\n",
    "        with open('clean_data.txt', 'a', encoding = 'utf-8') as f: #saving articles\n",
    "            f.write(csv)\n",
    "            f.close()    "
   ]
  },
  {
   "cell_type": "markdown",
   "metadata": {},
   "source": [
    "### 3.3 Data Pre-processing"
   ]
  },
  {
   "cell_type": "markdown",
   "metadata": {},
   "source": [
    "One of the most important steps in this research is to clean and process data so that it will give us well-defined results. \n",
    "\n",
    "The process I am doing is simplifying the data and eliminating the language dependent factors as much as I can. In text mining, articles are hard to process for computers because they are written in natural language for humans.\n",
    "\n",
    "To simplify the articles I used these steps:\n",
    " \n",
    "   - Tokenization: Tokenization is the process of taking a document as a string and cutting those strings into pieces. This process also includes removing the punctuation, making all the characters lower and sometimes getting rid of words with fewer characters because they are usually not meaningful for the data.\n",
    "\n",
    "   - Removing stop words: Stop words are words which are filtered out before or after processing of natural language data (text). They have got no significant meanings, thus they need to be removed.\n",
    "   \n",
    "    Note that pre-processing usually have lemmatization and stemming steps, too. But I skipped those steps for two reasons. The first reason is Turkish language being hard to process because of the complex morphology and the way morphology interacts with syntax. The second reason is there are no well-defined open source Turkish NLP libraries I can benefit from."
   ]
  },
  {
   "cell_type": "code",
   "execution_count": 6,
   "metadata": {},
   "outputs": [],
   "source": [
    "import gensim\n",
    "from gensim.models import CoherenceModel, LdaModel"
   ]
  },
  {
   "cell_type": "markdown",
   "metadata": {},
   "source": [
    "- [*gensim*](https://pypi.org/project/gensim/) - Gensim library is an open source library used for text classifying. It is implemented in Python and Cython to analyse large Natural Language text collections.\n",
    "\n",
    "     - [CoherenceModel](https://radimrehurek.com/gensim/models/coherencemodel.html): Calculate topic coherence for topic models.\n",
    "     - [LdaModel](https://radimrehurek.com/gensim/models/ldamodel.html): his module allows both LDA model estimation from a training corpus and inference of topic distribution on new, unseen documents. The model can also be updated with new documents for online training."
   ]
  },
  {
   "cell_type": "code",
   "execution_count": 7,
   "metadata": {},
   "outputs": [],
   "source": [
    "import nltk\n",
    "from nltk.corpus import stopwords\n",
    "from nltk.tokenize import RegexpTokenizer"
   ]
  },
  {
   "cell_type": "markdown",
   "metadata": {},
   "source": [
    "- [*NLTK (Natural Language Toolkit)*](https://www.nltk.org/) - NLTK is a platform developed by Steven Bird and Edward Loper in the Department of Computer and Information Science. It is used to create Python packages which are used for applying statistical NLP in human language texts. The end goal is to make machines understand human language and then, make their response more precisely. Tasks such as tokenization, parsing, classification, stemming and tagging are done by using NLTK text processing libraries. \n",
    "\n",
    "     - [*RegexpTokenizer*](https://www.nltk.org/_modules/nltk/tokenize/regexp.html) - A RegexpTokenizer splits a string into substrings using a regular expression. "
   ]
  },
  {
   "cell_type": "code",
   "execution_count": 8,
   "metadata": {},
   "outputs": [],
   "source": [
    "import re\n",
    "import pprint"
   ]
  },
  {
   "cell_type": "markdown",
   "metadata": {},
   "source": [
    "- [*re (regular expression)*](https://docs.python.org/3/howto/regex.html) - A regular expression is a special sequence of characters that helps you match or find other strings or sets of strings, using a specialized syntax held in a pattern.\n",
    "\n",
    "- [*pprint*](https://docs.python.org/3/library/pprint.html) - The pprint module provides a capability to “pretty-print” arbitrary Python data structures to make it more eye-pleasing and readable. The formatter produces representations of data structures that can be parsed correctly by the interpreter. The output is kept on a single line, if possible, and indented when split across multiple lines."
   ]
  },
  {
   "cell_type": "code",
   "execution_count": 9,
   "metadata": {},
   "outputs": [],
   "source": [
    "import pyLDAvis\n",
    "import pyLDAvis.gensim \n",
    "import matplotlib.pyplot as plt\n",
    "%matplotlib inline"
   ]
  },
  {
   "cell_type": "markdown",
   "metadata": {},
   "source": [
    "- [*pyLDAvis*](https://pypi.org/project/pyLDAvis/) - It is designed to help users interpret the topics in a topic model that has been fit to a corpus of text data. The package extracts information from a fitted LDA topic model to inform an interactive web-based visualization.\n",
    "\n",
    "- [*matplotlib*](https://matplotlib.org/) - Matplotlib is a Python 2D plotting library which is used for plotting beautiful and attractive graphs. Matplotlib can be used in Python scripts, the Python and IPython shells, the Jupyter notebook, web application servers, and four graphical user interface toolkits."
   ]
  },
  {
   "cell_type": "code",
   "execution_count": 10,
   "metadata": {},
   "outputs": [],
   "source": [
    "import warnings\n",
    "warnings.filterwarnings(\"ignore\",category=DeprecationWarning)"
   ]
  },
  {
   "cell_type": "markdown",
   "metadata": {},
   "source": [
    "- [*warnings*](https://docs.python.org/3/library/warnings.html) - Warning messages are typically issued in situations where it is useful to alert the user of some condition in a program, where that condition (normally) doesn’t warrant raising an exception and terminating the program. \n",
    "    - *DepracationWarning* - Base category for warnings about deprecated features when those warnings are intended for other Python developers (ignored by default, unless triggered by code in _main_)."
   ]
  },
  {
   "cell_type": "markdown",
   "metadata": {},
   "source": [
    "Here, I am opening the csv in text mode, that means, I can read and write strings which are encoded in a specific encoding. \n",
    "\n",
    "Using *with* means, the file is properly closed without me manually closing it. "
   ]
  },
  {
   "cell_type": "code",
   "execution_count": 25,
   "metadata": {},
   "outputs": [],
   "source": [
    "with open('C:/Users/Lenovo/OneDrive/Masaüstü/clean_data.txt', encoding = 'utf-8', errors='ignore') as infile:\n",
    "    raw_txt = infile.readlines()"
   ]
  },
  {
   "cell_type": "code",
   "execution_count": 26,
   "metadata": {
    "scrolled": true
   },
   "outputs": [
    {
     "name": "stdout",
     "output_type": "stream",
     "text": [
      "['\"31 Mart Mahalli İdareler Seçimleri\\'nde Muğla\\'da AK Parti\\'den Mehmet Nil Hıdır, CHP\\'den Osman Gürün, DP\\'den Mehmet Kocadon ve bağımsız olarak da Behçet Saatcı yarışacak.HDP ise Muğla ve ilçelerinde yarıştan çekildi. HDP Muğla İl Eş Başkanı Yılmaz Yüksel, konuyla ilgili yaptığı açıklamada, Muğla\\'da Büyükşehir Belediye Başkan adayımız Mehmet Polat dahil, Bodrum, Dalaman, Köyceğiz, Marmaris, Milas, Menteşe, Ortaca ile Ula ilçelerindeki adaylarımızı çektik. Datça, Fethiye, Seydikemer, Yatağan ve Kavaklıdere\\'de zaten adayımız yoktu. Adaylarımızı geri çekmemizin nedeni AK Parti- MHP\\'nin oluşturduğu Cumhur İttifakı\\'na tepki göstermek. CHP\\'yi destekleyeceğimiz kesinleşmiş bir şey değil. Bunun kararını Genel Merkezimiz verecek\"\" dedi.\"\"\"\\n', '\"BEYOĞLU\\'nda 4 kişinin öldüğü yangınla ilgili gözaltına alınan Özkan\\xa0 E\\'nin , yangını arkadaşlarını korkutmak için çıkardığını belirterek, Tartıştığım Ramazan Demir\\xa0 ile zaten aramızda husumet vardı. Olay sabahı geldiğimde de eşyalarımı dışarı attığını gördüm. Sinirlendim. Onun yattığı kanepeye gazete kağıtlarını yerleştirip yaktım. . Pişmanım\"\"\\xa0 dediği öğrenildi.Beyoğlu Asmalı Mescit\\'te 4 kişinin öldüğü, 1 kişinin yaralandığı yangınla ilgili Hatay\\'da yakalanan şüphelinin emniyetteki sorgusu sürüyor. İstanbul\\'da garsonluk yapmak için Ağrı\\'dan gelen 17 yaşındaki Murat Kayacan, Siirt\\'ten gelen 23 yaşındaki Muhammet Gür ve 20 yaşındaki Yunus Akyüz, Manisa\\'dan gelen 25 yaşındaki Eren Ersin Büker, Diyarbakır\\'dan gelen 23 yaşındaki Ramazan Demir ile Hatay\\'dan gelen 24 yaşındaki Özkan E. aynı dairede yaşıyordu.İŞTEN ÇIKARILINCA ARKADAŞLARINA KIZDIÖzkan E. geçtiğimiz günlerde işten çıkartıldı. Edinilen bilgiye göre, Özkan E. aynı yerde çalıştığı ev arkadaşlarının işten çıkartıldıktan sonra kendisiyle ilgilenmemesine kızdı. Özkan E. arkadaşlarıyla kavga ettikten sonra küstü.Memleketine dönmek için uçak biletini alan Özkan E. dün sabah saatlerinde evde yangın çıkardı. Yangın kısa sürede evi sarınca Özkan E. durumu itfaiye ekiplerine haber vererek havalimanına gitti. Yangında Murat Kayacan, Muhammet Gür, Yunus Akyüz ve Eren Ersin Büker hayatını kaybederken, Ramazan Demir ise yaralı olarak hastaneye kaldırıldı.HATAY POLİSİ UÇAKTAN İNİNCE GÖZALTINA ALDIİstanbul Asayiş Şube Müdürlüğü ekipleri yaptığı çalışmalarda yangını Özkan E.\\'nin çıkardığını belirledi. Bunun üzerine İstanbul polisi, Hatay Emniyet Müdürlüğü ekipleriyle irtibata geçerek uçak iner inmez Özkan E.\\'nin yakalanmasını sağladı.YANGINI KANEPEYİ YAKARAK ÇIKARMIŞİstanbul\\'dan Hatay\\'a giden Asayiş Şube Müdürlüğü ekipleri Özkan E.yi sabah saatlerinde İstanbul\\'a getirdi. Özkan E.\\'nin ilk ifadesinde, bir süre önce kavga ederek küstüğü arkadaşlarını korkutmak için yangını çıkardığını, büyümesi üzerine korktuğunu ve itfaiye ekiplerine bilgi verdiğini söylediği öğrenildi. Asayiş Şube Müdürlüğü\\'nde sorgulanan Özkan E\\'nin \"\"Yaralı olarak kurtulan Ramazan Demir, bana sürekli olarak psikolojik baskı yapıyordu. küfürler ediyordu. Zaten aramızda husumet vardı. Olay sabahı geldiğimde de eşyalarımı dışarı attığını gördüm. Sinirlendim. Onun yattığı kanepeye gazete kağıtlarını yerleştirip yaktım. Amacım öldürmek değildi. Pişmanım\"\" dediği öğrenildi.Özkan E.\\'nin Gayrettepe\\'de bulunan Asayiş Şube Müdürlüğü\\'nde ki işlemlerinin tamamlanmasının ardından öğlenden sonra adliyeye sevk edilmesi bekleniyor.\"\"\"\\n', \"Olay, dün akşam saatlerinde Şıh Maksut Mahallesi'nde meydana geldi. Su tesisatçısı İsa Bağış, bir yakının düğününe ailesiyle birlikte katıldı. İsa Bağış, çeyizin getirildiği sırada üzerindeki bulundurma ruhsatlı tabancasıyla havaya birkaç el ateş açtı. Bir süre sonra tabancasında kurşun kalıp kalmadığını kontrol eden İsa Bağış, kazara tetiğe dokundu.Tabancadan çıkan kurşun İsa Bağış'ın sol elini sıyırdıktan sonra yanındaki oğlu Mehmet Fatih'in göğsüne isabet etti. Baba ve oğlunu kanlar içerisinde görenler durumu sağlık ekiplerine bildirdi. Hastaneye kaldırılan Mehmet Fatih Bağış, doktorların müdahalesine rağmen kurtarılamayarak hayatını kaybetti.Kurşunun elini sıyırmasıyla hafif yaralanan İsa Bağış ise tedavisinin ardından polis ekiplerince gözaltına alındı. Ölümüyle yakınlarını yasa boğan Mehmet Fatih Bağış’ın cenazesi yapılan otopsinin ardından ailesine teslim edilirken, ifadesi alınan baba ise sağlık kontrolünden geçirilerek adliyeye sevk edildi.SERBEST KALDI, OĞLUNUN CENAZESİNE KATILDIŞanlıurfa’da kazara oğlu Mehmet Fatih Bağış’ın ölümüne neden olduğu için gözaltına alınan ve emniyetteki işlemlerinin ardından adliyeye sevk edilen baba İsa Bağış, nöbetçi mahkemece adli kontrol şartıyla serbest kaldı. Kendisinin de yaralandığı olayda oğlunu kaybetmenin üzüntüsünü yaşayan baba Bağış, serbest kaldıktan sonra Adli Tıp Kurumu morguna geçti. Bağış, ölümüne neden olduğu oğlu Mehmet Fatih Bağış’ın cenazesinin alınması sırasında gözyaşına boğuldu. Otopsisinin tamamlanmasının ardından Mehmet Fatih Bağış'ın cenazesinin aile mezarlığında toprağa verileceği öğrenildi.SON 24 SAATTE YAŞANANLARSON 24 SAATTE YAŞANANLAR\\n\", '\"Sivas Adliyesi ziyaretinin\\xa0ardından çıkışta basın mensuplarına açıklamalarda bulunan Adalet Bakanı Abdulhamit Gül, Çok şükür adliye personelimizin özellikle mübaşirlerimizin bize teşekkürleri oldu. Çünkü Cumhurbaşkanımızın kararnamesiyle arkadaşlarımız genel idare hizmetler sınıfına geçti. Çünkü hak ettikleri bir talepti. Uzun yıllar bekledikleri bir konuydu. Bu hususta mübaşirlerimizin bu haklı talebine de bizlerde sözcülük yaptık. Hamdolsun büyük bir hayal gerçekleşmiş oldu\"\" dedi.Hâkim ve savcıların soruşturmalarla yargılamaları büyük bir titizlik ve özveriyle sürdürdüğünü söyleyen Bakan Gül, şunları kaydetti:\"\"Adalet, devletin temeli ve adaletin temeli de hukuk. Terörle çok etkin bir mücadele yapan bir devletiz. Tüm bu mücadeleyi yaparken FETÖ başta olmak üzere iki kırmızı çizgimiz var. Bunlardan biri kararlılıktır. FETÖ başta olmak üzere ülkemizin hukukunu, bağımsızlığını, demokrasiyi ortadan kaldırmak isteyenlerle mücadelemiz kararlı bir şekilde devam edecektir. Türkiye\\'yi hukuk devleti çizgisinden kimse uzaklaştıramayacaktır. Hukuktan başka hiçbir üstün güç, hiçbir kişi veya kurum yoktur. Hukukun üstünlüğünü daha da geliştirici çalışmalar yapacağız. İkinci kırmızı çizgimiz, bunu yaparken adalet ve hakkaniyet çizgimizden asla ayrılmayacağız. Suçluyla masum vatandaşı birbirinden ayırt ederek tüm bu mücadele yapılmaktadır. Bu da bizim diğer kırmızı çizgimizdir. FETÖ ile mücadele ederken FETÖ\\'nün üslubu ya da o örgütlerin üslubu, usulüyle değil, hukukun emrettiği usulle bu mücadeleyi yapmak temel kırmızı çizgimizdir. Hukuk devleti olmanın diğerlerinden farkı budur. Terörle mücadele ederken de hukuktan ayrılmamak bizim temel yaklaşımımız temel prensibimizdir. Hâkim, savcı arkadaşlarımız tüm personellerimizle bu çabayı bu şekilde göstermektedirler.\"\"\\'YARGI REFORM BELGESİNİ KAMUOYUYLA PAYLAŞACAĞIZ\\'Yargı Reform Belgesi\\'nin son halini kamuoyu ile yakın zamanda paylaşacaklarını ifade eden Bakan Gül, \"\"Çok önemli kararlar almış durumdayız. Bu çerçevede hâkim ve savcı atamalarında 70 puanın getirilmesi önemli bir aşamadır. Bu sene 6 bin hâkim ve savcı arkadaşımız meslek içi eğitime tabi\\xa0tutulacaktır. Hâkimler ve Savcılar Kurumumuz bunun planlamasını yaptı. Duruşmalara engel olmadan bu çalışmayı yapacağız\"\" dedi.55 BİN VATANDAŞ İFTİRADAN KORUNDUAdliyede kimsenin lekelenmediği bir yargılama sürecinin titizlikle devam ettiğini belirten Bakan Gül, \"\"Türkiye\\'de 55 bin vatandaşımız hakkında soruşturma açılmasına gerek görülmemiştir. Genel soyut iftiralarla hakkında savcılığa şikayette bulunulmuş ama başsavcılarımız bu iftirayı görmüş, hiçbir şekilde evine, işyerine polis göndermeden lekelenmesini önlemiş, 55 bin vatandaşımız çıkarmış olduğumuz bu kanun ve düzenlemeyle, yargı mensuplarımızın titiz çalışmasıyla 55 bin vatandaşımız lekelenmemiş, evine ve iş yerine polis gitmemiştir. Bunu daha da güçlendireceğiz. Bizim temel yaklaşımımız adaletin, hukukun korunması, geliştirilmesi ve eksikliklerin giderilmesidir\"\" ifadelerini kullandı.\\'AVUKATLIK MESLEĞİNİN İKAMESİ YOKTUR\\'Avukatlık mesleğinin ikamesinin bulunmadığını belirten Bakan Gül, \"\"Trafik kazalarında ya da başka şekillerde avukatın önüne geçerek, sigorta firmalarına ya da bu işin simsarlarına asla bir hak edeceğim diye vatandaşlarımız kapılmasınlar. Hak aramanın ya da savunmanın en temel unsuru avukattır. Avukatlık mesleğinin ikamesi yoktur. Hiçbir şekilde, alternatif çözüm yolları da dahil, avukatlığı ortadan kaldırmaz. Bu konuda da her türlü tedbiri almaya devam edeceğiz. Vatandaşlarımızın bu şekilde hak kaybına uğramasını elbette biz de kabul edemeyiz. Bu konuda bir haksızlığa veya hak ihlalini uğradıklarını düşünmeleri halinde savunma haklarını avukatlar marifetiyle yapmalarını ben de bu vesileyle tavsiye ediyorum\"\" diye konuştu.\"\"\"\\n', \"Uzunköprü'de yaşayan Evren Kandemir, yaklaşık 1 ay önce balık avlanmak için evinden çıkıp akşam olmasına rağmen dönmedi. Ailesinin kayıp başvurusunda bulunmasıyla Kandemir'in bulunması için arama çalışması başlatıldı.Kandemir'in cep telefonundan, 3 gün önce eski Ergene Göleti mevkisinde sinyal alındı. Bunun üzerine Edirne AFAD ekipleri ile Tekirdağ Emniyet Müdürlüğü Deniz Şube Müdürlüğü'ne bağlı dalgıç polisler, arama çalışması başlattı.Çalışma sırasında gölet kıyısında Kandemir'e ait şapka ve ayakkabı bulundu. Ailesinin de şapka ve ayakkabının Kandemir'e ait olduğunu tespit etmesi üzerine arama çalışmaları, gölet içinde yoğunlaştırıldı. Henüz bulunamayan Evren Kandemir'i arama çalışmaları sürdürülüyor.\\xa0\\n\"]\n"
     ]
    }
   ],
   "source": [
    "print(raw_txt[0:5])"
   ]
  },
  {
   "cell_type": "markdown",
   "metadata": {},
   "source": [
    "**Tokenization**"
   ]
  },
  {
   "cell_type": "markdown",
   "metadata": {},
   "source": [
    "We process the text with the following operations:\n",
    "\n",
    "1. First, text is converted to lowercase. Thus, words with uppercase are not considered different words from their lowercase equivalents.\n",
    "2. Replace special characters with their corresponding Turkish characters.\n",
    "3. Remove non-Turkish-letter characters such as digits or punctuation marks.\n",
    "4. Split text into a list of words\n",
    "5. Remove Turkish stopwords (optional)\n",
    "6. Return as a list or as one string (depends the parameter)"
   ]
  },
  {
   "cell_type": "markdown",
   "metadata": {},
   "source": [
    "- *stopwords* - It refers to the most common words in a language which are the unmeaningful words. Stopwords differs from languages to languages. There is no universality of it.\n",
    "\n",
    "There is a fixed list of common stop words in various languages in Python. I used the turkish stopwords but apart from that, I also added other words I deemed to be unfit for the data."
   ]
  },
  {
   "cell_type": "code",
   "execution_count": 27,
   "metadata": {
    "scrolled": false
   },
   "outputs": [
    {
     "name": "stdout",
     "output_type": "stream",
     "text": [
      "['acaba', 'altmış', 'altı', 'ama', 'ancak', 'arada', 'aslında', 'ayrıca', 'bana', 'bazı', 'belki', 'ben', 'benden', 'beni', 'benim', 'beri', 'beş', 'bile', 'bin', 'bir', 'birçok', 'biri', 'birkaç', 'birkez', 'birşey', 'birşeyi', 'biz', 'bize', 'bizden', 'bizi', 'bizim', 'böyle', 'böylece', 'bu', 'buna', 'bunda', 'bundan', 'bunlar', 'bunları', 'bunların', 'bunu', 'bunun', 'burada', 'çok', 'çünkü', 'da', 'daha', 'dahi', 'de', 'defa', 'değil', 'diğer', 'diye', 'doksan', 'dokuz', 'dolayı', 'dolayısıyla', 'dört', 'edecek', 'eden', 'ederek', 'edilecek', 'ediliyor', 'edilmesi', 'ediyor', 'eğer', 'elli', 'en', 'etmesi', 'etti', 'ettiği', 'ettiğini', 'gibi', 'göre', 'halen', 'hangi', 'hatta', 'hem', 'henüz', 'hep', 'hepsi', 'her', 'herhangi', 'herkesin', 'hiç', 'hiçbir', 'için', 'iki', 'ile', 'ilgili', 'ise', 'işte', 'itibaren', 'itibariyle', 'kadar', 'karşın', 'katrilyon', 'kendi', 'kendilerine', 'kendini', 'kendisi', 'kendisine', 'kendisini', 'kez', 'ki', 'kim', 'kimden', 'kime', 'kimi', 'kimse', 'kırk', 'milyar', 'milyon', 'mu', 'mü', 'mı', 'nasıl', 'ne', 'neden', 'nedenle', 'nerde', 'nerede', 'nereye', 'niye', 'niçin', 'o', 'olan', 'olarak', 'oldu', 'olduğu', 'olduğunu', 'olduklarını', 'olmadı', 'olmadığı', 'olmak', 'olması', 'olmayan', 'olmaz', 'olsa', 'olsun', 'olup', 'olur', 'olursa', 'oluyor', 'on', 'ona', 'ondan', 'onlar', 'onlardan', 'onları', 'onların', 'onu', 'onun', 'otuz', 'oysa', 'öyle', 'pek', 'rağmen', 'sadece', 'sanki', 'sekiz', 'seksen', 'sen', 'senden', 'seni', 'senin', 'siz', 'sizden', 'sizi', 'sizin', 'şey', 'şeyden', 'şeyi', 'şeyler', 'şöyle', 'şu', 'şuna', 'şunda', 'şundan', 'şunları', 'şunu', 'tarafından', 'trilyon', 'tüm', 'üç', 'üzere', 'var', 'vardı', 've', 'veya', 'ya', 'yani', 'yapacak', 'yapılan', 'yapılması', 'yapıyor', 'yapmak', 'yaptı', 'yaptığı', 'yaptığını', 'yaptıkları', 'yedi', 'yerine', 'yetmiş', 'yine', 'yirmi', 'yoksa', 'yüz', 'zaten'] "
     ]
    }
   ],
   "source": [
    "my_stopwords = ['acaba', 'altmış', 'altı', 'ama', 'ancak', 'arada', 'aslında', 'ayrıca', 'bana', 'bazı', 'belki', 'ben', 'benden', 'beni', 'benim', 'beri', 'beş', 'bile', 'bin', 'bir', 'birçok', 'biri', 'birkaç', 'birkez', 'birşey', 'birşeyi', 'biz', 'bize', 'bizden', 'bizi', 'bizim', 'böyle', 'böylece', 'bu', 'buna', 'bunda', 'bundan', 'bunlar', 'bunları', 'bunların', 'bunu', 'bunun', 'burada', 'çok', 'çünkü', 'da', 'daha', 'dahi', 'de', 'defa', 'değil', 'diğer', 'diye', 'doksan', 'dokuz', 'dolayı', 'dolayısıyla', 'dört', 'edecek', 'eden', 'ederek', 'edilecek', 'ediliyor', 'edilmesi', 'ediyor', 'eğer', 'elli', 'en', 'etmesi', 'etti', 'ettiği', 'ettiğini', 'gibi', 'göre', 'halen', 'hangi', 'hatta', 'hem', 'henüz', 'hep', 'hepsi', 'her', 'herhangi', 'herkesin', 'hiç', 'hiçbir', 'için', 'iki', 'ile', 'ilgili', 'ise', 'işte', 'itibaren', 'itibariyle', 'kadar', 'karşın', 'katrilyon', 'kendi', 'kendilerine', 'kendini', 'kendisi', 'kendisine', 'kendisini', 'kez', 'ki', 'kim', 'kimden', 'kime', 'kimi', 'kimse', 'kırk', 'milyar', 'milyon', 'mu', 'mü', 'mı', 'nasıl', 'ne', 'neden', 'nedenle', 'nerde', 'nerede', 'nereye', 'niye', 'niçin', 'o', 'olan', 'olarak', 'oldu', 'olduğu', 'olduğunu', 'olduklarını', 'olmadı', 'olmadığı', 'olmak', 'olması', 'olmayan', 'olmaz', 'olsa', 'olsun', 'olup', 'olur', 'olursa', 'oluyor', 'on', 'ona', 'ondan', 'onlar', 'onlardan', 'onları', 'onların', 'onu', 'onun', 'otuz', 'oysa', 'öyle', 'pek', 'rağmen', 'sadece', 'sanki', 'sekiz', 'seksen', 'sen', 'senden', 'seni', 'senin', 'siz', 'sizden', 'sizi', 'sizin', 'şey', 'şeyden', 'şeyi', 'şeyler', 'şöyle', 'şu', 'şuna', 'şunda', 'şundan', 'şunları', 'şunu', 'tarafından', 'trilyon', 'tüm', 'üç', 'üzere', 'var', 'vardı', 've', 'veya', 'ya', 'yani', 'yapacak', 'yapılan', 'yapılması', 'yapıyor', 'yapmak', 'yaptı', 'yaptığı', 'yaptığını', 'yaptıkları', 'yedi', 'yerine', 'yetmiş', 'yine', 'yirmi', 'yoksa', 'yüz', 'zaten'] \n",
    "print(my_stopwords, end =' ')"
   ]
  },
  {
   "cell_type": "markdown",
   "metadata": {},
   "source": [
    "In the first 5 lines, I combined different regular expression patterns into pattern objects, which I can use for pattern matching. I used those pattern objects in the *clean_text* function. \n",
    "\n",
    "Inside the fuction, respectively, these lines:\n",
    "\n",
    "- Lowercase the text and saves it again.\n",
    "- Replace the symbols in replace_with_space symbols with the space in text.\n",
    "- Delete symbols which are in remove_symbols from text.\n",
    "- Delete the words less than 4 characters.\n",
    "- Delete stopwords from text."
   ]
  },
  {
   "cell_type": "code",
   "execution_count": 28,
   "metadata": {},
   "outputs": [],
   "source": [
    "replace_with_space = re.compile('[/(){}\\[\\]\\|@,;]')\n",
    "remove_symbols1 = re.compile(\"[^0-9a-z_ğüşıöç .']\")\n",
    "stopwords = nltk.corpus.stopwords.words('turkish')\n",
    "stopwords.extend(my_stopwords)\n",
    "remove_3chars = re.compile(r'\\b\\w{1,3}\\b')\n",
    "\n",
    "def clean_text(text):\n",
    "    \"\"\"\n",
    "        text: a string\n",
    "        \n",
    "        return: modified initial string\n",
    "    \"\"\"\n",
    "    text = text.lower() \n",
    "    text = replace_with_space.sub(' ', text) \n",
    "    text = remove_symbols1.sub('', text) \n",
    "    text = remove_3chars.sub('', text)\n",
    "    text = ' '.join([word for word in text.split() if word not in stopwords])\n",
    "    return text"
   ]
  },
  {
   "cell_type": "markdown",
   "metadata": {},
   "source": [
    "I used the function above to clean raw_txt:"
   ]
  },
  {
   "cell_type": "code",
   "execution_count": 29,
   "metadata": {
    "scrolled": true
   },
   "outputs": [
    {
     "name": "stdout",
     "output_type": "stream",
     "text": [
      "[\"mart mahalli idareler seçimleri' muğla' parti' mehmet hıdır ' osman gürün ' mehmet kocadon bağımsız behçet saatcı yarışacak. muğla ilçelerinde yarıştan çekildi. muğla başkanı yılmaz yüksel konuyla açıklamada muğla' büyükşehir belediye başkan adayımız mehmet polat dahil bodrum dalaman köyceğiz marmaris milas menteşe ortaca ilçelerindeki adaylarımızı çektik. datça fethiye seydikemer yatağan kavaklıdere' adayımız yoktu. adaylarımızı geri çekmemizin nedeni parti ' oluşturduğu cumhur ittifakı' tepki göstermek. ' destekleyeceğimiz kesinleşmiş değil. kararını genel merkezimiz verecek dedi.\", \"beyoğlu' kişinin öldüğü yangınla gözaltına alınan özkan ' yangını arkadaşlarını korkutmak çıkardığını belirterek tartıştığım ramazan demir aramızda husumet vardı. olay sabahı geldiğimde eşyalarımı dışarı attığını gördüm. sinirlendim. yattığı kanepeye gazete kağıtlarını yerleştirip yaktım. . pişmanım dediği öğrenildi.beyoğlu asmalı mescit' kişinin öldüğü kişinin yaralandığı yangınla hatay' yakalanan şüphelinin emniyetteki sorgusu sürüyor. istanbul' garsonluk ağrı' gelen yaşındaki murat kayacan siirt' gelen yaşındaki muhammet yaşındaki yunus akyüz manisa' gelen yaşındaki eren ersin büker diyarbakır' gelen yaşındaki ramazan demir hatay' gelen yaşındaki özkan . aynı dairede yaşıyordu.işten çikarilinca arkadaşlarina kizdiözkan . geçtiğimiz günlerde işten çıkartıldı. edinilen bilgiye özkan . aynı yerde çalıştığı arkadaşlarının işten çıkartıldıktan sonra kendisiyle ilgilenmemesine kızdı. özkan . arkadaşlarıyla kavga ettikten sonra küstü.memleketine dönmek uçak biletini alan özkan . sabah saatlerinde evde yangın çıkardı. yangın kısa sürede sarınca özkan . durumu itfaiye ekiplerine haber vererek havalimanına gitti. yangında murat kayacan muhammet yunus akyüz eren ersin büker hayatını kaybederken ramazan demir yaralı hastaneye kaldırıldı.hatay polisi uçaktan inince gözaltina aldiistanbul asayiş şube müdürlüğü ekipleri çalışmalarda yangını özkan .' çıkardığını belirledi. üzerine istanbul polisi hatay emniyet müdürlüğü ekipleriyle irtibata geçerek uçak iner inmez özkan .' yakalanmasını sağladı.yangini kanepeyi yakarak çikarmişistanbul' hatay' giden asayiş şube müdürlüğü ekipleri özkan . sabah saatlerinde istanbul' getirdi. özkan .' ifadesinde süre önce kavga küstüğü arkadaşlarını korkutmak yangını çıkardığını büyümesi üzerine korktuğunu itfaiye ekiplerine bilgi verdiğini söylediği öğrenildi. asayiş şube müdürlüğü' sorgulanan özkan ' yaralı kurtulan ramazan demir sürekli psikolojik baskı yapıyordu. küfürler ediyordu. aramızda husumet vardı. olay sabahı geldiğimde eşyalarımı dışarı attığını gördüm. sinirlendim. yattığı kanepeye gazete kağıtlarını yerleştirip yaktım. amacım öldürmek değildi. pişmanım dediği öğrenildi.özkan .' gayrettepe' bulunan asayiş şube müdürlüğü' işlemlerinin tamamlanmasının ardından öğlenden sonra adliyeye sevk bekleniyor.\", \"olay akşam saatlerinde maksut mahallesi' meydana geldi. tesisatçısı bağış yakının düğününe ailesiyle birlikte katıldı. bağış çeyizin getirildiği sırada üzerindeki bulundurma ruhsatlı tabancasıyla havaya ateş açtı. süre sonra tabancasında kurşun kalıp kalmadığını kontrol bağış kazara tetiğe dokundu.tabancadan çıkan kurşun bağış' elini sıyırdıktan sonra yanındaki oğlu mehmet fatih' göğsüne isabet etti. baba oğlunu kanlar içerisinde görenler durumu sağlık ekiplerine bildirdi. hastaneye kaldırılan mehmet fatih bağış doktorların müdahalesine kurtarılamayarak hayatını kaybetti.kurşunun elini sıyırmasıyla hafif yaralanan bağış tedavisinin ardından polis ekiplerince gözaltına alındı. ölümüyle yakınlarını yasa boğan mehmet fatih bağışın cenazesi otopsinin ardından ailesine teslim edilirken ifadesi alınan baba sağlık kontrolünden geçirilerek adliyeye sevk edildi.serbest kaldi oğlunun cenazesine katildişanlıurfada kazara oğlu mehmet fatih bağışın ölümüne gözaltına alınan emniyetteki işlemlerinin ardından adliyeye sevk edilen baba bağış nöbetçi mahkemece adli kontrol şartıyla serbest kaldı. kendisinin yaralandığı olayda oğlunu kaybetmenin üzüntüsünü yaşayan baba bağış serbest kaldıktan sonra adli kurumu morguna geçti. bağış ölümüne oğlu mehmet fatih bağışın cenazesinin alınması sırasında gözyaşına boğuldu. otopsisinin tamamlanmasının ardından mehmet fatih bağış' cenazesinin aile mezarlığında toprağa verileceği öğrenildi. saatte yaşananlarson saatte yaşananlar\", \"sivas adliyesi ziyaretininardından çıkışta basın mensuplarına açıklamalarda bulunan adalet bakanı abdulhamit şükür adliye personelimizin özellikle mübaşirlerimizin teşekkürleri oldu. cumhurbaşkanımızın kararnamesiyle arkadaşlarımız genel idare hizmetler sınıfına geçti. ettikleri talepti. uzun yıllar bekledikleri konuydu. hususta mübaşirlerimizin haklı talebine bizlerde sözcülük yaptık. hamdolsun büyük hayal gerçekleşmiş dedi.hkim savcıların soruşturmalarla yargılamaları büyük titizlik özveriyle sürdürdüğünü söyleyen bakan kaydettiadalet devletin temeli adaletin temeli hukuk. terörle etkin mücadele yapan devletiz. mücadeleyi yaparken fetö başta kırmızı çizgimiz . bunlardan kararlılıktır. fetö başta ülkemizin hukukunu bağımsızlığını demokrasiyi ortadan kaldırmak isteyenlerle mücadelemiz kararlı şekilde devam edecektir. türkiye' hukuk devleti çizgisinden uzaklaştıramayacaktır. hukuktan başka üstün kişi kurum yoktur. hukukun üstünlüğünü geliştirici çalışmalar yapacağız. ikinci kırmızı çizgimiz yaparken adalet hakkaniyet çizgimizden asla ayrılmayacağız. suçluyla masum vatandaşı birbirinden ayırt mücadele yapılmaktadır. kırmızı çizgimizdir. fetö mücadele ederken fetö' üslubu örgütlerin üslubu usulüyle hukukun emrettiği usulle mücadeleyi temel kırmızı çizgimizdir. hukuk devleti olmanın diğerlerinden farkı budur. terörle mücadele ederken hukuktan ayrılmamak temel yaklaşımımız temel prensibimizdir. hkim savcı arkadaşlarımız personellerimizle çabayı şekilde göstermektedirler.'yargi reform belgesini kamuoyuyla paylaşacağiz'yargı reform belgesi' halini kamuoyu yakın zamanda paylaşacaklarını ifade bakan önemli kararlar almış durumdayız. çerçevede hkim savcı atamalarında puanın getirilmesi önemli aşamadır. sene hkim savcı arkadaşımız meslek eğitime tabitutulacaktır. hkimler savcılar kurumumuz planlamasını yaptı. duruşmalara engel olmadan çalışmayı yapacağız dedi. vatandaş iftiradan korunduadliyede kimsenin lekelenmediği yargılama sürecinin titizlikle devam belirten bakan türkiye' vatandaşımız hakkında soruşturma açılmasına gerek görülmemiştir. genel soyut iftiralarla hakkında savcılığa şikayette bulunulmuş başsavcılarımız iftirayı görmüş şekilde evine işyerine polis göndermeden lekelenmesini önlemiş vatandaşımız çıkarmış olduğumuz kanun düzenlemeyle yargı mensuplarımızın titiz çalışmasıyla vatandaşımız lekelenmemiş evine polis gitmemiştir. güçlendireceğiz. temel yaklaşımımız adaletin hukukun korunması geliştirilmesi eksikliklerin giderilmesidir ifadelerini kullandı.'avukatlik mesleğinin ikamesi yoktur'avukatlık mesleğinin ikamesinin bulunmadığını belirten bakan trafik kazalarında başka şekillerde avukatın önüne geçerek sigorta firmalarına işin simsarlarına asla edeceğim vatandaşlarımız kapılmasınlar. aramanın savunmanın temel unsuru avukattır. avukatlık mesleğinin ikamesi yoktur. şekilde alternatif çözüm yolları dahil avukatlığı ortadan kaldırmaz. konuda türlü tedbiri almaya devam edeceğiz. vatandaşlarımızın şekilde kaybına uğramasını elbette kabul edemeyiz. konuda haksızlığa ihlalini uğradıklarını düşünmeleri halinde savunma haklarını avukatlar marifetiyle yapmalarını vesileyle tavsiye ediyorum konuştu.\", \"uzunköprü' yaşayan evren kandemir yaklaşık önce balık avlanmak evinden çıkıp akşam olmasına dönmedi. ailesinin kayıp başvurusunda bulunmasıyla kandemir' bulunması arama çalışması başlatıldı.kandemir' telefonundan önce eski ergene göleti mevkisinde sinyal alındı. üzerine edirne afad ekipleri tekirdağ emniyet müdürlüğü deniz şube müdürlüğü' bağlı dalgıç polisler arama çalışması başlattı.çalışma sırasında gölet kıyısında kandemir' şapka ayakkabı bulundu. ailesinin şapka ayakkabının kandemir' tespit üzerine arama çalışmaları gölet içinde yoğunlaştırıldı. bulunamayan evren kandemir' arama çalışmaları sürdürülüyor.\"] "
     ]
    }
   ],
   "source": [
    "cleaned_data = [clean_text(line) for line in raw_txt]\n",
    "print(cleaned_data[0:5], end = ' ')"
   ]
  },
  {
   "cell_type": "markdown",
   "metadata": {},
   "source": [
    "After the pre-process, data is ready for tokenization.\n",
    "To separate a sentence into words without puctuation, I used RegexpTokenizer(r'\\w+') as a tokenizer, since I still have the 'apostrophe' and the 'dot' in the *cleaned_data*."
   ]
  },
  {
   "cell_type": "markdown",
   "metadata": {},
   "source": [
    "I created an empty list *data_tokens*. After using the tokenizer, I appended the tokens I got to that list."
   ]
  },
  {
   "cell_type": "code",
   "execution_count": 30,
   "metadata": {
    "scrolled": true
   },
   "outputs": [
    {
     "name": "stdout",
     "output_type": "stream",
     "text": [
      "[['mart', 'mahalli', 'idareler', 'seçimleri', 'muğla', 'parti', 'mehmet', 'hıdır', 'osman', 'gürün', 'mehmet', 'kocadon', 'bağımsız', 'behçet', 'saatcı', 'yarışacak', 'muğla', 'ilçelerinde', 'yarıştan', 'çekildi', 'muğla', 'başkanı', 'yılmaz', 'yüksel', 'konuyla', 'açıklamada', 'muğla', 'büyükşehir', 'belediye', 'başkan', 'adayımız', 'mehmet', 'polat', 'dahil', 'bodrum', 'dalaman', 'köyceğiz', 'marmaris', 'milas', 'menteşe', 'ortaca', 'ilçelerindeki', 'adaylarımızı', 'çektik', 'datça', 'fethiye', 'seydikemer', 'yatağan', 'kavaklıdere', 'adayımız', 'yoktu', 'adaylarımızı', 'geri', 'çekmemizin', 'nedeni', 'parti', 'oluşturduğu', 'cumhur', 'ittifakı', 'tepki', 'göstermek', 'destekleyeceğimiz', 'kesinleşmiş', 'değil', 'kararını', 'genel', 'merkezimiz', 'verecek', 'dedi'], ['beyoğlu', 'kişinin', 'öldüğü', 'yangınla', 'gözaltına', 'alınan', 'özkan', 'yangını', 'arkadaşlarını', 'korkutmak', 'çıkardığını', 'belirterek', 'tartıştığım', 'ramazan', 'demir', 'aramızda', 'husumet', 'vardı', 'olay', 'sabahı', 'geldiğimde', 'eşyalarımı', 'dışarı', 'attığını', 'gördüm', 'sinirlendim', 'yattığı', 'kanepeye', 'gazete', 'kağıtlarını', 'yerleştirip', 'yaktım', 'pişmanım', 'dediği', 'öğrenildi', 'beyoğlu', 'asmalı', 'mescit', 'kişinin', 'öldüğü', 'kişinin', 'yaralandığı', 'yangınla', 'hatay', 'yakalanan', 'şüphelinin', 'emniyetteki', 'sorgusu', 'sürüyor', 'istanbul', 'garsonluk', 'ağrı', 'gelen', 'yaşındaki', 'murat', 'kayacan', 'siirt', 'gelen', 'yaşındaki', 'muhammet', 'yaşındaki', 'yunus', 'akyüz', 'manisa', 'gelen', 'yaşındaki', 'eren', 'ersin', 'büker', 'diyarbakır', 'gelen', 'yaşındaki', 'ramazan', 'demir', 'hatay', 'gelen', 'yaşındaki', 'özkan', 'aynı', 'dairede', 'yaşıyordu', 'işten', 'çikarilinca', 'arkadaşlarina', 'kizdiözkan', 'geçtiğimiz', 'günlerde', 'işten', 'çıkartıldı', 'edinilen', 'bilgiye', 'özkan', 'aynı', 'yerde', 'çalıştığı', 'arkadaşlarının', 'işten', 'çıkartıldıktan', 'sonra', 'kendisiyle', 'ilgilenmemesine', 'kızdı', 'özkan', 'arkadaşlarıyla', 'kavga', 'ettikten', 'sonra', 'küstü', 'memleketine', 'dönmek', 'uçak', 'biletini', 'alan', 'özkan', 'sabah', 'saatlerinde', 'evde', 'yangın', 'çıkardı', 'yangın', 'kısa', 'sürede', 'sarınca', 'özkan', 'durumu', 'itfaiye', 'ekiplerine', 'haber', 'vererek', 'havalimanına', 'gitti', 'yangında', 'murat', 'kayacan', 'muhammet', 'yunus', 'akyüz', 'eren', 'ersin', 'büker', 'hayatını', 'kaybederken', 'ramazan', 'demir', 'yaralı', 'hastaneye', 'kaldırıldı', 'hatay', 'polisi', 'uçaktan', 'inince', 'gözaltina', 'aldiistanbul', 'asayiş', 'şube', 'müdürlüğü', 'ekipleri', 'çalışmalarda', 'yangını', 'özkan', 'çıkardığını', 'belirledi', 'üzerine', 'istanbul', 'polisi', 'hatay', 'emniyet', 'müdürlüğü', 'ekipleriyle', 'irtibata', 'geçerek', 'uçak', 'iner', 'inmez', 'özkan', 'yakalanmasını', 'sağladı', 'yangini', 'kanepeyi', 'yakarak', 'çikarmişistanbul', 'hatay', 'giden', 'asayiş', 'şube', 'müdürlüğü', 'ekipleri', 'özkan', 'sabah', 'saatlerinde', 'istanbul', 'getirdi', 'özkan', 'ifadesinde', 'süre', 'önce', 'kavga', 'küstüğü', 'arkadaşlarını', 'korkutmak', 'yangını', 'çıkardığını', 'büyümesi', 'üzerine', 'korktuğunu', 'itfaiye', 'ekiplerine', 'bilgi', 'verdiğini', 'söylediği', 'öğrenildi', 'asayiş', 'şube', 'müdürlüğü', 'sorgulanan', 'özkan', 'yaralı', 'kurtulan', 'ramazan', 'demir', 'sürekli', 'psikolojik', 'baskı', 'yapıyordu', 'küfürler', 'ediyordu', 'aramızda', 'husumet', 'vardı', 'olay', 'sabahı', 'geldiğimde', 'eşyalarımı', 'dışarı', 'attığını', 'gördüm', 'sinirlendim', 'yattığı', 'kanepeye', 'gazete', 'kağıtlarını', 'yerleştirip', 'yaktım', 'amacım', 'öldürmek', 'değildi', 'pişmanım', 'dediği', 'öğrenildi', 'özkan', 'gayrettepe', 'bulunan', 'asayiş', 'şube', 'müdürlüğü', 'işlemlerinin', 'tamamlanmasının', 'ardından', 'öğlenden', 'sonra', 'adliyeye', 'sevk', 'bekleniyor'], ['olay', 'akşam', 'saatlerinde', 'maksut', 'mahallesi', 'meydana', 'geldi', 'tesisatçısı', 'bağış', 'yakının', 'düğününe', 'ailesiyle', 'birlikte', 'katıldı', 'bağış', 'çeyizin', 'getirildiği', 'sırada', 'üzerindeki', 'bulundurma', 'ruhsatlı', 'tabancasıyla', 'havaya', 'ateş', 'açtı', 'süre', 'sonra', 'tabancasında', 'kurşun', 'kalıp', 'kalmadığını', 'kontrol', 'bağış', 'kazara', 'tetiğe', 'dokundu', 'tabancadan', 'çıkan', 'kurşun', 'bağış', 'elini', 'sıyırdıktan', 'sonra', 'yanındaki', 'oğlu', 'mehmet', 'fatih', 'göğsüne', 'isabet', 'etti', 'baba', 'oğlunu', 'kanlar', 'içerisinde', 'görenler', 'durumu', 'sağlık', 'ekiplerine', 'bildirdi', 'hastaneye', 'kaldırılan', 'mehmet', 'fatih', 'bağış', 'doktorların', 'müdahalesine', 'kurtarılamayarak', 'hayatını', 'kaybetti', 'kurşunun', 'elini', 'sıyırmasıyla', 'hafif', 'yaralanan', 'bağış', 'tedavisinin', 'ardından', 'polis', 'ekiplerince', 'gözaltına', 'alındı', 'ölümüyle', 'yakınlarını', 'yasa', 'boğan', 'mehmet', 'fatih', 'bağışın', 'cenazesi', 'otopsinin', 'ardından', 'ailesine', 'teslim', 'edilirken', 'ifadesi', 'alınan', 'baba', 'sağlık', 'kontrolünden', 'geçirilerek', 'adliyeye', 'sevk', 'edildi', 'serbest', 'kaldi', 'oğlunun', 'cenazesine', 'katildişanlıurfada', 'kazara', 'oğlu', 'mehmet', 'fatih', 'bağışın', 'ölümüne', 'gözaltına', 'alınan', 'emniyetteki', 'işlemlerinin', 'ardından', 'adliyeye', 'sevk', 'edilen', 'baba', 'bağış', 'nöbetçi', 'mahkemece', 'adli', 'kontrol', 'şartıyla', 'serbest', 'kaldı', 'kendisinin', 'yaralandığı', 'olayda', 'oğlunu', 'kaybetmenin', 'üzüntüsünü', 'yaşayan', 'baba', 'bağış', 'serbest', 'kaldıktan', 'sonra', 'adli', 'kurumu', 'morguna', 'geçti', 'bağış', 'ölümüne', 'oğlu', 'mehmet', 'fatih', 'bağışın', 'cenazesinin', 'alınması', 'sırasında', 'gözyaşına', 'boğuldu', 'otopsisinin', 'tamamlanmasının', 'ardından', 'mehmet', 'fatih', 'bağış', 'cenazesinin', 'aile', 'mezarlığında', 'toprağa', 'verileceği', 'öğrenildi', 'saatte', 'yaşananlarson', 'saatte', 'yaşananlar'], ['sivas', 'adliyesi', 'ziyaretininardından', 'çıkışta', 'basın', 'mensuplarına', 'açıklamalarda', 'bulunan', 'adalet', 'bakanı', 'abdulhamit', 'şükür', 'adliye', 'personelimizin', 'özellikle', 'mübaşirlerimizin', 'teşekkürleri', 'oldu', 'cumhurbaşkanımızın', 'kararnamesiyle', 'arkadaşlarımız', 'genel', 'idare', 'hizmetler', 'sınıfına', 'geçti', 'ettikleri', 'talepti', 'uzun', 'yıllar', 'bekledikleri', 'konuydu', 'hususta', 'mübaşirlerimizin', 'haklı', 'talebine', 'bizlerde', 'sözcülük', 'yaptık', 'hamdolsun', 'büyük', 'hayal', 'gerçekleşmiş', 'dedi', 'hkim', 'savcıların', 'soruşturmalarla', 'yargılamaları', 'büyük', 'titizlik', 'özveriyle', 'sürdürdüğünü', 'söyleyen', 'bakan', 'kaydettiadalet', 'devletin', 'temeli', 'adaletin', 'temeli', 'hukuk', 'terörle', 'etkin', 'mücadele', 'yapan', 'devletiz', 'mücadeleyi', 'yaparken', 'fetö', 'başta', 'kırmızı', 'çizgimiz', 'bunlardan', 'kararlılıktır', 'fetö', 'başta', 'ülkemizin', 'hukukunu', 'bağımsızlığını', 'demokrasiyi', 'ortadan', 'kaldırmak', 'isteyenlerle', 'mücadelemiz', 'kararlı', 'şekilde', 'devam', 'edecektir', 'türkiye', 'hukuk', 'devleti', 'çizgisinden', 'uzaklaştıramayacaktır', 'hukuktan', 'başka', 'üstün', 'kişi', 'kurum', 'yoktur', 'hukukun', 'üstünlüğünü', 'geliştirici', 'çalışmalar', 'yapacağız', 'ikinci', 'kırmızı', 'çizgimiz', 'yaparken', 'adalet', 'hakkaniyet', 'çizgimizden', 'asla', 'ayrılmayacağız', 'suçluyla', 'masum', 'vatandaşı', 'birbirinden', 'ayırt', 'mücadele', 'yapılmaktadır', 'kırmızı', 'çizgimizdir', 'fetö', 'mücadele', 'ederken', 'fetö', 'üslubu', 'örgütlerin', 'üslubu', 'usulüyle', 'hukukun', 'emrettiği', 'usulle', 'mücadeleyi', 'temel', 'kırmızı', 'çizgimizdir', 'hukuk', 'devleti', 'olmanın', 'diğerlerinden', 'farkı', 'budur', 'terörle', 'mücadele', 'ederken', 'hukuktan', 'ayrılmamak', 'temel', 'yaklaşımımız', 'temel', 'prensibimizdir', 'hkim', 'savcı', 'arkadaşlarımız', 'personellerimizle', 'çabayı', 'şekilde', 'göstermektedirler', 'yargi', 'reform', 'belgesini', 'kamuoyuyla', 'paylaşacağiz', 'yargı', 'reform', 'belgesi', 'halini', 'kamuoyu', 'yakın', 'zamanda', 'paylaşacaklarını', 'ifade', 'bakan', 'önemli', 'kararlar', 'almış', 'durumdayız', 'çerçevede', 'hkim', 'savcı', 'atamalarında', 'puanın', 'getirilmesi', 'önemli', 'aşamadır', 'sene', 'hkim', 'savcı', 'arkadaşımız', 'meslek', 'eğitime', 'tabitutulacaktır', 'hkimler', 'savcılar', 'kurumumuz', 'planlamasını', 'yaptı', 'duruşmalara', 'engel', 'olmadan', 'çalışmayı', 'yapacağız', 'dedi', 'vatandaş', 'iftiradan', 'korunduadliyede', 'kimsenin', 'lekelenmediği', 'yargılama', 'sürecinin', 'titizlikle', 'devam', 'belirten', 'bakan', 'türkiye', 'vatandaşımız', 'hakkında', 'soruşturma', 'açılmasına', 'gerek', 'görülmemiştir', 'genel', 'soyut', 'iftiralarla', 'hakkında', 'savcılığa', 'şikayette', 'bulunulmuş', 'başsavcılarımız', 'iftirayı', 'görmüş', 'şekilde', 'evine', 'işyerine', 'polis', 'göndermeden', 'lekelenmesini', 'önlemiş', 'vatandaşımız', 'çıkarmış', 'olduğumuz', 'kanun', 'düzenlemeyle', 'yargı', 'mensuplarımızın', 'titiz', 'çalışmasıyla', 'vatandaşımız', 'lekelenmemiş', 'evine', 'polis', 'gitmemiştir', 'güçlendireceğiz', 'temel', 'yaklaşımımız', 'adaletin', 'hukukun', 'korunması', 'geliştirilmesi', 'eksikliklerin', 'giderilmesidir', 'ifadelerini', 'kullandı', 'avukatlik', 'mesleğinin', 'ikamesi', 'yoktur', 'avukatlık', 'mesleğinin', 'ikamesinin', 'bulunmadığını', 'belirten', 'bakan', 'trafik', 'kazalarında', 'başka', 'şekillerde', 'avukatın', 'önüne', 'geçerek', 'sigorta', 'firmalarına', 'işin', 'simsarlarına', 'asla', 'edeceğim', 'vatandaşlarımız', 'kapılmasınlar', 'aramanın', 'savunmanın', 'temel', 'unsuru', 'avukattır', 'avukatlık', 'mesleğinin', 'ikamesi', 'yoktur', 'şekilde', 'alternatif', 'çözüm', 'yolları', 'dahil', 'avukatlığı', 'ortadan', 'kaldırmaz', 'konuda', 'türlü', 'tedbiri', 'almaya', 'devam', 'edeceğiz', 'vatandaşlarımızın', 'şekilde', 'kaybına', 'uğramasını', 'elbette', 'kabul', 'edemeyiz', 'konuda', 'haksızlığa', 'ihlalini', 'uğradıklarını', 'düşünmeleri', 'halinde', 'savunma', 'haklarını', 'avukatlar', 'marifetiyle', 'yapmalarını', 'vesileyle', 'tavsiye', 'ediyorum', 'konuştu'], ['uzunköprü', 'yaşayan', 'evren', 'kandemir', 'yaklaşık', 'önce', 'balık', 'avlanmak', 'evinden', 'çıkıp', 'akşam', 'olmasına', 'dönmedi', 'ailesinin', 'kayıp', 'başvurusunda', 'bulunmasıyla', 'kandemir', 'bulunması', 'arama', 'çalışması', 'başlatıldı', 'kandemir', 'telefonundan', 'önce', 'eski', 'ergene', 'göleti', 'mevkisinde', 'sinyal', 'alındı', 'üzerine', 'edirne', 'afad', 'ekipleri', 'tekirdağ', 'emniyet', 'müdürlüğü', 'deniz', 'şube', 'müdürlüğü', 'bağlı', 'dalgıç', 'polisler', 'arama', 'çalışması', 'başlattı', 'çalışma', 'sırasında', 'gölet', 'kıyısında', 'kandemir', 'şapka', 'ayakkabı', 'bulundu', 'ailesinin', 'şapka', 'ayakkabının', 'kandemir', 'tespit', 'üzerine', 'arama', 'çalışmaları', 'gölet', 'içinde', 'yoğunlaştırıldı', 'bulunamayan', 'evren', 'kandemir', 'arama', 'çalışmaları', 'sürdürülüyor']] "
     ]
    }
   ],
   "source": [
    "data_tokens = []\n",
    "tokenizer = RegexpTokenizer(r'\\w+')\n",
    "for i in range (len(cleaned_data)-1):\n",
    "    tokens = tokenizer.tokenize(cleaned_data[i])\n",
    "    data_tokens.append(tokens)\n",
    "print(data_tokens[0:5], end = ' ')"
   ]
  },
  {
   "cell_type": "markdown",
   "metadata": {},
   "source": [
    "## 4. Experimental Validation"
   ]
  },
  {
   "cell_type": "markdown",
   "metadata": {},
   "source": [
    "### 4.1 Dictionary and Corpus\n",
    "\n",
    "A dictionary and a corpus is needed for topic modelling. \n",
    "\n",
    "Thus, I created a dictionary from ‘data_tokens’ which contains the number of times a word appears in the training set.\n",
    "\n",
    "*id2word* is the dictionary:"
   ]
  },
  {
   "cell_type": "code",
   "execution_count": 31,
   "metadata": {},
   "outputs": [],
   "source": [
    "id2word  = gensim.corpora.Dictionary(data_tokens) "
   ]
  },
  {
   "cell_type": "code",
   "execution_count": 32,
   "metadata": {
    "scrolled": true
   },
   "outputs": [
    {
     "name": "stdout",
     "output_type": "stream",
     "text": [
      "0 adaylarımızı\n",
      "1 adayımız\n",
      "2 açıklamada\n",
      "3 bağımsız\n",
      "4 başkan\n",
      "5 başkanı\n",
      "6 behçet\n",
      "7 belediye\n",
      "8 bodrum\n",
      "9 büyükşehir\n",
      "10 cumhur\n"
     ]
    }
   ],
   "source": [
    "count = 0\n",
    "for k, v in id2word.iteritems():\n",
    "    print(k, v)\n",
    "    count += 1\n",
    "    if count > 10:\n",
    "        break"
   ]
  },
  {
   "cell_type": "markdown",
   "metadata": {},
   "source": [
    "I don't want words that have high frequency, because I can't get useful information about the topic and as well as words that are too infrequent. Lastly, I will keep just 100,000 words. So I filter out tokens:\n",
    "\n",
    "- less than 15 documents (absolute number) \n",
    "- more than 0.5 documents (this is for the total corpus size, not in the absolute number).\n",
    "- keep only the first 100000 most frequent tokens."
   ]
  },
  {
   "cell_type": "code",
   "execution_count": 33,
   "metadata": {},
   "outputs": [],
   "source": [
    "id2word .filter_extremes(no_below=15, no_above=0.5, keep_n=100000)"
   ]
  },
  {
   "cell_type": "markdown",
   "metadata": {},
   "source": [
    "I created a corpus from data_tokens:"
   ]
  },
  {
   "cell_type": "code",
   "execution_count": 34,
   "metadata": {},
   "outputs": [],
   "source": [
    "texts = data_tokens"
   ]
  },
  {
   "cell_type": "markdown",
   "metadata": {},
   "source": [
    "After that I created a Term Document Frequency:\n",
    "\n",
    "For each document we create a dictionary reporting how many words and how many times those words appear using *Gensim doc2bow*.\n",
    "\n",
    "*doc2bow* creates a unique id for each word in the document. The produced corpus shown above is a mapping of (word_id, word_frequency).\n",
    "\n",
    "We can check it with a sample. In this case, it is the 658th line:"
   ]
  },
  {
   "cell_type": "code",
   "execution_count": 35,
   "metadata": {},
   "outputs": [
    {
     "name": "stdout",
     "output_type": "stream",
     "text": [
      "[(10, 1), (87, 1), (152, 2), (162, 1), (163, 1), (185, 2), (219, 1), (235, 3), (253, 1), (285, 1), (329, 1), (366, 2), (408, 2), (568, 1), (683, 1), (738, 1), (752, 1), (801, 1), (803, 1), (1004, 1), (1053, 1), (1097, 1), (1101, 1), (1117, 1), (1141, 1), (1142, 1), (1159, 1), (1176, 1), (1184, 1), (1243, 2), (1289, 1), (1358, 1), (1359, 1), (1361, 1), (1363, 1), (1365, 2), (1376, 1), (1518, 1), (1558, 1), (1578, 1), (1720, 1), (1781, 2), (1946, 1), (2016, 1)] "
     ]
    }
   ],
   "source": [
    "corpus = [id2word .doc2bow(doc) for doc in data_tokens]\n",
    "print(corpus[658], end = ' ')"
   ]
  },
  {
   "cell_type": "markdown",
   "metadata": {},
   "source": [
    "For example, (10, 1) above implies, word id 10 occurs once in the first document. Likewise, word id 83 occurs once and so on.\n",
    "\n",
    "This is used as the input by the LDA model."
   ]
  },
  {
   "cell_type": "markdown",
   "metadata": {},
   "source": [
    "This the human readable format of corpus (term-frequency) for the 658th line:"
   ]
  },
  {
   "cell_type": "code",
   "execution_count": 36,
   "metadata": {
    "scrolled": true
   },
   "outputs": [
    {
     "name": "stdout",
     "output_type": "stream",
     "text": [
      "Word 10 (\"genel\") appears 1 time.\n",
      "Word 87 (\"süre\") appears 1 time.\n",
      "Word 152 (\"saatte\") appears 2 time.\n",
      "Word 162 (\"yaşananlar\") appears 1 time.\n",
      "Word 163 (\"yaşananlarson\") appears 1 time.\n",
      "Word 185 (\"devam\") appears 2 time.\n",
      "Word 219 (\"mücadele\") appears 1 time.\n"
     ]
    }
   ],
   "source": [
    "corpus_doc_658 = corpus[658]\n",
    "for i in range(len(corpus_doc_658)- 37):\n",
    "    print(\"Word {} (\\\"{}\\\") appears {} time.\".format(corpus_doc_658[i][0], \n",
    "                                                     id2word [corpus_doc_658[i][0]], corpus_doc_658[i][1]))"
   ]
  },
  {
   "cell_type": "markdown",
   "metadata": {},
   "source": [
    "### 4.2 LDA Topic Model"
   ]
  },
  {
   "cell_type": "markdown",
   "metadata": {},
   "source": [
    "Now, I have every conditon fulfilled to train the LDA model. But dictionary and corpus is not the only necessity for LDA model. I also need to provide the number of topics as well.\n",
    "\n",
    "- *alpha* is the hyperparameter that affect sparsity of the topics. According to the Gensim docs, both defaults to 1.0/num_topics prior.\n",
    "- *chunksize* is the number of documents to be used in each training chunk. \n",
    "- *update_every* determines how often the model parameters should be updated\n",
    "- *passes* is the total number of training passes."
   ]
  },
  {
   "cell_type": "code",
   "execution_count": 37,
   "metadata": {},
   "outputs": [],
   "source": [
    "lda_model = LdaModel(corpus=corpus,\n",
    "                    id2word=id2word ,\n",
    "                    num_topics=20, \n",
    "                    random_state=100,\n",
    "                    update_every=1,\n",
    "                    chunksize=100,\n",
    "                    passes=10,\n",
    "                    alpha='auto',\n",
    "                    per_word_topics=True)"
   ]
  },
  {
   "cell_type": "markdown",
   "metadata": {},
   "source": [
    "**Topics in LDA model**"
   ]
  },
  {
   "cell_type": "markdown",
   "metadata": {},
   "source": [
    "The above LDA model is built with 20 different topics where each topic is a combination of keywords and each keyword contributes a certain weightage to the topic.\n",
    "\n",
    "You can see the keywords for each topic and the weightage(importance) of each keyword using lda_model.print_topics() as shown next."
   ]
  },
  {
   "cell_type": "code",
   "execution_count": 38,
   "metadata": {
    "scrolled": true
   },
   "outputs": [
    {
     "name": "stdout",
     "output_type": "stream",
     "text": [
      "[(0,\n",
      "  '0.042*\"ceza\" + 0.040*\"sanık\" + 0.033*\"hapis\" + 0.032*\"suçundan\" + '\n",
      "  '0.032*\"karar\" + 0.030*\"ağır\" + 0.028*\"mahkeme\" + 0.026*\"cezası\" + '\n",
      "  '0.020*\"çelik\" + 0.019*\"tutuklu\"'),\n",
      " (1,\n",
      "  '0.089*\"aykırı\" + 0.073*\"kadın\" + 0.072*\"görevlisi\" + 0.054*\"genç\" + '\n",
      "  '0.038*\"ordu\" + 0.033*\"nedeni\" + 0.028*\"gaziantep\" + 0.028*\"organize\" + '\n",
      "  '0.027*\"barış\" + 0.022*\"dönemin\"'),\n",
      " (2,\n",
      "  '0.085*\"ilçe\" + 0.074*\"jandarma\" + 0.069*\"yavuz\" + 0.033*\"tespit\" + '\n",
      "  '0.029*\"arama\" + 0.028*\"belirtildi\" + 0.026*\"sonuç\" + 0.024*\"kamu\" + '\n",
      "  '0.021*\"ortadan\" + 0.018*\"sonucu\"'),\n",
      " (3,\n",
      "  '0.048*\"yılmaz\" + 0.046*\"milletvekili\" + 0.037*\"türkiye\" + 0.031*\"bakanı\" + '\n",
      "  '0.030*\"idareler\" + 0.030*\"mahalli\" + 0.028*\"soylu\" + 0.023*\"bakan\" + '\n",
      "  '0.022*\"mehmet\" + 0.021*\"içişleri\"'),\n",
      " (4,\n",
      "  '0.062*\"ekipleri\" + 0.038*\"polis\" + 0.033*\"müdürlüğü\" + 0.031*\"ekipler\" + '\n",
      "  '0.026*\"itfaiye\" + 0.025*\"şube\" + 0.025*\"asayiş\" + 0.020*\"sürüyor\" + '\n",
      "  '0.019*\"adliyeye\" + 0.019*\"sevk\"'),\n",
      " (5,\n",
      "  '0.051*\"terör\" + 0.039*\"fetö\" + 0.030*\"silahlı\" + 0.027*\"örgütü\" + '\n",
      "  '0.021*\"üyesi\" + 0.020*\"yönelik\" + 0.020*\"eski\" + 0.018*\"kabul\" + '\n",
      "  '0.018*\"örgüt\" + 0.016*\"örgütün\"'),\n",
      " (6,\n",
      "  '0.031*\"zaman\" + 0.027*\"dedi\" + 0.023*\"büyük\" + 0.021*\"allah\" + '\n",
      "  '0.020*\"konuştu\" + 0.019*\"karşı\" + 0.017*\"türkiye\" + 0.015*\"kemal\" + '\n",
      "  '0.014*\"bugün\" + 0.014*\"önce\"'),\n",
      " (7,\n",
      "  '0.205*\"saatte\" + 0.132*\"yaşananlar\" + 0.105*\"açıklamada\" + '\n",
      "  '0.068*\"yaşananlarson\" + 0.067*\"nisan\" + 0.050*\"twitter\" + 0.025*\"yolu\" + '\n",
      "  '0.024*\"resmi\" + 0.023*\"açıklama\" + 0.023*\"cumhuriyeti\"'),\n",
      " (8,\n",
      "  '0.042*\"hukuki\" + 0.034*\"altın\" + 0.033*\"yaşlı\" + 0.029*\"ilçesi\" + '\n",
      "  '0.029*\"ilçede\" + 0.026*\"olmaması\" + 0.025*\"kızı\" + 0.024*\"merkezinde\" + '\n",
      "  '0.024*\"kavgaya\" + 0.024*\"prof\"'),\n",
      " (9,\n",
      "  '0.024*\"çalışma\" + 0.024*\"yaklaşık\" + 0.019*\"bölgede\" + 0.017*\"güvenlik\" + '\n",
      "  '0.016*\"söyledi\" + 0.016*\"geçen\" + 0.013*\"suriye\" + 0.013*\"oldu\" + '\n",
      "  '0.013*\"içinde\" + 0.013*\"dedi\"'),\n",
      " (10,\n",
      "  '0.082*\"fatih\" + 0.062*\"kaydedildi\" + 0.053*\"yardım\" + 0.043*\"nöbetçi\" + '\n",
      "  '0.040*\"bildirildi\" + 0.038*\"araca\" + 0.031*\"oğlu\" + 0.031*\"yasa\" + '\n",
      "  '0.029*\"toprağa\" + 0.028*\"konuldu\"'),\n",
      " (11,\n",
      "  '0.113*\"erdoğan\" + 0.026*\"sosyal\" + 0.023*\"maltepe\" + 0.023*\"tayyip\" + '\n",
      "  '0.022*\"genel\" + 0.019*\"yeni\" + 0.017*\"istanbul\" + 0.017*\"medya\" + '\n",
      "  '0.015*\"anadolu\" + 0.014*\"teknik\"'),\n",
      " (12,\n",
      "  '0.037*\"emniyet\" + 0.037*\"gözaltına\" + 0.027*\"müdürlüğü\" + 0.023*\"tespit\" + '\n",
      "  '0.022*\"edilen\" + 0.021*\"soruşturma\" + 0.021*\"alınan\" + 0.020*\"cumhuriyet\" + '\n",
      "  '0.018*\"şüpheli\" + 0.018*\"kapsamında\"'),\n",
      " (13,\n",
      "  '0.055*\"türkiye\" + 0.025*\"görev\" + 0.022*\"devam\" + 0.021*\"imamoğlu\" + '\n",
      "  '0.017*\"bütün\" + 0.016*\"ankara\" + 0.013*\"kılıçdaroğlu\" + 0.011*\"seçimi\" + '\n",
      "  '0.011*\"ifadelerini\" + 0.011*\"dile\"'),\n",
      " (14,\n",
      "  '0.079*\"olay\" + 0.043*\"meydana\" + 0.043*\"saat\" + 0.040*\"geldi\" + '\n",
      "  '0.030*\"ateş\" + 0.024*\"aracın\" + 0.020*\"araç\" + 0.019*\"kaza\" + 0.019*\"gelen\" '\n",
      "  '+ 0.018*\"sıralarında\"'),\n",
      " (15,\n",
      "  '0.041*\"sonra\" + 0.037*\"devam\" + 0.027*\"hava\" + 0.023*\"türk\" + 0.022*\"gece\" '\n",
      "  '+ 0.020*\"milli\" + 0.019*\"tarihi\" + 0.019*\"personel\" + 0.017*\"ihraç\" + '\n",
      "  '0.016*\"eski\"'),\n",
      " (16,\n",
      "  '0.256*\"kurulu\" + 0.105*\"adalet\" + 0.050*\"hukuk\" + 0.039*\"yargı\" + '\n",
      "  '0.033*\"hakim\" + 0.028*\"genel\" + 0.027*\"dışı\" + 0.026*\"uygun\" + '\n",
      "  '0.025*\"tespit\" + 0.024*\"önüne\"'),\n",
      " (17,\n",
      "  '0.094*\"parti\" + 0.080*\"belediye\" + 0.071*\"istanbul\" + 0.047*\"büyükşehir\" + '\n",
      "  '0.045*\"başkanı\" + 0.042*\"başkan\" + 0.042*\"yıldırım\" + 0.024*\"başkanlığı\" + '\n",
      "  '0.022*\"adayı\" + 0.022*\"seçim\"'),\n",
      " (18,\n",
      "  '0.044*\"seçim\" + 0.041*\"sandık\" + 0.017*\"ilişkin\" + 0.015*\"şekilde\" + '\n",
      "  '0.014*\"kamu\" + 0.013*\"genel\" + 0.012*\"seçmen\" + 0.012*\"ortaya\" + '\n",
      "  '0.010*\"karar\" + 0.010*\"ifade\"'),\n",
      " (19,\n",
      "  '0.035*\"ardından\" + 0.024*\"polis\" + 0.022*\"üzerine\" + 0.022*\"sonra\" + '\n",
      "  '0.017*\"sağlık\" + 0.015*\"etti\" + 0.015*\"edildi\" + 0.014*\"mahallesi\" + '\n",
      "  '0.014*\"gelen\" + 0.013*\"olay\"')]\n"
     ]
    }
   ],
   "source": [
    "# Print the Keyword in the 10 topics\n",
    "pprint.pprint(lda_model.print_topics())\n",
    "doc_lda = lda_model[corpus]"
   ]
  },
  {
   "cell_type": "markdown",
   "metadata": {},
   "source": [
    "This is how to interpret this:\n",
    "\n",
    "Topic 0 is a represented as 0.042*\"ceza\" + 0.040*\"sanık\" + 0.033*\"hapis\" + 0.032*\"suçundan\" + 0.032*\"karar\" + 0.030*\"ağır\" + 0.028*\"mahkeme\" + 0.026*\"cezası\" + 0.020*\"çelik\" + 0.019*\"tutuklu\".\n",
    "\n",
    "For topic 0, these 10 keywords are the ones that has got the heighest weight, respectively: ‘ceza’, ‘sanık’, ‘hapis’.. For example, the weight of ‘ceza’ on topic 0 is 0.042.\n",
    "\n",
    "The more a keyword has weight, the more important that keyword is for the topic. \n",
    "\n",
    "Looking at the keywords, for example, I can assign topic 0 as *law*."
   ]
  },
  {
   "cell_type": "markdown",
   "metadata": {},
   "source": [
    " ### 4.3 Model Perplexity and Coherence Score"
   ]
  },
  {
   "cell_type": "markdown",
   "metadata": {},
   "source": [
    "Model perplexity and topic coherence provide a convenient measure to judge how good a given topic model is. \n",
    "\n",
    "Perplexity gives us of how good the model is. The lower it is, the better it is."
   ]
  },
  {
   "cell_type": "markdown",
   "metadata": {},
   "source": [
    "Coherence measure to be used. Fastest method is ‘u_mass’ but the ‘c_v’ usually gives the best result.\n",
    "\n",
    "- for ‘u_mass’ corpus should be provided, if texts is provided, it will be converted to corpus using the dictionary. \n",
    "- for ‘c_v’, ‘c_uci’ and ‘c_npmi’ texts should be provided."
   ]
  },
  {
   "cell_type": "code",
   "execution_count": 39,
   "metadata": {},
   "outputs": [
    {
     "name": "stdout",
     "output_type": "stream",
     "text": [
      "\n",
      "Perplexity:  -9.005846686768882\n"
     ]
    }
   ],
   "source": [
    "print('\\nPerplexity: ', lda_model.log_perplexity(corpus))"
   ]
  },
  {
   "cell_type": "code",
   "execution_count": 40,
   "metadata": {},
   "outputs": [
    {
     "name": "stdout",
     "output_type": "stream",
     "text": [
      "\n",
      "Coherence Score:  0.47149530321350397\n"
     ]
    }
   ],
   "source": [
    "cm = CoherenceModel(model=lda_model, texts=data_tokens, dictionary=id2word, coherence='c_v')\n",
    "coherence = cm.get_coherence()\n",
    "print('\\nCoherence Score: ', coherence)"
   ]
  },
  {
   "cell_type": "markdown",
   "metadata": {},
   "source": [
    "As you can see coherence score is 0.47."
   ]
  },
  {
   "cell_type": "markdown",
   "metadata": {},
   "source": [
    "### 4.4 Visualization of the Topics and Keywords"
   ]
  },
  {
   "cell_type": "markdown",
   "metadata": {},
   "source": [
    "LDA model is ready. Taking to the next step, I need to examine the produced topics and the associated keywords. \n",
    "\n",
    "For this, I am going to use pyLDAvis package’s interactive chart."
   ]
  },
  {
   "cell_type": "code",
   "execution_count": 41,
   "metadata": {},
   "outputs": [
    {
     "name": "stderr",
     "output_type": "stream",
     "text": [
      "C:\\Users\\Lenovo\\Anaconda3\\lib\\site-packages\\pyLDAvis\\_prepare.py:257: FutureWarning: Sorting because non-concatenation axis is not aligned. A future version\n",
      "of pandas will change to not sort by default.\n",
      "\n",
      "To accept the future behavior, pass 'sort=False'.\n",
      "\n",
      "To retain the current behavior and silence the warning, pass 'sort=True'.\n",
      "\n",
      "  return pd.concat([default_term_info] + list(topic_dfs))\n"
     ]
    },
    {
     "data": {
      "text/html": [
       "\n",
       "<link rel=\"stylesheet\" type=\"text/css\" href=\"https://cdn.rawgit.com/bmabey/pyLDAvis/files/ldavis.v1.0.0.css\">\n",
       "\n",
       "\n",
       "<div id=\"ldavis_el355230597080271923082323350\"></div>\n",
       "<script type=\"text/javascript\">\n",
       "\n",
       "var ldavis_el355230597080271923082323350_data = {\"mdsDat\": {\"x\": [0.1355856318480406, -0.2161718770978622, 0.19273252970600058, 0.17590007034132618, 0.1564017231952605, -0.22642378337154653, 0.010288997404519877, -0.030085190159613324, 0.02490164575619103, 0.09664555397983558, 0.040310734331232084, -0.2301302964685721, -0.28670029538336633, -0.04131342657904525, 0.13207746191525918, -0.0003603218061590578, -0.03472358250039766, 0.056525980492406445, 0.002033420369375497, 0.04250502402711638], \"y\": [-0.14761202769356246, -0.15873322127076595, -0.16425177888959366, -0.10274222770470516, 0.00974657983402313, -0.009473723679945699, -0.15696706355825224, -0.0999447167128789, -0.011948785117982625, 0.052867717659917234, -0.1533200200666391, -0.037871631068185134, -0.03489580129132386, 0.11687793834244464, 0.055371232383175824, 0.1835890579536715, 0.14868106869826309, 0.14537939772119873, 0.19721712343714798, 0.16803088102399347], \"topics\": [1, 2, 3, 4, 5, 6, 7, 8, 9, 10, 11, 12, 13, 14, 15, 16, 17, 18, 19, 20], \"cluster\": [1, 1, 1, 1, 1, 1, 1, 1, 1, 1, 1, 1, 1, 1, 1, 1, 1, 1, 1, 1], \"Freq\": [13.53597640991211, 13.14665412902832, 9.751960754394531, 7.191018581390381, 6.881384372711182, 5.992587089538574, 5.7600507736206055, 5.752140045166016, 5.127203941345215, 5.02684211730957, 4.6262288093566895, 4.4242167472839355, 2.9972851276397705, 2.0715503692626953, 1.74863600730896, 1.4675923585891724, 1.3666938543319702, 1.1638758182525635, 1.0709984302520752, 0.8971056938171387]}, \"tinfo\": {\"Category\": [\"Default\", \"Default\", \"Default\", \"Default\", \"Default\", \"Default\", \"Default\", \"Default\", \"Default\", \"Default\", \"Default\", \"Default\", \"Default\", \"Default\", \"Default\", \"Default\", \"Default\", \"Default\", \"Default\", \"Default\", \"Default\", \"Default\", \"Default\", \"Default\", \"Default\", \"Default\", \"Default\", \"Default\", \"Default\", \"Default\", \"Topic1\", \"Topic1\", \"Topic1\", \"Topic1\", \"Topic1\", \"Topic1\", \"Topic1\", \"Topic1\", \"Topic1\", \"Topic1\", \"Topic1\", \"Topic1\", \"Topic1\", \"Topic1\", \"Topic1\", \"Topic1\", \"Topic1\", \"Topic1\", \"Topic1\", \"Topic1\", \"Topic1\", \"Topic1\", \"Topic1\", \"Topic1\", \"Topic1\", \"Topic1\", \"Topic1\", \"Topic1\", \"Topic1\", \"Topic1\", \"Topic1\", \"Topic1\", \"Topic1\", \"Topic1\", \"Topic1\", \"Topic1\", \"Topic1\", \"Topic1\", \"Topic1\", \"Topic1\", \"Topic1\", \"Topic1\", \"Topic1\", \"Topic1\", \"Topic1\", \"Topic1\", \"Topic1\", \"Topic1\", \"Topic1\", \"Topic1\", \"Topic1\", \"Topic1\", \"Topic1\", \"Topic1\", \"Topic1\", \"Topic2\", \"Topic2\", \"Topic2\", \"Topic2\", \"Topic2\", \"Topic2\", \"Topic2\", \"Topic2\", \"Topic2\", \"Topic2\", \"Topic2\", \"Topic2\", \"Topic2\", \"Topic2\", \"Topic2\", \"Topic2\", \"Topic2\", \"Topic2\", \"Topic2\", \"Topic2\", \"Topic2\", \"Topic2\", \"Topic2\", \"Topic2\", \"Topic2\", \"Topic2\", \"Topic2\", \"Topic2\", \"Topic2\", \"Topic2\", \"Topic2\", \"Topic2\", \"Topic2\", \"Topic2\", \"Topic2\", \"Topic2\", \"Topic2\", \"Topic2\", \"Topic2\", \"Topic2\", \"Topic2\", \"Topic2\", \"Topic2\", \"Topic2\", \"Topic2\", \"Topic2\", \"Topic2\", \"Topic2\", \"Topic2\", \"Topic2\", \"Topic2\", \"Topic2\", \"Topic2\", \"Topic2\", \"Topic2\", \"Topic2\", \"Topic2\", \"Topic2\", \"Topic2\", \"Topic2\", \"Topic3\", \"Topic3\", \"Topic3\", \"Topic3\", \"Topic3\", \"Topic3\", \"Topic3\", \"Topic3\", \"Topic3\", \"Topic3\", \"Topic3\", \"Topic3\", \"Topic3\", \"Topic3\", \"Topic3\", \"Topic3\", \"Topic3\", \"Topic3\", \"Topic3\", \"Topic3\", \"Topic3\", \"Topic3\", \"Topic3\", \"Topic3\", \"Topic3\", \"Topic3\", \"Topic3\", \"Topic3\", \"Topic3\", \"Topic3\", \"Topic3\", \"Topic3\", \"Topic3\", \"Topic3\", \"Topic3\", \"Topic3\", \"Topic3\", \"Topic3\", \"Topic3\", \"Topic3\", \"Topic3\", \"Topic3\", \"Topic3\", \"Topic3\", \"Topic3\", \"Topic3\", \"Topic3\", \"Topic3\", \"Topic3\", \"Topic3\", \"Topic3\", \"Topic3\", \"Topic3\", \"Topic3\", \"Topic3\", \"Topic3\", \"Topic3\", \"Topic3\", \"Topic3\", \"Topic4\", \"Topic4\", \"Topic4\", \"Topic4\", \"Topic4\", \"Topic4\", \"Topic4\", \"Topic4\", \"Topic4\", \"Topic4\", \"Topic4\", \"Topic4\", \"Topic4\", \"Topic4\", \"Topic4\", \"Topic4\", \"Topic4\", \"Topic4\", \"Topic4\", \"Topic4\", \"Topic4\", \"Topic4\", \"Topic4\", \"Topic4\", \"Topic4\", \"Topic4\", \"Topic4\", \"Topic4\", \"Topic4\", \"Topic4\", \"Topic4\", \"Topic4\", \"Topic4\", \"Topic4\", \"Topic4\", \"Topic4\", \"Topic4\", \"Topic4\", \"Topic4\", \"Topic4\", \"Topic4\", \"Topic4\", \"Topic4\", \"Topic4\", \"Topic4\", \"Topic4\", \"Topic4\", \"Topic4\", \"Topic4\", \"Topic4\", \"Topic4\", \"Topic4\", \"Topic4\", \"Topic4\", \"Topic4\", \"Topic4\", \"Topic5\", \"Topic5\", \"Topic5\", \"Topic5\", \"Topic5\", \"Topic5\", \"Topic5\", \"Topic5\", \"Topic5\", \"Topic5\", \"Topic5\", \"Topic5\", \"Topic5\", \"Topic5\", \"Topic5\", \"Topic5\", \"Topic5\", \"Topic5\", \"Topic5\", \"Topic5\", \"Topic5\", \"Topic5\", \"Topic5\", \"Topic5\", \"Topic5\", \"Topic5\", \"Topic5\", \"Topic5\", \"Topic5\", \"Topic5\", \"Topic5\", \"Topic5\", \"Topic5\", \"Topic5\", \"Topic5\", \"Topic5\", \"Topic5\", \"Topic5\", \"Topic5\", \"Topic5\", \"Topic5\", \"Topic5\", \"Topic5\", \"Topic5\", \"Topic5\", \"Topic5\", \"Topic5\", \"Topic5\", \"Topic6\", \"Topic6\", \"Topic6\", \"Topic6\", \"Topic6\", \"Topic6\", \"Topic6\", \"Topic6\", \"Topic6\", \"Topic6\", \"Topic6\", \"Topic6\", \"Topic6\", \"Topic6\", \"Topic6\", \"Topic6\", \"Topic6\", \"Topic6\", \"Topic6\", \"Topic6\", \"Topic6\", \"Topic6\", \"Topic6\", \"Topic6\", \"Topic6\", \"Topic6\", \"Topic6\", \"Topic6\", \"Topic6\", \"Topic6\", \"Topic6\", \"Topic6\", \"Topic6\", \"Topic6\", \"Topic6\", \"Topic6\", \"Topic6\", \"Topic6\", \"Topic6\", \"Topic6\", \"Topic6\", \"Topic6\", \"Topic6\", \"Topic6\", \"Topic6\", \"Topic6\", \"Topic6\", \"Topic6\", \"Topic6\", \"Topic6\", \"Topic6\", \"Topic6\", \"Topic6\", \"Topic6\", \"Topic6\", \"Topic6\", \"Topic6\", \"Topic7\", \"Topic7\", \"Topic7\", \"Topic7\", \"Topic7\", \"Topic7\", \"Topic7\", \"Topic7\", \"Topic7\", \"Topic7\", \"Topic7\", \"Topic7\", \"Topic7\", \"Topic7\", \"Topic7\", \"Topic7\", \"Topic7\", \"Topic7\", \"Topic7\", \"Topic7\", \"Topic7\", \"Topic7\", \"Topic7\", \"Topic7\", \"Topic7\", \"Topic7\", \"Topic7\", \"Topic7\", \"Topic7\", \"Topic7\", \"Topic7\", \"Topic7\", \"Topic7\", \"Topic7\", \"Topic7\", \"Topic7\", \"Topic7\", \"Topic7\", \"Topic7\", \"Topic7\", \"Topic7\", \"Topic7\", \"Topic7\", \"Topic7\", \"Topic7\", \"Topic7\", \"Topic7\", \"Topic7\", \"Topic7\", \"Topic7\", \"Topic7\", \"Topic7\", \"Topic7\", \"Topic7\", \"Topic7\", \"Topic8\", \"Topic8\", \"Topic8\", \"Topic8\", \"Topic8\", \"Topic8\", \"Topic8\", \"Topic8\", \"Topic8\", \"Topic8\", \"Topic8\", \"Topic8\", \"Topic8\", \"Topic8\", \"Topic8\", \"Topic8\", \"Topic8\", \"Topic8\", \"Topic8\", \"Topic8\", \"Topic8\", \"Topic8\", \"Topic8\", \"Topic8\", \"Topic8\", \"Topic8\", \"Topic8\", \"Topic8\", \"Topic8\", \"Topic8\", \"Topic8\", \"Topic8\", \"Topic8\", \"Topic8\", \"Topic8\", \"Topic8\", \"Topic8\", \"Topic8\", \"Topic8\", \"Topic8\", \"Topic8\", \"Topic8\", \"Topic8\", \"Topic8\", \"Topic8\", \"Topic8\", \"Topic8\", \"Topic8\", \"Topic8\", \"Topic9\", \"Topic9\", \"Topic9\", \"Topic9\", \"Topic9\", \"Topic9\", \"Topic9\", \"Topic9\", \"Topic9\", \"Topic9\", \"Topic9\", \"Topic9\", \"Topic9\", \"Topic9\", \"Topic9\", \"Topic9\", \"Topic9\", \"Topic9\", \"Topic9\", \"Topic9\", \"Topic9\", \"Topic9\", \"Topic9\", \"Topic9\", \"Topic9\", \"Topic9\", \"Topic9\", \"Topic9\", \"Topic9\", \"Topic9\", \"Topic9\", \"Topic9\", \"Topic9\", \"Topic9\", \"Topic9\", \"Topic9\", \"Topic9\", \"Topic9\", \"Topic9\", \"Topic9\", \"Topic9\", \"Topic9\", \"Topic9\", \"Topic9\", \"Topic9\", \"Topic9\", \"Topic9\", \"Topic10\", \"Topic10\", \"Topic10\", \"Topic10\", \"Topic10\", \"Topic10\", \"Topic10\", \"Topic10\", \"Topic10\", \"Topic10\", \"Topic10\", \"Topic10\", \"Topic10\", \"Topic10\", \"Topic10\", \"Topic10\", \"Topic10\", \"Topic10\", \"Topic10\", \"Topic10\", \"Topic10\", \"Topic10\", \"Topic10\", \"Topic10\", \"Topic10\", \"Topic10\", \"Topic10\", \"Topic10\", \"Topic10\", \"Topic10\", \"Topic10\", \"Topic10\", \"Topic10\", \"Topic10\", \"Topic10\", \"Topic10\", \"Topic10\", \"Topic10\", \"Topic10\", \"Topic10\", \"Topic10\", \"Topic10\", \"Topic10\", \"Topic10\", \"Topic10\", \"Topic10\", \"Topic10\", \"Topic11\", \"Topic11\", \"Topic11\", \"Topic11\", \"Topic11\", \"Topic11\", \"Topic11\", \"Topic11\", \"Topic11\", \"Topic11\", \"Topic11\", \"Topic11\", \"Topic11\", \"Topic11\", \"Topic11\", \"Topic11\", \"Topic11\", \"Topic11\", \"Topic11\", \"Topic11\", \"Topic11\", \"Topic11\", \"Topic11\", \"Topic11\", \"Topic11\", \"Topic11\", \"Topic11\", \"Topic11\", \"Topic11\", \"Topic11\", \"Topic11\", \"Topic11\", \"Topic11\", \"Topic11\", \"Topic11\", \"Topic11\", \"Topic11\", \"Topic11\", \"Topic11\", \"Topic11\", \"Topic11\", \"Topic11\", \"Topic11\", \"Topic11\", \"Topic11\", \"Topic11\", \"Topic11\", \"Topic12\", \"Topic12\", \"Topic12\", \"Topic12\", \"Topic12\", \"Topic12\", \"Topic12\", \"Topic12\", \"Topic12\", \"Topic12\", \"Topic12\", \"Topic12\", \"Topic12\", \"Topic12\", \"Topic12\", \"Topic12\", \"Topic12\", \"Topic12\", \"Topic12\", \"Topic12\", \"Topic12\", \"Topic12\", \"Topic12\", \"Topic12\", \"Topic12\", \"Topic12\", \"Topic12\", \"Topic12\", \"Topic12\", \"Topic12\", \"Topic12\", \"Topic12\", \"Topic12\", \"Topic12\", \"Topic12\", \"Topic12\", \"Topic12\", \"Topic12\", \"Topic12\", \"Topic12\", \"Topic12\", \"Topic12\", \"Topic12\", \"Topic12\", \"Topic12\", \"Topic12\", \"Topic12\", \"Topic12\", \"Topic12\", \"Topic12\", \"Topic12\", \"Topic12\", \"Topic13\", \"Topic13\", \"Topic13\", \"Topic13\", \"Topic13\", \"Topic13\", \"Topic13\", \"Topic13\", \"Topic13\", \"Topic13\", \"Topic13\", \"Topic13\", \"Topic13\", \"Topic13\", \"Topic13\", \"Topic13\", \"Topic13\", \"Topic13\", \"Topic13\", \"Topic13\", \"Topic13\", \"Topic13\", \"Topic13\", \"Topic13\", \"Topic13\", \"Topic13\", \"Topic13\", \"Topic13\", \"Topic13\", \"Topic13\", \"Topic13\", \"Topic13\", \"Topic13\", \"Topic13\", \"Topic13\", \"Topic13\", \"Topic13\", \"Topic13\", \"Topic13\", \"Topic13\", \"Topic13\", \"Topic13\", \"Topic13\", \"Topic13\", \"Topic13\", \"Topic13\", \"Topic13\", \"Topic14\", \"Topic14\", \"Topic14\", \"Topic14\", \"Topic14\", \"Topic14\", \"Topic14\", \"Topic14\", \"Topic14\", \"Topic14\", \"Topic14\", \"Topic14\", \"Topic14\", \"Topic14\", \"Topic14\", \"Topic14\", \"Topic14\", \"Topic14\", \"Topic14\", \"Topic14\", \"Topic14\", \"Topic14\", \"Topic14\", \"Topic14\", \"Topic14\", \"Topic14\", \"Topic14\", \"Topic14\", \"Topic14\", \"Topic14\", \"Topic14\", \"Topic14\", \"Topic14\", \"Topic14\", \"Topic14\", \"Topic14\", \"Topic14\", \"Topic14\", \"Topic14\", \"Topic14\", \"Topic14\", \"Topic14\", \"Topic14\", \"Topic15\", \"Topic15\", \"Topic15\", \"Topic15\", \"Topic15\", \"Topic15\", \"Topic15\", \"Topic15\", \"Topic15\", \"Topic15\", \"Topic15\", \"Topic15\", \"Topic15\", \"Topic15\", \"Topic15\", \"Topic15\", \"Topic15\", \"Topic15\", \"Topic15\", \"Topic15\", \"Topic15\", \"Topic15\", \"Topic15\", \"Topic15\", \"Topic15\", \"Topic15\", \"Topic15\", \"Topic15\", \"Topic15\", \"Topic15\", \"Topic15\", \"Topic15\", \"Topic15\", \"Topic15\", \"Topic15\", \"Topic15\", \"Topic15\", \"Topic15\", \"Topic15\", \"Topic15\", \"Topic16\", \"Topic16\", \"Topic16\", \"Topic16\", \"Topic16\", \"Topic16\", \"Topic16\", \"Topic16\", \"Topic16\", \"Topic16\", \"Topic16\", \"Topic16\", \"Topic16\", \"Topic16\", \"Topic16\", \"Topic16\", \"Topic16\", \"Topic16\", \"Topic16\", \"Topic16\", \"Topic16\", \"Topic16\", \"Topic16\", \"Topic16\", \"Topic16\", \"Topic16\", \"Topic16\", \"Topic16\", \"Topic16\", \"Topic16\", \"Topic16\", \"Topic16\", \"Topic16\", \"Topic16\", \"Topic16\", \"Topic16\", \"Topic17\", \"Topic17\", \"Topic17\", \"Topic17\", \"Topic17\", \"Topic17\", \"Topic17\", \"Topic17\", \"Topic17\", \"Topic17\", \"Topic17\", \"Topic17\", \"Topic17\", \"Topic17\", \"Topic17\", \"Topic17\", \"Topic17\", \"Topic17\", \"Topic17\", \"Topic17\", \"Topic17\", \"Topic17\", \"Topic17\", \"Topic17\", \"Topic17\", \"Topic17\", \"Topic17\", \"Topic17\", \"Topic17\", \"Topic17\", \"Topic17\", \"Topic17\", \"Topic17\", \"Topic17\", \"Topic17\", \"Topic17\", \"Topic17\", \"Topic17\", \"Topic17\", \"Topic18\", \"Topic18\", \"Topic18\", \"Topic18\", \"Topic18\", \"Topic18\", \"Topic18\", \"Topic18\", \"Topic18\", \"Topic18\", \"Topic18\", \"Topic18\", \"Topic18\", \"Topic18\", \"Topic18\", \"Topic18\", \"Topic18\", \"Topic18\", \"Topic18\", \"Topic18\", \"Topic18\", \"Topic18\", \"Topic18\", \"Topic18\", \"Topic18\", \"Topic18\", \"Topic18\", \"Topic18\", \"Topic18\", \"Topic18\", \"Topic18\", \"Topic18\", \"Topic18\", \"Topic18\", \"Topic18\", \"Topic19\", \"Topic19\", \"Topic19\", \"Topic19\", \"Topic19\", \"Topic19\", \"Topic19\", \"Topic19\", \"Topic19\", \"Topic19\", \"Topic19\", \"Topic19\", \"Topic19\", \"Topic19\", \"Topic19\", \"Topic19\", \"Topic19\", \"Topic19\", \"Topic19\", \"Topic19\", \"Topic19\", \"Topic19\", \"Topic19\", \"Topic19\", \"Topic19\", \"Topic19\", \"Topic19\", \"Topic19\", \"Topic19\", \"Topic19\", \"Topic19\", \"Topic19\", \"Topic20\", \"Topic20\", \"Topic20\", \"Topic20\", \"Topic20\", \"Topic20\", \"Topic20\", \"Topic20\", \"Topic20\", \"Topic20\", \"Topic20\", \"Topic20\", \"Topic20\", \"Topic20\", \"Topic20\", \"Topic20\", \"Topic20\", \"Topic20\", \"Topic20\", \"Topic20\", \"Topic20\", \"Topic20\", \"Topic20\", \"Topic20\", \"Topic20\", \"Topic20\", \"Topic20\", \"Topic20\", \"Topic20\", \"Topic20\", \"Topic20\", \"Topic20\", \"Topic20\", \"Topic20\", \"Topic20\", \"Topic20\", \"Topic20\", \"Topic20\", \"Topic20\", \"Topic20\", \"Topic20\", \"Topic20\", \"Topic20\"], \"Freq\": [795.0, 692.0, 440.0, 677.0, 878.0, 660.0, 874.0, 908.0, 674.0, 408.0, 560.0, 449.0, 225.0, 449.0, 416.0, 670.0, 521.0, 627.0, 354.0, 350.0, 878.0, 375.0, 753.0, 363.0, 343.0, 320.0, 310.0, 280.0, 301.0, 405.0, 673.7392578125, 194.95127868652344, 160.9281768798828, 158.28219604492188, 156.7648468017578, 141.66224670410156, 102.89078521728516, 100.09163665771484, 90.82538604736328, 89.50467681884766, 89.42303466796875, 86.35787200927734, 72.68424987792969, 69.79681396484375, 65.40306854248047, 62.60031509399414, 61.7459602355957, 54.43959045410156, 52.86322784423828, 48.428226470947266, 45.69611358642578, 45.60728454589844, 45.34919357299805, 45.339454650878906, 43.16737365722656, 42.62975311279297, 41.042572021484375, 40.567970275878906, 38.65801239013672, 38.54243469238281, 107.46928405761719, 156.2910614013672, 62.534080505371094, 61.95587921142578, 722.0648193359375, 122.2754898071289, 232.24220275878906, 194.6514434814453, 287.69866943359375, 138.69168090820312, 245.54283142089844, 93.6412124633789, 109.62010955810547, 210.04193115234375, 171.965087890625, 166.67555236816406, 117.29722595214844, 130.54141235351562, 87.36785888671875, 125.37513732910156, 139.6203155517578, 134.57704162597656, 102.38973236083984, 97.95329284667969, 96.39681243896484, 144.95050048828125, 100.41583251953125, 96.10383605957031, 88.9909439086914, 84.62199401855469, 82.80448913574219, 80.12737274169922, 73.922119140625, 71.84806060791016, 70.52354431152344, 70.21552276611328, 68.55597686767578, 67.33088684082031, 63.20803451538086, 62.12861251831055, 59.32879638671875, 55.661338806152344, 53.8493766784668, 53.65738296508789, 53.49867630004883, 52.733802795410156, 49.272926330566406, 47.948486328125, 47.946502685546875, 47.822288513183594, 47.17634963989258, 47.045982360839844, 45.87201690673828, 44.901729583740234, 42.62473678588867, 101.14566040039062, 270.817138671875, 140.96372985839844, 113.87626647949219, 171.58164978027344, 225.81431579589844, 107.2671127319336, 554.892822265625, 388.3559265136719, 154.15106201171875, 78.335693359375, 355.7185974121094, 97.09373474121094, 240.71847534179688, 248.19781494140625, 218.52821350097656, 345.521484375, 136.13938903808594, 159.68186950683594, 130.24290466308594, 207.91331481933594, 87.18560791015625, 114.20785522460938, 132.15478515625, 106.9003677368164, 107.58818054199219, 114.5486068725586, 103.89128112792969, 98.4510498046875, 100.28035736083984, 296.0331115722656, 252.08961486816406, 124.8438949584961, 88.50698852539062, 87.2900161743164, 75.80167388916016, 73.04486083984375, 65.35380554199219, 129.9497833251953, 61.79049301147461, 87.78242492675781, 54.572086334228516, 53.957000732421875, 53.49799728393555, 48.69593048095703, 111.39582824707031, 44.16217041015625, 42.38766098022461, 40.484947204589844, 36.92200469970703, 36.01828384399414, 35.905303955078125, 35.49656677246094, 34.57472610473633, 34.55318832397461, 34.48963928222656, 34.441017150878906, 32.48184585571289, 31.804288864135742, 31.485946655273438, 60.652587890625, 63.7022705078125, 650.9467163085938, 63.382545471191406, 133.99630737304688, 73.40663146972656, 197.3890380859375, 115.04932403564453, 155.40097045898438, 62.693870544433594, 55.75292205810547, 193.0820770263672, 131.76287841796875, 131.79107666015625, 266.2518310546875, 128.23336791992188, 119.527099609375, 99.98700714111328, 67.60218811035156, 127.87307739257812, 122.14920043945312, 96.4439926147461, 95.82941436767578, 92.2813720703125, 80.39057159423828, 88.49859619140625, 90.0873794555664, 80.75982666015625, 79.62873840332031, 116.14847564697266, 77.98388671875, 122.33807373046875, 70.89813995361328, 69.76285552978516, 68.08910369873047, 67.25050354003906, 66.32609558105469, 64.96792602539062, 65.06098175048828, 59.10231018066406, 57.81147003173828, 56.02854537963867, 52.694580078125, 48.781803131103516, 47.84334182739258, 46.89955520629883, 45.95063400268555, 41.032867431640625, 39.303627014160156, 36.806396484375, 36.797515869140625, 36.58872985839844, 36.52814865112305, 35.78913497924805, 34.85325241088867, 32.52143096923828, 30.191787719726562, 28.4097843170166, 27.96258544921875, 183.65806579589844, 55.33779525756836, 275.0909423828125, 62.668128967285156, 100.87715148925781, 131.988037109375, 73.6598892211914, 61.747779846191406, 63.786041259765625, 168.56436157226562, 205.73431396484375, 81.45832824707031, 237.03672790527344, 179.53720092773438, 126.84846496582031, 87.84073638916016, 94.96051025390625, 92.18315887451172, 103.33670806884766, 126.1171646118164, 83.92147064208984, 147.31446838378906, 95.56914520263672, 83.39694213867188, 71.36382293701172, 66.18312072753906, 353.4773864746094, 348.9654541015625, 186.46351623535156, 150.45489501953125, 672.6300659179688, 141.11073303222656, 117.21580505371094, 113.54753875732422, 113.35051727294922, 788.4713745117188, 64.72930908203125, 49.458438873291016, 47.19709777832031, 40.16456985473633, 39.327632904052734, 38.82062530517578, 38.27559280395508, 36.31442642211914, 37.77870178222656, 29.905956268310547, 24.31820297241211, 24.182695388793945, 22.662273406982422, 21.575246810913086, 19.871675491333008, 19.503482818603516, 395.1259765625, 18.59553337097168, 18.03412437438965, 17.50356674194336, 68.12600708007812, 52.95599365234375, 593.7057495117188, 198.3638153076172, 66.83477020263672, 375.2819519042969, 52.039649963378906, 59.50957107543945, 161.14004516601562, 143.7796630859375, 185.12767028808594, 67.07276153564453, 52.36732482910156, 77.7027359008789, 52.44832992553711, 66.4560775756836, 54.49434280395508, 56.634742736816406, 133.23968505859375, 128.49093627929688, 87.76219177246094, 85.17282104492188, 83.13287353515625, 71.58931732177734, 67.47052764892578, 67.765625, 65.29769897460938, 56.55838394165039, 52.15061950683594, 51.440399169921875, 48.82822036743164, 47.19010543823242, 46.75446319580078, 46.30717468261719, 45.74385070800781, 45.638893127441406, 42.67167282104492, 41.5620231628418, 40.3396110534668, 39.70520782470703, 39.34480667114258, 39.047279357910156, 38.52116775512695, 34.78352737426758, 33.780540466308594, 33.718345642089844, 31.37155532836914, 30.71588134765625, 268.3292236328125, 63.48745346069336, 97.65789794921875, 268.20379638671875, 68.8525390625, 89.081298828125, 196.75338745117188, 58.40122604370117, 65.23704528808594, 130.8543701171875, 154.3359832763672, 152.0787811279297, 144.56076049804688, 166.5744171142578, 67.0497817993164, 73.1766128540039, 158.77870178222656, 103.65776824951172, 118.67342376708984, 91.37632751464844, 94.43905639648438, 95.22791290283203, 107.7619857788086, 83.83585357666016, 73.86087799072266, 69.25755310058594, 70.04780578613281, 171.2195587158203, 135.1521759033203, 92.8436279296875, 64.13587188720703, 62.36627197265625, 60.115543365478516, 57.54505920410156, 54.95598602294922, 54.54385757446289, 52.0983772277832, 47.13576889038086, 46.99169921875, 46.17132568359375, 44.457218170166016, 40.0523796081543, 39.3887939453125, 37.67112731933594, 37.24088668823242, 36.07748031616211, 35.691715240478516, 35.201873779296875, 34.69386291503906, 33.98268127441406, 33.826290130615234, 33.11238479614258, 32.79006576538086, 31.1837158203125, 30.31405258178711, 30.135677337646484, 29.341259002685547, 169.01797485351562, 75.52217864990234, 61.688255310058594, 68.65574645996094, 115.0599594116211, 59.02363967895508, 78.84248352050781, 49.68794250488281, 92.60198974609375, 119.11056518554688, 62.32791519165039, 81.37590789794922, 115.37474822998047, 49.738914489746094, 65.74078369140625, 55.83584976196289, 91.82904815673828, 83.8428955078125, 85.35215759277344, 90.23129272460938, 55.94997024536133, 74.6654052734375, 63.03694152832031, 61.788475036621094, 55.56650924682617, 188.4081268310547, 123.3715591430664, 112.65843200683594, 109.79119873046875, 89.70631408691406, 87.51950073242188, 85.91806030273438, 84.16134643554688, 71.35698699951172, 71.34686279296875, 68.93424987792969, 65.65143585205078, 63.249732971191406, 56.89812088012695, 50.968929290771484, 48.857025146484375, 47.682373046875, 44.07776641845703, 41.7656364440918, 37.763893127441406, 34.078285217285156, 33.07598876953125, 32.838462829589844, 28.165708541870117, 27.53641700744629, 26.003856658935547, 25.33834457397461, 24.44023323059082, 23.64447021484375, 23.50311851501465, 209.0984649658203, 109.14500427246094, 276.3594970703125, 358.582275390625, 76.2540054321289, 105.29837799072266, 146.04452514648438, 108.39061737060547, 82.10228729248047, 139.0709228515625, 103.18310546875, 140.9448699951172, 126.7065200805664, 78.63768768310547, 112.18282318115234, 94.06103515625, 70.022216796875, 76.55841064453125, 79.40933990478516, 207.94786071777344, 111.70736694335938, 96.15585327148438, 95.55142211914062, 83.23461151123047, 78.94092559814453, 74.97550201416016, 74.0219955444336, 71.69501495361328, 63.90459060668945, 60.59601593017578, 57.6130485534668, 55.392520904541016, 55.103397369384766, 53.36983871459961, 51.321136474609375, 50.96141815185547, 50.87056350708008, 49.79157257080078, 41.88957214355469, 39.96917724609375, 39.96383285522461, 39.903690338134766, 34.76164627075195, 46.21894454956055, 33.334251403808594, 30.09397315979004, 29.77984046936035, 115.98916625976562, 26.729999542236328, 122.36729431152344, 163.06385803222656, 197.6360626220703, 177.42550659179688, 190.2869415283203, 248.3741455078125, 262.19793701171875, 117.58914184570312, 84.73275756835938, 105.35037994384766, 197.5789337158203, 96.08130645751953, 94.73420715332031, 105.07501220703125, 104.60749816894531, 77.52399444580078, 61.74525833129883, 691.2155151367188, 139.99508666992188, 137.89732360839844, 104.01146697998047, 86.80722045898438, 79.53921508789062, 67.1912841796875, 60.03437423706055, 57.485965728759766, 54.558536529541016, 54.36376190185547, 50.83839416503906, 49.977596282958984, 48.81000518798828, 48.77062225341797, 46.76552200317383, 46.585289001464844, 46.50544357299805, 41.243648529052734, 40.57761764526367, 40.555782318115234, 40.02281188964844, 38.34741973876953, 38.33765411376953, 37.48750686645508, 37.408203125, 37.06612777709961, 36.744537353515625, 35.21064758300781, 35.545021057128906, 158.5735626220703, 52.411197662353516, 45.44794845581055, 93.04019165039062, 46.88408660888672, 75.97727966308594, 118.74658966064453, 61.76315689086914, 136.10946655273438, 62.55986404418945, 47.15660095214844, 105.12127685546875, 75.07722473144531, 69.07405853271484, 63.38235092163086, 49.082679748535156, 48.48657989501953, 151.70399475097656, 125.7725830078125, 104.33387756347656, 98.67017364501953, 73.8259048461914, 69.67343139648438, 57.38712692260742, 54.04026794433594, 51.94746780395508, 105.65825653076172, 47.08369827270508, 45.43230438232422, 45.01814270019531, 44.634185791015625, 42.486385345458984, 40.940608978271484, 38.01897430419922, 37.36464309692383, 36.69778823852539, 35.79571533203125, 32.41110610961914, 32.08689880371094, 30.7845401763916, 27.468849182128906, 26.728147506713867, 26.17943572998047, 25.401334762573242, 22.412485122680664, 22.089853286743164, 21.582639694213867, 63.54131317138672, 57.78095245361328, 47.43265914916992, 55.608848571777344, 56.28750991821289, 128.5263671875, 112.92347717285156, 210.98390197753906, 55.17568588256836, 230.7139129638672, 92.95896911621094, 49.6547966003418, 75.93785858154297, 51.110416412353516, 57.71820068359375, 63.96400451660156, 54.568634033203125, 162.9493865966797, 128.5709686279297, 104.60823059082031, 98.63330841064453, 84.79098510742188, 80.708740234375, 76.73965454101562, 69.6457290649414, 67.93898010253906, 66.84016418457031, 64.70416259765625, 63.10013961791992, 42.225215911865234, 38.379539489746094, 36.20048141479492, 34.30219650268555, 32.69886016845703, 31.014747619628906, 30.703763961791992, 30.53871726989746, 30.476348876953125, 29.088298797607422, 27.377910614013672, 25.957565307617188, 24.74384880065918, 23.75402069091797, 21.893827438354492, 20.974990844726562, 19.17293357849121, 18.972667694091797, 108.3097152709961, 229.7130126953125, 57.548980712890625, 233.8720703125, 424.4732360839844, 215.69886779785156, 45.88838577270508, 40.88111877441406, 75.0749282836914, 79.65670776367188, 102.87371063232422, 48.62782287597656, 37.381317138671875, 57.70876693725586, 83.35629272460938, 76.51874542236328, 66.60132598876953, 64.6980209350586, 45.924983978271484, 48.85801315307617, 49.087013244628906, 46.147926330566406, 112.53128051757812, 96.43035888671875, 91.1521987915039, 64.67225646972656, 61.483665466308594, 59.453163146972656, 57.40254211425781, 53.89372634887695, 36.562618255615234, 35.08639144897461, 33.16523361206055, 32.7026481628418, 32.500423431396484, 27.280412673950195, 26.903757095336914, 26.73284339904785, 26.207860946655273, 25.558847427368164, 25.55828857421875, 19.84225845336914, 18.815170288085938, 14.540454864501953, 13.925755500793457, 12.755924224853516, 50.49747848510742, 73.86378479003906, 52.856021881103516, 18.541378021240234, 51.04064178466797, 63.196041107177734, 54.252952575683594, 71.14149475097656, 226.7943115234375, 35.9253044128418, 92.9486312866211, 31.528379440307617, 122.37920379638672, 138.13204956054688, 48.42998123168945, 68.70321655273438, 33.37246322631836, 39.74062728881836, 50.50825881958008, 52.32719421386719, 42.227840423583984, 45.9980583190918, 41.55724334716797, 187.3273162841797, 45.729854583740234, 45.2431755065918, 39.63163375854492, 38.49002456665039, 38.280860900878906, 33.647464752197266, 29.78925132751465, 28.655445098876953, 26.29024314880371, 25.134077072143555, 23.183244705200195, 21.32408905029297, 20.36229133605957, 17.054092407226562, 16.713645935058594, 16.256084442138672, 16.03426170349121, 14.117836952209473, 12.984822273254395, 26.552078247070312, 11.240285873413086, 31.71990203857422, 39.54610061645508, 44.862239837646484, 173.4870147705078, 38.91169357299805, 19.688819885253906, 39.47315216064453, 52.19330596923828, 72.46961212158203, 35.16864013671875, 214.39234924316406, 65.66083526611328, 35.68434143066406, 70.11190795898438, 84.57389831542969, 35.70704650878906, 46.641212463378906, 59.905513763427734, 43.07917404174805, 37.32631301879883, 31.588741302490234, 102.76456451416016, 64.67219543457031, 63.49708938598633, 59.18926239013672, 44.655303955078125, 38.56568145751953, 37.63712692260742, 36.51212692260742, 36.33241653442383, 34.469886779785156, 32.937076568603516, 28.562101364135742, 28.2254581451416, 20.95192527770996, 19.648733139038086, 11.18655014038086, 22.789392471313477, 36.699954986572266, 98.11686706542969, 23.22528076171875, 17.64755630493164, 27.58136558532715, 29.584880828857422, 17.986164093017578, 65.30529022216797, 32.451332092285156, 43.61091995239258, 48.408355712890625, 18.030670166015625, 7.571388244628906, 30.77227783203125, 39.54849624633789, 41.101890563964844, 46.58148193359375, 79.7063217163086, 34.027366638183594, 36.67658233642578, 35.82698059082031, 29.316730499267578, 31.368568420410156, 160.07345581054688, 68.29376220703125, 58.537105560302734, 50.51396560668945, 48.7383918762207, 38.519351959228516, 36.55299758911133, 35.14950942993164, 34.995540618896484, 30.683652877807617, 29.625612258911133, 27.61052894592285, 27.373437881469727, 130.26553344726562, 24.988197326660156, 24.74829864501953, 22.89784812927246, 21.63608741760254, 18.503189086914062, 18.406993865966797, 17.0794620513916, 16.714256286621094, 16.19700813293457, 39.31255340576172, 13.494359970092773, 10.826884269714355, 29.19320297241211, 97.19403839111328, 12.16818904876709, 50.01666259765625, 128.6328582763672, 31.84351921081543, 27.657230377197266, 19.172121047973633, 26.24003791809082, 26.700918197631836, 70.27806854248047, 56.264801025390625, 54.67070007324219, 41.89404296875, 40.24494934082031, 40.24283981323242, 32.30113220214844, 30.9695987701416, 30.606338500976562, 30.59807586669922, 30.22003173828125, 30.178234100341797, 29.956199645996094, 28.043100357055664, 27.94747543334961, 26.99592399597168, 26.256834030151367, 25.20490074157715, 24.868148803710938, 22.091629028320312, 21.56609535217285, 39.865875244140625, 17.78022003173828, 17.36057472229004, 16.281766891479492, 16.25555992126465, 15.53179931640625, 9.974687576293945, 30.197410583496094, 26.638025283813477, 30.498144149780273, 43.44496536254883, 24.32236671447754, 47.603981018066406, 26.316314697265625, 47.78092956542969, 31.02674674987793, 28.800334930419922, 28.94051170349121, 149.1986083984375, 70.36454010009766, 55.960693359375, 20.043710708618164, 19.504961013793945, 19.43634796142578, 19.386219024658203, 19.13105010986328, 17.954910278320312, 15.865426063537598, 15.671575546264648, 11.354509353637695, 10.512018203735352, 362.5438537597656, 15.985422134399414, 28.771709442138672, 38.40769958496094, 33.438350677490234, 36.31755065917969, 13.35272216796875, 22.510412216186523, 12.830774307250977, 46.97132110595703, 15.55329704284668, 26.029340744018555, 8.222661972045898, 10.13586711883545, 5.197048664093018, 14.285261154174805, 14.166656494140625, 29.821197509765625, 34.88092041015625, 39.95962905883789, 26.883724212646484, 13.490665435791016, 80.59822082519531, 56.47389221191406, 49.92530822753906, 40.82573699951172, 40.69451904296875, 38.34586715698242, 36.689056396484375, 36.30409622192383, 35.83408737182617, 33.481224060058594, 31.686742782592773, 28.769359588623047, 28.161231994628906, 27.25877571105957, 23.45932388305664, 21.167184829711914, 16.37588119506836, 14.923046112060547, 14.907966613769531, 107.19866180419922, 69.22245025634766, 12.4312744140625, 23.62550926208496, 52.266387939453125, 15.55322551727295, 26.906415939331055, 35.442020416259766, 14.42637825012207, 26.62290382385254, 7.259178161621094, 25.357858657836914, 19.120229721069336, 224.52487182617188, 143.8872833251953, 74.3384017944336, 55.0765266418457, 25.36329460144043, 21.124160766601562, 17.91301918029785, 16.424427032470703, 115.3409652709961, 15.668317794799805, 72.87806701660156, 7.769459247589111, 24.37217903137207, 25.612993240356445, 27.148855209350586, 25.650789260864258, 26.600406646728516, 5.600846767425537, 11.597896575927734, 14.657787322998047, 4.128620624542236, 0.05804739147424698, 0.05804913118481636, 0.05804341286420822, 0.05804232135415077, 0.05804130434989929, 0.05804278701543808, 0.05804077535867691, 0.058042012155056, 0.05804172903299332, 0.058042917400598526, 17.86355972290039, 0.651003897190094, 0.058043260127305984, 0.058054376393556595, 0.05804431065917015, 0.05804402753710747, 0.05804882571101189, 0.13279253244400024, 0.05804599076509476, 0.24642807245254517, 0.09666738659143448, 0.058050356805324554], \"Term\": [\"parti\", \"erdo\\u011fan\", \"kurulu\", \"belediye\", \"t\\u00fcrkiye\", \"olay\", \"istanbul\", \"se\\u00e7im\", \"sand\\u0131k\", \"il\\u00e7e\", \"polis\", \"ter\\u00f6r\", \"saatte\", \"ekipleri\", \"b\\u00fcy\\u00fck\\u015fehir\", \"ba\\u015fkan\\u0131\", \"genel\", \"devam\", \"ba\\u015fkan\", \"y\\u0131ld\\u0131r\\u0131m\", \"sonra\", \"ceza\", \"ard\\u0131ndan\", \"tespit\", \"san\\u0131k\", \"m\\u00fcd\\u00fcrl\\u00fc\\u011f\\u00fc\", \"fet\\u00f6\", \"saat\", \"meydana\", \"karar\", \"sand\\u0131k\", \"se\\u00e7men\", \"se\\u00e7imin\", \"fazla\", \"say\\u0131m\", \"kanun\", \"m\\u00fcmk\\u00fcn\", \"kurulunun\", \"i\\u015faret\", \"orada\", \"se\\u00e7imlerin\", \"g\\u00fcven\", \"ba\\u015fkan\\u0131n\\u0131n\", \"suretiyle\", \"gerekti\\u011fini\", \"se\\u00e7imlerde\", \"somut\", \"verilmesi\", \"say\\u0131s\\u0131n\\u0131n\", \"birtak\\u0131m\", \"meslek\", \"hakk\\u0131\", \"partilerin\", \"binan\\u0131n\", \"tabii\", \"i\\u015fin\", \"gerekiyor\", \"birden\", \"kayseri\", \"se\\u00e7ime\", \"y\\u00fczde\", \"yeniden\", \"oldu\\u011funa\", \"bas\\u0131n\", \"se\\u00e7im\", \"sand\\u0131kta\", \"kamu\", \"ortaya\", \"ili\\u015fkin\", \"y\\u00fcksek\", \"\\u015fekilde\", \"say\\u0131l\\u0131\", \"siyasi\", \"genel\", \"karar\", \"ifade\", \"e\\u011fitim\", \"ba\\u015fka\", \"konusu\", \"s\\u00f6yledi\", \"dedi\", \"ba\\u015fkan\\u0131\", \"i\\u00e7inde\", \"\\u00f6nemli\", \"ayn\\u0131\", \"hastanesi\", \"kald\\u0131r\\u0131ld\\u0131\", \"tutuksuz\", \"tedavi\", \"g\\u00f6t\\u00fcr\\u00fcld\\u00fc\", \"yusuf\", \"koruma\", \"caddesi\", \"h\\u00fcseyin\", \"polise\", \"g\\u00f6revlileri\", \"anne\", \"ifadesinde\", \"tart\\u0131\\u015fma\", \"cinsel\", \"\\u015fikayet\\u00e7i\", \"ka\\u00e7an\", \"hastanede\", \"il\\u00e7esine\", \"tan\\u0131k\", \"incelemede\", \"kazada\", \"b\\u0131\\u00e7ak\", \"ya\\u015fad\\u0131\\u011f\\u0131\", \"zanl\\u0131\", \"fak\\u00fcltesi\", \"ya\\u015fam\\u0131n\\u0131\", \"giri\\u015f\", \"\\u00fcnc\\u00fc\", \"k\\u00f6y\\u00fc\", \"olayla\", \"sa\\u011fl\\u0131k\", \"s\\u0131rada\", \"olay\\u0131n\", \"ba\\u011fl\\u0131\", \"mahallesi\", \"durumu\", \"ard\\u0131ndan\", \"polis\", \"\\u00e7\\u0131kt\\u0131\", \"ak\\u015fam\", \"\\u00fczerine\", \"ara\\u015ft\\u0131rma\", \"edildi\", \"etti\", \"gelen\", \"sonra\", \"s\\u00fcre\", \"g\\u00fcvenlik\", \"devlet\", \"olay\", \"bilgiye\", \"al\\u0131nan\", \"\\u00f6nce\", \"bulundu\", \"yapan\", \"geldi\", \"soru\\u015fturma\", \"al\\u0131nd\\u0131\", \"bulunan\", \"g\\u00f6rev\", \"imamo\\u011flu\", \"ekrem\", \"idare\", \"ekonomik\", \"y\\u0131lda\", \"milletimizin\", \"\\u00fclkemizin\", \"say\\u0131n\", \"eksik\", \"\\u00fclke\", \"t\\u00fcrkiyenin\", \"k\\u00fcrt\", \"edece\\u011fiz\", \"oraya\", \"vurgulayan\", \"yapt\\u0131k\", \"ortada\", \"demokratik\", \"olmas\\u0131n\", \"yerli\", \"yapt\\u0131lar\", \"tekirda\\u011f\", \"hepimizin\", \"dediler\", \"uygulama\", \"e\\u015fit\", \"mutlu\", \"kuzeyinde\", \"biliyoruz\", \"asla\", \"demokrasi\", \"t\\u00fcrkiye\", \"birisi\", \"se\\u00e7imi\", \"g\\u00fc\\u00e7l\\u00fc\", \"b\\u00fct\\u00fcn\", \"hizmet\", \"k\\u0131l\\u0131\\u00e7daro\\u011flu\", \"huzur\", \"t\\u00fcrl\\u00fc\", \"ankara\", \"dile\", \"ifadelerini\", \"devam\", \"kulland\\u0131\", \"\\u00f6nemli\", \"belirten\", \"ediyoruz\", \"b\\u00fcy\\u00fck\", \"konu\\u015ftu\", \"t\\u00fcrk\", \"devlet\", \"milli\", \"millet\", \"m\\u00fccadele\", \"ter\\u00f6r\", \"yapan\", \"dedi\", \"insan\", \"islam\", \"d\\u00fcnya\", \"insanlar\", \"\\u00fclkenin\", \"s\\u00fcreci\", \"kaydeden\", \"geliyor\", \"karadeniz\", \"ettim\", \"gerekir\", \"partili\", \"astsubay\", \"maalesef\", \"elbette\", \"insanlar\\u0131n\", \"hepsini\", \"\\u00fclkede\", \"\\u00fclkemizde\", \"gelmi\\u015f\", \"yapt\\u0131m\", \"bat\\u0131\", \"yap\\u0131l\\u0131yor\", \"istiklal\", \"oluyor\", \"sava\\u015f\", \"\\u00e7\\u0131kar\", \"marmara\", \"boyu\", \"sana\", \"allah\", \"\\u00e7\\u0131k\\u0131yor\", \"zaman\", \"buraya\", \"ortak\", \"kemal\", \"k\\u00f6t\\u00fc\", \"onlara\", \"araya\", \"kar\\u015f\\u0131\", \"b\\u00fcy\\u00fck\", \"istiyorum\", \"dedi\", \"konu\\u015ftu\", \"bug\\u00fcn\", \"g\\u00fczel\", \"do\\u011fru\", \"\\u015fimdi\", \"ba\\u015fka\", \"\\u00f6nce\", \"sahip\", \"t\\u00fcrkiye\", \"yeni\", \"s\\u00f6yledi\", \"anadolu\", \"ayn\\u0131\", \"ba\\u015fkan\", \"y\\u0131ld\\u0131r\\u0131m\", \"aday\\u0131\", \"ittifak\\u0131\", \"belediye\", \"cumhur\", \"binali\", \"saadet\", \"b\\u00fcy\\u00fck\\u00e7ekmece\", \"parti\", \"g\\u00f6n\\u00fcl\", \"oylar\", \"dersi\", \"zillet\", \"cuma\", \"il\\u00e7enin\", \"vatanda\\u015flara\", \"k\\u00fcrdistan\", \"millete\", \"vermi\\u015f\", \"olaca\\u011f\\u0131\", \"halk\\u0131\", \"sizlerin\", \"hizmete\", \"gidiyor\", \"halk\\u0131n\", \"b\\u00fcy\\u00fck\\u015fehir\", \"\\u00e7al\\u0131\\u015faca\\u011f\\u0131z\", \"camisi\", \"kap\\u0131\", \"meclis\", \"olaca\\u011f\\u0131z\", \"istanbul\", \"ba\\u015fkanl\\u0131\\u011f\\u0131\", \"partisi\", \"ba\\u015fkan\\u0131\", \"aday\", \"se\\u00e7imde\", \"mart\", \"il\\u00e7e\", \"se\\u00e7im\", \"diyor\", \"beraber\", \"genel\", \"ba\\u015f\\u0131na\", \"birlikte\", \"olacak\", \"\\u015fimdi\", \"\\u015f\\u00fcpheli\", \"adet\", \"emniyetteki\", \"operasyonda\", \"aralar\\u0131nda\", \"operasyon\", \"i\\u015flemleri\", \"g\\u00fcler\", \"\\u015fah\\u0131s\", \"verme\", \"tabanca\", \"sahte\", \"ba\\u015fsavc\\u0131l\\u0131\\u011f\\u0131nca\", \"gram\", \"ba\\u015fsavc\\u0131l\\u0131\\u011f\\u0131\", \"ge\\u00e7irildi\", \"isabet\", \"intihar\", \"su\\u00e7larla\", \"yakalama\", \"kayd\\u0131\", \"sona\", \"sulh\", \"firari\", \"zamanl\\u0131\", \"su\\u00e7lar\\u0131ndan\", \"delil\", \"b\\u0131rak\\u0131ld\\u0131\", \"madde\", \"adrese\", \"emniyet\", \"mahkemece\", \"tutukland\\u0131\", \"g\\u00f6zalt\\u0131na\", \"uyu\\u015fturucu\", \"i\\u015flemlerinin\", \"m\\u00fcd\\u00fcrl\\u00fc\\u011f\\u00fc\", \"haz\\u0131rlanan\", \"y\\u00fcr\\u00fct\\u00fclen\", \"kapsam\\u0131nda\", \"soru\\u015fturma\", \"al\\u0131nan\", \"cumhuriyet\", \"tespit\", \"serbest\", \"ekiplerince\", \"edilen\", \"karar\\u0131\", \"hakk\\u0131nda\", \"al\\u0131nd\\u0131\", \"m\\u00fccadele\", \"bulunan\", \"ard\\u0131ndan\", \"sevk\", \"edildi\", \"\\u015fube\", \"y\\u00f6nelik\", \"\\u00e7al\\u0131\\u015fma\", \"b\\u00f6lgede\", \"suriye\", \"zarar\", \"kilometre\", \"sel\\u00e7uk\", \"do\\u011fan\", \"metre\", \"\\u00f6\\u011fretim\", \"do\\u011fal\", \"h\\u0131rs\\u0131zl\\u0131k\", \"erkek\", \"s\\u00f6zc\\u00fcs\\u00fc\", \"\\u015f\\u00fcphelilerden\", \"ya\\u015fam\", \"\\u00e7ocu\\u011fu\", \"ter\\u00f6ristin\", \"\\u00f6ncesi\", \"ka\\u00e7t\\u0131\", \"ya\\u015fand\\u0131\", \"\\u015fikayet\", \"a\\u00e7\\u0131ld\\u0131\", \"i\\u015flemi\", \"etkisiz\", \"derne\\u011fi\", \"esrar\", \"toplant\\u0131\", \"a\\u015fa\\u011f\\u0131\", \"yakalamak\", \"yeterli\", \"yakla\\u015f\\u0131k\", \"hafta\", \"\\u00e7al\\u0131\\u015fmalar\", \"ter\\u00f6rist\", \"ge\\u00e7en\", \"aile\", \"hale\", \"ba\\u015flayan\", \"oldu\", \"g\\u00fcvenlik\", \"silah\", \"teslim\", \"s\\u00f6yledi\", \"sonucunda\", \"toplam\", \"tekrar\", \"i\\u00e7inde\", \"bulunan\", \"\\u00f6nce\", \"dedi\", \"\\u00fcniversitesi\", \"sonra\", \"ifade\", \"birlikte\", \"mart\", \"\\u00f6rg\\u00fct\\u00fc\", \"\\u00f6rg\\u00fct\", \"\\u00f6rg\\u00fct\\u00fcn\", \"mahkemesi\", \"imam\", \"\\u00f6rg\\u00fct\\u00fcne\", \"bylock\", \"duru\\u015fmaya\", \"mahrem\", \"avukat\\u0131\", \"duru\\u015fmada\", \"devam\\u0131na\", \"savc\\u0131s\\u0131\", \"\\u00fcyelerinin\", \"sorumlu\", \"2016\", \"su\\u00e7lamalar\\u0131\", \"halinin\", \"davada\", \"tutukluluk\", \"yunus\", \"kapat\\u0131lan\", \"eylem\", \"kay\\u0131tl\\u0131\", \"g\\u00f6zalt\\u0131\", \"dini\", \"dea\\u015f\", \"\\u00f6rg\\u00fcte\", \"duru\\u015fmay\\u0131\", \"erteledi\", \"silahl\\u0131\", \"askeri\", \"fet\\u00f6\", \"ter\\u00f6r\", \"ter\\u00f6rle\", \"kanunu\", \"\\u00fcyesi\", \"verilen\", \"iddianamede\", \"eski\", \"iddia\", \"y\\u00f6nelik\", \"kabul\", \"san\\u0131\\u011f\\u0131n\", \"ceza\", \"san\\u0131k\", \"temmuz\", \"cumhuriyet\", \"edilen\", \"hapis\", \"talep\", \"\\u015fahin\", \"dava\", \"g\\u00f6r\\u00fclen\", \"hakk\\u0131ndaki\", \"cezas\\u0131na\", \"y\\u0131la\", \"avukatlar\\u0131\", \"kasten\", \"san\\u0131klar\\u0131n\", \"duru\\u015fma\", \"m\\u00fcebbet\", \"deprem\", \"\\u00f6ld\\u00fcrme\", \"\\u00f6\\u011fretmen\", \"m\\u00fcd\\u00fcr\", \"y\\u0131ldan\", \"mahkemesinde\", \"ikna\", \"a\\u011f\\u0131rla\\u015ft\\u0131r\\u0131lm\\u0131\\u015f\", \"sahil\", \"a\\u00e7t\\u0131\", \"te\\u015febb\\u00fcs\", \"inci\", \"duru\\u015fmas\\u0131na\", \"yaral\\u0131lar\", \"verilmesini\", \"heyeti\", \"san\\u0131\\u011fa\", \"\\u00e7elik\", \"cezas\\u0131\", \"su\\u00e7undan\", \"mahkeme\", \"a\\u011f\\u0131r\", \"san\\u0131k\", \"ceza\", \"tutuklu\", \"ahmet\", \"kat\\u0131ld\\u0131\", \"karar\", \"mehmet\", \"istedi\", \"verdi\", \"hakk\\u0131nda\", \"ili\\u015fkin\", \"san\\u0131\\u011f\\u0131n\", \"erdo\\u011fan\", \"maltepe\", \"tayyip\", \"medya\", \"teknik\", \"tarihinde\", \"ba\\u015fkanlar\\u0131\", \"cevap\", \"hesab\\u0131ndan\", \"gerek\\u00e7e\", \"denildi\", \"akdeniz\", \"yan\\u0131\", \"namaz\\u0131\", \"uzman\", \"cezaevi\", \"yap\\u0131ld\\u0131\\u011f\\u0131\", \"orta\", \"ki\\u015fiye\", \"hala\", \"ayl\\u0131k\", \"g\\u00f6steren\", \"yasal\", \"kurtar\\u0131lamad\\u0131\", \"kurulan\", \"b\\u0131rakt\\u0131\", \"g\\u00fcnden\", \"bizler\", \"ismi\", \"sald\\u0131r\\u0131\", \"sosyal\", \"a\\u00e7\\u0131s\\u0131ndan\", \"kaybeden\", \"anadolu\", \"s\\u0131ra\", \"daki\", \"yeni\", \"2019\", \"genel\", \"merkezi\", \"sonunda\", \"istanbul\", \"ifade\", \"mart\", \"ba\\u015fkan\\u0131\", \"yap\\u0131ld\\u0131\", \"yard\\u0131mc\\u0131s\\u0131\", \"hava\", \"gece\", \"personel\", \"ihra\\u00e7\", \"kara\", \"sinan\", \"kuvvetleri\", \"deniz\", \"akar\", \"tarihi\", \"pazar\", \"\\u00f6rg\\u00fct\\u00fcn\\u00fcn\", \"dedim\", \"salonu\", \"olmas\\u0131n\\u0131\", \"sonu\\u00e7lar\\u0131na\", \"toplamda\", \"hakan\", \"gitti\\u011fini\", \"buradaki\", \"grubu\", \"gelin\", \"park\\u0131\", \"gazi\", \"ayd\\u0131r\", \"yapmas\\u0131\", \"incelemelerde\", \"edin\", \"metin\", \"\\u00e7\\u0131karken\", \"\\u00e7al\\u0131\\u015fmalar\\u0131\", \"ifadesini\", \"do\\u011frultusunda\", \"al\\u0131p\", \"spor\", \"t\\u00fcrk\", \"milli\", \"devam\", \"lira\", \"sonra\", \"eski\", \"maddi\", \"mustafa\", \"savunma\", \"ediyor\", \"alan\", \"toplam\", \"ate\\u015f\", \"arac\\u0131n\", \"kaza\", \"s\\u0131ralar\\u0131nda\", \"plakal\\u0131\", \"otomobil\", \"s\\u00fcr\\u00fcc\\u00fc\", \"yaraland\\u0131\", \"hafif\", \"m\\u00fcdahale\", \"yaralanan\", \"yaral\\u0131\", \"yans\\u0131d\\u0131\", \"s\\u00fcr\\u00fcc\\u00fcs\\u00fc\", \"tebrik\", \"ekibi\", \"sokakta\", \"ismail\", \"arkada\\u015f\\u0131\", \"ara\\u00e7ta\", \"\\u00e7ekerek\", \"kameras\\u0131na\", \"bilinmeyen\", \"d\\u00f6nen\", \"otopsi\", \"\\u00e7evredeki\", \"ambulans\", \"otomobilin\", \"duyan\", \"vurdu\", \"ara\\u00e7\", \"saat\", \"ambulansla\", \"meydana\", \"olay\", \"geldi\", \"trafik\", \"acil\", \"hayat\\u0131n\\u0131\", \"\\u00fczerinde\", \"gelen\", \"hastaneye\", \"kaybetti\", \"il\\u00e7esi\", \"ekipleri\", \"bulunan\", \"ki\\u015fi\", \"sevk\", \"edinilen\", \"saatlerinde\", \"\\u00fczerine\", \"sonucu\", \"ekipler\", \"itfaiye\", \"asayi\\u015f\", \"b\\u00fcro\", \"\\u00f6\\u011fle\", \"yang\\u0131n\", \"amirli\\u011fi\", \"cinayet\", \"\\u015fahs\\u0131n\", \"muhammet\", \"m\\u00fcd\\u00fcrl\\u00fc\\u011f\\u00fcne\", \"yang\\u0131n\\u0131\", \"emniyete\", \"bebek\", \"husumet\", \"polisi\", \"s\\u00f6yledi\\u011fi\", \"y\\u00fckl\\u00fc\", \"\\u00e7al\\u0131\\u015fan\\u0131\", \"gasp\", \"bask\\u0131n\", \"yang\\u0131nda\", \"s\\u00fcr\\u00fcld\\u00fc\", \"\\u00e7\\u0131kard\\u0131\", \"\\u015f\\u00fcpheliler\", \"s\\u00fcr\\u00fcyor\", \"belirledi\", \"i\\u00e7eri\", \"\\u015f\\u00fcphelilerin\", \"evde\", \"ekiplerine\", \"adliyeye\", \"ekipleri\", \"s\\u00fcrede\", \"\\u015fube\", \"itiraf\", \"m\\u00fcd\\u00fcrl\\u00fc\\u011f\\u00fc\", \"polis\", \"k\\u0131sa\", \"sevk\", \"harekete\", \"edinilen\", \"ald\\u0131\", \"bulunan\", \"\\u00e7\\u0131kan\", \"g\\u00f6zalt\\u0131na\", \"edildi\", \"jandarma\", \"uyar\\u0131nca\", \"komutan\\u0131\", \"ekip\", \"\\u00f6\\u011frenilen\", \"kurum\", \"cesedi\", \"payla\\u015f\\u0131mda\", \"hareketsiz\", \"icra\", \"sakinleri\", \"g\\u00fcvenli\\u011fi\", \"al\\u0131nd\\u0131\\u011f\\u0131\", \"hayat\\u0131\", \"yap\\u0131lan\", \"sorumlusu\", \"g\\u00fcnd\\u00fcr\", \"ailesinin\", \"bedeni\", \"vakti\", \"ailesi\", \"bulunmas\\u0131\", \"kay\\u0131p\", \"osman\", \"kullan\\u0131lan\", \"yavuz\", \"aras\\u0131ndan\", \"mersin\", \"cenazesi\", \"ortadan\", \"arama\", \"belirlenmesi\", \"il\\u00e7e\", \"sonu\\u00e7\", \"ndan\", \"belirtildi\", \"tespit\", \"halde\", \"sonucu\", \"kamu\", \"\\u00f6zel\", \"say\\u0131l\\u0131\", \"il\\u00e7esi\", \"y\\u0131lmaz\", \"idareler\", \"mahalli\", \"soylu\", \"i\\u00e7i\\u015fleri\", \"kesinle\\u015fmi\\u015f\", \"seyhan\", \"sakarya\", \"arkas\\u0131nda\", \"e\\u015flik\", \"s\\u00fcleyman\", \"altun\", \"il\\u00e7elerinde\", \"amerika\", \"\\u00e7ocuklara\", \"vatanda\\u015flarla\", \"d\\u00fc\\u015ft\\u00fc\\u011f\\u00fc\", \"diyarbak\\u0131r\", \"milletvekili\", \"sohbet\", \"edece\\u011fi\", \"ger\\u00e7ekle\\u015fen\", \"ileti\\u015fim\", \"g\\u00fcneydo\\u011fu\", \"bakan\\u0131\", \"se\\u00e7imlerinin\", \"y\\u0131l\\u0131nda\", \"bakan\", \"kar\\u015f\\u0131ya\", \"y\\u0131llarda\", \"tane\", \"izmir\", \"recep\", \"mehmet\", \"t\\u00fcrkiye\", \"daki\", \"b\\u00fcy\\u00fck\", \"etti\", \"se\\u00e7imi\", \"genel\", \"ayk\\u0131r\\u0131\", \"ordu\", \"nedeni\", \"gaziantep\", \"bar\\u0131\\u015f\", \"al\\u0131nm\\u0131\\u015ft\\u0131\", \"ka\\u00e7ak\\u00e7\\u0131l\\u0131k\", \"umut\", \"tamamland\\u0131\", \"zanl\\u0131lar\\u0131n\", \"farkla\", \"konuyla\", \"konuk\", \"kad\\u0131n\", \"ara\\u00e7tan\", \"s\\u00fcper\", \"esnas\\u0131nda\", \"\\u015fanl\\u0131urfa\", \"birbirine\", \"toto\", \"bulan\", \"k\\u0131sm\\u0131\", \"kad\\u0131na\", \"d\\u00f6nemin\", \"ma\\u00e7\\u0131\", \"kad\\u0131n\\u0131\", \"kad\\u0131n\\u0131n\", \"gen\\u00e7\", \"y\\u00fckselen\", \"organize\", \"g\\u00f6revlisi\", \"yaz\\u0131l\\u0131\", \"konya\", \"ilde\", \"\\u00e7al\\u0131\\u015fan\", \"g\\u00fcn\\u00fc\", \"hukuki\", \"alt\\u0131n\", \"ya\\u015fl\\u0131\", \"k\\u0131z\\u0131\", \"merkezinde\", \"kavgaya\", \"g\\u00fcnlerde\", \"\\u00fc\\u00e7\\u00fcnc\\u00fc\", \"\\u00f6nde\", \"darp\", \"tart\\u0131\\u015fman\\u0131n\", \"istendi\", \"osmangazi\", \"k\\u0131z\\u0131n\\u0131n\", \"arad\\u0131\", \"\\u00e7\\u0131kt\\u0131\\u011f\\u0131\", \"al\\u0131yor\", \"sonuna\", \"bulunmad\\u0131\\u011f\\u0131n\\u0131\", \"erken\", \"yolunu\", \"prof\", \"ba\\u015flad\\u0131\\u011f\\u0131\", \"ki\\u015fiden\", \"girerek\", \"kad\\u0131nlar\\u0131n\", \"sald\\u0131r\\u0131s\\u0131na\", \"ge\\u00e7irdi\\u011fi\", \"ge\\u00e7ti\\u011fimiz\", \"nefes\", \"\\u015fiddet\", \"olmamas\\u0131\", \"almaya\", \"il\\u00e7ede\", \"kent\", \"il\\u00e7esi\", \"uzun\", \"evine\", \"sabah\", \"adalet\", \"hukuk\", \"yarg\\u0131\", \"k\\u0131rm\\u0131z\\u0131\", \"hizmetler\", \"edilmi\\u015ftir\", \"tarihine\", \"y\\u0131l\\u0131ndan\", \"mensuplar\\u0131na\", \"sivas\", \"oldu\\u011fumuz\", \"savc\\u0131lar\", \"vatanda\\u015flar\\u0131m\\u0131z\\u0131n\", \"kurulu\", \"bilgisi\", \"as\\u0131l\", \"d\\u0131\\u015f\\u0131\", \"\\u00f6n\\u00fcne\", \"uygun\", \"adliye\", \"savc\\u0131\", \"hakk\\u0131n\\u0131\", \"hakim\", \"devleti\", \"temel\", \"olmadan\", \"ettik\", \"vermeye\", \"ortadan\", \"bakan\", \"kabul\", \"tespit\", \"genel\", \"\\u015fekilde\", \"kar\\u015f\\u0131\", \"kaydedildi\", \"n\\u00f6bet\\u00e7i\", \"araca\", \"o\\u011flu\", \"yasa\", \"topra\\u011fa\", \"konuldu\", \"internet\", \"\\u00f6zt\\u00fcrk\", \"s\\u00fcrecin\", \"\\u00e7\\u0131k\\u0131\\u015f\", \"\\u00f6len\", \"edilirken\", \"kad\\u0131k\\u00f6y\", \"aras\\u0131\", \"koyarak\", \"yan\\u0131ndaki\", \"ara\\u00e7la\", \"\\u00e7al\\u0131\\u015fmalara\", \"fatih\", \"yard\\u0131m\", \"yard\\u0131m\\u0131yla\", \"ifadesi\", \"bildirildi\", \"kald\\u0131r\\u0131lan\", \"olduklar\\u0131\", \"ki\\u015filerin\", \"temin\", \"baba\", \"istismar\", \"konu\", \"teslim\", \"saatte\", \"ya\\u015fananlar\", \"ya\\u015fananlarson\", \"twitter\", \"olmu\\u015ftur\", \"g\\u00f6r\\u00fcl\\u00fcyor\", \"g\\u00f6r\\u00fcnt\\u00fclerde\", \"kazan\\u0131n\", \"a\\u00e7\\u0131klamada\", \"b\\u00f6l\\u00fcc\\u00fc\", \"nisan\", \"\\u00e7ekilen\", \"ger\\u00e7ekle\\u015ftirilen\", \"cumhuriyeti\", \"yolu\", \"a\\u00e7\\u0131klama\", \"resmi\", \"payla\\u015ft\\u0131\", \"bildirildi\", \"milli\", \"geldi\\u011fi\", \"tipi\", \"kapal\\u0131\", \"zelanda\", \"imha\", \"fenerbah\\u00e7e\", \"vurguland\\u0131\", \"derin\", \"m\\u00fchimmat\", \"d\\u0131\\u015fi\\u015fleri\", \"gizli\", \"ili\\u015fkin\", \"g\\u00f6r\\u00fcnt\\u00fcler\", \"samsun\", \"cumhurba\\u015fkan\\u0131\", \"bah\\u00e7eli\", \"\\u00f6mer\", \"darbe\", \"ailesine\", \"komutanl\\u0131\\u011f\\u0131\", \"mart\", \"savunma\", \"k\\u00fc\\u00e7\\u00fck\"], \"Total\": [795.0, 692.0, 440.0, 677.0, 878.0, 660.0, 874.0, 908.0, 674.0, 408.0, 560.0, 449.0, 225.0, 449.0, 416.0, 670.0, 521.0, 627.0, 354.0, 350.0, 878.0, 375.0, 753.0, 363.0, 343.0, 320.0, 310.0, 280.0, 301.0, 405.0, 674.8046264648438, 196.01661682128906, 161.99351501464844, 159.3475341796875, 157.83018493652344, 142.7275848388672, 103.95614624023438, 101.156982421875, 91.89073181152344, 90.57002258300781, 90.4883804321289, 87.4232177734375, 73.74959564208984, 70.8621597290039, 66.46841430664062, 63.6656494140625, 62.81129455566406, 55.50492477416992, 53.92869186401367, 49.493560791015625, 46.761451721191406, 46.6726188659668, 46.414527893066406, 46.404788970947266, 44.23270797729492, 43.69508743286133, 42.107906341552734, 41.633304595947266, 39.72334671020508, 39.60776901245117, 111.5076675415039, 163.9153289794922, 65.04859161376953, 64.51493835449219, 908.1921997070312, 138.83590698242188, 293.1685485839844, 255.75003051757812, 409.2001953125, 180.1273651123047, 415.07000732421875, 131.9883575439453, 173.70172119140625, 521.9459228515625, 405.35821533203125, 387.9515686035156, 202.5593719482422, 282.92010498046875, 123.13174438476562, 365.8451843261719, 608.5111694335938, 670.3480224609375, 349.4662170410156, 228.53741455078125, 305.9756774902344, 146.0128631591797, 101.47821044921875, 97.16621398925781, 90.0533218383789, 85.68437194824219, 83.86686706542969, 81.18975067138672, 74.9844970703125, 72.91045379638672, 71.58592224121094, 71.27790069580078, 69.61842346191406, 68.39579772949219, 64.2704086303711, 63.190975189208984, 60.39115905761719, 56.72370147705078, 54.911739349365234, 54.71974563598633, 54.561038970947266, 53.796165466308594, 50.335289001464844, 49.01084899902344, 49.00886535644531, 48.88467025756836, 48.238712310791016, 48.10837173461914, 46.93437957763672, 45.96409225463867, 43.68709945678711, 108.0021743774414, 310.8334045410156, 157.28567504882812, 125.01058197021484, 197.66009521484375, 269.30023193359375, 119.45657348632812, 753.3096313476562, 560.8510131835938, 197.08482360839844, 86.71550750732422, 551.3102416992188, 116.34632873535156, 397.4015197753906, 471.9476318359375, 401.7784423828125, 878.0150756835938, 220.70852661132812, 311.1816711425781, 236.86094665527344, 660.6625366210938, 122.97516632080078, 272.7690734863281, 481.6929626464844, 277.2837219238281, 287.883544921875, 403.50115966796875, 259.2439880371094, 200.16537475585938, 415.6887512207031, 297.0753173828125, 253.13185119628906, 125.88614654541016, 89.54924774169922, 88.33226776123047, 76.84392547607422, 74.08711242675781, 66.3968734741211, 132.11326599121094, 62.83272933959961, 89.28419494628906, 55.614322662353516, 54.99924087524414, 54.54023361206055, 49.73816680908203, 113.78357696533203, 45.20440673828125, 43.430023193359375, 41.527183532714844, 37.96424102783203, 37.06052017211914, 36.947540283203125, 36.53880310058594, 35.61696243286133, 35.59542465209961, 35.53187561035156, 35.483253479003906, 33.52408218383789, 32.846519470214844, 32.52818298339844, 63.41928482055664, 67.37128448486328, 878.97216796875, 70.13175201416016, 164.2885284423828, 83.71479034423828, 263.5374755859375, 145.53883361816406, 217.07872009277344, 74.44551849365234, 64.63695526123047, 325.8133544921875, 204.62701416015625, 208.3857421875, 627.0465087890625, 246.388916015625, 228.53741455078125, 203.48146057128906, 90.02934265136719, 428.6046142578125, 405.9017333984375, 231.31297302246094, 236.86094665527344, 220.7845001220703, 152.50489807128906, 223.85140991210938, 449.6637878417969, 287.883544921875, 608.5111694335938, 117.19246673583984, 79.02787780761719, 124.11515808105469, 71.94213104248047, 70.80684661865234, 69.13309478759766, 68.29449462890625, 67.37394714355469, 66.01191711425781, 66.10739135742188, 60.146278381347656, 58.855438232421875, 57.072513580322266, 53.738548278808594, 49.82577133178711, 48.88731002807617, 47.94352340698242, 46.99460220336914, 42.07683563232422, 40.34759521484375, 37.850364685058594, 37.841487884521484, 37.63269805908203, 37.57211685180664, 36.83310317993164, 35.897220611572266, 33.565399169921875, 31.235759735107422, 29.45375633239746, 29.00655746459961, 196.39170837402344, 58.78907775878906, 323.41778564453125, 67.96434783935547, 115.78178405761719, 156.957763671875, 85.58488464355469, 72.9606704711914, 79.87611389160156, 318.888427734375, 428.6046142578125, 115.6097183227539, 608.5111694335938, 405.9017333984375, 260.11810302734375, 140.04150390625, 165.55111694335938, 203.91664123535156, 282.92010498046875, 481.6929626464844, 174.68991088867188, 878.97216796875, 326.4015197753906, 365.8451843261719, 165.38619995117188, 305.9756774902344, 354.6903991699219, 350.8100280761719, 187.5123291015625, 151.5037078857422, 677.3857421875, 142.1595458984375, 118.2646484375, 114.59638214111328, 114.39936065673828, 795.7919921875, 65.77815246582031, 50.50726318359375, 48.24592208862305, 41.21339416503906, 40.37645721435547, 39.869449615478516, 39.32441711425781, 37.363250732421875, 38.910892486572266, 30.954784393310547, 25.36703109741211, 25.231523513793945, 23.711101531982422, 22.624074935913086, 20.920503616333008, 20.552310943603516, 416.9389343261719, 19.64436149597168, 19.08295249938965, 18.55239486694336, 75.32437896728516, 60.05088424682617, 874.0982055664062, 262.66729736328125, 83.22752380371094, 670.3480224609375, 65.46246337890625, 78.91297912597656, 361.543701171875, 408.0942077636719, 908.1921997070312, 138.53274536132812, 97.43484497070312, 521.9459228515625, 124.14544677734375, 320.30303955078125, 145.2281494140625, 203.91664123535156, 134.3387908935547, 129.55982971191406, 88.83110809326172, 86.24173736572266, 84.20178985595703, 72.65823364257812, 68.53944396972656, 68.84149169921875, 66.36661529541016, 57.627281188964844, 53.21951675415039, 52.50929641723633, 49.897117614746094, 48.259002685546875, 47.823360443115234, 47.37607192993164, 46.812747955322266, 46.70779037475586, 43.740570068359375, 42.63092041015625, 41.40850830078125, 40.774105072021484, 40.41370391845703, 40.11617660522461, 39.590065002441406, 35.85242462158203, 34.84943771362305, 34.787445068359375, 32.440452575683594, 31.784778594970703, 289.3746643066406, 66.67827606201172, 108.28044891357422, 321.0172424316406, 76.19464111328125, 105.38725280761719, 320.1515808105469, 67.75496673583984, 79.38609313964844, 204.66209411621094, 259.2439880371094, 272.7690734863281, 271.8567199707031, 363.84100341796875, 87.4892578125, 101.48198699951172, 383.0785827636719, 203.61972045898438, 300.1077880859375, 200.16537475585938, 223.85140991210938, 415.6887512207031, 753.3096313476562, 295.7978515625, 397.4015197753906, 163.2251739501953, 269.8201599121094, 172.27528381347656, 136.20791625976562, 93.89937591552734, 65.19161987304688, 63.4220085144043, 61.1712760925293, 58.600791931152344, 56.011756896972656, 55.59959030151367, 53.154109954833984, 48.19150161743164, 48.04743194580078, 47.22705841064453, 45.5129508972168, 41.10811233520508, 40.44452667236328, 38.72686004638672, 38.2966194152832, 37.13321304321289, 36.7474479675293, 36.257606506347656, 35.749595642089844, 35.038414001464844, 34.882022857666016, 34.16811752319336, 33.84579849243164, 32.23945236206055, 31.36978530883789, 31.191410064697266, 30.396991729736328, 199.66458129882812, 88.7503890991211, 70.4832763671875, 87.61648559570312, 178.75111389160156, 75.12229919433594, 115.74526977539062, 65.2597427368164, 183.4215545654297, 311.1816711425781, 99.1203384399414, 162.2781982421875, 365.8451843261719, 71.84761810302734, 139.5361328125, 94.76809692382812, 349.4662170410156, 415.6887512207031, 481.6929626464844, 608.5111694335938, 127.75785064697266, 878.0150756835938, 387.9515686035156, 320.30303955078125, 361.543701171875, 189.47439575195312, 124.4378662109375, 113.72473907470703, 110.85750579833984, 90.77262115478516, 88.58580780029297, 86.98436737060547, 85.22765350341797, 72.42329406738281, 72.41316986083984, 70.00055694580078, 66.71774291992188, 64.31602478027344, 57.96440124511719, 52.03520965576172, 49.92330551147461, 48.748653411865234, 45.144046783447266, 42.83191680908203, 38.83017349243164, 35.14456558227539, 34.142269134521484, 33.90474319458008, 29.231990814208984, 28.602699279785156, 27.070138931274414, 26.404626846313477, 25.506515502929688, 24.710752487182617, 24.569400787353516, 222.35548400878906, 118.73025512695312, 310.7550964355469, 449.6637878417969, 85.80391693115234, 124.08879089355469, 195.838623046875, 154.8641357421875, 108.9493637084961, 233.03561401367188, 169.00442504882812, 269.8201599121094, 244.30221557617188, 141.4021759033203, 375.4001159667969, 343.45440673828125, 136.56687927246094, 271.8567199707031, 383.0785827636719, 209.0153045654297, 112.77484130859375, 97.22332763671875, 96.618896484375, 84.30208587646484, 80.0083999633789, 76.04297637939453, 75.08946990966797, 72.76248931884766, 64.97206115722656, 61.66346740722656, 58.68050003051758, 56.4599723815918, 56.17084884643555, 54.43729019165039, 52.388587951660156, 52.02886962890625, 51.93801498413086, 50.85902404785156, 42.95702362060547, 41.03662872314453, 41.03128433227539, 40.97114181518555, 35.829097747802734, 47.66071319580078, 34.401702880859375, 31.161428451538086, 30.8472957611084, 120.45223999023438, 27.797454833984375, 127.26919555664062, 180.6195526123047, 250.3385772705078, 222.8606719970703, 250.58424377441406, 343.45440673828125, 375.4001159667969, 147.42987060546875, 109.50099182128906, 156.4575958251953, 405.35821533203125, 172.93080139160156, 174.7447967529297, 287.3560791015625, 300.1077880859375, 409.2001953125, 141.4021759033203, 692.2682495117188, 141.04779052734375, 138.9500274658203, 105.064208984375, 87.85994720458984, 80.5919418334961, 68.24401092529297, 61.08708190917969, 58.538673400878906, 55.611244201660156, 55.41646957397461, 51.8911018371582, 51.030303955078125, 49.86271286010742, 49.82332992553711, 47.81822967529297, 47.637996673583984, 47.55815124511719, 42.296356201171875, 41.63032531738281, 41.608489990234375, 41.075523376464844, 39.40012741088867, 39.39036178588867, 38.54021453857422, 38.46091079711914, 38.11883544921875, 37.797245025634766, 36.26335525512695, 36.63744354248047, 167.40538024902344, 63.580718994140625, 52.45777130126953, 165.38619995117188, 55.78140640258789, 141.16773986816406, 326.4015197753906, 99.46807861328125, 521.9459228515625, 151.4315643310547, 64.9449234008789, 874.0982055664062, 387.9515686035156, 361.543701171875, 670.3480224609375, 106.96561431884766, 92.79875183105469, 152.75762939453125, 126.82473754882812, 105.38603210449219, 99.72232818603516, 74.87805938720703, 70.7255859375, 58.43926239013672, 55.092403411865234, 52.99961853027344, 107.90341186523438, 48.135833740234375, 46.484439849853516, 46.07027816772461, 45.68632125854492, 43.53852081298828, 41.99274444580078, 39.071109771728516, 38.416778564453125, 37.74992370605469, 36.8481559753418, 33.46324157714844, 33.139034271240234, 31.8366756439209, 28.52102279663086, 27.780282974243164, 27.231571197509766, 26.45347023010254, 23.46462059020996, 23.14198875427246, 22.634775161743164, 76.22496795654297, 71.27238464355469, 56.949729919433594, 70.14884185791016, 72.74150085449219, 231.31297302246094, 220.7845001220703, 627.0465087890625, 78.3166732788086, 878.0150756835938, 233.03561401367188, 75.76197814941406, 209.75624084472656, 90.09823608398438, 136.4634552001953, 199.22842407226562, 139.5361328125, 164.06729125976562, 129.63345336914062, 105.67073822021484, 99.6961669921875, 85.8534927368164, 81.77124786376953, 77.80216217041016, 70.70824432373047, 69.0014877319336, 67.90542602539062, 65.76667022705078, 64.16264343261719, 43.2877082824707, 39.44203186035156, 37.26297378540039, 35.364688873291016, 33.7613525390625, 32.07724380493164, 31.76627540588379, 31.601211547851562, 31.538843154907227, 30.15081024169922, 28.440404891967773, 27.02005958557129, 25.80634307861328, 24.81651496887207, 22.956321716308594, 22.037485122680664, 20.235427856445312, 20.0351619720459, 114.84186553955078, 280.37615966796875, 64.64120483398438, 301.0238952636719, 660.6625366210938, 403.50115966796875, 58.85197067260742, 53.363372802734375, 141.96449279785156, 183.41879272460938, 401.7784423828125, 86.13703155517578, 49.47856521606445, 138.04022216796875, 449.5287780761719, 415.6887512207031, 306.01397705078125, 295.7978515625, 87.87467956542969, 166.00851440429688, 551.3102416992188, 156.66648864746094, 113.59588623046875, 97.49496459960938, 92.21680450439453, 65.73686218261719, 62.54825973510742, 60.517757415771484, 58.46713638305664, 54.95832061767578, 37.62721252441406, 36.15098571777344, 34.229827880859375, 33.767242431640625, 33.580413818359375, 28.345006942749023, 27.968351364135742, 27.79743766784668, 27.2724552154541, 26.623441696166992, 26.622882843017578, 20.90685272216797, 19.879764556884766, 15.605048179626465, 14.990348815917969, 13.820517539978027, 55.2326545715332, 84.42801666259766, 64.2474136352539, 22.79399299621582, 66.15234375, 82.29759979248047, 72.53557586669922, 103.55325317382812, 449.5287780761719, 48.21736145019531, 163.2251739501953, 41.535057067871094, 320.1515808105469, 560.8510131835938, 103.94366455078125, 295.7978515625, 51.1666374206543, 87.87467956542969, 211.5253448486328, 415.6887512207031, 171.5006866455078, 321.0172424316406, 397.4015197753906, 188.39730834960938, 46.799861907958984, 46.31318283081055, 40.70164108276367, 39.56003189086914, 39.350868225097656, 34.717472076416016, 30.8592529296875, 29.725446701049805, 27.360244750976562, 26.204078674316406, 24.253246307373047, 22.39409065246582, 21.432292938232422, 18.124094009399414, 17.783647537231445, 17.326086044311523, 17.104263305664062, 15.18783950805664, 14.054824829101562, 29.044557571411133, 12.310288429260254, 35.20323944091797, 44.5933952331543, 51.208255767822266, 201.78103637695312, 46.35112762451172, 24.479938507080078, 51.056175231933594, 67.50977325439453, 102.06239318847656, 46.99517822265625, 408.0942077636719, 112.03738403320312, 57.78748321533203, 163.4415283203125, 363.84100341796875, 72.9353256225586, 156.66648864746094, 293.1685485839844, 195.64007568359375, 131.9883575439453, 138.04022216796875, 103.81232452392578, 65.71995544433594, 64.54485321044922, 60.23701858520508, 45.703060150146484, 39.61343765258789, 38.68488311767578, 37.55988311767578, 37.38041305541992, 35.517642974853516, 33.984832763671875, 29.609853744506836, 29.273210525512695, 21.999677658081055, 20.69648551940918, 12.23430347442627, 25.282737731933594, 42.022701263427734, 115.08953094482422, 28.30837059020996, 22.763185501098633, 36.656593322753906, 42.73618698120117, 26.03455352783203, 103.90225219726562, 54.81208419799805, 80.68899536132812, 91.76998901367188, 35.6745491027832, 15.2212553024292, 85.66056060791016, 122.23545837402344, 129.26596069335938, 172.93080139160156, 878.97216796875, 141.16773986816406, 428.6046142578125, 471.9476318359375, 164.2885284423828, 521.9459228515625, 161.1279296875, 69.34825134277344, 59.591590881347656, 51.568450927734375, 49.792877197265625, 39.57383728027344, 37.60748291015625, 36.20399475097656, 36.050025939941406, 31.738134384155273, 30.68009376525879, 28.665010452270508, 28.427919387817383, 135.31497192382812, 26.042678833007812, 25.802780151367188, 23.952329635620117, 22.690568923950195, 19.55767059326172, 19.461475372314453, 18.133943557739258, 17.76873779296875, 17.251489639282227, 42.14502716064453, 14.548843383789062, 11.881414413452148, 32.65575408935547, 118.84190368652344, 15.695571899414062, 68.34146118164062, 180.10693359375, 55.881439208984375, 53.31599044799805, 30.752084732055664, 95.49626159667969, 242.51528930664062, 71.33634948730469, 57.323081970214844, 55.728981018066406, 42.95232391357422, 41.30323028564453, 41.30112075805664, 33.360111236572266, 32.02787399291992, 31.664613723754883, 31.65635108947754, 31.27830696105957, 31.23651123046875, 31.014476776123047, 29.101375579833984, 29.00575065612793, 28.05419921875, 27.315109252929688, 26.26317596435547, 25.92642593383789, 23.149904251098633, 22.624370574951172, 42.16313552856445, 18.838497161865234, 18.41884994506836, 17.340042114257812, 17.31383514404297, 16.59007453918457, 11.032964706420898, 34.30812072753906, 31.58260154724121, 37.17961883544922, 56.60092544555664, 29.642879486083984, 74.47053527832031, 34.27157974243164, 138.04022216796875, 81.89453887939453, 67.79019927978516, 148.8157196044922, 150.2742919921875, 71.44023895263672, 57.03639221191406, 21.11940574645996, 20.580656051635742, 20.512042999267578, 20.461936950683594, 20.206745147705078, 19.03060531616211, 16.941120147705078, 16.747270584106445, 12.430204391479492, 11.587713241577148, 440.11798095703125, 21.03927993774414, 41.75841522216797, 64.01007080078125, 59.858604431152344, 65.24409484863281, 24.241361618041992, 41.13966369628906, 25.1190185546875, 94.42571258544922, 37.897621154785156, 66.26367950439453, 26.452041625976562, 36.5521125793457, 20.668861389160156, 67.50977325439453, 91.76998901367188, 244.30221557617188, 363.84100341796875, 521.9459228515625, 415.07000732421875, 318.888427734375, 81.65794372558594, 57.53361129760742, 50.98502731323242, 41.88545608520508, 41.75423812866211, 39.40558624267578, 37.748775482177734, 37.36381530761719, 36.89380645751953, 34.54094314575195, 32.746463775634766, 29.829076766967773, 29.220949172973633, 28.31849479675293, 24.519041061401367, 22.22690200805664, 17.435598373413086, 15.982763290405273, 15.967683792114258, 116.0490493774414, 84.8144760131836, 17.240699768066406, 35.82216262817383, 85.57315063476562, 26.05536460876465, 49.42408752441406, 65.26593780517578, 29.4503231048584, 55.393489837646484, 15.400344848632812, 65.69123840332031, 162.2781982421875, 225.58132934570312, 144.94374084472656, 75.39485931396484, 56.13298797607422, 26.419754028320312, 22.180620193481445, 18.969478607177734, 17.480886459350586, 138.44728088378906, 24.485626220703125, 141.44662475585938, 15.788339614868164, 51.30900573730469, 55.900001525878906, 76.57813262939453, 73.01226043701172, 86.92015075683594, 23.687713623046875, 85.57315063476562, 220.7845001220703, 73.63719940185547, 1.1145656108856201, 1.1146355867385864, 1.1145700216293335, 1.1145552396774292, 1.114535927772522, 1.1145647764205933, 1.1145304441452026, 1.1145557165145874, 1.114551067352295, 1.1145738363265991, 409.2001953125, 15.287009239196777, 1.1145825386047363, 1.1148583889007568, 1.1146087646484375, 1.1146138906478882, 1.114846110343933, 20.139307022094727, 1.1147511005401611, 361.543701171875, 90.09823608398438, 68.58960723876953], \"loglift\": [30.0, 29.0, 28.0, 27.0, 26.0, 25.0, 24.0, 23.0, 22.0, 21.0, 20.0, 19.0, 18.0, 17.0, 16.0, 15.0, 14.0, 13.0, 12.0, 11.0, 10.0, 9.0, 8.0, 7.0, 6.0, 5.0, 4.0, 3.0, 2.0, 1.0, 1.9982000589370728, 1.9944000244140625, 1.9931999444961548, 1.9931000471115112, 1.9930000305175781, 1.992300033569336, 1.9895000457763672, 1.9891999959945679, 1.9881999492645264, 1.9880000352859497, 1.9880000352859497, 1.9875999689102173, 1.9852999448776245, 1.9846999645233154, 1.9837000370025635, 1.9829000234603882, 1.982699990272522, 1.9803999662399292, 1.9799000024795532, 1.9780999422073364, 1.9767999649047852, 1.976699948310852, 1.9766000509262085, 1.9766000509262085, 1.9753999710083008, 1.975100040435791, 1.9742000102996826, 1.9738999605178833, 1.972599983215332, 1.972599983215332, 1.9629000425338745, 1.9522000551223755, 1.9603999853134155, 1.9593000411987305, 1.7704999446868896, 1.8727999925613403, 1.7668999433517456, 1.7267999649047852, 1.6475000381469727, 1.7383999824523926, 1.4747999906539917, 1.656599998474121, 1.5394999980926514, 1.0895999670028687, 1.142300009727478, 1.1549999713897705, 1.4535000324249268, 1.2263000011444092, 1.6567000150680542, 0.9289000034332275, 0.5277000069618225, 0.39419999718666077, 0.7721999883651733, 1.1526000499725342, 0.8447999954223633, 2.021699905395508, 2.0185000896453857, 2.0179998874664307, 2.0171000957489014, 2.0164999961853027, 2.0162999629974365, 2.0157999992370605, 2.014699935913086, 2.0143001079559326, 2.0141000747680664, 2.0139999389648438, 2.0136001110076904, 2.0132999420166016, 2.0123000144958496, 2.01200008392334, 2.0113000869750977, 2.0100998878479004, 2.009500026702881, 2.009399890899658, 2.0092999935150146, 2.0090999603271484, 2.007699966430664, 2.0071001052856445, 2.0071001052856445, 2.006999969482422, 2.006700038909912, 2.006700038909912, 2.0060999393463135, 2.0055999755859375, 2.0044000148773193, 1.9634000062942505, 1.8911999464035034, 1.9193999767303467, 1.9357000589370728, 1.8875000476837158, 1.8529000282287598, 1.9213999509811401, 1.7232999801635742, 1.6614999771118164, 1.7833000421524048, 1.92739999294281, 1.5908000469207764, 1.848099946975708, 1.5276999473571777, 1.3863999843597412, 1.4199999570846558, 1.0964000225067139, 1.545799970626831, 1.361799955368042, 1.430899977684021, 0.8729000091552734, 1.6850999593734741, 1.158400058746338, 0.7357000112533569, 1.0758999586105347, 1.044800043106079, 0.7698000073432922, 1.1145999431610107, 1.3193999528884888, 0.6069999933242798, 2.324199914932251, 2.3236000537872314, 2.3194000720977783, 2.315999984741211, 2.3157999515533447, 2.313999891281128, 2.313499927520752, 2.3118999004364014, 2.311199903488159, 2.311000108718872, 2.310699939727783, 2.308799982070923, 2.3085999488830566, 2.3083999156951904, 2.30649995803833, 2.30649995803833, 2.3043999671936035, 2.3034000396728516, 2.302299976348877, 2.2999000549316406, 2.2992000579833984, 2.299099922180176, 2.298799991607666, 2.2980000972747803, 2.2980000972747803, 2.2978999614715576, 2.2978999614715576, 2.296099901199341, 2.2955000400543213, 2.295099973678589, 2.283099889755249, 2.271699905395508, 2.027400016784668, 2.2265000343322754, 2.1238999366760254, 2.1963000297546387, 2.0387001037597656, 2.092600107192993, 1.993499994277954, 2.155900001525879, 2.179800033569336, 1.8044999837875366, 1.8875000476837158, 1.8695000410079956, 1.4710999727249146, 1.6746000051498413, 1.6794999837875366, 1.6172000169754028, 2.0411999225616455, 1.1181999444961548, 1.1267999410629272, 1.4529000520706177, 1.4227999448776245, 1.455399990081787, 1.687399983406067, 1.3997000455856323, 0.7200000286102295, 1.0565999746322632, 0.29409998655319214, 2.6233999729156494, 2.61899995803833, 2.6178998947143555, 2.6177000999450684, 2.617500066757202, 2.6171000003814697, 2.6168999671936035, 2.6166999340057373, 2.6164000034332275, 2.6164000034332275, 2.614799976348877, 2.6143999099731445, 2.6138999462127686, 2.6126999855041504, 2.6112000942230225, 2.61080002784729, 2.610300064086914, 2.6098999977111816, 2.6071999073028564, 2.606100082397461, 2.6043999195098877, 2.6043999195098877, 2.6041998863220215, 2.6041998863220215, 2.603600025177002, 2.602799892425537, 2.6006999015808105, 2.598299980163574, 2.5961999893188477, 2.5957000255584717, 2.5652999877929688, 2.5717999935150146, 2.4704999923706055, 2.5511999130249023, 2.494499921798706, 2.4591000080108643, 2.482300043106079, 2.4655001163482666, 2.407399892807007, 1.9947999715805054, 1.8983999490737915, 2.2822000980377197, 1.6894999742507935, 1.81659996509552, 1.914199948310852, 2.1658999919891357, 2.0764999389648438, 1.8384000062942505, 1.6252000331878662, 1.292199969291687, 1.8991999626159668, 0.8461999893188477, 1.404099941253662, 1.1536999940872192, 1.7918000221252441, 1.1013000011444092, 2.6728999614715576, 2.671099901199341, 2.6707000732421875, 2.6693999767303467, 2.669300079345703, 2.6689000129699707, 2.6673998832702637, 2.6672000885009766, 2.667099952697754, 2.667099952697754, 2.6603000164031982, 2.655400037765503, 2.654400110244751, 2.650599956512451, 2.6500000953674316, 2.6496999263763428, 2.6493000984191895, 2.647900104522705, 2.6468000411987305, 2.641900062561035, 2.6340999603271484, 2.6338999271392822, 2.6310999393463135, 2.6289000511169434, 2.6249001026153564, 2.624000072479248, 2.6226000785827637, 2.621500015258789, 2.619800090789795, 2.6182000637054443, 2.575900077819824, 2.550600051879883, 2.2894999980926514, 2.3956000804901123, 2.4570000171661377, 2.0961999893188477, 2.446899890899658, 2.3940999507904053, 1.8681999444961548, 1.6331000328063965, 1.0858999490737915, 1.9509999752044678, 2.0553998947143555, 0.7717000246047974, 1.8147000074386597, 1.103600025177002, 1.6960999965667725, 1.395300030708313, 2.8064000606536865, 2.8064000606536865, 2.802500009536743, 2.8022000789642334, 2.8018999099731445, 2.799799919128418, 2.7988998889923096, 2.7988998889923096, 2.7983999252319336, 2.7959001064300537, 2.7943999767303467, 2.794100046157837, 2.7929999828338623, 2.7922000885009766, 2.7920000553131104, 2.791800022125244, 2.7915000915527344, 2.7915000915527344, 2.789900064468384, 2.789299964904785, 2.7885000705718994, 2.788100004196167, 2.7878000736236572, 2.787600040435791, 2.7873001098632812, 2.78439998626709, 2.7834999561309814, 2.783400058746338, 2.781100034713745, 2.780400037765503, 2.7390999794006348, 2.7655999660491943, 2.711400032043457, 2.6349000930786133, 2.7132999897003174, 2.6466000080108643, 2.3278000354766846, 2.666100025177002, 2.6184000968933105, 2.3673999309539795, 2.2960000038146973, 2.2304000854492188, 2.1830999851226807, 2.033400058746338, 2.5485999584198, 2.487600088119507, 1.933899998664856, 2.1394999027252197, 1.8868999481201172, 2.0304999351501465, 1.9515999555587769, 1.340999960899353, 0.8701000213623047, 1.5537999868392944, 1.1318999528884888, 1.9572999477386475, 1.4660999774932861, 2.848099946975708, 2.846400022506714, 2.842900037765503, 2.837899923324585, 2.837399959564209, 2.8368000984191895, 2.8359999656677246, 2.835200071334839, 2.835099935531616, 2.834199905395508, 2.8320999145507812, 2.8320000171661377, 2.8315999507904053, 2.8308000564575195, 2.828200101852417, 2.8278000354766846, 2.8266000747680664, 2.8262999057769775, 2.8254001140594482, 2.8250999450683594, 2.824700117111206, 2.824199914932251, 2.8236000537872314, 2.823499917984009, 2.8227999210357666, 2.822499990463257, 2.8208999633789062, 2.819999933242798, 2.8197999000549316, 2.8189001083374023, 2.6875998973846436, 2.6928000450134277, 2.720900058746338, 2.6103999614715576, 2.4137001037597656, 2.61299991607666, 2.4702999591827393, 2.5815999507904053, 2.1707000732421875, 1.8939000368118286, 2.3903000354766846, 2.1640000343322754, 1.7001999616622925, 2.4865000247955322, 2.101599931716919, 2.325200080871582, 1.517699956893921, 1.2532000541687012, 1.1237000226974487, 0.9455999732017517, 2.0285000801086426, 0.38960000872612, 1.0370999574661255, 1.2086999416351318, 0.9814000129699707, 2.8499999046325684, 2.8469998836517334, 2.8461999893188477, 2.845900058746338, 2.8438000679016113, 2.8434998989105225, 2.8433001041412354, 2.8429999351501465, 2.8408000469207764, 2.8408000469207764, 2.8401999473571777, 2.8394999504089355, 2.838900089263916, 2.8369998931884766, 2.83489990234375, 2.8340001106262207, 2.8334999084472656, 2.831700086593628, 2.830399990081787, 2.8278000354766846, 2.8248000144958496, 2.823899984359741, 2.8236000537872314, 2.8183999061584473, 2.8176000118255615, 2.8153998851776123, 2.8143999576568604, 2.8129000663757324, 2.811500072479248, 2.811199903488159, 2.794100046157837, 2.771399974822998, 2.738300085067749, 2.629300117492676, 2.737600088119507, 2.6914000511169434, 2.5622000694274902, 2.498800039291382, 2.572700023651123, 2.339400053024292, 2.3622000217437744, 2.206199884414673, 2.1991000175476074, 2.2688000202178955, 1.6476999521255493, 1.5605000257492065, 2.1875998973846436, 1.5884000062942505, 1.281999945640564, 2.9655001163482666, 2.9611001014709473, 2.9595999717712402, 2.9595000743865967, 2.957900047302246, 2.957200050354004, 2.9565000534057617, 2.9563000202178955, 2.9558000564575195, 2.9539999961853027, 2.9530999660491943, 2.9523000717163086, 2.9514999389648438, 2.9514000415802, 2.9507999420166016, 2.950000047683716, 2.949899911880493, 2.9498000144958496, 2.949399948120117, 2.9453999996185303, 2.9442999362945557, 2.944200038909912, 2.944200038909912, 2.9403998851776123, 2.9398999214172363, 2.9391000270843506, 2.935800075531006, 2.9354000091552734, 2.9328999519348145, 2.93149995803833, 2.931299924850464, 2.8684000968933105, 2.7342000007629395, 2.7425999641418457, 2.6953001022338867, 2.6465001106262207, 2.6117000579833984, 2.744499921798706, 2.714200019836426, 2.5750999450683594, 2.252000093460083, 2.3828999996185303, 2.3584001064300537, 1.9645999670028687, 1.916700005531311, 1.3070000410079956, 2.1419999599456787, 2.9888999462127686, 2.9828999042510986, 2.982800006866455, 2.980299949645996, 2.978300094604492, 2.9772000312805176, 2.9748001098632812, 2.9730000495910645, 2.9721999168395996, 2.971299886703491, 2.9711999893188477, 2.969899892807007, 2.9695000648498535, 2.9690001010894775, 2.9690001010894775, 2.968100070953369, 2.9679999351501465, 2.9679999351501465, 2.9651999473571777, 2.9647998809814453, 2.9647998809814453, 2.964400053024292, 2.9632999897003174, 2.9632999897003174, 2.9626998901367188, 2.962599992752075, 2.962399959564209, 2.962100028991699, 2.960900068283081, 2.960099935531616, 2.936199903488159, 2.7971999645233154, 2.84689998626709, 2.41510009765625, 2.8166000843048096, 2.3708999156951904, 1.979200005531311, 2.5137999057769775, 1.646299958229065, 2.1064000129699707, 2.670300006866455, 0.8723000288009644, 1.3480000495910645, 1.3351999521255493, 0.6317999958992004, 2.211400032043457, 2.341200113296509, 3.066499948501587, 3.0650999546051025, 3.0634000301361084, 3.0627999305725098, 3.059299945831299, 3.0583999156951904, 3.055299997329712, 3.0541000366210938, 3.0534000396728516, 3.0524001121520996, 3.051300048828125, 3.05049991607666, 3.050299882888794, 3.050100088119507, 3.0490000247955322, 3.048099994659424, 3.046099901199341, 3.0457000732421875, 3.0452001094818115, 3.0445001125335693, 3.0415000915527344, 3.0411999225616455, 3.039799928665161, 3.035799980163574, 3.0348000526428223, 3.0339999198913574, 3.0327999591827393, 3.027600049972534, 3.026900053024292, 3.0257999897003174, 2.891400098800659, 2.863600015640259, 2.8905999660491943, 2.841200113296509, 2.816999912261963, 2.48580002784729, 2.4030001163482666, 1.9842000007629395, 2.7232000827789307, 1.736899971961975, 2.154400110244751, 2.650899887084961, 2.0573999881744385, 2.506500005722046, 2.212899923324585, 1.9372999668121338, 2.1345999240875244, 3.1112000942230225, 3.109800100326538, 3.1080000400543213, 3.1073999404907227, 3.105600118637085, 3.1050000190734863, 3.104300022125244, 3.1029000282287598, 3.10260009765625, 3.102299928665161, 3.101799964904785, 3.1013998985290527, 3.0931999683380127, 3.0908000469207764, 3.089099884033203, 3.087599992752075, 3.0861001014709473, 3.084399938583374, 3.0841000080108643, 3.083899974822998, 3.0838000774383545, 3.082200050354004, 3.0799999237060547, 3.078000068664551, 3.0759999752044678, 3.0743000507354736, 3.07069993019104, 3.068700075149536, 3.0641000270843506, 3.0636000633239746, 3.059499979019165, 2.918800115585327, 3.0018999576568604, 2.8657000064849854, 2.6756999492645264, 2.49180006980896, 2.86929988861084, 2.851599931716919, 2.4809999465942383, 2.2839999198913574, 1.7556999921798706, 2.546299934387207, 2.8376998901367188, 2.2458999156951904, 1.4329999685287476, 1.4256999492645264, 1.5931999683380127, 1.598099946975708, 2.4691998958587646, 1.8949999809265137, 0.699400007724762, 1.895799994468689, 3.497999906539917, 3.496500015258789, 3.4958999156951904, 3.4911000728607178, 3.490299940109253, 3.4897000789642334, 3.4890999794006348, 3.4879000186920166, 3.478800058364868, 3.47760009765625, 3.4758999347686768, 3.475399971008301, 3.4748001098632812, 3.4691998958587646, 3.4686999320983887, 3.468400001525879, 3.467600107192993, 3.4667000770568848, 3.4667000770568848, 3.455199956893921, 3.452399969100952, 3.436800003051758, 3.433799982070923, 3.427299976348877, 3.417799949645996, 3.373800039291382, 3.312299966812134, 3.3010001182556152, 3.2481000423431396, 3.2434000968933105, 3.2170000076293945, 3.131999969482422, 2.8232998847961426, 3.213200092315674, 2.9444000720977783, 3.231800079345703, 2.545799970626831, 2.1061999797821045, 2.7437000274658203, 2.047600030899048, 3.0801000595092773, 2.713900089263916, 2.0752999782562256, 1.434999942779541, 2.1059999465942383, 1.5645999908447266, 1.2496000528335571, 3.8712000846862793, 3.8536999225616455, 3.8534998893737793, 3.8501999378204346, 3.8494999408721924, 3.849299907684326, 3.845599889755249, 3.841599941253662, 3.8401999473571777, 3.8369998931884766, 3.835200071334839, 3.8317999839782715, 3.827899932861328, 3.825700044631958, 3.815999984741211, 3.8148000240325928, 3.8131000995635986, 3.812299966812134, 3.803800106048584, 3.7976999282836914, 3.7871999740600586, 3.785900115966797, 3.772700071334839, 3.7567999362945557, 3.7446000576019287, 3.725800037384033, 3.701900005340576, 3.65910005569458, 3.6196000576019287, 3.6196000576019287, 3.5344998836517334, 3.5869998931884766, 3.2332000732421875, 3.3424999713897705, 3.3947999477386475, 3.0304999351501465, 2.417799949645996, 3.162600040435791, 2.6651999950408936, 2.2888998985290527, 2.363600015640259, 2.6138999462127686, 2.402100086212158, 4.036200046539307, 4.030300140380859, 4.03000020980835, 4.028800010681152, 4.023099899291992, 4.019499778747559, 4.018899917602539, 4.01800012588501, 4.017899990081787, 4.01639986038208, 4.014999866485596, 4.010300159454346, 4.009900093078613, 3.997499942779541, 3.9944000244140625, 3.9567999839782715, 3.942500114440918, 3.910900115966797, 3.8868000507354736, 3.848400115966797, 3.791800022125244, 3.761899948120117, 3.6786000728607178, 3.676500082015991, 3.5820000171661377, 3.522200107574463, 3.430999994277954, 3.4066998958587646, 3.364000082015991, 3.3480000495910645, 3.022599935531616, 2.9179000854492188, 2.9005000591278076, 2.734600067138672, 1.645900011062622, 2.6236000061035156, 1.5879000425338745, 1.4681999683380127, 2.3229000568389893, 1.2345999479293823, 4.215000152587891, 4.206200122833252, 4.203700065612793, 4.200900077819824, 4.200099945068359, 4.194499969482422, 4.1930999755859375, 4.191999912261963, 4.19189977645874, 4.18779993057251, 4.186600208282471, 4.184100151062012, 4.183700084686279, 4.183499813079834, 4.180200099945068, 4.179800033569336, 4.176499843597412, 4.173999786376953, 4.166100025177002, 4.165800094604492, 4.161600112915039, 4.160399913787842, 4.1585001945495605, 4.1519999504089355, 4.146299839019775, 4.128600120544434, 4.109499931335449, 4.020500183105469, 3.9670000076293945, 3.90939998626709, 3.884999990463257, 3.65910005569458, 3.565200090408325, 3.749000072479248, 2.9296998977661133, 2.015199899673462, 4.2778000831604, 4.274099826812744, 4.273600101470947, 4.2677998542785645, 4.2667999267578125, 4.2667999267578125, 4.260499954223633, 4.259200096130371, 4.258800029754639, 4.258800029754639, 4.258399963378906, 4.258299827575684, 4.2581000328063965, 4.25570011138916, 4.2555999755859375, 4.254300117492676, 4.253300189971924, 4.2515997886657715, 4.251100063323975, 4.245999813079834, 4.244900226593018, 4.236800193786621, 4.235000133514404, 4.23360013961792, 4.229800224304199, 4.229700088500977, 4.226900100708008, 4.19189977645874, 4.16510009765625, 4.122499942779541, 4.094699859619141, 4.028200149536133, 4.09499979019165, 3.8452999591827393, 4.028600215911865, 3.2318999767303467, 3.322200059890747, 3.4367001056671143, 2.6552999019622803, 4.446199893951416, 4.438199996948242, 4.4344000816345215, 4.401100158691406, 4.399700164794922, 4.399499893188477, 4.399400234222412, 4.39870023727417, 4.395199775695801, 4.387800216674805, 4.38700008392334, 4.3628997802734375, 4.355999946594238, 4.259500026702881, 4.178699970245361, 4.080900192260742, 3.9426000118255615, 3.8710999488830566, 3.8675999641418457, 3.857100009918213, 3.850399971008301, 3.781599998474121, 3.7551000118255615, 3.5627999305725098, 3.5190000534057617, 3.2850000858306885, 3.170799970626831, 3.0729000568389893, 2.900399923324585, 2.5850000381469727, 2.3501999378204346, 2.108599901199341, 1.8837000131607056, 1.7165000438690186, 1.2905999422073364, 4.523499965667725, 4.51800012588501, 4.515600204467773, 4.511000156402588, 4.510900020599365, 4.509300231933594, 4.5081000328063965, 4.507800102233887, 4.507400035858154, 4.50540018081665, 4.503699779510498, 4.500400066375732, 4.499599933624268, 4.4984002113342285, 4.492400169372559, 4.48769998550415, 4.473899841308594, 4.4679999351501465, 4.467899799346924, 4.457200050354004, 4.333399772644043, 4.209499835968018, 4.120299816131592, 4.043600082397461, 4.020599842071533, 3.928499937057495, 3.9260001182556152, 3.8229000568389893, 3.8039000034332275, 3.7844998836517334, 3.584700107574463, 2.3980000019073486, 4.709099769592285, 4.706399917602539, 4.6996002197265625, 4.694799900054932, 4.672900199890137, 4.664999961853027, 4.656400203704834, 4.651400089263916, 4.531199932098389, 4.267300128936768, 4.050600051879883, 4.004700183868408, 3.9693000316619873, 3.933300018310547, 3.676800012588501, 3.6677000522613525, 3.5297000408172607, 3.271699905395508, 2.7151999473571777, 2.001499891281128, 1.8324999809265137, 1.7588000297546387, 1.7588000297546387, 1.7587000131607056, 1.7587000131607056, 1.7587000131607056, 1.7587000131607056, 1.7587000131607056, 1.7587000131607056, 1.7587000131607056, 1.7587000131607056, 1.5822999477386475, 1.5575000047683716, 1.7587000131607056, 1.7585999965667725, 1.7587000131607056, 1.7587000131607056, 1.7585999965667725, -0.30790001153945923, 1.7585999965667725, -2.5773000717163086, -2.1236000061035156, -2.36080002784729], \"logprob\": [30.0, 29.0, 28.0, 27.0, 26.0, 25.0, 24.0, 23.0, 22.0, 21.0, 20.0, 19.0, 18.0, 17.0, 16.0, 15.0, 14.0, 13.0, 12.0, 11.0, 10.0, 9.0, 8.0, 7.0, 6.0, 5.0, 4.0, 3.0, 2.0, 1.0, -3.1982998847961426, -4.438300132751465, -4.630099773406982, -4.646699905395508, -4.656300067901611, -4.757699966430664, -5.077400207519531, -5.105000019073486, -5.202199935913086, -5.216800212860107, -5.217700004577637, -5.252600193023682, -5.425000190734863, -5.4654998779296875, -5.5304999351501465, -5.5742998123168945, -5.588099956512451, -5.714000225067139, -5.7434000968933105, -5.830999851226807, -5.889100074768066, -5.890999794006348, -5.896699905395508, -5.896900177001953, -5.946000099182129, -5.958499908447266, -5.996500015258789, -6.0081000328063965, -6.056300163269043, -6.059299945831299, -5.033899784088135, -4.65939998626709, -5.575399875640869, -5.584700107574463, -3.128999948501587, -4.904799938201904, -4.263299942016602, -4.439899921417236, -4.049200057983398, -4.778800010681152, -4.207600116729736, -5.171599864959717, -5.014100074768066, -4.363800048828125, -4.563799858093262, -4.59499979019165, -4.946400165557861, -4.839399814605713, -5.241000175476074, -4.879799842834473, -4.772200107574463, -4.809000015258789, -5.082300186157227, -5.1265997886657715, -5.142600059509277, -4.70550012588501, -5.0725998878479, -5.116499900817871, -5.193399906158447, -5.24370002746582, -5.265399932861328, -5.298299789428711, -5.378900051116943, -5.407400131225586, -5.426000118255615, -5.430300235748291, -5.4542999267578125, -5.472300052642822, -5.5355000495910645, -5.552700042724609, -5.598800182342529, -5.662600040435791, -5.695700168609619, -5.6992998123168945, -5.702300071716309, -5.716700077056885, -5.7845001220703125, -5.811800003051758, -5.811800003051758, -5.8144001960754395, -5.828000068664551, -5.8308000564575195, -5.856100082397461, -5.877399921417236, -5.929500102996826, -5.065400123596191, -4.08050012588501, -4.733399868011475, -4.946800231933594, -4.536900043487549, -4.262199878692627, -5.0065999031066895, -3.363100051879883, -3.7200000286102295, -4.644000053405762, -5.320899963378906, -3.807800054550171, -5.106200218200684, -4.198299884796143, -4.167699813842773, -4.295000076293945, -3.836899995803833, -4.768199920654297, -4.608699798583984, -4.8125, -4.344799995422363, -5.213900089263916, -4.943900108337402, -4.797900199890137, -5.010000228881836, -5.003600120544434, -4.940899848937988, -5.038599967956543, -5.092400074005127, -5.07390022277832, -3.692699909210205, -3.8533999919891357, -4.556099891662598, -4.900100231170654, -4.914000034332275, -5.055099964141846, -5.092100143432617, -5.203400135040283, -4.51609992980957, -5.259500026702881, -4.908400058746338, -5.383699893951416, -5.394999980926514, -5.403600215911865, -5.497600078582764, -4.670100212097168, -5.595300197601318, -5.63640022277832, -5.682300090789795, -5.774400234222412, -5.799200057983398, -5.802299976348877, -5.813799858093262, -5.840099811553955, -5.840700149536133, -5.842599868774414, -5.843999862670898, -5.902500152587891, -5.923600196838379, -5.933700084686279, -5.27810001373291, -5.229000091552734, -2.9047999382019043, -5.234000205993652, -4.485400199890137, -5.087200164794922, -4.0980000495910645, -4.637899875640869, -4.337200164794922, -5.244999885559082, -5.362299919128418, -4.120100021362305, -4.502200126647949, -4.501999855041504, -3.798799991607666, -4.529399871826172, -4.599699974060059, -4.778200149536133, -5.169600009918213, -4.532199859619141, -4.578000068664551, -4.814300060272217, -4.8206000328063965, -4.858399868011475, -4.996300220489502, -4.900199890136719, -4.882400035858154, -4.991700172424316, -5.005799770355225, -4.323699951171875, -4.722099781036377, -4.2718000411987305, -4.817299842834473, -4.833499908447266, -4.857800006866455, -4.870200157165527, -4.883999824523926, -4.904699802398682, -4.903299808502197, -4.999300003051758, -5.021399974822998, -5.052700042724609, -5.114099979400635, -5.191199779510498, -5.210599899291992, -5.230599880218506, -5.250999927520752, -5.364200115203857, -5.407299995422363, -5.472899913787842, -5.473100185394287, -5.478799819946289, -5.480500221252441, -5.500899791717529, -5.527400016784668, -5.596700191497803, -5.671000003814697, -5.731800079345703, -5.747700214385986, -3.865499973297119, -5.065100193023682, -3.4614999294281006, -4.940700054168701, -4.464700222015381, -4.195899963378906, -4.779099941253662, -4.95550012588501, -4.922999858856201, -3.9512999057769775, -3.752000093460083, -4.678500175476074, -3.6103999614715576, -3.888200044631958, -4.235599994659424, -4.603099822998047, -4.525100231170654, -4.554800033569336, -4.4405999183654785, -4.241399765014648, -4.64870023727417, -4.085999965667725, -4.518700122833252, -4.65500020980835, -4.810800075531006, -4.886199951171875, -3.1666998863220215, -3.1796000003814697, -3.806299924850464, -4.020899772644043, -2.523400068283081, -4.085000038146973, -4.270500183105469, -4.302299976348877, -4.304100036621094, -2.364500045776367, -4.8643999099731445, -5.133399963378906, -5.180200099945068, -5.341599941253662, -5.362599849700928, -5.3755998611450195, -5.389800071716309, -5.442399978637695, -5.4028000831604, -5.636499881744385, -5.843299865722656, -5.848899841308594, -5.913899898529053, -5.9629998207092285, -6.045300006866455, -6.064000129699707, -3.0553998947143555, -6.111599922180176, -6.142300128936768, -6.1722002029418945, -4.813199996948242, -5.065100193023682, -2.648200035095215, -3.744499921798706, -4.832300186157227, -3.1068999767303467, -5.082600116729736, -4.948400020599365, -3.9523000717163086, -4.066299915313721, -3.813499927520752, -4.828800201416016, -5.076300144195557, -4.681700229644775, -5.074699878692627, -4.8379998207092285, -5.036499977111816, -4.997900009155273, -4.0040998458862305, -4.04040002822876, -4.421599864959717, -4.451600074768066, -4.475800037384033, -4.62529993057251, -4.684599876403809, -4.680200099945068, -4.717299938201904, -4.861000061035156, -4.9421000480651855, -4.9558000564575195, -5.007999897003174, -5.042099952697754, -5.051400184631348, -5.060999870300293, -5.073200225830078, -5.075500011444092, -5.1427001953125, -5.169099807739258, -5.19890022277832, -5.214799880981445, -5.223899841308594, -5.231500148773193, -5.245100021362305, -5.347099781036377, -5.376399993896484, -5.378200054168701, -5.450399875640869, -5.471499919891357, -3.3041000366210938, -4.7453999519348145, -4.314799785614014, -3.304500102996826, -4.664299964904785, -4.406700134277344, -3.614300012588501, -4.82889986038208, -4.718200206756592, -4.022200107574463, -3.857100009918213, -3.8719000816345215, -3.922600030899048, -3.7808001041412354, -4.690800189971924, -4.603400230407715, -3.8287999629974365, -4.255199909210205, -4.119900226593018, -4.38129997253418, -4.348299980163574, -4.340000152587891, -4.216300010681152, -4.467400074005127, -4.594099998474121, -4.658400058746338, -4.64709997177124, -3.71370005607605, -3.9502999782562256, -4.325799942016602, -4.695700168609619, -4.723700046539307, -4.76039981842041, -4.804100036621094, -4.850200176239014, -4.857699871063232, -4.903600215911865, -5.003699779510498, -5.006700038909912, -5.0243000984191895, -5.06220006942749, -5.166500091552734, -5.183199882507324, -5.227799892425537, -5.239299774169922, -5.270999908447266, -5.281799793243408, -5.295599937438965, -5.310100078582764, -5.3308000564575195, -5.3354997634887695, -5.356800079345703, -5.366600036621094, -5.416800022125244, -5.445099830627441, -5.451000213623047, -5.477700233459473, -3.7267000675201416, -4.532299995422363, -4.734600067138672, -4.627600193023682, -4.111199855804443, -4.778800010681152, -4.489200115203857, -4.950900077819824, -4.328400135040283, -4.076600074768066, -4.724299907684326, -4.457600116729736, -4.108500003814697, -4.949900150299072, -4.671000003814697, -4.8343000411987305, -4.3368000984191895, -4.427700042724609, -4.409900188446045, -4.354300022125244, -4.832200050354004, -4.543700218200684, -4.7129998207092285, -4.732999801635742, -4.839099884033203, -3.6166999340057373, -4.04010009765625, -4.13100004196167, -4.156700134277344, -4.358799934387207, -4.383500099182129, -4.401899814605713, -4.422599792480469, -4.587600231170654, -4.587800025939941, -4.622200012207031, -4.671000003814697, -4.708199977874756, -4.8140997886657715, -4.924099922180176, -4.966400146484375, -4.990799903869629, -5.069399833679199, -5.123199939727783, -5.223999977111816, -5.326700210571289, -5.356500148773193, -5.363699913024902, -5.517199993133545, -5.53980016708374, -5.597099781036377, -5.623000144958496, -5.65910005569458, -5.692200183868408, -5.698200225830078, -3.512500047683716, -4.162600040435791, -3.233599901199341, -2.9732000827789307, -4.521200180053711, -4.198500156402588, -3.8714001178741455, -4.169600009918213, -4.447400093078613, -3.920300006866455, -4.218800067901611, -3.906899929046631, -4.013400077819824, -4.490499973297119, -4.135200023651123, -4.311399936676025, -4.606500148773193, -4.517300128936768, -4.4807000160217285, -3.4030001163482666, -4.024400234222412, -4.174300193786621, -4.180600166320801, -4.318600177764893, -4.371600151062012, -4.423099994659424, -4.4359002113342285, -4.467899799346924, -4.582900047302246, -4.636099815368652, -4.686600208282471, -4.725900173187256, -4.731100082397461, -4.7631001472473145, -4.802199840545654, -4.809199810028076, -4.810999870300293, -4.832499980926514, -5.005300045013428, -5.052199840545654, -5.052299976348877, -5.053800106048584, -5.191800117492676, -4.906899929046631, -5.233699798583984, -5.335999965667725, -5.346499919891357, -3.986799955368042, -5.454500198364258, -3.933300018310547, -3.646199941635132, -3.453900098800659, -3.561800003051758, -3.49180006980896, -3.225399971008301, -3.1712000370025635, -3.973099946975708, -4.30079984664917, -4.083000183105469, -3.454200029373169, -4.175099849700928, -4.189199924468994, -4.085599899291992, -4.090099811553955, -4.389699935913086, -4.617300033569336, -2.1821000576019287, -3.778899908065796, -3.7939999103546143, -4.076000213623047, -4.256800174713135, -4.344299793243408, -4.513000011444092, -4.6255998611450195, -4.669000148773193, -4.72130012512207, -4.724800109863281, -4.791900157928467, -4.809000015258789, -4.832600116729736, -4.833399772644043, -4.875400066375732, -4.879300117492676, -4.88100004196167, -5.000999927520752, -5.017300128936768, -5.017899990081787, -5.031099796295166, -5.073800086975098, -5.074100017547607, -5.096499919891357, -5.098599910736084, -5.107800006866455, -5.116499900817871, -5.159200191497803, -5.149700164794922, -3.6542999744415283, -4.76140022277832, -4.9039998054504395, -4.1875, -4.872900009155273, -4.390100002288818, -3.94350004196167, -4.5971999168396, -3.8071000576019287, -4.584400177001953, -4.867099761962891, -4.065400123596191, -4.4019999504089355, -4.485400199890137, -4.571400165557861, -4.827000141143799, -4.839200019836426, -3.615600109100342, -3.802999973297119, -3.9899001121520996, -4.0457000732421875, -4.3358001708984375, -4.393700122833252, -4.587699890136719, -4.647799968719482, -4.687300205230713, -3.977299928665161, -4.785600185394287, -4.821300029754639, -4.830399990081787, -4.839000225067139, -4.888299942016602, -4.9253997802734375, -4.9994001388549805, -5.0167999267578125, -5.034800052642822, -5.059700012207031, -5.158999919891357, -5.169000148773193, -5.2104997634887695, -5.324399948120117, -5.351799964904785, -5.372499942779541, -5.402699947357178, -5.527900218963623, -5.542399883270264, -5.5655999183654785, -4.485799789428711, -4.5808000564575195, -4.778200149536133, -4.619100093841553, -4.60699987411499, -3.781399965286255, -3.910799980163574, -3.2857000827789307, -4.626999855041504, -3.1963000297546387, -4.105299949645996, -4.732399940490723, -4.307600021362305, -4.703499794006348, -4.581900119781494, -4.4791998863220215, -4.638000011444092, -3.4993999004364014, -3.7363998889923096, -3.9426000118255615, -4.001399993896484, -4.152599811553955, -4.202000141143799, -4.252399921417236, -4.349400043487549, -4.374199867248535, -4.390500068664551, -4.422999858856201, -4.4481000900268555, -4.849800109863281, -4.945300102233887, -5.003799915313721, -5.057600021362305, -5.105500221252441, -5.158400058746338, -5.168499946594238, -5.173799991607666, -5.175899982452393, -5.222499847412109, -5.283100128173828, -5.336400032043457, -5.384300231933594, -5.425099849700928, -5.5065999031066895, -5.549499988555908, -5.6392998695373535, -5.649799823760986, -3.9077999591827393, -3.1559998989105225, -4.540200233459473, -3.1380999088287354, -2.5420000553131104, -3.2190001010894775, -4.766600131988525, -4.882199764251709, -4.274400234222412, -4.215099811553955, -3.9593000411987305, -4.708600044250488, -4.971700191497803, -4.537399768829346, -4.1697001457214355, -4.255300045013428, -4.394100189208984, -4.423099994659424, -4.7657999992370605, -4.70389986038208, -4.69920015335083, -4.761000156402588, -3.4802000522613525, -3.6345999240875244, -3.6909000873565674, -4.03410005569458, -4.084700107574463, -4.118299961090088, -4.15339994430542, -4.216400146484375, -4.604400157928467, -4.645599842071533, -4.702000141143799, -4.716000080108643, -4.7221999168396, -4.897299766540527, -4.911200046539307, -4.917600154876709, -4.937399864196777, -4.962500095367432, -4.962500095367432, -5.21560001373291, -5.268799781799316, -5.526500225067139, -5.569699764251709, -5.65749979019165, -4.281499862670898, -3.90120005607605, -4.235899925231934, -5.283400058746338, -4.2708001136779785, -4.057199954986572, -4.209799766540527, -3.938800096511841, -2.779400110244751, -4.622000217437744, -3.6714000701904297, -4.752600193023682, -3.3963000774383545, -3.2751998901367188, -4.323299884796143, -3.9737000465393066, -4.695700168609619, -4.521100044250488, -4.281300067901611, -4.2459001541137695, -4.460400104522705, -4.374899864196777, -4.476399898529053, -2.6012001037597656, -4.011300086975098, -4.021999835968018, -4.154399871826172, -4.183599948883057, -4.1890997886657715, -4.3180999755859375, -4.439899921417236, -4.478700160980225, -4.564799785614014, -4.609799861907959, -4.6905999183654785, -4.774199962615967, -4.820400238037109, -4.997700214385986, -5.0177998542785645, -5.045599937438965, -5.059299945831299, -5.186600208282471, -5.270299911499023, -4.554900169372559, -5.4145002365112305, -4.377099990844727, -4.156599998474121, -4.030399799346924, -2.6779000759124756, -4.172699928283691, -4.854000091552734, -4.158400058746338, -3.8791000843048096, -3.5508999824523926, -4.273900032043457, -2.466200113296509, -3.6494998931884766, -4.259300231933594, -3.583899974822998, -3.396399974822998, -4.258699893951416, -3.9916000366210938, -3.741300106048584, -4.071000099182129, -4.214300155639648, -4.381199836730957, -3.032099962234497, -3.4951999187469482, -3.5136001110076904, -3.5838000774383545, -3.865600109100342, -4.012199878692627, -4.036600112915039, -4.06689977645874, -4.071899890899658, -4.124499797821045, -4.170000076293945, -4.3125, -4.324399948120117, -4.622399806976318, -4.686600208282471, -5.249899864196777, -4.538300037384033, -4.061800003051758, -3.078399896621704, -4.5192999839782715, -4.794000148773193, -4.347400188446045, -4.277299880981445, -4.775000095367432, -3.4855000972747803, -4.184800148010254, -3.8893001079559326, -3.784899950027466, -4.772500038146973, -5.640200138092041, -4.23799991607666, -3.9870998859405518, -3.948499917984009, -3.8234000205993652, -3.2862000465393066, -4.137400150299072, -4.062399864196777, -4.085899829864502, -4.286399841308594, -4.218800067901611, -2.4137001037597656, -3.265500068664551, -3.4196999073028564, -3.5671000480651855, -3.6029000282287598, -3.838200092315674, -3.8905999660491943, -3.929800033569336, -3.9340999126434326, -4.0655999183654785, -4.1006999015808105, -4.171199798583984, -4.179800033569336, -2.619800090789795, -4.270999908447266, -4.280600070953369, -4.35830020904541, -4.414999961853027, -4.571400165557861, -4.576600074768066, -4.651500225067139, -4.673099994659424, -4.704500198364258, -3.8178000450134277, -4.8871002197265625, -5.1072998046875, -4.1153998374938965, -2.9126999378204346, -4.990499973297119, -3.5769999027252197, -2.6324000358581543, -4.028500080108643, -4.16949987411499, -4.535900115966797, -4.222099781036377, -4.204699993133545, -3.1656999588012695, -3.3880999088287354, -3.416800022125244, -3.683000087738037, -3.7232000827789307, -3.7232000827789307, -3.943000078201294, -3.985100030899048, -3.9969000816345215, -3.9972000122070312, -4.0096001625061035, -4.011000156402588, -4.018400192260742, -4.084400177001953, -4.087800025939941, -4.122499942779541, -4.150199890136719, -4.191100120544434, -4.204599857330322, -4.32289981842041, -4.3470001220703125, -3.732599973678589, -4.54010009765625, -4.563899993896484, -4.6280999183654785, -4.629700183868408, -4.67519998550415, -5.118100166320801, -4.01039981842041, -4.135799884796143, -4.000500202178955, -3.6466000080108643, -4.2266998291015625, -3.5552000999450684, -4.1479997634887695, -3.551500082015991, -3.983299970626831, -4.057799816131592, -4.0528998374938965, -2.25219988822937, -3.0037999153137207, -3.2328999042510986, -4.2596001625061035, -4.286799907684326, -4.29040002822876, -4.292900085449219, -4.30620002746582, -4.36959981918335, -4.4934000968933105, -4.50570011138916, -4.827899932861328, -4.90500020980835, -1.364400029182434, -4.485799789428711, -3.898099899291992, -3.6092000007629395, -3.74780011177063, -3.6651999950408936, -4.665800094604492, -4.143499851226807, -4.705699920654297, -3.4079999923706055, -4.513199806213379, -3.998300075531006, -5.150599956512451, -4.941400051116943, -5.609399795532227, -4.598299980163574, -4.606599807739258, -3.862299919128418, -3.7056000232696533, -3.5696001052856445, -3.9660000801086426, -4.6554999351501465, -2.784899950027466, -3.1405999660491943, -3.2637999057769775, -3.4649999141693115, -3.4681999683380127, -3.5276999473571777, -3.571899890899658, -3.58240008354187, -3.595400094985962, -3.6633999347686768, -3.718400001525879, -3.815000057220459, -3.836400032043457, -3.86899995803833, -4.019100189208984, -4.1219000816345215, -4.378499984741211, -4.471399784088135, -4.472400188446045, -2.4997000694274902, -2.937000036239624, -4.654099941253662, -4.01200008392334, -3.2179999351501465, -4.430099964141846, -3.881999969482422, -3.6064000129699707, -4.505300045013428, -3.8926000595092773, -5.1921000480651855, -3.941200017929077, -4.223599910736084, -1.5831999778747559, -2.02810001373291, -2.688499927520752, -2.9883999824523926, -3.7639000415802, -3.946700096130371, -4.111599922180176, -4.198400020599365, -2.249300003051758, -4.245500087738037, -2.708400011062622, -4.947000026702881, -3.8036999702453613, -3.7541000843048096, -3.6958000659942627, -3.7525999546051025, -3.716200113296509, -5.274199962615967, -4.546299934387207, -4.31220006942749, -5.57919979095459, -9.843700408935547, -9.843600273132324, -9.843700408935547, -9.843700408935547, -9.843799591064453, -9.843700408935547, -9.843799591064453, -9.843799591064453, -9.843799591064453, -9.843700408935547, -4.1143999099731445, -7.426400184631348, -9.843700408935547, -9.843500137329102, -9.843700408935547, -9.843700408935547, -9.843600273132324, -9.01609992980957, -9.843700408935547, -8.39780044555664, -9.333600044250488, -9.843600273132324]}, \"token.table\": {\"Topic\": [8, 7, 10, 14, 7, 9, 12, 18, 1, 5, 5, 6, 10, 18, 2, 8, 13, 6, 5, 9, 12, 1, 3, 7, 9, 14, 4, 14, 7, 14, 11, 10, 2, 5, 1, 2, 4, 7, 8, 9, 11, 2, 6, 10, 11, 13, 3, 4, 3, 17, 15, 17, 2, 6, 8, 2, 6, 13, 14, 16, 11, 13, 17, 12, 2, 12, 15, 13, 4, 10, 1, 3, 8, 2, 19, 12, 17, 6, 6, 14, 19, 11, 14, 3, 4, 5, 10, 12, 19, 12, 16, 1, 2, 2, 5, 6, 8, 11, 12, 13, 12, 15, 13, 3, 8, 3, 10, 4, 5, 18, 12, 9, 8, 11, 16, 10, 1, 3, 4, 7, 9, 11, 12, 13, 9, 1, 20, 1, 20, 7, 5, 10, 2, 8, 9, 9, 7, 2, 19, 3, 15, 18, 3, 11, 15, 16, 13, 1, 7, 4, 1, 2, 11, 1, 2, 3, 4, 5, 9, 5, 10, 1, 5, 9, 10, 1, 3, 5, 10, 11, 15, 1, 17, 1, 7, 6, 6, 1, 5, 7, 13, 14, 3, 5, 2, 13, 2, 14, 1, 3, 7, 11, 2, 6, 8, 14, 3, 4, 5, 6, 19, 20, 10, 18, 2, 11, 13, 12, 3, 5, 1, 16, 1, 1, 3, 1, 2, 3, 4, 5, 7, 10, 1, 10, 4, 3, 4, 7, 12, 14, 15, 17, 16, 1, 2, 6, 7, 12, 13, 1, 2, 4, 5, 7, 8, 10, 11, 14, 17, 14, 11, 4, 5, 8, 7, 5, 20, 13, 1, 3, 4, 1, 3, 4, 10, 11, 15, 5, 5, 10, 15, 10, 6, 2, 2, 5, 14, 19, 14, 10, 8, 9, 10, 6, 9, 9, 13, 2, 5, 5, 4, 6, 8, 15, 4, 20, 1, 5, 8, 9, 10, 15, 17, 9, 8, 8, 1, 3, 4, 5, 7, 9, 10, 12, 13, 15, 3, 11, 6, 3, 5, 3, 10, 11, 9, 7, 5, 1, 2, 3, 5, 7, 8, 11, 8, 1, 2, 3, 3, 18, 1, 3, 4, 7, 8, 10, 15, 3, 4, 5, 7, 7, 1, 2, 4, 9, 11, 2, 13, 9, 8, 9, 8, 8, 12, 4, 16, 12, 1, 4, 12, 15, 2, 18, 6, 15, 3, 2, 6, 8, 12, 13, 14, 1, 2, 6, 7, 8, 11, 19, 18, 11, 2, 12, 13, 2, 3, 5, 11, 3, 4, 12, 14, 13, 2, 6, 12, 13, 2, 6, 12, 13, 3, 3, 3, 4, 6, 13, 13, 6, 10, 7, 17, 8, 8, 11, 16, 7, 7, 2, 3, 4, 5, 7, 8, 9, 10, 11, 15, 4, 18, 4, 7, 13, 2, 7, 17, 8, 1, 2, 3, 15, 2, 16, 9, 19, 1, 3, 8, 6, 13, 11, 16, 11, 2, 3, 4, 5, 11, 12, 13, 2, 3, 10, 20, 2, 3, 10, 11, 12, 13, 15, 17, 11, 4, 4, 1, 3, 5, 10, 15, 18, 15, 16, 4, 1, 1, 10, 8, 15, 4, 18, 20, 2, 4, 7, 11, 17, 6, 5, 17, 5, 17, 2, 11, 6, 11, 5, 3, 2, 2, 6, 16, 9, 20, 7, 10, 20, 20, 10, 2, 8, 2, 6, 13, 6, 10, 14, 4, 15, 17, 1, 2, 5, 6, 10, 14, 16, 1, 2, 6, 7, 12, 14, 3, 4, 5, 15, 3, 4, 12, 2, 7, 11, 11, 9, 18, 1, 1, 4, 6, 8, 9, 9, 4, 18, 10, 2, 4, 14, 1, 3, 7, 8, 5, 5, 9, 1, 6, 13, 14, 2, 2, 2, 12, 11, 14, 7, 10, 12, 4, 6, 3, 4, 10, 8, 9, 1, 3, 10, 5, 18, 18, 17, 13, 3, 7, 2, 7, 14, 3, 15, 2, 8, 6, 8, 1, 3, 4, 7, 8, 10, 1, 3, 7, 11, 6, 19, 2, 8, 11, 11, 9, 5, 8, 16, 8, 15, 1, 7, 9, 10, 20, 1, 2, 5, 14, 7, 17, 15, 5, 12, 14, 17, 2, 8, 3, 2, 11, 9, 4, 4, 4, 19, 6, 6, 4, 12, 10, 1, 5, 6, 9, 10, 1, 2, 9, 10, 13, 17, 4, 5, 19, 1, 3, 4, 9, 13, 8, 13, 5, 3, 8, 12, 15, 13, 14, 1, 2, 3, 4, 7, 10, 11, 15, 1, 1, 7, 6, 6, 13, 14, 2, 3, 8, 10, 11, 15, 18, 19, 16, 17, 16, 17, 16, 2, 16, 9, 19, 2, 12, 1, 14, 1, 7, 8, 8, 6, 7, 8, 15, 5, 11, 4, 1, 8, 9, 1, 6, 8, 1, 2, 3, 4, 7, 8, 9, 12, 18, 15, 16, 9, 4, 5, 9, 10, 15, 17, 9, 10, 4, 12, 4, 19, 6, 1, 7, 14, 8, 12, 2, 20, 16, 2, 7, 4, 5, 3, 17, 15, 7, 2, 3, 6, 10, 12, 13, 17, 2, 10, 19, 10, 14, 4, 19, 16, 19, 1, 7, 8, 16, 1, 3, 4, 5, 7, 16, 2, 19, 1, 3, 4, 7, 8, 11, 2, 14, 10, 10, 1, 18, 1, 14, 11, 3, 1, 4, 2, 5, 3, 1, 2, 3, 3, 4, 18, 1, 11, 13, 16, 17, 17, 6, 11, 4, 6, 8, 11, 2, 5, 12, 13, 15, 8, 9, 2, 6, 8, 9, 8, 10, 4, 1, 2, 5, 7, 10, 14, 15, 16, 16, 5, 10, 10, 5, 9, 10, 15, 18, 1, 2, 5, 10, 17, 3, 14, 1, 11, 7, 2, 12, 13, 3, 5, 15, 5, 3, 5, 15, 3, 11, 20, 13, 2, 4, 10, 11, 3, 3, 6, 8, 12, 9, 6, 13, 13, 9, 1, 10, 3, 14, 16, 4, 17, 3, 20, 19, 1, 3, 4, 5, 5, 1, 5, 2, 12, 13, 2, 6, 1, 2, 1, 2, 3, 7, 11, 9, 11, 19, 18, 1, 8, 3, 18, 7, 17, 3, 11, 20, 4, 3, 4, 6, 6, 1, 3, 16, 3, 16, 10, 3, 14, 18, 1, 4, 10, 1, 3, 4, 6, 13, 19, 14, 15, 17, 12, 12, 12, 5, 19, 11, 1, 5, 1, 4, 1, 3, 5, 7, 20, 14, 11, 11, 12, 2, 12, 13, 2, 13, 1, 17, 1, 15, 5, 9, 20, 5, 1, 12, 2, 12, 13, 17, 20, 2, 11, 12, 17, 9, 1, 4, 5, 10, 6, 15, 14, 10, 17, 11, 4, 1, 1, 3, 8, 9, 9, 9, 8, 9, 4, 6, 17, 18, 18, 8, 8, 9, 11, 1, 14, 1, 1, 3, 1, 2, 12, 7, 2, 6, 16, 2, 6, 12, 13, 15, 1, 5, 1, 5, 1, 3, 15, 1, 1, 1, 4, 15, 1, 3, 7, 8, 12, 8, 11, 11, 18, 1, 4, 15, 5, 8, 15, 12, 1, 6, 1, 2, 3, 4, 5, 7, 9, 11, 2, 10, 12, 14, 19, 7, 14, 17, 2, 5, 10, 3, 14, 11, 8, 14, 2, 6, 1, 10, 15, 11, 16, 6, 1, 7, 8, 6, 6, 6, 8, 9, 1, 2, 4, 5, 7, 9, 11, 13, 7, 15, 16, 2, 7, 8, 11, 12, 4, 19, 1, 13, 12, 12, 13, 8, 13, 16, 10, 15, 2, 9, 12, 12, 6, 1, 9, 16, 1, 5, 11, 15, 2, 1, 11, 10, 18, 2, 17, 10, 12, 2, 3, 10, 1, 3, 7, 1, 3, 18, 3, 19, 3, 8, 3, 8, 3, 7, 7, 3, 8, 2, 4, 7, 13, 19, 1, 2, 6, 8, 13, 14, 18, 9, 1, 7, 11, 16, 11, 7, 19, 16, 1, 12, 2, 6, 8, 9, 8, 2, 20, 3, 8, 11, 3, 4, 15, 3, 1, 3, 4, 16, 14, 3, 4, 18, 6, 15, 10, 4, 7, 11, 17, 14, 5, 15, 18, 1, 2, 7, 9, 11, 12, 8, 10, 11, 1, 9, 6, 5, 18, 5, 12, 1, 3, 6, 7, 1, 7, 11, 13, 13, 13, 13, 12, 10, 19, 1, 2, 3, 6, 7, 8, 9, 18, 11, 3, 3, 4, 14, 3, 6, 10, 10, 4, 12, 12, 12, 9, 3, 12, 19, 1, 9, 10, 17, 19, 18, 19, 10, 3, 14, 10, 16, 2, 7, 2, 20, 20, 7, 17, 1, 3, 4, 5, 10, 1, 11, 3, 7, 4, 5, 20, 17, 8, 2, 1, 3, 6, 8, 13, 1, 8, 11, 1, 16, 6, 7, 1, 7, 9, 3, 9, 5, 9, 1, 15, 15, 7, 15, 19, 18, 1, 3, 4, 10, 6, 2, 16, 7, 5, 5, 2, 4, 8, 9, 16, 13, 7, 7, 14, 16, 18, 19, 1, 5, 11, 12, 6, 20, 5, 9, 12, 15, 7, 1, 2, 3, 9, 11, 13, 4, 13, 11, 1, 2, 13, 16, 17, 1, 4, 19, 9, 19, 1, 2, 4, 6, 7, 8, 9, 11, 7, 17, 1, 3, 4, 10, 12, 18, 8, 8, 8, 8, 8, 11, 1, 2, 6, 7, 14, 19, 13, 14, 7, 9, 3, 7, 4, 4, 3, 4, 2, 2, 7, 8, 1, 7, 8, 1, 2, 3, 11, 12, 13, 17, 1, 2, 3, 5, 8, 9, 12, 13, 17, 9, 13, 6, 16, 1, 3, 7, 11, 12, 18, 8, 17, 7, 2, 3, 4, 5, 6, 13, 6, 8, 13, 7, 8, 13], \"Freq\": [0.9815055131912231, 0.29155081510543823, 0.6233155727386475, 0.08042781054973602, 0.14991556107997894, 0.07495778053998947, 0.7683172821998596, 0.9915202260017395, 0.18331116437911987, 0.7943483591079712, 0.9919347763061523, 0.9879605174064636, 0.41251808404922485, 0.5362734794616699, 0.14485301077365875, 0.15450987219810486, 0.6856375336647034, 0.9753096103668213, 0.13698506355285645, 0.7762486934661865, 0.07305870205163956, 0.026623252779245377, 0.07986976206302643, 0.7853859663009644, 0.013311626389622688, 0.07986976206302643, 0.03442985936999321, 0.9296061992645264, 0.9434286952018738, 0.9354392886161804, 0.9811391234397888, 0.9828274846076965, 0.8994930982589722, 0.08072374016046524, 0.15058092772960663, 0.10038728266954422, 0.12548410892486572, 0.23089075088500977, 0.005019363947212696, 0.06525173038244247, 0.32123929262161255, 0.3592950105667114, 0.12291671335697174, 0.09927888214588165, 0.17491993308067322, 0.241105854511261, 0.06110237538814545, 0.9369031190872192, 0.13493965566158295, 0.8096379637718201, 0.9794036746025085, 0.9769188761711121, 0.41793593764305115, 0.5572479367256165, 0.021996628493070602, 0.4895951747894287, 0.45462408661842346, 0.044962819665670395, 0.9377473592758179, 0.9854995608329773, 0.7983025312423706, 0.19957563281059265, 0.9518541693687439, 0.958341658115387, 0.09282005578279495, 0.8972604870796204, 0.9545594453811646, 0.9749066233634949, 0.4292982220649719, 0.5623201727867126, 0.20256996154785156, 0.592363715171814, 0.20256996154785156, 0.9911169409751892, 0.9806800484657288, 0.9951134920120239, 0.9653258323669434, 0.9857272505760193, 0.2841399312019348, 0.7054508328437805, 0.9380464553833008, 0.12944668531417847, 0.8414034843444824, 0.012519387528300285, 0.8012408018112183, 0.1752714216709137, 0.05224575474858284, 0.9404236078262329, 0.938511073589325, 0.9809750318527222, 0.9599626660346985, 0.15471051633358002, 0.8337177634239197, 0.7367488145828247, 0.014602228999137878, 0.14336733520030975, 0.037169311195611954, 0.05575396493077278, 0.0026549508329480886, 0.007964852266013622, 0.9758777022361755, 0.9630712270736694, 0.9868049621582031, 0.06737962365150452, 0.9180473685264587, 0.9618525505065918, 0.03153614699840546, 0.9812079071998596, 0.28736722469329834, 0.6944708228111267, 0.9934948086738586, 0.9895208477973938, 0.9804846048355103, 0.9719123244285583, 0.992999792098999, 0.9853758215904236, 0.31375041604042053, 0.21570341289043427, 0.21570341289043427, 0.06536467373371124, 0.03268233686685562, 0.09151054173707962, 0.03268233686685562, 0.022877635434269905, 0.9762969017028809, 0.630031168460846, 0.3561045825481415, 0.1589052528142929, 0.8306410908699036, 0.979032039642334, 0.15728038549423218, 0.8178579807281494, 0.14366425573825836, 0.0917854979634285, 0.758228063583374, 0.9747389554977417, 0.9563342332839966, 0.5054745674133301, 0.4874219000339508, 0.3051106333732605, 0.5230467915534973, 0.15255531668663025, 0.31760621070861816, 0.04812215268611908, 0.6255879998207092, 0.9840764999389648, 0.9557456970214844, 0.9610177278518677, 0.031000571325421333, 0.9777628183364868, 0.08094704151153564, 0.8701807260513306, 0.0455327108502388, 0.4630282521247864, 0.035345666110515594, 0.06715676933526993, 0.3640603721141815, 0.017672833055257797, 0.05301850289106369, 0.9952341318130493, 0.9817711114883423, 0.19796906411647797, 0.7538052797317505, 0.03426387533545494, 0.011421292088925838, 0.2013879269361496, 0.056686971336603165, 0.5594109296798706, 0.09398103505373001, 0.049228161573410034, 0.03729405999183655, 0.9898359179496765, 0.955490231513977, 0.21452735364437103, 0.7661691308021545, 0.982783317565918, 0.9820206761360168, 0.20137669146060944, 0.41886353492736816, 0.3705331087112427, 0.9525487422943115, 0.9217901229858398, 0.005905054975301027, 0.993525505065918, 0.15564829111099243, 0.8249359130859375, 0.23406656086444855, 0.7447572350502014, 0.309610515832901, 0.49144527316093445, 0.09337460249662399, 0.09828905016183853, 0.40993252396583557, 0.1407231092453003, 0.012236791662871838, 0.42828771471977234, 0.12315922230482101, 0.33868786692619324, 0.5336899757385254, 0.24540407955646515, 0.6076672077178955, 0.14023089408874512, 0.19012057781219482, 0.7604823112487793, 0.7074599266052246, 0.0406586155295372, 0.2439516931772232, 0.9493535757064819, 0.9530197381973267, 0.989306628704071, 0.9697275161743164, 0.9714858531951904, 0.9847885370254517, 0.08555325865745544, 0.8983092308044434, 0.19044464826583862, 0.20605486631393433, 0.015610217116773129, 0.1123935654759407, 0.20605486631393433, 0.19356669485569, 0.07492904365062714, 0.9698231220245361, 0.9789073467254639, 0.9506427645683289, 0.2652641236782074, 0.48823976516723633, 0.019222037866711617, 0.08842137455940247, 0.034599669277668, 0.034599669277668, 0.06535492837429047, 0.9374684691429138, 0.01683952286839485, 0.24056459963321686, 0.22853636741638184, 0.20207427442073822, 0.18523474037647247, 0.12509359419345856, 0.16228865087032318, 0.3858863413333893, 0.003606414422392845, 0.05048980191349983, 0.05409621447324753, 0.20556561648845673, 0.03245772793889046, 0.02163848653435707, 0.08294752985239029, 0.9642671346664429, 0.8935615420341492, 0.9769824147224426, 0.9269565939903259, 0.05885438621044159, 0.9886834025382996, 0.9911318421363831, 0.32672229409217834, 0.6534445881843567, 0.98879075050354, 0.20869897305965424, 0.7475217580795288, 0.03794526681303978, 0.02566467970609665, 0.2986435294151306, 0.48062944412231445, 0.02099837362766266, 0.08632665127515793, 0.08632665127515793, 0.98776775598526, 0.9473809599876404, 0.031179625540971756, 0.019187461584806442, 0.962015688419342, 0.9773641228675842, 0.9793750047683716, 0.9868706464767456, 0.9432502388954163, 0.7638645172119141, 0.21544896066188812, 0.9793339967727661, 0.9822043776512146, 0.2983483374118805, 0.6979219913482666, 0.9828887581825256, 0.08858398348093033, 0.902449369430542, 0.9862843751907349, 0.982562780380249, 0.9811527729034424, 0.9659094214439392, 0.9918433427810669, 0.13242270052433014, 0.5333691835403442, 0.28323742747306824, 0.05149771645665169, 0.5187835097312927, 0.4651162624359131, 0.04250262677669525, 0.0566701702773571, 0.0566701702773571, 0.0566701702773571, 0.5383666157722473, 0.24084822833538055, 0.979266345500946, 0.9935944676399231, 0.9805771708488464, 0.9468037486076355, 0.23006972670555115, 0.13146841526031494, 0.3894751965999603, 0.0016433552373200655, 0.1479019671678543, 0.07066427171230316, 0.0016433552373200655, 0.004930065479129553, 0.011503486894071102, 0.011503486894071102, 0.9832724332809448, 0.9767685532569885, 0.9756255149841309, 0.9499596357345581, 0.04452935606241226, 0.963224470615387, 0.9744395613670349, 0.9801714420318604, 0.9791556000709534, 0.965812623500824, 0.9741755723953247, 0.0510328970849514, 0.14831435680389404, 0.42421096563339233, 0.017542557790875435, 0.011163446120917797, 0.009568667970597744, 0.3364981710910797, 0.9892420768737793, 0.04221886396408081, 0.5488452315330505, 0.4053010940551758, 0.5541244745254517, 0.4221900999546051, 0.30787724256515503, 0.6450760960578918, 0.03420858085155487, 0.009773880243301392, 0.9604679346084595, 0.09518664330244064, 0.8804764747619629, 0.24542933702468872, 0.2598663568496704, 0.4836401641368866, 0.9782874584197998, 0.9897477030754089, 0.2959810793399811, 0.12080860882997513, 0.5738409161567688, 0.15803411602973938, 0.825289249420166, 0.8957229852676392, 0.09208367019891739, 0.9884033203125, 0.9857064485549927, 0.9592548608779907, 0.9855955839157104, 0.9712371230125427, 0.9389472603797913, 0.047455184161663055, 0.9253760576248169, 0.9622480869293213, 0.008057033643126488, 0.9829580783843994, 0.03955267742276192, 0.9097115993499756, 0.3905635476112366, 0.593656599521637, 0.17572233080863953, 0.7907505035400391, 0.9717596769332886, 0.6064395308494568, 0.18620964884757996, 0.055359628051519394, 0.01258173305541277, 0.10568656027317047, 0.035228852182626724, 0.04176688566803932, 0.25060132145881653, 0.415058434009552, 0.04176688566803932, 0.2062240093946457, 0.044377319514751434, 0.958216667175293, 0.9262850880622864, 0.9375817775726318, 0.011379842646420002, 0.5234727263450623, 0.4551936984062195, 0.13190343976020813, 0.33708658814430237, 0.09526360034942627, 0.4250222146511078, 0.7553092837333679, 0.23325727880001068, 0.9614109992980957, 0.9827613830566406, 0.9947543144226074, 0.1957605481147766, 0.11345213651657104, 0.18463778495788574, 0.5049732327461243, 0.2660570740699768, 0.7193394899368286, 0.2343677580356598, 0.744462251663208, 0.9849175214767456, 0.9929607510566711, 0.9867469072341919, 0.9834268093109131, 0.9261350035667419, 0.069114550948143, 0.9827157258987427, 0.9906439781188965, 0.9981679916381836, 0.9782000184059143, 0.9503279328346252, 0.9768248200416565, 0.59647536277771, 0.39908063411712646, 0.9602406024932861, 0.9750102162361145, 0.9747141003608704, 0.5254820585250854, 0.05720973759889603, 0.004237758461385965, 0.06780413538217545, 0.10806283354759216, 0.025426549836993217, 0.10170619934797287, 0.0021188792306929827, 0.029664307832717896, 0.0762796476483345, 0.6839550137519836, 0.27358201146125793, 0.9832485914230347, 0.21871840953826904, 0.7655144333839417, 0.1770167350769043, 0.38353627920150757, 0.42779046297073364, 0.9733151197433472, 0.5776084065437317, 0.4146932363510132, 0.9581984877586365, 0.9572707414627075, 0.974321186542511, 0.9778327345848083, 0.06893637031316757, 0.9220239520072937, 0.9915434122085571, 0.106192946434021, 0.8881592154502869, 0.9721763730049133, 0.9566241502761841, 0.9466701149940491, 0.988976776599884, 0.9934970140457153, 0.2850053906440735, 0.06195769086480141, 0.032217998057603836, 0.024783076718449593, 0.024783076718449593, 0.5353144407272339, 0.037174616008996964, 0.6246842741966248, 0.10864074528217316, 0.20370139181613922, 0.05432037264108658, 0.5450765490531921, 0.004977867938578129, 0.059734415262937546, 0.0647122859954834, 0.2563602030277252, 0.029867207631468773, 0.014933603815734386, 0.02488933876156807, 0.9656286239624023, 0.9796071648597717, 0.9666003584861755, 0.40234053134918213, 0.049813590943813324, 0.14944076538085938, 0.2605634033679962, 0.059393126517534256, 0.07663629204034805, 0.17670534551143646, 0.8162104487419128, 0.9809418320655823, 0.9736889004707336, 0.9779080748558044, 0.9890086054801941, 0.21824178099632263, 0.763846218585968, 0.4287746250629425, 0.07795902341604233, 0.46775415539741516, 0.22936919331550598, 0.06713245064020157, 0.6433526277542114, 0.05594370886683464, 0.9063746929168701, 0.9709542989730835, 0.08744285255670547, 0.8744285702705383, 0.9559999108314514, 0.9227197766304016, 0.9800918102264404, 0.9801344275474548, 0.9739115238189697, 0.9562731385231018, 0.9881700277328491, 0.9963803291320801, 0.982071578502655, 0.005552256945520639, 0.2776128649711609, 0.716241180896759, 0.9845545291900635, 0.9467724561691284, 0.3270750939846039, 0.5887351632118225, 0.06541501730680466, 0.9488927125930786, 0.9738159775733948, 0.9920128583908081, 0.9789285659790039, 0.01869058422744274, 0.8348461389541626, 0.14329448342323303, 0.9877763986587524, 0.9706487655639648, 0.9234630465507507, 0.2688734531402588, 0.6913888454437256, 0.9592294096946716, 0.2721478044986725, 0.3999747931957245, 0.10308628529310226, 0.008246902376413345, 0.0742221251130104, 0.03298760950565338, 0.11133318394422531, 0.9837203621864319, 0.5141690969467163, 0.02249489724636078, 0.38241326808929443, 0.07712536305189133, 0.9483266472816467, 0.10711110383272171, 0.6283851265907288, 0.24278517067432404, 0.021422220394015312, 0.8720083832740784, 0.10750788450241089, 0.9854859709739685, 0.04507022351026535, 0.8563342690467834, 0.0901404470205307, 0.9631208181381226, 0.4871554374694824, 0.4977457821369171, 0.985588550567627, 0.09996408224105835, 0.013328544795513153, 0.39652419090270996, 0.1399497240781784, 0.3498742878437042, 0.9873962998390198, 0.43791520595550537, 0.5175361633300781, 0.9848589897155762, 0.26050475239753723, 0.2467939853668213, 0.4935879707336426, 0.03455864638090134, 0.2764691710472107, 0.6825332641601562, 0.9746578335762024, 0.9511910676956177, 0.9731265902519226, 0.9951424598693848, 0.21498383581638336, 0.09771992266178131, 0.6449515223503113, 0.9755951166152954, 0.9833962917327881, 0.99306321144104, 0.4179387092590332, 0.5688610076904297, 0.9950402975082397, 0.933171272277832, 0.1408803015947342, 0.32402467727661133, 0.5283011198043823, 0.1180725246667862, 0.8560258150100708, 0.9826778769493103, 0.9803200960159302, 0.9737152457237244, 0.024906137958168983, 0.9630373120307922, 0.020613055676221848, 0.7901670932769775, 0.17864647507667542, 0.9724154472351074, 0.9717863202095032, 0.9798399209976196, 0.9812669157981873, 0.9653769135475159, 0.84625643491745, 0.1477590650320053, 0.9875127077102661, 0.9752756953239441, 0.9502838850021362, 0.993866503238678, 0.9890450835227966, 0.3846053183078766, 0.6094514727592468, 0.23864297568798065, 0.7526432275772095, 0.4304661154747009, 0.10052800923585892, 0.038664620369672775, 0.16239140927791595, 0.07217396050691605, 0.19332310557365417, 0.15836016833782196, 0.6334406733512878, 0.14876258373260498, 0.05758551508188248, 0.3070724606513977, 0.6699762940406799, 0.9795923233032227, 0.1683681607246399, 0.8137794137001038, 0.9927566051483154, 0.9777213931083679, 0.09755436331033707, 0.260144978761673, 0.61784428358078, 0.2807924747467041, 0.7019811868667603, 0.7038120031356812, 0.026881707832217216, 0.19061574339866638, 0.03421308100223541, 0.04398825019598007, 0.11026865988969803, 0.009801658801734447, 0.3528597056865692, 0.5243887305259705, 0.34913137555122375, 0.6445502042770386, 0.9565059542655945, 0.9781925678253174, 0.42016738653182983, 0.23181648552417755, 0.3477247357368469, 0.9868466854095459, 0.9914883971214294, 0.9955286383628845, 0.9852003455162048, 0.9450556039810181, 0.9651554822921753, 0.9898247122764587, 0.9869043231010437, 0.9818499088287354, 0.9634990096092224, 0.9848464131355286, 0.9826382994651794, 0.9869934916496277, 0.9664171934127808, 0.9651616811752319, 0.10410729795694351, 0.6795575022697449, 0.07321831583976746, 0.021736688911914825, 0.12012380361557007, 0.017167892307043076, 0.32618996500968933, 0.5436499714851379, 0.057226311415433884, 0.057226311415433884, 0.9604145288467407, 0.9847728610038757, 0.45453527569770813, 0.45453527569770813, 0.12974688410758972, 0.07784812897443771, 0.70063316822052, 0.08649791777133942, 0.9846662282943726, 0.21668443083763123, 0.7704334855079651, 0.9900747537612915, 0.13089491426944733, 0.3926847577095032, 0.1472567766904831, 0.3272372782230377, 0.8335529565811157, 0.131613627076149, 0.2918736934661865, 0.1373523324728012, 0.21175150573253632, 0.0686761662364006, 0.2632586359977722, 0.008584520779550076, 0.01716904155910015, 0.984616756439209, 0.9903066158294678, 0.9840922951698303, 0.9703635573387146, 0.9775393009185791, 0.8445044159889221, 0.14233221113681793, 0.992583155632019, 0.05730606988072395, 0.11051885038614273, 0.5198479294776917, 0.06958594173192978, 0.0491194874048233, 0.06958594173192978, 0.12279872596263885, 0.9534404873847961, 0.960721492767334, 0.02956066094338894, 0.9274561405181885, 0.9241164326667786, 0.9258157014846802, 0.06124494969844818, 0.8880517482757568, 0.3454183042049408, 0.6140769720077515, 0.9854332208633423, 0.9618315100669861, 0.7913536429405212, 0.20466043055057526, 0.9949023127555847, 0.14505742490291595, 0.8461682796478271, 0.9665438532829285, 0.6400794386863708, 0.17101359367370605, 0.14658308029174805, 0.03908882290124893, 0.9702251553535461, 0.9882735013961792, 0.9846706986427307, 0.42431604862213135, 0.08634338527917862, 0.4884568452835083, 0.39780035614967346, 0.5107560157775879, 0.08840008080005646, 0.15365876257419586, 0.009407679550349712, 0.03449482470750809, 0.5299659371376038, 0.0250871442258358, 0.04703839495778084, 0.05331018194556236, 0.10662036389112473, 0.04076660796999931, 0.5045613646507263, 0.47653019428253174, 0.9850387573242188, 0.02556603215634823, 0.17896223068237305, 0.6711083650588989, 0.07030659168958664, 0.04474055767059326, 0.9684967398643494, 0.1143777146935463, 0.8578328490257263, 0.22231848537921906, 0.7477985620498657, 0.9810454249382019, 0.9919427037239075, 0.9659850597381592, 0.9817903637886047, 0.05681295320391655, 0.9090072512626648, 0.957854688167572, 0.9936525821685791, 0.9734721183776855, 0.9152854084968567, 0.9838467836380005, 0.9872416257858276, 0.9694824814796448, 0.8409906029701233, 0.1529073715209961, 0.20425087213516235, 0.7586460709571838, 0.9845144152641296, 0.9775786399841309, 0.30390769243240356, 0.12417733669281006, 0.1829981803894043, 0.09803473949432373, 0.218944251537323, 0.06862431764602661, 0.9229674935340881, 0.16854120790958405, 0.27579471468925476, 0.5362674593925476, 0.9693506360054016, 0.9716455936431885, 0.5936864614486694, 0.380568265914917, 0.9497705101966858, 0.9801642298698425, 0.7065602540969849, 0.09745658934116364, 0.18679179251194, 0.9768006205558777, 0.2168012410402298, 0.30056536197662354, 0.44345709681510925, 0.03695475682616234, 0.46890246868133545, 0.5251708030700684, 0.9853460192680359, 0.9448010325431824, 0.25569331645965576, 0.5195038914680481, 0.032468993216753006, 0.036527618765830994, 0.04058624058961868, 0.10958284884691238, 0.0976405069231987, 0.8787645697593689, 0.9647030234336853, 0.9600361585617065, 0.17495308816432953, 0.8247788548469543, 0.9885625243186951, 0.965671181678772, 0.9753716588020325, 0.974228024482727, 0.12852737307548523, 0.8646386861801147, 0.9842722415924072, 0.9635136127471924, 0.9818317294120789, 0.1895330846309662, 0.6560760736465454, 0.14579468965530396, 0.714026689529419, 0.28100404143333435, 0.9469963312149048, 0.2308942973613739, 0.288617879152298, 0.4617885947227478, 0.9567365050315857, 0.977828323841095, 0.9621538519859314, 0.28091081976890564, 0.7022770047187805, 0.9862566590309143, 0.9555970430374146, 0.3299808204174042, 0.6599616408348083, 0.8392120599746704, 0.003713327692821622, 0.07797987759113312, 0.07797987759113312, 0.976065456867218, 0.1974327713251114, 0.7942181825637817, 0.029994776472449303, 0.9448354840278625, 0.9922648072242737, 0.983109712600708, 0.9803475737571716, 0.9925713539123535, 0.9604376554489136, 0.13552995026111603, 0.0027659174520522356, 0.4453127086162567, 0.15489137172698975, 0.19084829092025757, 0.02765917405486107, 0.0027659174520522356, 0.038722842931747437, 0.8935418128967285, 0.9027621746063232, 0.0796554833650589, 0.9898708462715149, 0.011565319262444973, 0.5551353693008423, 0.16191448271274567, 0.27178502082824707, 0.945844829082489, 0.13207286596298218, 0.11226192861795425, 0.33678579330444336, 0.41602951288223267, 0.9684472680091858, 0.1633991003036499, 0.8169955015182495, 0.9837162494659424, 0.9506529569625854, 0.9819366931915283, 0.16277778148651123, 0.7773469090461731, 0.05647392198443413, 0.5245733261108398, 0.3278583288192749, 0.13770049810409546, 0.9765902757644653, 0.9853265881538391, 0.13902220129966736, 0.8515110015869141, 0.4166959226131439, 0.5118113160133362, 0.06793954968452454, 0.9681617021560669, 0.26697656512260437, 0.29081374406814575, 0.07627901434898376, 0.3623253405094147, 0.9545376896858215, 0.39311790466308594, 0.4199213981628418, 0.17868995666503906, 0.9866663813591003, 0.9802250266075134, 0.6153334975242615, 0.38106948137283325, 0.9640714526176453, 0.9741414785385132, 0.9908024072647095, 0.9826982617378235, 0.36340048909187317, 0.6229722499847412, 0.9900725483894348, 0.12665201723575592, 0.8549010753631592, 0.48074671626091003, 0.516095757484436, 0.973344087600708, 0.3511715829372406, 0.25477153062820435, 0.013771435245871544, 0.37182873487472534, 0.94610995054245, 0.0999152660369873, 0.882584810256958, 0.31483545899391174, 0.6417800188064575, 0.040868066251277924, 0.9351663589477539, 0.05555443838238716, 0.07999322563409805, 0.911922812461853, 0.05451922118663788, 0.08177883177995682, 0.24533648788928986, 0.5070287585258484, 0.11449036002159119, 0.1820974498987198, 0.26302963495254517, 0.5462923049926758, 0.9553795456886292, 0.9685067534446716, 0.01537312287837267, 0.6426725387573242, 0.30243411660194397, 0.21201066672801971, 0.7597048878669739, 0.9746013283729553, 0.9646629691123962, 0.9462616443634033, 0.9773816466331482, 0.13706015050411224, 0.8497728705406189, 0.9909406900405884, 0.9856016635894775, 0.9937062859535217, 0.9851589202880859, 0.9805582761764526, 0.24875089526176453, 0.7316203117370605, 0.9882637858390808, 0.9670729637145996, 0.7702588438987732, 0.2073773741722107, 0.10364324599504471, 0.8723306655883789, 0.017273874953389168, 0.7624632716178894, 0.03128054365515709, 0.06256108731031418, 0.027370475232601166, 0.10948190093040466, 0.003910067956894636, 0.8969938158988953, 0.08969938009977341, 0.9672902226448059, 0.990568220615387, 0.9529218077659607, 0.9687540531158447, 0.9701575040817261, 0.978860080242157, 0.9737197756767273, 0.007539658807218075, 0.9902085065841675, 0.9695240259170532, 0.985465407371521, 0.14418306946754456, 0.03604576736688614, 0.805022120475769, 0.7176716327667236, 0.2532958686351776, 0.972155749797821, 0.9764035940170288, 0.9868480563163757, 0.9900587201118469, 0.6918058395385742, 0.05883915722370148, 0.24605464935302734, 0.9918150901794434, 0.9713125228881836, 0.023717401549220085, 0.9486960172653198, 0.6730310320854187, 0.3171755373477936, 0.47169730067253113, 0.20708662271499634, 0.3106299340724945, 0.9947957992553711, 0.17833185195922852, 0.8203265070915222, 0.45780783891677856, 0.2951655685901642, 0.18071362376213074, 0.06023787334561348, 0.997422993183136, 0.42334237694740295, 0.2755085229873657, 0.10079580545425415, 0.19487188756465912, 0.9748659133911133, 0.20607943832874298, 0.48085203766822815, 0.068693146109581, 0.24042601883411407, 0.9712566137313843, 0.9850935935974121, 0.9540499448776245, 0.9826012849807739, 0.9644320607185364, 0.9849775433540344, 0.9652989506721497, 0.9988076090812683, 0.8787351846694946, 0.11524396389722824, 0.2736898958683014, 0.7220754623413086, 0.9892405271530151, 0.9713119268417358, 0.5586901307106018, 0.4384656846523285, 0.9750058650970459, 0.17015209794044495, 0.267381876707077, 0.5590711832046509, 0.8849412202835083, 0.9795381426811218, 0.23307892680168152, 0.1886829435825348, 0.566048800945282, 0.7121840119361877, 0.28032776713371277, 0.9947400093078613, 0.007569262757897377, 0.9840041399002075, 0.9827792644500732, 0.8718496561050415, 0.1254691332578659, 0.9808525443077087, 0.1257297247648239, 0.7658082842826843, 0.09143979847431183, 0.26369360089302063, 0.2839777171611786, 0.21974466741085052, 0.2332674115896225, 0.9822958707809448, 0.7949858903884888, 0.20370137691497803, 0.22809936106204987, 0.7603312134742737, 0.9846553206443787, 0.8156381845474243, 0.17651870846748352, 0.9938669204711914, 0.9895446300506592, 0.9835516810417175, 0.3831271827220917, 0.5838128924369812, 0.9948136210441589, 0.05044373497366905, 0.6255022883415222, 0.1109762117266655, 0.2017749398946762, 0.9399363398551941, 0.053967636078596115, 0.9897408485412598, 0.9444475769996643, 0.6332694888114929, 0.29936376214027405, 0.06332694739103317, 0.9700097441673279, 0.1413009613752365, 0.8124805092811584, 0.9774489998817444, 0.9870836138725281, 0.9810147881507874, 0.08997567743062973, 0.39407068490982056, 0.054668765515089035, 0.035306911915540695, 0.04783517122268677, 0.08541994541883469, 0.03075117990374565, 0.2630934417247772, 0.17872360348701477, 0.21702152490615845, 0.2936173677444458, 0.3000003397464752, 0.006382985971868038, 0.6959173083305359, 0.2922852635383606, 0.9519031643867493, 0.030795324593782425, 0.21556727588176727, 0.7236901521682739, 0.40165165066719055, 0.5890890955924988, 0.9763591289520264, 0.9801055788993835, 0.9559343457221985, 0.40116649866104126, 0.5940349698066711, 0.047788187861442566, 0.9497902393341064, 0.9794641733169556, 0.7698493599891663, 0.20620965957641602, 0.965019166469574, 0.9878332614898682, 0.9904218912124634, 0.9846425652503967, 0.9830690622329712, 0.9762240648269653, 0.10385934263467789, 0.09986475110054016, 0.790928840637207, 0.3416745662689209, 0.03280076012015343, 0.22687192261219025, 0.038267552852630615, 0.31434062123298645, 0.030067363753914833, 0.01093358639627695, 0.953342854976654, 0.9740179181098938, 0.9710214138031006, 0.9688878655433655, 0.6161972880363464, 0.04530862718820572, 0.06343207508325577, 0.19935795664787292, 0.06796293705701828, 0.9836099743843079, 0.9553879499435425, 0.22813358902931213, 0.7466190457344055, 0.9896897077560425, 0.9634392261505127, 0.933934211730957, 0.04737763851881027, 0.8764863014221191, 0.05922204628586769, 0.8425746560096741, 0.14341697096824646, 0.8964579701423645, 0.006357857957482338, 0.09536787122488022, 0.9930171370506287, 0.9770851731300354, 0.9721313118934631, 0.993129312992096, 0.9708731174468994, 0.011673984117805958, 0.3385455310344696, 0.2801756262779236, 0.36189350485801697, 0.97138911485672, 0.00926754716783762, 0.9823600649833679, 0.9926550984382629, 0.9285533428192139, 0.980233371257782, 0.9591311812400818, 0.9931628108024597, 0.9661064743995667, 0.9883033633232117, 0.9578858017921448, 0.9902123212814331, 0.21104148030281067, 0.1793852597475052, 0.5909161567687988, 0.15091224014759064, 0.43764549493789673, 0.39237180352211, 0.47537678480148315, 0.47537678480148315, 0.4832797050476074, 0.5125693678855896, 0.2001495361328125, 0.7983742952346802, 0.20544078946113586, 0.7875230312347412, 0.9812310934066772, 0.10489031672477722, 0.8857404589653015, 0.09859611839056015, 0.1848677098751068, 0.4991428256034851, 0.09859611839056015, 0.11708288639783859, 0.07420823723077774, 0.06871133297681808, 0.4589917063713074, 0.0604659728705883, 0.008245360106229782, 0.23361852765083313, 0.09619586169719696, 0.9768596291542053, 0.05016621574759483, 0.4729957580566406, 0.3941631317138672, 0.08599922806024551, 0.9725856184959412, 0.961554765701294, 0.96433025598526, 0.9249041676521301, 0.20390141010284424, 0.7816221117973328, 0.09235277771949768, 0.9050571918487549, 0.1967036873102188, 0.800380527973175, 0.9786204099655151, 0.9879977703094482, 0.9798160195350647, 0.4150221049785614, 0.021615736186504364, 0.5576859712600708, 0.7406377792358398, 0.16724078357219696, 0.09101539850234985, 0.9889538884162903, 0.046413078904151917, 0.8663774132728577, 0.07735513150691986, 0.9667441248893738, 0.9829089045524597, 0.9568873047828674, 0.4291576147079468, 0.5517740845680237, 0.9055755138397217, 0.07874569296836853, 0.9834750294685364, 0.3052706718444824, 0.061054132878780365, 0.24421653151512146, 0.3785356283187866, 0.9249492883682251, 0.9663207530975342, 0.899111270904541, 0.9492813348770142, 0.22968019545078278, 0.3340802788734436, 0.0034800029825419188, 0.3654003143310547, 0.048720039427280426, 0.017400015145540237, 0.6973854899406433, 0.27120545506477356, 0.019371818751096725, 0.9728866219520569, 0.9725325703620911, 0.9891148805618286, 0.6773474216461182, 0.24190978705883026, 0.969155490398407, 0.9483327269554138, 0.00878861453384161, 0.9755362272262573, 0.9852004051208496, 0.9618032574653625, 0.015025198459625244, 0.8464195132255554, 0.06510919332504272, 0.07011759281158447, 0.9749204516410828, 0.9612274169921875, 0.977278470993042, 0.9702523350715637, 0.9798099398612976, 0.9176627993583679, 0.07641979306936264, 0.37515169382095337, 0.2813637852668762, 0.05905165523290634, 0.07989341765642166, 0.04515714943408966, 0.07294616103172302, 0.006947253830730915, 0.9547741413116455, 0.9733564257621765, 0.9743544459342957, 0.9775335192680359, 0.9379779100418091, 0.19632478058338165, 0.3365567624568939, 0.458091139793396, 0.9866073727607727, 0.9831875562667847, 0.9883425831794739, 0.9899835586547852, 0.9818797707557678, 0.9627286791801453, 0.0471617616713047, 0.1296948343515396, 0.8135403394699097, 0.21552014350891113, 0.24784816801548004, 0.5172483325004578, 0.2320091426372528, 0.6960274577140808, 0.9818292856216431, 0.9819362759590149, 0.9644638895988464, 0.1338084191083908, 0.8573650121688843, 0.4115856885910034, 0.5726409554481506, 0.9794146418571472, 0.9730439782142639, 0.9769609570503235, 0.9934889078140259, 0.9814992547035217, 0.9796598553657532, 0.9869191646575928, 0.16850411891937256, 0.16237670183181763, 0.2941162884235382, 0.009191134013235569, 0.3645816445350647, 0.9517108798027039, 0.04270497336983681, 0.9713841080665588, 0.9540417790412903, 0.40481531620025635, 0.2219954878091812, 0.35258108377456665, 0.9724027514457703, 0.9674326181411743, 0.9896637797355652, 0.05929875746369362, 0.1556592434644699, 0.2594320476055145, 0.5225703120231628, 0.9765830039978027, 0.7716761827468872, 0.011103254742920399, 0.21096183359622955, 0.19113671779632568, 0.7645468711853027, 0.8187832236289978, 0.16375663876533508, 0.9595752954483032, 0.02690397948026657, 0.9854910373687744, 0.9890176653862, 0.9819397330284119, 0.9948404431343079, 0.002850545570254326, 0.4598832130432129, 0.5255808234214783, 0.9921750426292419, 0.37179791927337646, 0.5453035831451416, 0.07435958087444305, 0.9402800798416138, 0.0309197586029768, 0.07729940116405487, 0.8502933979034424, 0.04019568860530853, 0.9850956201553345, 0.9819028973579407, 0.9767429828643799, 0.9817212820053101, 0.9705582857131958, 0.9671986699104309, 0.3665064871311188, 0.2408471256494522, 0.073301300406456, 0.041886456310749054, 0.27226197719573975, 0.9766035079956055, 0.9925974011421204, 0.8796412944793701, 0.014187762513756752, 0.09931433945894241, 0.014187762513756752, 0.9393973350524902, 0.06559530645608902, 0.09183342754840851, 0.8396198749542236, 0.9512079954147339, 0.4433651864528656, 0.5067030787467957, 0.03142944350838661, 0.9585980176925659, 0.9670979380607605, 0.9663476347923279, 0.9642837643623352, 0.08746320754289627, 0.3615145981311798, 0.14577201008796692, 0.017492640763521194, 0.1341102570295334, 0.24489697813987732, 0.9831553101539612, 0.9406304955482483, 0.9719557762145996, 0.025369787588715553, 0.7813894152641296, 0.14714476466178894, 0.040591660887002945, 0.962422788143158, 0.03401992470026016, 0.935547947883606, 0.9772047400474548, 0.9735973477363586, 0.9722057580947876, 0.16192887723445892, 0.27403348684310913, 0.26157742738723755, 0.002076011151075363, 0.17646095156669617, 0.03736820071935654, 0.002076011151075363, 0.08096443861722946, 0.9661427140235901, 0.979010820388794, 0.4288138151168823, 0.5250781178474426, 0.021878255531191826, 0.021878255531191826, 0.41765090823173523, 0.5512992143630981, 0.9884451031684875, 0.9409360289573669, 0.9922184944152832, 0.9936272501945496, 0.9933871030807495, 0.9680658578872681, 0.3015742003917694, 0.22490279376506805, 0.005111427046358585, 0.2453484982252121, 0.21979136765003204, 0.9757735133171082, 0.9752469658851624, 0.960565447807312, 0.9892159104347229, 0.9734944701194763, 0.9856167435646057, 0.011200190521776676, 0.9788358211517334, 0.9744078516960144, 0.9789617657661438, 0.9886049628257751, 0.97902512550354, 0.5557388663291931, 0.43832921981811523, 0.9833621978759766, 0.2450997680425644, 0.005106245167553425, 0.7455117702484131, 0.22898417711257935, 0.010904008522629738, 0.07632805407047272, 0.13084809482097626, 0.4361603260040283, 0.049068037420511246, 0.07087605446577072, 0.13603955507278442, 0.645734429359436, 0.05260195955634117, 0.0036277214530855417, 0.01813860796391964, 0.021766329184174538, 0.08887917548418045, 0.030835632234811783, 0.9679068922996521, 0.9874173402786255, 0.9833309054374695, 0.9794080853462219, 0.9695658087730408, 0.5926710963249207, 0.1517816185951233, 0.04818464443087578, 0.06504926830530167, 0.074686199426651, 0.06504926830530167, 0.16137874126434326, 0.8068937063217163, 0.9653146862983704, 0.9769641757011414, 0.2648140788078308, 0.45116475224494934, 0.2795259952545166, 0.42272889614105225, 0.569765031337738, 0.9900342226028442, 0.07242092490196228, 0.9052615761756897, 0.9667577743530273, 0.21163271367549896, 0.7709477543830872], \"Term\": [\"2016\", \"2019\", \"2019\", \"2019\", \"acil\", \"acil\", \"acil\", \"adalet\", \"aday\", \"aday\", \"aday\\u0131\", \"adet\", \"adliye\", \"adliye\", \"adliyeye\", \"adliyeye\", \"adliyeye\", \"adrese\", \"ahmet\", \"ahmet\", \"ahmet\", \"aile\", \"aile\", \"aile\", \"aile\", \"aile\", \"ailesi\", \"ailesi\", \"ailesine\", \"ailesinin\", \"akar\", \"akdeniz\", \"ak\\u015fam\", \"ak\\u015fam\", \"alan\", \"alan\", \"alan\", \"alan\", \"alan\", \"alan\", \"alan\", \"ald\\u0131\", \"ald\\u0131\", \"ald\\u0131\", \"ald\\u0131\", \"ald\\u0131\", \"allah\", \"allah\", \"almaya\", \"almaya\", \"altun\", \"alt\\u0131n\", \"al\\u0131nan\", \"al\\u0131nan\", \"al\\u0131nan\", \"al\\u0131nd\\u0131\", \"al\\u0131nd\\u0131\", \"al\\u0131nd\\u0131\", \"al\\u0131nd\\u0131\\u011f\\u0131\", \"al\\u0131nm\\u0131\\u015ft\\u0131\", \"al\\u0131p\", \"al\\u0131p\", \"al\\u0131yor\", \"ambulans\", \"ambulansla\", \"ambulansla\", \"amerika\", \"amirli\\u011fi\", \"anadolu\", \"anadolu\", \"ankara\", \"ankara\", \"ankara\", \"anne\", \"araca\", \"arac\\u0131n\", \"arad\\u0131\", \"aralar\\u0131nda\", \"arama\", \"arama\", \"aras\\u0131\", \"aras\\u0131ndan\", \"aras\\u0131ndan\", \"araya\", \"araya\", \"araya\", \"ara\\u00e7\", \"ara\\u00e7\", \"ara\\u00e7la\", \"ara\\u00e7ta\", \"ara\\u00e7tan\", \"ara\\u015ft\\u0131rma\", \"ara\\u015ft\\u0131rma\", \"ard\\u0131ndan\", \"ard\\u0131ndan\", \"ard\\u0131ndan\", \"ard\\u0131ndan\", \"ard\\u0131ndan\", \"ard\\u0131ndan\", \"ard\\u0131ndan\", \"arkada\\u015f\\u0131\", \"arkas\\u0131nda\", \"asayi\\u015f\", \"askeri\", \"askeri\", \"asla\", \"asla\", \"astsubay\", \"as\\u0131l\", \"as\\u0131l\", \"ate\\u015f\", \"avukatlar\\u0131\", \"avukat\\u0131\", \"ayd\\u0131r\", \"ayk\\u0131r\\u0131\", \"ayl\\u0131k\", \"ayn\\u0131\", \"ayn\\u0131\", \"ayn\\u0131\", \"ayn\\u0131\", \"ayn\\u0131\", \"ayn\\u0131\", \"ayn\\u0131\", \"ayn\\u0131\", \"a\\u00e7t\\u0131\", \"a\\u00e7\\u0131klama\", \"a\\u00e7\\u0131klama\", \"a\\u00e7\\u0131klamada\", \"a\\u00e7\\u0131klamada\", \"a\\u00e7\\u0131ld\\u0131\", \"a\\u00e7\\u0131s\\u0131ndan\", \"a\\u00e7\\u0131s\\u0131ndan\", \"a\\u011f\\u0131r\", \"a\\u011f\\u0131r\", \"a\\u011f\\u0131r\", \"a\\u011f\\u0131rla\\u015ft\\u0131r\\u0131lm\\u0131\\u015f\", \"a\\u015fa\\u011f\\u0131\", \"baba\", \"baba\", \"bakan\", \"bakan\", \"bakan\", \"bakan\\u0131\", \"bakan\\u0131\", \"bakan\\u0131\", \"bar\\u0131\\u015f\", \"bask\\u0131n\", \"bas\\u0131n\", \"bas\\u0131n\", \"bat\\u0131\", \"ba\\u011fl\\u0131\", \"ba\\u011fl\\u0131\", \"ba\\u011fl\\u0131\", \"ba\\u015fka\", \"ba\\u015fka\", \"ba\\u015fka\", \"ba\\u015fka\", \"ba\\u015fka\", \"ba\\u015fka\", \"ba\\u015fkan\", \"ba\\u015fkanlar\\u0131\", \"ba\\u015fkanl\\u0131\\u011f\\u0131\", \"ba\\u015fkanl\\u0131\\u011f\\u0131\", \"ba\\u015fkanl\\u0131\\u011f\\u0131\", \"ba\\u015fkanl\\u0131\\u011f\\u0131\", \"ba\\u015fkan\\u0131\", \"ba\\u015fkan\\u0131\", \"ba\\u015fkan\\u0131\", \"ba\\u015fkan\\u0131\", \"ba\\u015fkan\\u0131\", \"ba\\u015fkan\\u0131\", \"ba\\u015fkan\\u0131n\\u0131n\", \"ba\\u015flad\\u0131\\u011f\\u0131\", \"ba\\u015flayan\", \"ba\\u015flayan\", \"ba\\u015fsavc\\u0131l\\u0131\\u011f\\u0131\", \"ba\\u015fsavc\\u0131l\\u0131\\u011f\\u0131nca\", \"ba\\u015f\\u0131na\", \"ba\\u015f\\u0131na\", \"ba\\u015f\\u0131na\", \"bebek\", \"bedeni\", \"belediye\", \"belediye\", \"belirledi\", \"belirledi\", \"belirlenmesi\", \"belirlenmesi\", \"belirten\", \"belirten\", \"belirten\", \"belirten\", \"belirtildi\", \"belirtildi\", \"belirtildi\", \"belirtildi\", \"beraber\", \"beraber\", \"beraber\", \"bildirildi\", \"bildirildi\", \"bildirildi\", \"bilgisi\", \"bilgisi\", \"bilgiye\", \"bilgiye\", \"bilgiye\", \"bilinmeyen\", \"biliyoruz\", \"binali\", \"binan\\u0131n\", \"birbirine\", \"birden\", \"birisi\", \"birisi\", \"birlikte\", \"birlikte\", \"birlikte\", \"birlikte\", \"birlikte\", \"birlikte\", \"birlikte\", \"birtak\\u0131m\", \"bizler\", \"boyu\", \"bug\\u00fcn\", \"bug\\u00fcn\", \"bug\\u00fcn\", \"bug\\u00fcn\", \"bug\\u00fcn\", \"bug\\u00fcn\", \"bug\\u00fcn\", \"bulan\", \"bulunan\", \"bulunan\", \"bulunan\", \"bulunan\", \"bulunan\", \"bulunan\", \"bulundu\", \"bulundu\", \"bulundu\", \"bulundu\", \"bulundu\", \"bulundu\", \"bulundu\", \"bulundu\", \"bulundu\", \"bulunmad\\u0131\\u011f\\u0131n\\u0131\", \"bulunmas\\u0131\", \"buradaki\", \"buraya\", \"buraya\", \"bylock\", \"b\\u00f6lgede\", \"b\\u00f6l\\u00fcc\\u00fc\", \"b\\u00f6l\\u00fcc\\u00fc\", \"b\\u00fcro\", \"b\\u00fct\\u00fcn\", \"b\\u00fct\\u00fcn\", \"b\\u00fct\\u00fcn\", \"b\\u00fcy\\u00fck\", \"b\\u00fcy\\u00fck\", \"b\\u00fcy\\u00fck\", \"b\\u00fcy\\u00fck\", \"b\\u00fcy\\u00fck\", \"b\\u00fcy\\u00fck\", \"b\\u00fcy\\u00fck\\u00e7ekmece\", \"b\\u00fcy\\u00fck\\u015fehir\", \"b\\u00fcy\\u00fck\\u015fehir\", \"b\\u00fcy\\u00fck\\u015fehir\", \"b\\u0131rakt\\u0131\", \"b\\u0131rak\\u0131ld\\u0131\", \"b\\u0131\\u00e7ak\", \"caddesi\", \"camisi\", \"cenazesi\", \"cenazesi\", \"cesedi\", \"cevap\", \"ceza\", \"ceza\", \"cezaevi\", \"cezas\\u0131\", \"cezas\\u0131\", \"cezas\\u0131na\", \"cinayet\", \"cinsel\", \"cuma\", \"cumhur\", \"cumhuriyet\", \"cumhuriyet\", \"cumhuriyet\", \"cumhuriyet\", \"cumhuriyeti\", \"cumhuriyeti\", \"daki\", \"daki\", \"daki\", \"daki\", \"daki\", \"daki\", \"darp\", \"dava\", \"davada\", \"dea\\u015f\", \"dedi\", \"dedi\", \"dedi\", \"dedi\", \"dedi\", \"dedi\", \"dedi\", \"dedi\", \"dedi\", \"dedi\", \"dediler\", \"dedim\", \"delil\", \"demokrasi\", \"demokrasi\", \"demokratik\", \"denildi\", \"deniz\", \"deprem\", \"derne\\u011fi\", \"dersi\", \"devam\", \"devam\", \"devam\", \"devam\", \"devam\", \"devam\", \"devam\", \"devam\\u0131na\", \"devlet\", \"devlet\", \"devlet\", \"devleti\", \"devleti\", \"dile\", \"dile\", \"dile\", \"dile\", \"dini\", \"diyarbak\\u0131r\", \"diyarbak\\u0131r\", \"diyor\", \"diyor\", \"diyor\", \"do\\u011fal\", \"do\\u011fan\", \"do\\u011fru\", \"do\\u011fru\", \"do\\u011fru\", \"do\\u011frultusunda\", \"do\\u011frultusunda\", \"durumu\", \"durumu\", \"duru\\u015fma\", \"duru\\u015fmada\", \"duru\\u015fmas\\u0131na\", \"duru\\u015fmaya\", \"duru\\u015fmay\\u0131\", \"duyan\", \"d\\u00f6nemin\", \"d\\u00f6nemin\", \"d\\u00f6nen\", \"d\\u00fcnya\", \"d\\u00fcnya\", \"d\\u00fc\\u015ft\\u00fc\\u011f\\u00fc\", \"d\\u00fc\\u015ft\\u00fc\\u011f\\u00fc\", \"d\\u0131\\u015f\\u0131\", \"d\\u0131\\u015f\\u0131\", \"edece\\u011fi\", \"edece\\u011fi\", \"edece\\u011fiz\", \"edildi\", \"edildi\", \"edildi\", \"edildi\", \"edildi\", \"edildi\", \"edilen\", \"edilen\", \"edilen\", \"edilen\", \"edilen\", \"edilen\", \"edilirken\", \"edilmi\\u015ftir\", \"edin\", \"edinilen\", \"edinilen\", \"edinilen\", \"ediyor\", \"ediyor\", \"ediyor\", \"ediyor\", \"ediyoruz\", \"ediyoruz\", \"ekibi\", \"ekip\", \"ekipler\", \"ekipleri\", \"ekipleri\", \"ekipleri\", \"ekipleri\", \"ekiplerince\", \"ekiplerince\", \"ekiplerine\", \"ekiplerine\", \"ekonomik\", \"ekrem\", \"eksik\", \"elbette\", \"emniyet\", \"emniyet\", \"emniyete\", \"emniyetteki\", \"erdo\\u011fan\", \"erkek\", \"erken\", \"erteledi\", \"eski\", \"eski\", \"esnas\\u0131nda\", \"esrar\", \"etkisiz\", \"etti\", \"etti\", \"etti\", \"etti\", \"etti\", \"etti\", \"etti\", \"etti\", \"etti\", \"etti\", \"ettik\", \"ettik\", \"ettim\", \"evde\", \"evde\", \"evine\", \"evine\", \"evine\", \"eylem\", \"e\\u011fitim\", \"e\\u011fitim\", \"e\\u015fit\", \"e\\u015flik\", \"fak\\u00fcltesi\", \"farkla\", \"fatih\", \"fatih\", \"fazla\", \"fet\\u00f6\", \"fet\\u00f6\", \"firari\", \"gasp\", \"gazi\", \"gaziantep\", \"gece\", \"geldi\", \"geldi\", \"geldi\", \"geldi\", \"geldi\", \"geldi\", \"geldi\", \"geldi\\u011fi\", \"geldi\\u011fi\", \"geldi\\u011fi\", \"geldi\\u011fi\", \"gelen\", \"gelen\", \"gelen\", \"gelen\", \"gelen\", \"gelen\", \"gelen\", \"gelen\", \"gelin\", \"geliyor\", \"gelmi\\u015f\", \"genel\", \"genel\", \"genel\", \"genel\", \"genel\", \"genel\", \"gen\\u00e7\", \"gen\\u00e7\", \"gerekir\", \"gerekiyor\", \"gerekti\\u011fini\", \"gerek\\u00e7e\", \"ger\\u00e7ekle\\u015fen\", \"ger\\u00e7ekle\\u015fen\", \"ger\\u00e7ekle\\u015ftirilen\", \"ger\\u00e7ekle\\u015ftirilen\", \"ger\\u00e7ekle\\u015ftirilen\", \"ge\\u00e7en\", \"ge\\u00e7en\", \"ge\\u00e7en\", \"ge\\u00e7en\", \"ge\\u00e7irdi\\u011fi\", \"ge\\u00e7irildi\", \"ge\\u00e7ti\\u011fimiz\", \"ge\\u00e7ti\\u011fimiz\", \"gidiyor\", \"girerek\", \"giri\\u015f\", \"gitti\\u011fini\", \"gram\", \"grubu\", \"g\\u00f6n\\u00fcl\", \"g\\u00f6rev\", \"g\\u00f6revlileri\", \"g\\u00f6revlisi\", \"g\\u00f6revlisi\", \"g\\u00f6revlisi\", \"g\\u00f6r\\u00fclen\", \"g\\u00f6r\\u00fcl\\u00fcyor\", \"g\\u00f6r\\u00fcnt\\u00fcler\", \"g\\u00f6r\\u00fcnt\\u00fcler\", \"g\\u00f6r\\u00fcnt\\u00fcler\", \"g\\u00f6r\\u00fcnt\\u00fclerde\", \"g\\u00f6steren\", \"g\\u00f6t\\u00fcr\\u00fcld\\u00fc\", \"g\\u00f6zalt\\u0131\", \"g\\u00f6zalt\\u0131na\", \"g\\u00f6zalt\\u0131na\", \"g\\u00f6zalt\\u0131na\", \"g\\u00fcler\", \"g\\u00fcnden\", \"g\\u00fcnd\\u00fcr\", \"g\\u00fcneydo\\u011fu\", \"g\\u00fcneydo\\u011fu\", \"g\\u00fcnlerde\", \"g\\u00fcn\\u00fc\", \"g\\u00fcn\\u00fc\", \"g\\u00fcn\\u00fc\", \"g\\u00fcn\\u00fc\", \"g\\u00fcn\\u00fc\", \"g\\u00fcn\\u00fc\", \"g\\u00fcn\\u00fc\", \"g\\u00fcven\", \"g\\u00fcvenlik\", \"g\\u00fcvenlik\", \"g\\u00fcvenlik\", \"g\\u00fcvenlik\", \"g\\u00fcvenli\\u011fi\", \"g\\u00fczel\", \"g\\u00fczel\", \"g\\u00fczel\", \"g\\u00fczel\", \"g\\u00fc\\u00e7l\\u00fc\", \"g\\u00fc\\u00e7l\\u00fc\", \"hafif\", \"hafta\", \"hafta\", \"hafta\", \"hakan\", \"hakim\", \"hakim\", \"hakk\\u0131\", \"hakk\\u0131nda\", \"hakk\\u0131nda\", \"hakk\\u0131nda\", \"hakk\\u0131nda\", \"hakk\\u0131nda\", \"hakk\\u0131ndaki\", \"hakk\\u0131n\\u0131\", \"hakk\\u0131n\\u0131\", \"hala\", \"halde\", \"halde\", \"halde\", \"hale\", \"hale\", \"hale\", \"halinin\", \"halk\\u0131\", \"halk\\u0131n\", \"hapis\", \"harekete\", \"harekete\", \"harekete\", \"hareketsiz\", \"hastanede\", \"hastanesi\", \"hastaneye\", \"hastaneye\", \"hava\", \"hayat\\u0131\", \"hayat\\u0131n\\u0131\", \"hayat\\u0131n\\u0131\", \"hayat\\u0131n\\u0131\", \"haz\\u0131rlanan\", \"haz\\u0131rlanan\", \"hepimizin\", \"hepsini\", \"hesab\\u0131ndan\", \"heyeti\", \"heyeti\", \"hizmet\", \"hizmet\", \"hizmet\", \"hizmete\", \"hizmetler\", \"hukuk\", \"hukuki\", \"husumet\", \"huzur\", \"huzur\", \"h\\u00fcseyin\", \"h\\u0131rs\\u0131zl\\u0131k\", \"icra\", \"idare\", \"idareler\", \"iddia\", \"iddia\", \"iddianamede\", \"iddianamede\", \"ifade\", \"ifade\", \"ifade\", \"ifade\", \"ifade\", \"ifade\", \"ifadelerini\", \"ifadelerini\", \"ifadelerini\", \"ifadelerini\", \"ifadesi\", \"ifadesi\", \"ifadesinde\", \"ifadesini\", \"ifadesini\", \"ihra\\u00e7\", \"ikna\", \"ilde\", \"ilde\", \"ilde\", \"ileti\\u015fim\", \"ileti\\u015fim\", \"ili\\u015fkin\", \"ili\\u015fkin\", \"ili\\u015fkin\", \"ili\\u015fkin\", \"ili\\u015fkin\", \"il\\u00e7e\", \"il\\u00e7e\", \"il\\u00e7e\", \"il\\u00e7e\", \"il\\u00e7ede\", \"il\\u00e7ede\", \"il\\u00e7elerinde\", \"il\\u00e7enin\", \"il\\u00e7esi\", \"il\\u00e7esi\", \"il\\u00e7esi\", \"il\\u00e7esine\", \"imam\", \"imamo\\u011flu\", \"incelemede\", \"incelemelerde\", \"inci\", \"insan\", \"insanlar\", \"insanlar\\u0131n\", \"internet\", \"intihar\", \"isabet\", \"islam\", \"ismail\", \"ismi\", \"istanbul\", \"istanbul\", \"istanbul\", \"istanbul\", \"istanbul\", \"istedi\", \"istedi\", \"istedi\", \"istedi\", \"istedi\", \"istendi\", \"istiklal\", \"istismar\", \"istismar\", \"istiyorum\", \"istiyorum\", \"istiyorum\", \"istiyorum\", \"itfaiye\", \"itiraf\", \"itiraf\", \"ittifak\\u0131\", \"izmir\", \"izmir\", \"izmir\", \"izmir\", \"i\\u00e7eri\", \"i\\u00e7eri\", \"i\\u00e7inde\", \"i\\u00e7inde\", \"i\\u00e7inde\", \"i\\u00e7inde\", \"i\\u00e7inde\", \"i\\u00e7inde\", \"i\\u00e7inde\", \"i\\u00e7i\\u015fleri\", \"i\\u015faret\", \"i\\u015fin\", \"i\\u015flemi\", \"i\\u015flemleri\", \"i\\u015flemlerinin\", \"i\\u015flemlerinin\", \"jandarma\", \"kabul\", \"kabul\", \"kabul\", \"kabul\", \"kabul\", \"kabul\", \"kabul\", \"kad\\u0131k\\u00f6y\", \"kad\\u0131n\", \"kad\\u0131n\", \"kad\\u0131na\", \"kad\\u0131nlar\\u0131n\", \"kad\\u0131n\\u0131\", \"kad\\u0131n\\u0131n\", \"kad\\u0131n\\u0131n\", \"kald\\u0131r\\u0131lan\", \"kald\\u0131r\\u0131lan\", \"kald\\u0131r\\u0131ld\\u0131\", \"kameras\\u0131na\", \"kamu\", \"kamu\", \"kanun\", \"kanunu\", \"kanunu\", \"kapat\\u0131lan\", \"kapsam\\u0131nda\", \"kapsam\\u0131nda\", \"kapsam\\u0131nda\", \"kapsam\\u0131nda\", \"kap\\u0131\", \"kara\", \"karadeniz\", \"karar\", \"karar\", \"karar\", \"karar\\u0131\", \"karar\\u0131\", \"karar\\u0131\", \"kar\\u015f\\u0131\", \"kar\\u015f\\u0131\", \"kar\\u015f\\u0131\", \"kar\\u015f\\u0131\", \"kar\\u015f\\u0131\", \"kar\\u015f\\u0131\", \"kar\\u015f\\u0131\", \"kar\\u015f\\u0131\", \"kar\\u015f\\u0131\", \"kar\\u015f\\u0131ya\", \"kar\\u015f\\u0131ya\", \"kasten\", \"kat\\u0131ld\\u0131\", \"kat\\u0131ld\\u0131\", \"kat\\u0131ld\\u0131\", \"kat\\u0131ld\\u0131\", \"kat\\u0131ld\\u0131\", \"kavgaya\", \"kaybeden\", \"kaybeden\", \"kaybetti\", \"kaybetti\", \"kaydeden\", \"kaydedildi\", \"kayd\\u0131\", \"kayseri\", \"kay\\u0131p\", \"kay\\u0131p\", \"kay\\u0131tl\\u0131\", \"kaza\", \"kazada\", \"kazan\\u0131n\", \"ka\\u00e7ak\\u00e7\\u0131l\\u0131k\", \"ka\\u00e7an\", \"ka\\u00e7t\\u0131\", \"kemal\", \"kemal\", \"kent\", \"kent\", \"kesinle\\u015fmi\\u015f\", \"kilometre\", \"ki\\u015fi\", \"ki\\u015fi\", \"ki\\u015fi\", \"ki\\u015fi\", \"ki\\u015fi\", \"ki\\u015fi\", \"ki\\u015fiden\", \"ki\\u015filerin\", \"ki\\u015filerin\", \"ki\\u015filerin\", \"ki\\u015fiye\", \"komutan\\u0131\", \"konu\", \"konu\", \"konuk\", \"konuldu\", \"konusu\", \"konusu\", \"konusu\", \"konuyla\", \"konu\\u015ftu\", \"konu\\u015ftu\", \"konu\\u015ftu\", \"konu\\u015ftu\", \"konya\", \"konya\", \"koruma\", \"koyarak\", \"kulland\\u0131\", \"kulland\\u0131\", \"kulland\\u0131\", \"kulland\\u0131\", \"kulland\\u0131\", \"kulland\\u0131\", \"kullan\\u0131lan\", \"kullan\\u0131lan\", \"kurtar\\u0131lamad\\u0131\", \"kurulan\", \"kurulu\", \"kurulu\", \"kurulunun\", \"kurum\", \"kuvvetleri\", \"kuzeyinde\", \"k\\u00f6t\\u00fc\", \"k\\u00f6t\\u00fc\", \"k\\u00f6y\\u00fc\", \"k\\u00fcrdistan\", \"k\\u00fcrt\", \"k\\u00fc\\u00e7\\u00fck\", \"k\\u00fc\\u00e7\\u00fck\", \"k\\u00fc\\u00e7\\u00fck\", \"k\\u0131l\\u0131\\u00e7daro\\u011flu\", \"k\\u0131l\\u0131\\u00e7daro\\u011flu\", \"k\\u0131rm\\u0131z\\u0131\", \"k\\u0131sa\", \"k\\u0131sa\", \"k\\u0131sa\", \"k\\u0131sm\\u0131\", \"k\\u0131z\\u0131\", \"k\\u0131z\\u0131n\\u0131n\", \"lira\", \"lira\", \"maalesef\", \"madde\", \"maddi\", \"maddi\", \"mahallesi\", \"mahallesi\", \"mahallesi\", \"mahallesi\", \"mahalli\", \"mahkeme\", \"mahkeme\", \"mahkemece\", \"mahkemece\", \"mahkemesi\", \"mahkemesinde\", \"mahrem\", \"maltepe\", \"marmara\", \"mart\", \"mart\", \"mart\", \"mart\", \"mart\", \"mart\", \"mart\", \"mart\", \"ma\\u00e7\\u0131\", \"meclis\", \"meclis\", \"medya\", \"mehmet\", \"mehmet\", \"mehmet\", \"mehmet\", \"mensuplar\\u0131na\", \"merkezi\", \"merkezi\", \"merkezi\", \"merkezi\", \"merkezinde\", \"mersin\", \"mersin\", \"meslek\", \"metin\", \"metre\", \"meydana\", \"meydana\", \"meydana\", \"millet\", \"millet\", \"millet\", \"millete\", \"milletimizin\", \"milletvekili\", \"milletvekili\", \"milli\", \"milli\", \"milli\", \"muhammet\", \"mustafa\", \"mustafa\", \"mustafa\", \"mustafa\", \"mutlu\", \"m\\u00fccadele\", \"m\\u00fccadele\", \"m\\u00fccadele\", \"m\\u00fcdahale\", \"m\\u00fcd\\u00fcr\", \"m\\u00fcd\\u00fcrl\\u00fc\\u011f\\u00fc\", \"m\\u00fcd\\u00fcrl\\u00fc\\u011f\\u00fc\", \"m\\u00fcd\\u00fcrl\\u00fc\\u011f\\u00fcne\", \"m\\u00fcebbet\", \"m\\u00fcmk\\u00fcn\", \"namaz\\u0131\", \"ndan\", \"ndan\", \"nedeni\", \"nefes\", \"nefes\", \"nisan\", \"nisan\", \"n\\u00f6bet\\u00e7i\", \"olacak\", \"olacak\", \"olacak\", \"olacak\", \"olaca\\u011f\\u0131\", \"olaca\\u011f\\u0131z\", \"olaca\\u011f\\u0131z\", \"olay\", \"olay\", \"olay\", \"olayla\", \"olayla\", \"olay\\u0131n\", \"olay\\u0131n\", \"oldu\", \"oldu\", \"oldu\", \"oldu\", \"oldu\", \"olduklar\\u0131\", \"olduklar\\u0131\", \"olduklar\\u0131\", \"oldu\\u011fumuz\", \"oldu\\u011funa\", \"oldu\\u011funa\", \"olmadan\", \"olmadan\", \"olmamas\\u0131\", \"olmamas\\u0131\", \"olmas\\u0131n\", \"olmas\\u0131n\\u0131\", \"olmu\\u015ftur\", \"oluyor\", \"onlara\", \"onlara\", \"operasyon\", \"operasyonda\", \"orada\", \"oraya\", \"ordu\", \"organize\", \"organize\", \"orta\", \"ortada\", \"ortadan\", \"ortadan\", \"ortak\", \"ortak\", \"ortak\", \"ortaya\", \"ortaya\", \"ortaya\", \"ortaya\", \"ortaya\", \"ortaya\", \"osman\", \"osman\", \"osmangazi\", \"otomobil\", \"otomobilin\", \"otopsi\", \"oylar\", \"o\\u011flu\", \"park\\u0131\", \"parti\", \"parti\", \"partilerin\", \"partili\", \"partisi\", \"partisi\", \"partisi\", \"payla\\u015ft\\u0131\", \"payla\\u015ft\\u0131\", \"payla\\u015f\\u0131mda\", \"pazar\", \"personel\", \"plakal\\u0131\", \"polis\", \"polis\", \"polis\", \"polise\", \"polisi\", \"prof\", \"prof\", \"recep\", \"recep\", \"resmi\", \"resmi\", \"resmi\", \"saadet\", \"saat\", \"saat\", \"saatlerinde\", \"saatlerinde\", \"saatlerinde\", \"saatlerinde\", \"saatte\", \"sabah\", \"sabah\", \"sabah\", \"sabah\", \"sahil\", \"sahip\", \"sahip\", \"sahip\", \"sahip\", \"sahte\", \"sakarya\", \"sakinleri\", \"sald\\u0131r\\u0131\", \"sald\\u0131r\\u0131s\\u0131na\", \"salonu\", \"sana\", \"sand\\u0131k\", \"sand\\u0131kta\", \"sand\\u0131kta\", \"san\\u0131k\", \"san\\u0131k\", \"san\\u0131klar\\u0131n\", \"san\\u0131\\u011fa\", \"san\\u0131\\u011f\\u0131n\", \"san\\u0131\\u011f\\u0131n\", \"sava\\u015f\", \"savc\\u0131\", \"savc\\u0131\", \"savc\\u0131\", \"savc\\u0131lar\", \"savc\\u0131s\\u0131\", \"savunma\", \"savunma\", \"savunma\", \"say\\u0131l\\u0131\", \"say\\u0131l\\u0131\", \"say\\u0131m\", \"say\\u0131n\", \"say\\u0131n\", \"say\\u0131s\\u0131n\\u0131n\", \"sa\\u011fl\\u0131k\", \"sa\\u011fl\\u0131k\", \"sel\\u00e7uk\", \"serbest\", \"serbest\", \"serbest\", \"sevk\", \"sevk\", \"sevk\", \"sevk\", \"seyhan\", \"se\\u00e7im\", \"se\\u00e7im\", \"se\\u00e7imde\", \"se\\u00e7imde\", \"se\\u00e7ime\", \"se\\u00e7imi\", \"se\\u00e7imi\", \"se\\u00e7imin\", \"se\\u00e7imlerde\", \"se\\u00e7imlerin\", \"se\\u00e7imlerinin\", \"se\\u00e7imlerinin\", \"se\\u00e7men\", \"silah\", \"silah\", \"silah\", \"silah\", \"silahl\\u0131\", \"silahl\\u0131\", \"sinan\", \"sivas\", \"siyasi\", \"siyasi\", \"siyasi\", \"sizlerin\", \"sohbet\", \"sohbet\", \"sokakta\", \"somut\", \"sona\", \"sonra\", \"sonra\", \"sonra\", \"sonra\", \"sonra\", \"sonra\", \"sonra\", \"sonra\", \"sonucu\", \"sonucu\", \"sonucu\", \"sonucu\", \"sonucu\", \"sonucunda\", \"sonucunda\", \"sonuna\", \"sonunda\", \"sonunda\", \"sonunda\", \"sonu\\u00e7\", \"sonu\\u00e7\", \"sonu\\u00e7lar\\u0131na\", \"sorumlu\", \"sorumlusu\", \"soru\\u015fturma\", \"soru\\u015fturma\", \"sosyal\", \"sosyal\", \"soylu\", \"spor\", \"spor\", \"sulh\", \"suretiyle\", \"suriye\", \"su\\u00e7lamalar\\u0131\", \"su\\u00e7larla\", \"su\\u00e7lar\\u0131ndan\", \"su\\u00e7undan\", \"su\\u00e7undan\", \"su\\u00e7undan\", \"s\\u00f6yledi\", \"s\\u00f6yledi\", \"s\\u00f6yledi\", \"s\\u00f6yledi\", \"s\\u00f6yledi\", \"s\\u00f6yledi\", \"s\\u00f6yledi\", \"s\\u00f6yledi\\u011fi\", \"s\\u00f6zc\\u00fcs\\u00fc\", \"s\\u00fcleyman\", \"s\\u00fcper\", \"s\\u00fcre\", \"s\\u00fcre\", \"s\\u00fcre\", \"s\\u00fcre\", \"s\\u00fcre\", \"s\\u00fcreci\", \"s\\u00fcrecin\", \"s\\u00fcrede\", \"s\\u00fcrede\", \"s\\u00fcr\\u00fcc\\u00fc\", \"s\\u00fcr\\u00fcc\\u00fcs\\u00fc\", \"s\\u00fcr\\u00fcld\\u00fc\", \"s\\u00fcr\\u00fcyor\", \"s\\u00fcr\\u00fcyor\", \"s\\u00fcr\\u00fcyor\", \"s\\u0131ra\", \"s\\u0131ra\", \"s\\u0131rada\", \"s\\u0131rada\", \"s\\u0131rada\", \"s\\u0131ralar\\u0131nda\", \"tabanca\", \"tabii\", \"talep\", \"tamamland\\u0131\", \"tane\", \"tane\", \"tane\", \"tane\", \"tan\\u0131k\", \"tarihi\", \"tarihi\", \"tarihinde\", \"tarihine\", \"tart\\u0131\\u015fma\", \"tart\\u0131\\u015fman\\u0131n\", \"tayyip\", \"tebrik\", \"tedavi\", \"tekirda\\u011f\", \"teknik\", \"tekrar\", \"tekrar\", \"tekrar\", \"temel\", \"temel\", \"temel\", \"temin\", \"temin\", \"temmuz\", \"temmuz\", \"ter\\u00f6r\", \"ter\\u00f6r\", \"ter\\u00f6rist\", \"ter\\u00f6rist\", \"ter\\u00f6ristin\", \"ter\\u00f6rle\", \"ter\\u00f6rle\", \"teslim\", \"teslim\", \"teslim\", \"teslim\", \"teslim\", \"tespit\", \"tespit\", \"tespit\", \"tespit\", \"tespit\", \"tespit\", \"tespit\", \"te\\u015febb\\u00fcs\", \"toplam\", \"toplam\", \"toplam\", \"toplam\", \"toplamda\", \"toplant\\u0131\", \"topra\\u011fa\", \"toto\", \"trafik\", \"trafik\", \"tutukland\\u0131\", \"tutukland\\u0131\", \"tutuklu\", \"tutuklu\", \"tutukluluk\", \"tutuksuz\", \"twitter\", \"t\\u00fcrk\", \"t\\u00fcrk\", \"t\\u00fcrk\", \"t\\u00fcrkiye\", \"t\\u00fcrkiye\", \"t\\u00fcrkiye\", \"t\\u00fcrkiyenin\", \"t\\u00fcrl\\u00fc\", \"t\\u00fcrl\\u00fc\", \"t\\u00fcrl\\u00fc\", \"umut\", \"uyar\\u0131nca\", \"uygulama\", \"uygun\", \"uygun\", \"uyu\\u015fturucu\", \"uyu\\u015fturucu\", \"uzman\", \"uzun\", \"uzun\", \"uzun\", \"uzun\", \"vakti\", \"vatanda\\u015flara\", \"vatanda\\u015flarla\", \"vatanda\\u015flar\\u0131m\\u0131z\\u0131n\", \"verdi\", \"verdi\", \"verdi\", \"verdi\", \"verdi\", \"verdi\", \"verilen\", \"verilen\", \"verilen\", \"verilmesi\", \"verilmesini\", \"verme\", \"vermeye\", \"vermeye\", \"vermi\\u015f\", \"vurdu\", \"vurgulayan\", \"vurgulayan\", \"yakalama\", \"yakalamak\", \"yakla\\u015f\\u0131k\", \"yakla\\u015f\\u0131k\", \"yakla\\u015f\\u0131k\", \"yakla\\u015f\\u0131k\", \"yang\\u0131n\", \"yang\\u0131nda\", \"yang\\u0131n\\u0131\", \"yans\\u0131d\\u0131\", \"yan\\u0131\", \"yan\\u0131ndaki\", \"yapan\", \"yapan\", \"yapan\", \"yapan\", \"yapan\", \"yapan\", \"yapan\", \"yapan\", \"yapmas\\u0131\", \"yapt\\u0131k\", \"yapt\\u0131lar\", \"yapt\\u0131m\", \"yap\\u0131lan\", \"yap\\u0131ld\\u0131\", \"yap\\u0131ld\\u0131\", \"yap\\u0131ld\\u0131\", \"yap\\u0131ld\\u0131\\u011f\\u0131\", \"yap\\u0131l\\u0131yor\", \"yaralanan\", \"yaraland\\u0131\", \"yaral\\u0131\", \"yaral\\u0131lar\", \"yard\\u0131m\", \"yard\\u0131m\", \"yard\\u0131m\", \"yard\\u0131mc\\u0131s\\u0131\", \"yard\\u0131mc\\u0131s\\u0131\", \"yard\\u0131mc\\u0131s\\u0131\", \"yard\\u0131m\\u0131yla\", \"yard\\u0131m\\u0131yla\", \"yarg\\u0131\", \"yasa\", \"yasal\", \"yavuz\", \"yavuz\", \"yaz\\u0131l\\u0131\", \"yaz\\u0131l\\u0131\", \"ya\\u015fad\\u0131\\u011f\\u0131\", \"ya\\u015fam\", \"ya\\u015fam\\u0131n\\u0131\", \"ya\\u015fananlar\", \"ya\\u015fananlarson\", \"ya\\u015fand\\u0131\", \"ya\\u015fl\\u0131\", \"yeni\", \"yeni\", \"yeni\", \"yeni\", \"yeni\", \"yeniden\", \"yeniden\", \"yerli\", \"yeterli\", \"yolu\", \"yolu\", \"yolu\", \"yolunu\", \"yunus\", \"yusuf\", \"y\\u00f6nelik\", \"y\\u00f6nelik\", \"y\\u00f6nelik\", \"y\\u00f6nelik\", \"y\\u00fckl\\u00fc\", \"y\\u00fcksek\", \"y\\u00fcksek\", \"y\\u00fcksek\", \"y\\u00fckselen\", \"y\\u00fckselen\", \"y\\u00fcr\\u00fct\\u00fclen\", \"y\\u00fcr\\u00fct\\u00fclen\", \"y\\u00fczde\", \"y\\u00fczde\", \"y\\u0131la\", \"y\\u0131lda\", \"y\\u0131ldan\", \"y\\u0131ld\\u0131r\\u0131m\", \"y\\u0131ld\\u0131r\\u0131m\", \"y\\u0131llarda\", \"y\\u0131llarda\", \"y\\u0131lmaz\", \"y\\u0131l\\u0131nda\", \"y\\u0131l\\u0131nda\", \"y\\u0131l\\u0131nda\", \"y\\u0131l\\u0131ndan\", \"zaman\", \"zaman\", \"zaman\", \"zaman\", \"zamanl\\u0131\", \"zanl\\u0131\", \"zanl\\u0131lar\\u0131n\", \"zarar\", \"zillet\", \"\\u00e7al\\u0131\\u015faca\\u011f\\u0131z\", \"\\u00e7al\\u0131\\u015fan\", \"\\u00e7al\\u0131\\u015fan\", \"\\u00e7al\\u0131\\u015fan\", \"\\u00e7al\\u0131\\u015fan\", \"\\u00e7al\\u0131\\u015fan\", \"\\u00e7al\\u0131\\u015fan\\u0131\", \"\\u00e7al\\u0131\\u015fma\", \"\\u00e7al\\u0131\\u015fmalar\", \"\\u00e7al\\u0131\\u015fmalar\", \"\\u00e7al\\u0131\\u015fmalar\", \"\\u00e7al\\u0131\\u015fmalar\", \"\\u00e7al\\u0131\\u015fmalara\", \"\\u00e7al\\u0131\\u015fmalar\\u0131\", \"\\u00e7al\\u0131\\u015fmalar\\u0131\", \"\\u00e7al\\u0131\\u015fmalar\\u0131\", \"\\u00e7ekerek\", \"\\u00e7ekilen\", \"\\u00e7ekilen\", \"\\u00e7elik\", \"\\u00e7elik\", \"\\u00e7evredeki\", \"\\u00e7ocuklara\", \"\\u00e7ocu\\u011fu\", \"\\u00e7\\u0131kan\", \"\\u00e7\\u0131kan\", \"\\u00e7\\u0131kan\", \"\\u00e7\\u0131kan\", \"\\u00e7\\u0131kan\", \"\\u00e7\\u0131kan\", \"\\u00e7\\u0131kar\", \"\\u00e7\\u0131kard\\u0131\", \"\\u00e7\\u0131karken\", \"\\u00e7\\u0131kt\\u0131\", \"\\u00e7\\u0131kt\\u0131\", \"\\u00e7\\u0131kt\\u0131\", \"\\u00e7\\u0131kt\\u0131\", \"\\u00e7\\u0131kt\\u0131\\u011f\\u0131\", \"\\u00e7\\u0131k\\u0131yor\", \"\\u00e7\\u0131k\\u0131yor\", \"\\u00e7\\u0131k\\u0131\\u015f\", \"\\u00f6ld\\u00fcrme\", \"\\u00f6len\", \"\\u00f6nce\", \"\\u00f6nce\", \"\\u00f6nce\", \"\\u00f6nce\", \"\\u00f6nce\", \"\\u00f6nce\", \"\\u00f6nce\", \"\\u00f6nce\", \"\\u00f6ncesi\", \"\\u00f6nde\", \"\\u00f6nemli\", \"\\u00f6nemli\", \"\\u00f6nemli\", \"\\u00f6nemli\", \"\\u00f6n\\u00fcne\", \"\\u00f6n\\u00fcne\", \"\\u00f6rg\\u00fct\", \"\\u00f6rg\\u00fcte\", \"\\u00f6rg\\u00fct\\u00fc\", \"\\u00f6rg\\u00fct\\u00fcn\", \"\\u00f6rg\\u00fct\\u00fcne\", \"\\u00f6rg\\u00fct\\u00fcn\\u00fcn\", \"\\u00f6zel\", \"\\u00f6zel\", \"\\u00f6zel\", \"\\u00f6zel\", \"\\u00f6zel\", \"\\u00f6zt\\u00fcrk\", \"\\u00f6\\u011fle\", \"\\u00f6\\u011frenilen\", \"\\u00f6\\u011fretim\", \"\\u00f6\\u011fretmen\", \"\\u00fclke\", \"\\u00fclke\", \"\\u00fclkede\", \"\\u00fclkemizde\", \"\\u00fclkemizin\", \"\\u00fclkenin\", \"\\u00fcnc\\u00fc\", \"\\u00fcniversitesi\", \"\\u00fcniversitesi\", \"\\u00fcyelerinin\", \"\\u00fcyesi\", \"\\u00fcyesi\", \"\\u00fcyesi\", \"\\u00fczerinde\", \"\\u00fczerinde\", \"\\u00fczerinde\", \"\\u00fczerinde\", \"\\u00fczerinde\", \"\\u00fczerinde\", \"\\u00fczerinde\", \"\\u00fczerine\", \"\\u00fczerine\", \"\\u00fczerine\", \"\\u00fczerine\", \"\\u00fczerine\", \"\\u00fczerine\", \"\\u00fczerine\", \"\\u00fczerine\", \"\\u00fc\\u00e7\\u00fcnc\\u00fc\", \"\\u015fahin\", \"\\u015fahs\\u0131n\", \"\\u015fah\\u0131s\", \"\\u015fanl\\u0131urfa\", \"\\u015fekilde\", \"\\u015fekilde\", \"\\u015fekilde\", \"\\u015fekilde\", \"\\u015fekilde\", \"\\u015fekilde\", \"\\u015fiddet\", \"\\u015fiddet\", \"\\u015fikayet\", \"\\u015fikayet\\u00e7i\", \"\\u015fimdi\", \"\\u015fimdi\", \"\\u015fimdi\", \"\\u015fube\", \"\\u015fube\", \"\\u015f\\u00fcpheli\", \"\\u015f\\u00fcpheliler\", \"\\u015f\\u00fcpheliler\", \"\\u015f\\u00fcphelilerden\", \"\\u015f\\u00fcphelilerin\", \"\\u015f\\u00fcphelilerin\"]}, \"R\": 30, \"lambda.step\": 0.01, \"plot.opts\": {\"xlab\": \"PC1\", \"ylab\": \"PC2\"}, \"topic.order\": [19, 20, 14, 7, 18, 13, 10, 6, 1, 12, 16, 15, 5, 3, 4, 2, 9, 17, 11, 8]};\n",
       "\n",
       "function LDAvis_load_lib(url, callback){\n",
       "  var s = document.createElement('script');\n",
       "  s.src = url;\n",
       "  s.async = true;\n",
       "  s.onreadystatechange = s.onload = callback;\n",
       "  s.onerror = function(){console.warn(\"failed to load library \" + url);};\n",
       "  document.getElementsByTagName(\"head\")[0].appendChild(s);\n",
       "}\n",
       "\n",
       "if(typeof(LDAvis) !== \"undefined\"){\n",
       "   // already loaded: just create the visualization\n",
       "   !function(LDAvis){\n",
       "       new LDAvis(\"#\" + \"ldavis_el355230597080271923082323350\", ldavis_el355230597080271923082323350_data);\n",
       "   }(LDAvis);\n",
       "}else if(typeof define === \"function\" && define.amd){\n",
       "   // require.js is available: use it to load d3/LDAvis\n",
       "   require.config({paths: {d3: \"https://cdnjs.cloudflare.com/ajax/libs/d3/3.5.5/d3.min\"}});\n",
       "   require([\"d3\"], function(d3){\n",
       "      window.d3 = d3;\n",
       "      LDAvis_load_lib(\"https://cdn.rawgit.com/bmabey/pyLDAvis/files/ldavis.v1.0.0.js\", function(){\n",
       "        new LDAvis(\"#\" + \"ldavis_el355230597080271923082323350\", ldavis_el355230597080271923082323350_data);\n",
       "      });\n",
       "    });\n",
       "}else{\n",
       "    // require.js not available: dynamically load d3 & LDAvis\n",
       "    LDAvis_load_lib(\"https://cdnjs.cloudflare.com/ajax/libs/d3/3.5.5/d3.min.js\", function(){\n",
       "         LDAvis_load_lib(\"https://cdn.rawgit.com/bmabey/pyLDAvis/files/ldavis.v1.0.0.js\", function(){\n",
       "                 new LDAvis(\"#\" + \"ldavis_el355230597080271923082323350\", ldavis_el355230597080271923082323350_data);\n",
       "            })\n",
       "         });\n",
       "}\n",
       "</script>"
      ],
      "text/plain": [
       "PreparedData(topic_coordinates=              x         y  topics  cluster       Freq\n",
       "topic                                                \n",
       "18     0.135586 -0.147612       1        1  13.535976\n",
       "19    -0.216172 -0.158733       2        1  13.146654\n",
       "13     0.192733 -0.164252       3        1   9.751961\n",
       "6      0.175900 -0.102742       4        1   7.191019\n",
       "17     0.156402  0.009747       5        1   6.881384\n",
       "12    -0.226424 -0.009474       6        1   5.992587\n",
       "9      0.010289 -0.156967       7        1   5.760051\n",
       "5     -0.030085 -0.099945       8        1   5.752140\n",
       "0      0.024902 -0.011949       9        1   5.127204\n",
       "11     0.096646  0.052868      10        1   5.026842\n",
       "15     0.040311 -0.153320      11        1   4.626229\n",
       "14    -0.230130 -0.037872      12        1   4.424217\n",
       "4     -0.286700 -0.034896      13        1   2.997285\n",
       "2     -0.041313  0.116878      14        1   2.071550\n",
       "3      0.132077  0.055371      15        1   1.748636\n",
       "1     -0.000360  0.183589      16        1   1.467592\n",
       "8     -0.034724  0.148681      17        1   1.366694\n",
       "16     0.056526  0.145379      18        1   1.163876\n",
       "10     0.002033  0.197217      19        1   1.070998\n",
       "7      0.042505  0.168031      20        1   0.897106, topic_info=     Category        Freq           Term       Total  loglift  logprob\n",
       "23    Default  795.000000          parti  795.000000  30.0000  30.0000\n",
       "1599  Default  692.000000        erdoğan  692.000000  29.0000  29.0000\n",
       "928   Default  440.000000         kurulu  440.000000  28.0000  28.0000\n",
       "4     Default  677.000000       belediye  677.000000  27.0000  27.0000\n",
       "235   Default  878.000000        türkiye  878.000000  26.0000  26.0000\n",
       "78    Default  660.000000           olay  660.000000  25.0000  25.0000\n",
       "67    Default  874.000000       istanbul  874.000000  24.0000  24.0000\n",
       "400   Default  908.000000          seçim  908.000000  23.0000  23.0000\n",
       "576   Default  674.000000         sandık  674.000000  22.0000  22.0000\n",
       "563   Default  408.000000           ilçe  408.000000  21.0000  21.0000\n",
       "151   Default  560.000000          polis  560.000000  20.0000  20.0000\n",
       "408   Default  449.000000          terör  449.000000  19.0000  19.0000\n",
       "152   Default  225.000000         saatte  225.000000  18.0000  18.0000\n",
       "47    Default  449.000000       ekipleri  449.000000  17.0000  17.0000\n",
       "5     Default  416.000000     büyükşehir  416.000000  16.0000  16.0000\n",
       "3     Default  670.000000        başkanı  670.000000  15.0000  15.0000\n",
       "10    Default  521.000000          genel  521.000000  14.0000  14.0000\n",
       "185   Default  627.000000          devam  627.000000  13.0000  13.0000\n",
       "2     Default  354.000000         başkan  354.000000  12.0000  12.0000\n",
       "661   Default  350.000000       yıldırım  350.000000  11.0000  11.0000\n",
       "85    Default  878.000000          sonra  878.000000  10.0000  10.0000\n",
       "951   Default  375.000000           ceza  375.000000   9.0000   9.0000\n",
       "32    Default  753.000000       ardından  753.000000   8.0000   8.0000\n",
       "274   Default  363.000000         tespit  363.000000   7.0000   7.0000\n",
       "966   Default  343.000000          sanık  343.000000   6.0000   6.0000\n",
       "77    Default  320.000000      müdürlüğü  320.000000   5.0000   5.0000\n",
       "196   Default  310.000000           fetö  310.000000   4.0000   4.0000\n",
       "299   Default  280.000000           saat  280.000000   3.0000   3.0000\n",
       "146   Default  301.000000        meydana  301.000000   2.0000   2.0000\n",
       "566   Default  405.000000          karar  405.000000   1.0000   1.0000\n",
       "...       ...         ...            ...         ...      ...      ...\n",
       "329   Topic20   25.612993    cumhuriyeti   55.900002   3.9333  -3.7541\n",
       "419   Topic20   27.148855           yolu   76.578133   3.6768  -3.6958\n",
       "1067  Topic20   25.650789       açıklama   73.012260   3.6677  -3.7526\n",
       "394   Topic20   26.600407          resmi   86.920151   3.5297  -3.7162\n",
       "675   Topic20    5.600847       paylaştı   23.687714   3.2717  -5.2742\n",
       "1265  Topic20   11.597897     bildirildi   85.573151   2.7152  -4.5463\n",
       "377   Topic20   14.657787          milli  220.784500   2.0015  -4.3122\n",
       "341   Topic20    4.128621        geldiği   73.637199   1.8325  -5.5792\n",
       "2049  Topic20    0.058047           tipi    1.114566   1.7588  -9.8437\n",
       "1833  Topic20    0.058049         kapalı    1.114636   1.7588  -9.8436\n",
       "2068  Topic20    0.058043        zelanda    1.114570   1.7587  -9.8437\n",
       "2010  Topic20    0.058042           imha    1.114555   1.7587  -9.8437\n",
       "1965  Topic20    0.058041     fenerbahçe    1.114536   1.7587  -9.8438\n",
       "1946  Topic20    0.058043     vurgulandı    1.114565   1.7587  -9.8437\n",
       "1758  Topic20    0.058041          derin    1.114530   1.7587  -9.8438\n",
       "1993  Topic20    0.058042       mühimmat    1.114556   1.7587  -9.8438\n",
       "2047  Topic20    0.058042      dışişleri    1.114551   1.7587  -9.8438\n",
       "1923  Topic20    0.058043          gizli    1.114574   1.7587  -9.8437\n",
       "752   Topic20   17.863560        ilişkin  409.200195   1.5823  -4.1144\n",
       "1048  Topic20    0.651004     görüntüler   15.287009   1.5575  -7.4264\n",
       "1920  Topic20    0.058043         samsun    1.114583   1.7587  -9.8437\n",
       "1719  Topic20    0.058054  cumhurbaşkanı    1.114858   1.7586  -9.8435\n",
       "1701  Topic20    0.058044        bahçeli    1.114609   1.7587  -9.8437\n",
       "1827  Topic20    0.058044           ömer    1.114614   1.7587  -9.8437\n",
       "1757  Topic20    0.058049          darbe    1.114846   1.7586  -9.8436\n",
       "111   Topic20    0.132793       ailesine   20.139307  -0.3079  -9.0161\n",
       "1936  Topic20    0.058046    komutanlığı    1.114751   1.7586  -9.8437\n",
       "19    Topic20    0.246428           mart  361.543701  -2.5773  -8.3978\n",
       "227   Topic20    0.096667        savunma   90.098236  -2.1236  -9.3336\n",
       "861   Topic20    0.058050          küçük   68.589607  -2.3608  -9.8436\n",
       "\n",
       "[977 rows x 6 columns], token_table=      Topic      Freq           Term\n",
       "term                                \n",
       "1133      8  0.981506           2016\n",
       "1147      7  0.291551           2019\n",
       "1147     10  0.623316           2019\n",
       "1147     14  0.080428           2019\n",
       "280       7  0.149916           acil\n",
       "280       9  0.074958           acil\n",
       "280      12  0.768317           acil\n",
       "168      18  0.991520         adalet\n",
       "314       1  0.183311           aday\n",
       "314       5  0.794348           aday\n",
       "315       5  0.991935          adayı\n",
       "1463      6  0.987961           adet\n",
       "169      10  0.412518         adliye\n",
       "169      18  0.536273         adliye\n",
       "29        2  0.144853       adliyeye\n",
       "29        8  0.154510       adliyeye\n",
       "29       13  0.685638       adliyeye\n",
       "1211      6  0.975310         adrese\n",
       "1002      5  0.136985          ahmet\n",
       "1002      9  0.776249          ahmet\n",
       "1002     12  0.073059          ahmet\n",
       "110       1  0.026623           aile\n",
       "110       3  0.079870           aile\n",
       "110       7  0.785386           aile\n",
       "110       9  0.013312           aile\n",
       "110      14  0.079870           aile\n",
       "1084      4  0.034430         ailesi\n",
       "1084     14  0.929606         ailesi\n",
       "111       7  0.943429       ailesine\n",
       "259      14  0.935439      ailesinin\n",
       "...     ...       ...            ...\n",
       "106       8  0.018139        üzerine\n",
       "106       9  0.021766        üzerine\n",
       "106      12  0.088879        üzerine\n",
       "106      13  0.030836        üzerine\n",
       "1680     17  0.967907         üçüncü\n",
       "1146      9  0.987417          şahin\n",
       "456      13  0.983331         şahsın\n",
       "1426      6  0.979408          şahıs\n",
       "973      16  0.969566      şanlıurfa\n",
       "257       1  0.592671        şekilde\n",
       "257       3  0.151782        şekilde\n",
       "257       7  0.048185        şekilde\n",
       "257      11  0.065049        şekilde\n",
       "257      12  0.074686        şekilde\n",
       "257      18  0.065049        şekilde\n",
       "311       8  0.161379         şiddet\n",
       "311      17  0.806894         şiddet\n",
       "429       7  0.965315        şikayet\n",
       "1132      2  0.976964      şikayetçi\n",
       "430       3  0.264814          şimdi\n",
       "430       4  0.451165          şimdi\n",
       "430       5  0.279526          şimdi\n",
       "107       6  0.422729           şube\n",
       "107      13  0.569765           şube\n",
       "457       6  0.990034        şüpheli\n",
       "1594      8  0.072421     şüpheliler\n",
       "1594     13  0.905262     şüpheliler\n",
       "1185      7  0.966758  şüphelilerden\n",
       "1595      8  0.211633   şüphelilerin\n",
       "1595     13  0.770948   şüphelilerin\n",
       "\n",
       "[1543 rows x 3 columns], R=30, lambda_step=0.01, plot_opts={'xlab': 'PC1', 'ylab': 'PC2'}, topic_order=[19, 20, 14, 7, 18, 13, 10, 6, 1, 12, 16, 15, 5, 3, 4, 2, 9, 17, 11, 8])"
      ]
     },
     "execution_count": 41,
     "metadata": {},
     "output_type": "execute_result"
    }
   ],
   "source": [
    "# Visualize the topics\n",
    "pyLDAvis.enable_notebook()\n",
    "vis = pyLDAvis.gensim.prepare(lda_model, corpus, id2word)\n",
    "vis"
   ]
  },
  {
   "cell_type": "markdown",
   "metadata": {},
   "source": [
    "Each circle on Intertopic Distance Map shows a topic. These circles are proportional to topic frequencies, so if a circle is more large, that topic is more prevalent.\n",
    "\n",
    "If you have a big, non-overlapping circles scattered around the chart, that means you have a fairly good topic model.\n",
    "\n",
    "If you end up with too many topics, you will have many overlaps with small sized bubbles being clustered in one region of the map.\n",
    "\n",
    "If you select a circle or a *topic*, you will see it highlighted and when you look at the right-side, it will automatically give you the most relevant terms for that topic. Red bars indicate term-frequency within the selected topic. Gray bars indicate overall term-frequencies across the corpus. "
   ]
  },
  {
   "cell_type": "markdown",
   "metadata": {},
   "source": [
    "## 5. Conclusion"
   ]
  },
  {
   "cell_type": "markdown",
   "metadata": {},
   "source": [
    "Latent Dirichlet allocation is trained on non-labeled documents. LDA is typically evaluated by either measuring performance on some secondary task, such as document classification or information retrieval, or by estimating the probability of unseen held-out documents given some training documents. A better model will give rise to a higher probability of held-out documents, on average.\n",
    "\n",
    "Another way to *evaluate* whether your topic model is good or not is following your instinct. You can usually tell a story about the generated topics when you have a decent model.  \n",
    "\n",
    "In conclusion, the results are good. The topics are diverse and scattered throughout the map. But I couldn't eliminate all the stopwords, so some of the salient terms does not give meaningful insights. \n",
    "\n",
    "Most of the data I have are from political news and the keywords I got mostly belongs to the category of *politics*. So there is a relation between topics and documents. If you look at the results you can also see the corrolation depending on your instinct.  "
   ]
  },
  {
   "cell_type": "markdown",
   "metadata": {},
   "source": [
    "# Sources"
   ]
  },
  {
   "cell_type": "markdown",
   "metadata": {},
   "source": [
    "- Natural Language Annotation for Machine Learning\n",
    "- http://www.jmlr.org/papers/volume3/blei03a/blei03a.pdf\n",
    "- https://www.machinelearningplus.com/nlp/topic-modeling-gensim-python/#9createbigramandtrigrammodels"
   ]
  },
  {
   "cell_type": "markdown",
   "metadata": {},
   "source": [
    "**NOTES**\n",
    "\n",
    "1. I couldnt eliminate the stopwords and I even tried creating a different function to execute but that also didn't work.\n",
    "2. I will write the conclusions later.\n",
    "3. The csv' are not the same because I accidentally deleted the içerik list. So I had to scrape them again in a new csv called clean_data. I will correct the codes later. "
   ]
  },
  {
   "cell_type": "markdown",
   "metadata": {},
   "source": [
    "**Merve Ayan**"
   ]
  }
 ],
 "metadata": {
  "kernelspec": {
   "display_name": "Python 3",
   "language": "python",
   "name": "python3"
  },
  "language_info": {
   "codemirror_mode": {
    "name": "ipython",
    "version": 3
   },
   "file_extension": ".py",
   "mimetype": "text/x-python",
   "name": "python",
   "nbconvert_exporter": "python",
   "pygments_lexer": "ipython3",
   "version": "3.7.1"
  }
 },
 "nbformat": 4,
 "nbformat_minor": 2
}
