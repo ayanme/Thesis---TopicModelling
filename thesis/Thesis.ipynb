{
 "cells": [
  {
   "cell_type": "markdown",
   "metadata": {},
   "source": [
    "## 1. Introduction"
   ]
  },
  {
   "cell_type": "markdown",
   "metadata": {},
   "source": [
    "### 1.1 Natural Language Processing\n",
    "\n",
    "Natural Language Processing is an area of computer science and information engineering within the field of Artificial Intelligence that is focused on the interaction between machines and humans using the natural language. The major tasks of NLP include:\n",
    "\n",
    "- *Question Answering Systems (QAS)* - These systems automatically answer questions from users in a natural language.\n",
    "\n",
    "- *Summarization* - The goal of this field is to create a logical and fluent summary from a collection of documents or emails. \n",
    "\n",
    "- *Machine Translation* - Being one of the significant areas of NLP, machine translation refers to the assignment of automatically converting a given text to other languages fluently while preserving the original meaning of the text.\n",
    "\n",
    "- *Speech Recognition* - Speech recognition aims to enable machines to recognize and translate the spoken language into text.\n",
    "\n",
    "- *Document classification* - This is one of the strong areas of NLP.  Document classification aims to distinguish the category of a document.\n",
    "\n"
   ]
  },
  {
   "cell_type": "markdown",
   "metadata": {},
   "source": [
    "### 1.2 Topic Modelling\n",
    "\n",
    "\n",
    "Topic modelling is the process of discovering the key themes that occur in a collection of documents. It is mostly used as a text-mining tool to find hidden semantic structures in a text body. One of the topic models vastly used is Latent Dirichlet Allocation. LDA assumes that documents are randomly generated from a set of topics which each of these topics being a word distribution. These topics are hidden distributions derived from the regulation through the Dirichlet process. The algorithm repeats this process a number of times for each document, adjusting the topics thoroughly to adapt them to reach a fixed convergence.\n"
   ]
  },
  {
   "cell_type": "markdown",
   "metadata": {},
   "source": [
    "## 2. Review of Literature"
   ]
  },
  {
   "cell_type": "markdown",
   "metadata": {},
   "source": [
    "### 2.1 Terminology\n",
    "    \n",
    "  In the paper, we use specific terms for the text collections. We refer to these such as \"words\", \"corpora\" and \"topic\".  It makes it easier for us to understand and make it much clearer when we are trying to identify topics after we precede latent variables. \n",
    "    \n",
    "   We define the following terms:\n",
    "    \n",
    "   - *Word* - The basic element of discrete data. It is also called a \"token\". It can be formally defined as an element from a vocabulary that is indexed by {1,...,V}. Words are represented as unit-based vectors that have one componant equal to one and other components equal to zero. So, the *v*th word from a vocabulary is denoted as a V-vector w such as $w^v$ = 1 and $w^u$ = 0 for u$\\neq$v.\n",
    "   \n",
    "   \n",
    "   - *Vocabulary* - A vocabulary is defined as a collection of all unique words. Formally, it is denoted as a V-vector that is indexed by {1,...,V}. \n",
    "   \n",
    "   \n",
    "   - *Document* - A document denoted by w = ($w_1$,$w_2$,...,$w_N$) is a sequence of N words, where $w_n$ is the *n*th word in the sequence.\n",
    "   \n",
    "  \n",
    "   - *Corpus* -  A corpus denoted by D = {$w_1$,$w_2$,...,$w_M$} is a collection of M documents. \n",
    "   \n",
    "  \n",
    "   - *Topic* - A topic is a probability distribution on vocabulary\n",
    "    "
   ]
  },
  {
   "cell_type": "markdown",
   "metadata": {},
   "source": [
    "**Topic Models**"
   ]
  },
  {
   "cell_type": "markdown",
   "metadata": {},
   "source": [
    "   Topic models are used for identifying abstract \"topics\", or \"latent\" variables in a collection of documents. With the use    of topics, the goals differ from examining a large corpus to classifying new documents."
   ]
  },
  {
   "cell_type": "markdown",
   "metadata": {},
   "source": [
    "### 2.2 Brief History of Topic Modelling"
   ]
  },
  {
   "cell_type": "markdown",
   "metadata": {},
   "source": [
    " With the need for making documents more understandable, the methods for text mining were created. The basic concept of text mining is to extract meaningful numeric indices from a text. Term-frequency inverse-document-frequency (tf-idf) was the first method to be used. This method compares the frequency of a word in a document to its overall occurrence in all documents, which shows us the importance of that word in the document. But it does not provide a special insight. For example, it may show us the high frequency of two terms but we can't see the information about how frequently they are used together.  Tf-idf matrix is used by latent semantic indexing (LSI) which is where the foundation of a topic model came from. We can get the key correlation by applying the Singular Value Decomposition(SVD) to the matrix. Continuing from the example above, this will give us the information about how frequently they are used together. \n",
    " \n",
    "LSI was introduced in 1988 by Deerwester et al.  It was used for the progress of a topic model in 1990 as a source but it is not a probabilistic model, therefore it is not a genuine model. \n",
    "  \n",
    "In 1999, Thomas Hofmann created probabilistic latent semantic analysis (PLSA or also known as PLSI). PLSI is a latent class model that is established from a mixture decomposition.  It chooses a random topic from the document's topic distribution and then it chooses a random word from the document's word distribution to generate a word. Basically, as a generative model, it analyses the co-occurrence data of words and documents. For example, if the algorithm chose the topic as vehicle, the generated words will be such as \"car\" or \"door\" and in that case, we can also see them having a high occurrence. The disadvantage is that this method leads to overfitting. \n",
    "   \n",
    "Latent Dirichlet allocation (LDA) is an extension of PLSA. LDA is the most popular topic model that is being used as a base for other probabilistic models.  "
   ]
  },
  {
   "cell_type": "markdown",
   "metadata": {},
   "source": [
    "### 2.3 Latent Dirichlet Allocation"
   ]
  },
  {
   "cell_type": "markdown",
   "metadata": {},
   "source": [
    "#### 2.3.1 LDA Assumptions"
   ]
  },
  {
   "cell_type": "markdown",
   "metadata": {},
   "source": [
    "LDA is the simplest topic model and has a couple of key assumptions: "
   ]
  },
  {
   "cell_type": "markdown",
   "metadata": {},
   "source": [
    "1. Distribution over a vocabulary is called a *topic*.\n",
    "\n",
    "2. Each document is created by randomly choosing a topic over a topic mixture, and then randomly choosing a word from that topic. Each word in the document is generated by repeating this process.\n",
    "\n",
    "3. Each document have a set of topics.\n",
    "\n",
    "4. Documents are represented by by a probability mass function for topic selection.\n",
    "\n",
    "5. Words are assumed to be unordered and they are also generated indepently of other words. In other way, it means we can take each document as \"bag of words\".\n",
    "\n",
    "6. The number of topics is the only parameter that is defined prior.\n",
    "\n",
    "We can observe only  the results for the given documents.  Hidden distributions of topics must be deduced.  The difference between LDA and other methods is that for LDA, Dirichlet distribution is the prior distribution for each topic. After randomly choosing topics, Bayesian Inference is used for iterating them which in every iteration the algorithm renews every topic in accordance to the relation between the topics and documents. This process proceeds until the user is satisfied."
   ]
  },
  {
   "cell_type": "markdown",
   "metadata": {},
   "source": [
    "#### 2.3.2 Bayesian Inference"
   ]
  },
  {
   "cell_type": "markdown",
   "metadata": {},
   "source": [
    "Bayesian Inference is the process of adjusting the changes of an event which is the Bayesian interpretation of probability, in regards to the new data that is being collected. But it does not ignore the previous data. \n",
    "For example, you went to your hometown. I can make several assumptions about how you travelled:\n",
    "- You traveled by car.\n",
    "- You traveled by train.\n",
    "- You walked all the way.\n",
    "\n",
    "With the previos data or observation I can tell that that the probability of you travelling by foot is low because the data shows people do not usually travel like that. If I see a train ticket, the probability of you taking the train gets higher and other possibilities gets lower. If I see dirt on your shoes I can assume you walked all the way but I will be skeptical about it because of the previous data. So with the observation of the available data I have, I can improve the possibilities of my estimates. "
   ]
  },
  {
   "cell_type": "markdown",
   "metadata": {},
   "source": [
    "#### 2.3.3 Dirichlet Distribution"
   ]
  },
  {
   "cell_type": "markdown",
   "metadata": {},
   "source": [
    "LDA assumes the following generative process for each document w in a corpus D:\n",
    "1. Choose *N* ∼ Poisson(ξ).\n",
    "2. Choose θ ∼ Dir(α).\n",
    "3. For each of the *N* words $w_n$:\n",
    "    - Choose a topic $z_n$ ∼ Multinomial(θ).\n",
    "    - Choose a word $w_n$ from p($w_n$ |$z_n$,β), a multinomial probability conditioned on the topic $z_n$.\n",
    "\n",
    "Dirichlet distribution is a multivariate generalization of the Beta distribution. Thus, we need to start with *Beta Distribution*."
   ]
  },
  {
   "cell_type": "markdown",
   "metadata": {},
   "source": [
    "**Beta Distribution:**"
   ]
  },
  {
   "cell_type": "markdown",
   "metadata": {},
   "source": [
    "This is a distribution over [0,1] with parameters, α and β. These parameters control the shape of the distribution, and it's probability density function is given by\n",
    "\n",
    "\\begin{aligned}f(x;\\alpha ,\\beta )&={\\frac {1}{\\mathrm {B} (\\alpha ,\\beta )}}x^{\\alpha -1}(1-x)^{\\beta -1}\\end{aligned}\n",
    "\n",
    "\n",
    "\n",
    "- *B(α, β)* - Beta function serves to normalize the distribution.\n"
   ]
  },
  {
   "cell_type": "markdown",
   "metadata": {},
   "source": [
    "**Multinomial Distribution:**"
   ]
  },
  {
   "cell_type": "markdown",
   "metadata": {},
   "source": [
    "$x_i$ ∈ {0, . . . , n} , $θ_i$ $\\geq$ 0\n",
    "\n",
    "\\begin{aligned} P(X_1=x_1,...,X_n=x_n)=\\frac{N!}{\\prod_{i=1}^{k}{x_i!}}\\prod_{i=1}^{k}\\theta_i^{x_i},N=\\sum_{i=1}^kx_i, \\sum_{i=1}^k\\theta_i = 1\\end{aligned} "
   ]
  },
  {
   "cell_type": "markdown",
   "metadata": {},
   "source": [
    "When k = 1, the multinomial distribution simplifies to a unigram language model with 1-of-V coding:"
   ]
  },
  {
   "cell_type": "markdown",
   "metadata": {},
   "source": [
    "\\begin{aligned}P(x|\\theta)=\\prod_{i=1}^k\\theta_i^{x_i}, \\sum_{i=1}^k\\theta_i =1\\end{aligned} \n",
    "\n",
    "In multimonial distribution: \n",
    "\n",
    "- $x_i$ indicates word *i* of the vocabulary observed.\n",
    "\n",
    "- $θ_i$ = P($w_i$) indicates the probability that word *i* is seen."
   ]
  },
  {
   "cell_type": "markdown",
   "metadata": {},
   "source": [
    "**Dirichlet Distribution:**"
   ]
  },
  {
   "cell_type": "markdown",
   "metadata": {},
   "source": [
    "Dirichlet (continuous) distribution with parameter α given by:\n",
    "\n",
    "\\begin{aligned}p(x|\\alpha) = {\\frac{\\Gamma (\\sum_{i=1}^{k}\\alpha_{i})}{\\prod_{i=1}^{k}\\Gamma (\\alpha_{i})}{\\prod_{i=1}^{k}x_i^{\\alpha_{i}-1}} }\\end{aligned} \n",
    "\n",
    "- k is the dimensionality of the distribution.\n",
    "- α is a k-vector with components $α_i$ > 0\n",
    "- Γ(x) is the Gamma function"
   ]
  },
  {
   "cell_type": "markdown",
   "metadata": {},
   "source": [
    "Given the parameters α and β, the joint distribution of a topic mixture θ, a set of N topics z, and a set of N words w is given by:\n",
    "\n",
    "\\begin{aligned}p(\\theta,z,w|\\alpha,\\beta)={{p(\\theta|\\alpha)}{\\prod_{n=1}^{n}p(z_n|\\theta)p(w_n|z_n,\\beta)}}\\end{aligned}"
   ]
  },
  {
   "cell_type": "markdown",
   "metadata": {},
   "source": [
    "<img alt=\"File:Latent Dirichlet allocation.svg\" src=\"http://www.wikizero.biz/index.php?q=aHR0cDovL3VwbG9hZC53aWtpbWVkaWEub3JnL3dpa2lwZWRpYS9jb21tb25zL3RodW1iL2QvZDMvTGF0ZW50X0RpcmljaGxldF9hbGxvY2F0aW9uLnN2Zy81OTNweC1MYXRlbnRfRGlyaWNobGV0X2FsbG9jYXRpb24uc3ZnLnBuZw\" decoding=\"async\" width=\"300\" height=\"100\" srcset=\"//upload.wikimedia.org/wikipedia/commons/thumb/d/d3/Latent_Dirichlet_allocation.svg/890px-Latent_Dirichlet_allocation.svg.png 1.5x, //upload.wikimedia.org/wikipedia/commons/thumb/d/d3/Latent_Dirichlet_allocation.svg/1186px-Latent_Dirichlet_allocation.svg.png 2x\" data-file-width=\"593\" data-file-height=\"311\">\n",
    "\n",
    "This is the *Plate diagram of the graphical model of LDA*. The boxes are “plates” representing replicates. The outer plate represents documents, while the inner plate represents the repeated choice of topics and words within a document."
   ]
  },
  {
   "cell_type": "markdown",
   "metadata": {},
   "source": [
    "#### 2.3.4 LDA Implementations"
   ]
  },
  {
   "cell_type": "markdown",
   "metadata": {},
   "source": [
    "LDA has various implementations but it all comes down to two standart formulations. The difference in these formulations lays within the changes of Dirichlet priors based on the iterations. \n",
    "\n",
    "Variational Bayes creates small sets that are optimized analytically with controllable local optimums using the unknows. These optimums are dependent of other parameters. Thus, to reach a convergence, sets are optimized in an iterative process. \n",
    "\n",
    "With Gibbs sampling, each measurement is examined over and over again which renews the latent distributions using Bayesin Inference. The posterior distribution will tend toward the values of the deduced parameters that are mostly likely to generate the observed data, but Gibbs sampling being a Monte Carlo method the rate of convergence is unbounded. So, there is a burn-in period which is the time between until the estimated distribution reaches a convergent behavior to represent the true distribution.\n",
    "\n",
    "If we compare the two of them, Gibbs sampling is easier to use but the burn-in period makes it less desirable to use. In the end, both methods are used for approximating the hidden parameters through iteration."
   ]
  },
  {
   "cell_type": "markdown",
   "metadata": {},
   "source": [
    "#### 2.3.5 LDA Strengths and Weaknesses"
   ]
  },
  {
   "cell_type": "markdown",
   "metadata": {},
   "source": [
    "Since every document is important for LDA, when we try to evaluate documents over a long span of time, it becomes hard to process. If we try to compare the documents that has a big time difference, we need to process each of them separately which in the end reduces the corpus. Consequently, we also can't observe the topic evaluation over the years. Topic evaluation being an importance of different fields, can only be observed by baseline LDA."
   ]
  },
  {
   "cell_type": "markdown",
   "metadata": {},
   "source": [
    "## 3. Experimental Validation"
   ]
  },
  {
   "cell_type": "markdown",
   "metadata": {},
   "source": [
    "### 3.1 Training Overview\n",
    "    \n",
    "I will use Python programming language to process the data, which is widely used for statistical computing. \n",
    "\n",
    "Python Package Index is able to interact with most of the different languages. It provides a huge standard library which even includes high use programming tasks as scripts. The advantage of language is in the fast use of different codes which shortens the coding time. Python being an open source tool, it is also free to use and distribute.\n",
    "\n",
    "This research consists of scraping websites, pre-processing of the data and model training. The first step is scraping the RSS feeds of Hürriyet and Cumhuriyet newspapers, but the format can not be processed directly by the algorithm. Thus, I need pre-processing steps to make the raw text data clean and useful. Pre-processing includes parsing the text data, tokenization, stopwords and removing. After the pre-processing step, a dictionary and a corpus is created. Then I apply the data to fit the LDA topic model. Finally, the fitted model will be used for clustering."
   ]
  },
  {
   "cell_type": "markdown",
   "metadata": {},
   "source": [
    " -  *RSS* - RSS is an abbreviation of Rich Site Summary. It is used for publishing regularly updated information. An RSS document includes texts and metadata such as title, description and publishing date.\n",
    " \n",
    "The main advantage of using RSS is that all of the content is in one centralized location which is time effective for users. Otherwise, you need to visit the websites one by one and try to find if there is any new content. \n",
    "Another advantage is that the links that are in the RSS feed have topics as subdirectories. For instance, if an article's topic is sports, you can see that in the link as *https://www..../sports/.../...*"
   ]
  },
  {
   "cell_type": "markdown",
   "metadata": {},
   "source": [
    "### 3.2 Data Retrieving"
   ]
  },
  {
   "cell_type": "code",
   "execution_count": 1,
   "metadata": {},
   "outputs": [],
   "source": [
    "import requests\n",
    "import feedparser\n",
    "from bs4 import BeautifulSoup\n",
    "import csv"
   ]
  },
  {
   "cell_type": "markdown",
   "metadata": {},
   "source": [
    "- [*requests*](https://pypi.org/project/requests/2.7.0/) - It allows you to send organic, grass-fed HTTP/1.1 requests, without doing any manual work. \n",
    "9\n",
    "- [*feedparser*](https://pypi.org/project/feedparser/) - FeedParser is a library that parses ATOM and RSS feeds. \n",
    "\n",
    "- [*BeautifulSoup*](https://pypi.org/project/beautifulsoup4) - Beautiful Soup is used for extracting data from HTML and XML files."
   ]
  },
  {
   "cell_type": "markdown",
   "metadata": {},
   "source": [
    "Below, I extracted the articles, or 'data', from [Hürriyet](http://www.cumhuriyet.com.tr/rss/son_dakika.xml) and [Cumhuriyet](http://www.hurriyet.com.tr/rss/gundem) newspapers' RSS feeds using feedparser and BeautifulSoup libraries. First, I created an empty list and after I extracted the links, I appended them to the empy list."
   ]
  },
  {
   "cell_type": "code",
   "execution_count": 2,
   "metadata": {
    "scrolled": true
   },
   "outputs": [
    {
     "name": "stdout",
     "output_type": "stream",
     "text": [
      "http://www.cumhuriyet.com.tr/haber/diger_sporlar/1410718/Monaco_da_pole_pozisyonu_Hamilton_in.html\n",
      "http://www.cumhuriyet.com.tr/haber/basketbol/1410716/ilk_yari_finalist_Anadolu_Efes.html\n",
      "http://www.cumhuriyet.com.tr/haber/ekonomi/1410713/Yargitay_dan_kredi_masraflarina_iliskin_karar.html\n",
      "http://www.cumhuriyet.com.tr/haber/futbol/1410705/TFF_baskanligina_5_aday.html\n",
      "http://www.cumhuriyet.com.tr/haber/siyaset/1410698/Cumhurbaskani_Yardimcisi_Oktay__Gonullere_hileyle_girilmeyecegine_inandik.html\n",
      "http://www.cumhuriyet.com.tr/haber/turkiye/1410666/_Kiyafeti_kirli__diye_minibuse_oturtulmamisti__Sevindiren_haber.html\n",
      "http://www.cumhuriyet.com.tr/haber/basketbol/1410662/Gaziantep_Basketbol_seriyi_esitledi.html\n",
      "http://www.cumhuriyet.com.tr/haber/turkiye/1410650/illegal_bahis_ve_kumar_oyununda_MASAK_milyonlarca_liraya_el_koydu.html\n",
      "http://www.cumhuriyet.com.tr/haber/turkiye/1410631/Ciftciye_tecavuz_iddiasi..._Mahkemede_bunlari_soyledi.html\n",
      "http://www.cumhuriyet.com.tr/haber/turkiye/1410629/Caya_dusen_lise_birincisi_Murat__kayboldu.html\n",
      "http://www.cumhuriyet.com.tr/haber/dunya/1410620/Tayland_da_kimyevi_madde_tasiyan_gemi_yandi__130_kisi_hastanelik_oldu.html\n",
      "http://www.cumhuriyet.com.tr/haber/turkiye/1410598/Koc_ailesinin_mutlu_gunu.html\n",
      "http://www.cumhuriyet.com.tr/haber/egitim/1410597/Atasehir_Belediyesi_600_genci_universiteye_hazirliyor.html\n",
      "http://www.cumhuriyet.com.tr/haber/futbol/1410574/_Gala_Gecesi__ne_zaman__hangi_kanalda__saat_kacta__Tum_detaylar.html\n",
      "http://www.cumhuriyet.com.tr/haber/yasam/1410552/Sevda_Demirel_den_Hande_Ataizi_ne_cok_konusulacak_teklif_.html\n",
      "http://www.cumhuriyet.com.tr/haber/foto_galeri/1410551/Aksener__Minareyi_caldilar_kilifi_250_sayfa.html\n"
     ]
    }
   ],
   "source": [
    "cumhuriyet_list_sondakika=[]\n",
    "\n",
    "feed = feedparser.parse('http://www.cumhuriyet.com.tr/rss/son_dakika.xml') \n",
    "   \n",
    "for post in feed.entries:\n",
    "    print(post.link)\n",
    "    cumhuriyet_list_sondakika.append(post.link) "
   ]
  },
  {
   "cell_type": "markdown",
   "metadata": {},
   "source": [
    "Below, I used the *cumhuriyet_list_sondakika* list to extract the article paragraphs.\n",
    "\n",
    "- The first *for loop* is for scraping every link one by one. \n",
    "\n",
    "- *request.get()* method is used for retrieving the data from the links. \n",
    "\n",
    "- BeautifulSoup creates a parse tree for parsed pages that. Using that parse tree we can find the elements of HTML such as *body*, *h1* and *p elements. \n",
    "The div* element here is a section which has an attribute of *news-body*.\n",
    "\n",
    "- The *if* loop works to find each of the *p* elements inside the *news-body* one by one.  \n",
    "\n",
    "- After this process, I created *clean_data.txt* and saved the data to csv.\n",
    "\n",
    "    - clean_data.txt - It has all the article paragraphs."
   ]
  },
  {
   "cell_type": "markdown",
   "metadata": {},
   "source": [
    "Note that we have to use different codes for different websites when scraping. Because every site has a structure that is individual to them. HTML elements can be contained with different names. So you need to inspect the source of the page and try to find the elements you want for each site.\n",
    "\n",
    "As an example, you can see the difference between the structures in Hürriyet and Cumhuriyet sites:\n",
    "- In Cumhuriyet, *rhd-all-article-detail* is used as a *div* attribute.\n",
    "- In Hürriyet, *news-body* is used as a *div* attribute. "
   ]
  },
  {
   "cell_type": "code",
   "execution_count": 3,
   "metadata": {},
   "outputs": [],
   "source": [
    "for link in cumhuriyet_list_sondakika: \n",
    "    source2 = requests.get(link).text\n",
    "    soup2 = BeautifulSoup(source2, 'lxml') \n",
    "    paragraf_cumh = soup2.findAll('div', id = 'news-body')\n",
    "    if len(paragraf_cumh) != 0:\n",
    "        paragraf_cumh = paragraf_cumh[0] \n",
    "        icerik2 = str()\n",
    "        for paragraf2_cumh in paragraf_cumh.find_all('p'):\n",
    "            icerik2 = icerik2 + paragraf2_cumh.text\n",
    "        icerik2.replace('\\n', '')\n",
    "        csv2 ='\"' + icerik2 + '\"\\n'\n",
    "        with open('clean_data.txt', 'a', encoding = 'utf-8') as f: \n",
    "            f.write(csv2)\n",
    "            f.close()"
   ]
  },
  {
   "cell_type": "markdown",
   "metadata": {},
   "source": [
    "In the codes below, I used the same procedure. "
   ]
  },
  {
   "cell_type": "code",
   "execution_count": 30,
   "metadata": {
    "scrolled": true
   },
   "outputs": [
    {
     "name": "stdout",
     "output_type": "stream",
     "text": [
      "http://www.hurriyet.com.tr/gundem/cumhurbaskani-erdogandan-necip-fazil-kisakurek-paylasimi-41225776\n",
      "http://www.hurriyet.com.tr/gundem/taksici-dehset-sacti-kanli-infaz-41225769\n",
      "http://www.hurriyet.com.tr/gundem/kimyevi-madde-tasiyan-gemi-yandi-130-kisi-hastanelik-oldu-41225768\n",
      "http://www.hurriyet.com.tr/gundem/pkknin-kirli-yuzu-kadin-teroristin-not-defterinde-41225764\n",
      "http://www.hurriyet.com.tr/gundem/fuat-oktay-gece-gunduz-calismaya-devam-edecegiz-41225753\n",
      "http://www.hurriyet.com.tr/gundem/rizede-iki-kamyonet-carpisti-1i-agir-3-yarali-41225730\n",
      "http://www.hurriyet.com.tr/gundem/vanda-feci-olay-ekipler-lise-ogrencisi-icin-seferber-oldu-41225724\n",
      "http://www.hurriyet.com.tr/gundem/4-yildir-restorasyonda-olan-sumela-ziyarete-acildi-41225718\n",
      "http://www.hurriyet.com.tr/gundem/konyada-mhpli-belediye-baskanini-olduren-3-supheli-icin-flas-karar-41225717\n",
      "http://www.hurriyet.com.tr/gundem/mersinde-ciftlik-evinde-yangin-41225716\n",
      "http://www.hurriyet.com.tr/gundem/lise-ogrencisinin-cenazesini-imam-babasi-kildirdi-41225702\n",
      "http://www.hurriyet.com.tr/gundem/kayip-balikci-4-gundur-araniyor-41225693\n",
      "http://www.hurriyet.com.tr/gundem/o-cani-mezarlikta-yakalandi-esini-oldurdugu-odanin-duvarina-bunu-yazmis-41225663\n",
      "http://www.hurriyet.com.tr/gundem/ciftciye-tecavuz-davasi-mahkemede-bunlari-soyledi-41225676\n",
      "http://www.hurriyet.com.tr/gundem/firtina-kenti-vurdu-catilari-ucurdu-41225662\n",
      "http://www.hurriyet.com.tr/gundem/tecavuz-dehseti-kaza-sonrasi-ortaya-cikmisti-karar-belli-oldu-41225652\n",
      "http://www.hurriyet.com.tr/gundem/son-dakika-marmara-denizinde-korkutan-deprem-41225638\n",
      "http://www.hurriyet.com.tr/gundem/istanbulda-aci-olay-otomobilin-camini-kirarak-actilar-41225628\n",
      "http://www.hurriyet.com.tr/gundem/dunyanin-en-zor-mesleklerinden-biri-ayda-10-bin-lira-kazaniyor-41225620\n",
      "http://www.hurriyet.com.tr/gundem/antalyada-feci-kaza-ortalik-savas-alanina-dondu-41225612\n",
      "http://www.hurriyet.com.tr/gundem/cumhurbaskanligi-strateji-ve-butce-baskanligindan-maksatli-haber-aciklamasi-41225610\n",
      "http://www.hurriyet.com.tr/gundem/son-dakika-bakanlik-duyurdu-teror-hedefleri-yerle-bir-edildi-41225606\n",
      "http://www.hurriyet.com.tr/gundem/istanbul-bogazindan-boyle-gectiler-41225605\n",
      "http://www.hurriyet.com.tr/gundem/cumhurbaskani-erdogan-ak-parti-istanbul-il-baskanligina-geldi-41225593\n",
      "http://www.hurriyet.com.tr/gundem/sehit-mehmet-koklu-yozgatta-topraga-verildi-41225589\n",
      "http://www.hurriyet.com.tr/gundem/evden-hirsizlik-yapan-abla-kardes-yakalandi-41225588\n",
      "http://www.hurriyet.com.tr/gundem/son-dakika-pkknin-sozde-karadeniz-karargahi-bulundu-41225554\n",
      "http://www.hurriyet.com.tr/gundem/cankirida-skandal-goruntuler-milli-egitim-bakanligi-hemen-harekete-gecti-41225524\n",
      "http://www.hurriyet.com.tr/gundem/elektrik-isiticida-su-isitan-kadin-feci-sekilde-can-verdi-41225523\n",
      "http://www.hurriyet.com.tr/gundem/musteri-hizmetlerinin-cevabini-duyunca-atmyi-yumruklamaya-basladi-41225492\n",
      "http://www.hurriyet.com.tr/gundem/diyarbakirda-47-kilo-esrar-ele-gecirildi-41225477\n",
      "http://www.hurriyet.com.tr/gundem/dereye-ucmaktan-son-anda-kurtuldu-41225460\n",
      "http://www.hurriyet.com.tr/gundem/dev-ucagin-montajinda-sona-gelindi-oraya-batirilacak-41225425\n",
      "http://www.hurriyet.com.tr/gundem/son-dakika-atasehirde-can-pazari-cocuklari-acilan-battaniyeye-atip-ikinci-kattan-atladi-41225424\n",
      "http://www.hurriyet.com.tr/gundem/son-dakika-o-terorist-gri-listede-cikti-binbasi-sonati-sehit-etmis-41225407\n",
      "http://www.hurriyet.com.tr/gundem/tarlasini-surerken-buldu-5-bin-yillik-41225365\n",
      "http://www.hurriyet.com.tr/gundem/antalyada-korku-dolu-anlar-gozyaslari-icinde-izledi-41225364\n",
      "http://www.hurriyet.com.tr/gundem/eskisehirde-feto-operasyonu-4-gozalti-41225358\n",
      "http://www.hurriyet.com.tr/gundem/antalyada-hareketli-anlar-yapma-diye-yalvardi-41225335\n",
      "http://www.hurriyet.com.tr/gundem/yer-kocaeli-bu-halde-bulundu-hemen-bakima-alindi-41225336\n",
      "http://www.hurriyet.com.tr/gundem/akseki-yaylalarinda-10-metrelik-karla-mucadele-41225306\n",
      "http://www.hurriyet.com.tr/gundem/tuik-baskani-trafik-kazasi-gecirdi-41225301\n",
      "http://www.hurriyet.com.tr/gundem/antalyada-rus-turistin-feci-olumu-41225267\n",
      "http://www.hurriyet.com.tr/gundem/dolandiricilikta-yeni-yontem-once-eft-yap-ardindan-iptal-et-41225265\n",
      "http://www.hurriyet.com.tr/gundem/boylesi-gorulmedi-devlet-bana-ceza-versin-ki-41225262\n",
      "http://www.hurriyet.com.tr/gundem/saglik-bakanindan-flas-aciklama-askerligini-yapmis-sayilacaklar-41225261\n",
      "http://www.hurriyet.com.tr/gundem/ankara-numune-hastanesi-hizmete-kapandi-41225250\n",
      "http://www.hurriyet.com.tr/gundem/istanbulda-kacak-gocmen-operasyonu-41225229\n",
      "http://www.hurriyet.com.tr/gundem/polis-tarafindan-vurularak-etkisiz-hale-getirildi-41225201\n",
      "http://www.hurriyet.com.tr/gundem/vanda-feci-olay-ekipler-lise-ogrencisi-icin-seferber-oldu-41225724\n",
      "http://www.hurriyet.com.tr/gundem/konyada-mhpli-belediye-baskanini-olduren-3-supheli-icin-flas-karar-41225717\n",
      "http://www.hurriyet.com.tr/gundem/lise-ogrencisinin-cenazesini-imam-babasi-kildirdi-41225702\n",
      "http://www.hurriyet.com.tr/gundem/kayip-balikci-4-gundur-araniyor-41225693\n",
      "http://www.hurriyet.com.tr/gundem/firtina-kenti-vurdu-catilari-ucurdu-41225662\n",
      "http://www.hurriyet.com.tr/gundem/tecavuz-dehseti-kaza-sonrasi-ortaya-cikmisti-karar-belli-oldu-41225652\n",
      "http://www.hurriyet.com.tr/gundem/istanbulda-aci-olay-otomobilin-camini-kirarak-actilar-41225628\n",
      "http://www.hurriyet.com.tr/gundem/antalyada-feci-kaza-ortalik-savas-alanina-dondu-41225612\n",
      "http://www.hurriyet.com.tr/gundem/son-dakika-bakanlik-duyurdu-teror-hedefleri-yerle-bir-edildi-41225606\n",
      "http://www.hurriyet.com.tr/gundem/cumhurbaskani-erdogan-ak-parti-istanbul-il-baskanligina-geldi-41225593\n",
      "http://www.hurriyet.com.tr/gundem/sehit-mehmet-koklu-yozgatta-topraga-verildi-41225589\n",
      "http://www.hurriyet.com.tr/gundem/evden-hirsizlik-yapan-abla-kardes-yakalandi-41225588\n",
      "http://www.hurriyet.com.tr/gundem/diyarbakirda-47-kilo-esrar-ele-gecirildi-41225477\n",
      "http://www.hurriyet.com.tr/gundem/dereye-ucmaktan-son-anda-kurtuldu-41225460\n",
      "http://www.hurriyet.com.tr/gundem/son-dakika-o-terorist-gri-listede-cikti-binbasi-sonati-sehit-etmis-41225407\n",
      "http://www.hurriyet.com.tr/gundem/tarlasini-surerken-buldu-5-bin-yillik-41225365\n",
      "http://www.hurriyet.com.tr/gundem/antalyada-hareketli-anlar-yapma-diye-yalvardi-41225335\n",
      "http://www.hurriyet.com.tr/gundem/akseki-yaylalarinda-10-metrelik-karla-mucadele-41225306\n",
      "http://www.hurriyet.com.tr/gundem/tuik-baskani-trafik-kazasi-gecirdi-41225301\n",
      "http://www.hurriyet.com.tr/gundem/dolandiricilikta-yeni-yontem-once-eft-yap-ardindan-iptal-et-41225265\n",
      "http://www.hurriyet.com.tr/gundem/saglik-bakanindan-flas-aciklama-askerligini-yapmis-sayilacaklar-41225261\n",
      "http://www.hurriyet.com.tr/gundem/ankara-numune-hastanesi-hizmete-kapandi-41225250\n",
      "http://www.hurriyet.com.tr/gundem/polis-tarafindan-vurularak-etkisiz-hale-getirildi-41225201\n",
      "http://www.hurriyet.com.tr/gundem/meteoroloji-uyardi-istanbul-bugun-41225198\n",
      "http://www.hurriyet.com.tr/gundem/istinat-duvari-otomobillerin-uzerine-coktu-41225194\n",
      "http://www.hurriyet.com.tr/gundem/gaziosmanpasada-korkutan-yangin-41225191\n",
      "http://www.hurriyet.com.tr/gundem/insaatta-sucustu-yakalandilar-41225185\n",
      "http://www.hurriyet.com.tr/gundem/nisanciya-huzunlu-ugurlama-41224873\n",
      "http://www.hurriyet.com.tr/gundem/vahset-polis-harekete-gecti-41224851\n",
      "http://www.hurriyet.com.tr/gundem/son-dakika-bakanlik-duyurdu-yerle-bir-edildi-41224847\n",
      "http://www.hurriyet.com.tr/gundem/adiyamanda-feci-kaza-kafa-kafaya-carpistilar-41224821\n",
      "http://www.hurriyet.com.tr/gundem/erdogan-ak-parti-il-binasina-geldi-41224773\n",
      "http://www.hurriyet.com.tr/gundem/selfie-cekmek-isterken-kendini-vurdu-41224704\n",
      "http://www.hurriyet.com.tr/gundem/oglunu-abddeki-fetoculere-tutanakla-teslim-etmis-41224682\n",
      "http://www.hurriyet.com.tr/gundem/bakirkoy-belediye-baskaninin-davasinda-karar-41224669\n",
      "http://www.hurriyet.com.tr/gundem/danistay-9-daire-baskanligina-gencbay-secildi-41224661\n",
      "http://www.hurriyet.com.tr/gundem/kucuk-cocugun-zor-anlari-bu-sekilde-hastaneye-goruruldu-41224614\n",
      "http://www.hurriyet.com.tr/gundem/uyusturucu-operasyonunda-baba-ogul-gozaltina-alindi-41224582\n",
      "http://www.hurriyet.com.tr/gundem/bakan-akardan-onemli-nato-aciklamasi-kimsenin-olumsuz-bir-sey-soylemeye-hakki-yok-41224562\n",
      "http://www.hurriyet.com.tr/gundem/bartinda-vahset-sabaha-kadar-basinda-bekledi-41224438\n",
      "http://www.hurriyet.com.tr/gundem/rus-savas-gemisi-cekilerek-bogazdan-gecti-41224431\n",
      "http://www.hurriyet.com.tr/gundem/son-dakika-kadikoy-de-hafriyat-kamyonu-kazasi-41224387\n",
      "http://www.hurriyet.com.tr/gundem/fetonun-sozde-bolge-imamina-hapis-cezasi-41224339\n",
      "http://www.hurriyet.com.tr/gundem/istanbul-merkezli-feto-operasyonu-41224315\n",
      "http://www.hurriyet.com.tr/gundem/bodruma-camur-yagdi-41224281\n",
      "http://www.hurriyet.com.tr/gundem/eski-kocadan-sok-ifade-aslinda-amacim-arabayi-havaya-ucurmakti-41224268\n",
      "http://www.hurriyet.com.tr/gundem/istanbulda-kan-donduran-olay-plastik-ogutme-makinesine-dustu-41224186\n",
      "http://www.hurriyet.com.tr/gundem/nazillide-en-zehirli-akrep-turu-goruldu-41224160\n",
      "http://www.hurriyet.com.tr/gundem/160-liralik-borcu-icin-antalyada-igrenc-olay-41224111\n",
      "http://www.hurriyet.com.tr/gundem/balik-tutmak-isterken-agir-yaralandi-41224077\n"
     ]
    }
   ],
   "source": [
    "hürriyet_link_list = []\n",
    "\n",
    "feed = feedparser.parse('http://www.hurriyet.com.tr/rss/gundem') #extracting links\n",
    "   \n",
    "for post in feed.entries:\n",
    "    print(post.link)\n",
    "    hürriyet_link_list.append(post.link) #adding the links to this list"
   ]
  },
  {
   "cell_type": "code",
   "execution_count": 5,
   "metadata": {},
   "outputs": [],
   "source": [
    "for link in hürriyet_link_list: #scraping every link one by one in a for loop\n",
    "    source = requests.get(link).text #requesting links\n",
    "    soup = BeautifulSoup(source, 'lxml')\n",
    "    paragraf = soup.findAll('div',attrs={'class':'rhd-all-article-detail'}) \n",
    "    if len(paragraf) != 0:\n",
    "        paragraf = paragraf[0] \n",
    "        icerik = str()\n",
    "        for paragraf2 in paragraf.find_all('p'): #finding body paragraphs of articles\n",
    "            icerik = icerik + paragraf2.text\n",
    "        icerik.replace('\\n', '')\n",
    "        csv ='\"' + icerik + '\"\\n'\n",
    "        with open('clean_data.txt', 'a', encoding = 'utf-8') as f: #saving links\n",
    "            f.write(csv)\n",
    "            f.close()      "
   ]
  },
  {
   "cell_type": "markdown",
   "metadata": {},
   "source": [
    "### 3.3 Data Pre-processing"
   ]
  },
  {
   "cell_type": "markdown",
   "metadata": {},
   "source": [
    "One of the most important steps in this research is to clean and process data so that it will give us well-defined results. \n",
    "\n",
    "The process I am doing is simplifying the data and eliminating the language dependent factors as much as I can. In text mining, articles are hard to process for computers because they are written in natural language for humans.\n",
    "\n",
    "To simplify the articles I used these steps:\n",
    " \n",
    "   - Tokenization: Tokenization is the process of taking a document as a string and cutting those strings into pieces. This process also includes removing the punctuation, making all the characters lower and sometimes getting rid of words with fewer characters because they are usually not meaningful for the data.\n",
    "\n",
    "   - Removing stop words: Stop words are words which are filtered out before or after processing of natural language data (text). They have got no significant meanings, thus they need to be removed.\n",
    "   \n",
    "    Note that pre-processing usually have lemmatization and stemming steps, too. But I skipped those steps for two reasons. The first reason is Turkish language being hard to process because of the complex morphology and the way morphology interacts with syntax. The second reason is there are no well-defined open source Turkish NLP libraries I can benefit from."
   ]
  },
  {
   "cell_type": "code",
   "execution_count": 6,
   "metadata": {},
   "outputs": [],
   "source": [
    "import gensim\n",
    "from gensim.models import CoherenceModel, LdaModel"
   ]
  },
  {
   "cell_type": "markdown",
   "metadata": {},
   "source": [
    "- [*gensim*](https://pypi.org/project/gensim/) - Gensim library is an open source library used for text classifying. It is implemented in Python and Cython to analyse large Natural Language text collections.\n",
    "\n",
    "     - [CoherenceModel](https://radimrehurek.com/gensim/models/coherencemodel.html): Calculate topic coherence for topic models.\n",
    "     - [LdaModel](https://radimrehurek.com/gensim/models/ldamodel.html): his module allows both LDA model estimation from a training corpus and inference of topic distribution on new, unseen documents. The model can also be updated with new documents for online training."
   ]
  },
  {
   "cell_type": "code",
   "execution_count": 7,
   "metadata": {},
   "outputs": [],
   "source": [
    "import nltk\n",
    "from nltk.corpus import stopwords\n",
    "from nltk.tokenize import RegexpTokenizer"
   ]
  },
  {
   "cell_type": "markdown",
   "metadata": {},
   "source": [
    "- [*NLTK (Natural Language Toolkit)*](https://www.nltk.org/) - NLTK is a platform developed by Steven Bird and Edward Loper in the Department of Computer and Information Science. It is used to create Python packages which are used for applying statistical NLP in human language texts. The end goal is to make machines understand human language and then, make their response more precisely. Tasks such as tokenization, parsing, classification, stemming and tagging are done by using NLTK text processing libraries. \n",
    "\n",
    "     - [*RegexpTokenizer*](https://www.nltk.org/_modules/nltk/tokenize/regexp.html) - A RegexpTokenizer splits a string into substrings using a regular expression. "
   ]
  },
  {
   "cell_type": "code",
   "execution_count": 8,
   "metadata": {},
   "outputs": [],
   "source": [
    "import re\n",
    "import pprint"
   ]
  },
  {
   "cell_type": "markdown",
   "metadata": {},
   "source": [
    "- [*re (regular expression)*](https://docs.python.org/3/howto/regex.html) - A regular expression is a special sequence of characters that helps you match or find other strings or sets of strings, using a specialized syntax held in a pattern.\n",
    "\n",
    "- [*pprint*](https://docs.python.org/3/library/pprint.html) - The pprint module provides a capability to “pretty-print” arbitrary Python data structures to make it more eye-pleasing and readable. The formatter produces representations of data structures that can be parsed correctly by the interpreter. The output is kept on a single line, if possible, and indented when split across multiple lines."
   ]
  },
  {
   "cell_type": "code",
   "execution_count": 9,
   "metadata": {},
   "outputs": [],
   "source": [
    "import pyLDAvis\n",
    "import pyLDAvis.gensim \n",
    "import matplotlib.pyplot as plt\n",
    "%matplotlib inline"
   ]
  },
  {
   "cell_type": "markdown",
   "metadata": {},
   "source": [
    "- [*pyLDAvis*](https://pypi.org/project/pyLDAvis/) - It is designed to help users interpret the topics in a topic model that has been fit to a corpus of text data. The package extracts information from a fitted LDA topic model to inform an interactive web-based visualization.\n",
    "\n",
    "- [*matplotlib*](https://matplotlib.org/) - Matplotlib is a Python 2D plotting library which is used for plotting beautiful and attractive graphs. Matplotlib can be used in Python scripts, the Python and IPython shells, the Jupyter notebook, web application servers, and four graphical user interface toolkits."
   ]
  },
  {
   "cell_type": "code",
   "execution_count": 10,
   "metadata": {},
   "outputs": [],
   "source": [
    "import warnings\n",
    "warnings.filterwarnings(\"ignore\",category=DeprecationWarning)"
   ]
  },
  {
   "cell_type": "markdown",
   "metadata": {},
   "source": [
    "- [*warnings*](https://docs.python.org/3/library/warnings.html) - Warning messages are typically issued in situations where it is useful to alert the user of some condition in a program, where that condition (normally) doesn’t warrant raising an exception and terminating the program. \n",
    "    - *DepracationWarning* - Base category for warnings about deprecated features when those warnings are intended for other Python developers (ignored by default, unless triggered by code in _main_)."
   ]
  },
  {
   "cell_type": "markdown",
   "metadata": {},
   "source": [
    "Here, I am opening the *txt* in text mode, that means, I can read and write strings which are encoded in a specific encoding. \n",
    "\n",
    "Using *with* means, the file is properly closed without me manually closing it. "
   ]
  },
  {
   "cell_type": "code",
   "execution_count": 33,
   "metadata": {},
   "outputs": [],
   "source": [
    "with open('C:/Users/Lenovo/OneDrive/Masaüstü/clean_data.txt', encoding = 'utf-8', errors='ignore') as infile:\n",
    "    raw_txt = infile.readlines()"
   ]
  },
  {
   "cell_type": "code",
   "execution_count": 51,
   "metadata": {
    "scrolled": false
   },
   "outputs": [
    {
     "name": "stdout",
     "output_type": "stream",
     "text": [
      "\"31 Mart Mahalli İdareler Seçimleri'nde Muğla'da AK Parti'den Mehmet Nil Hıdır, CHP'den Osman Gürün, DP'den Mehmet Kocadon ve bağımsız olarak da Behçet Saatcı yarışacak.HDP ise Muğla ve ilçelerinde yarıştan çekildi. HDP Muğla İl Eş Başkanı Yılmaz Yüksel, konuyla ilgili yaptığı açıklamada, Muğla'da Büyükşehir Belediye Başkan adayımız Mehmet Polat dahil, Bodrum, Dalaman, Köyceğiz, Marmaris, Milas, Menteşe, Ortaca ile Ula ilçelerindeki adaylarımızı çektik. Datça, Fethiye, Seydikemer, Yatağan ve Kavaklıdere'de zaten adayımız yoktu. Adaylarımızı geri çekmemizin nedeni AK Parti- MHP'nin oluşturduğu Cumhur İttifakı'na tepki göstermek. CHP'yi destekleyeceğimiz kesinleşmiş bir şey değil. Bunun kararını Genel Merkezimiz verecek\"\" dedi.\"\"\"\n",
      "\n"
     ]
    }
   ],
   "source": [
    "print(raw_txt[0])"
   ]
  },
  {
   "cell_type": "markdown",
   "metadata": {},
   "source": [
    "**Tokenization**"
   ]
  },
  {
   "cell_type": "markdown",
   "metadata": {},
   "source": [
    "We process the text with the following operations:\n",
    "\n",
    "1. First, text is converted to lowercase. Thus, words with uppercase are not considered different words from their lowercase equivalents.\n",
    "2. Replace special characters with their corresponding Turkish characters.\n",
    "3. Remove non-Turkish-letter characters such as digits or punctuation marks.\n",
    "4. Split text into a list of words\n",
    "5. Remove Turkish stopwords (optional)\n",
    "6. Return as a list or as one string (depends the parameter)"
   ]
  },
  {
   "cell_type": "markdown",
   "metadata": {},
   "source": [
    "- *stopwords* - It refers to the most common words in a language which are the unmeaningful words. Stopwords differs from languages to languages. There is no universality of it.\n",
    "\n",
    "There is a fixed list of common stop words in various languages in Python. I used the turkish stopwords but apart from that, I also added other words I deemed to be unfit for the data."
   ]
  },
  {
   "cell_type": "code",
   "execution_count": 14,
   "metadata": {
    "scrolled": true
   },
   "outputs": [
    {
     "name": "stdout",
     "output_type": "stream",
     "text": [
      "['acaba', 'altmış', 'altı', 'ama', 'ancak', 'arada', 'aslında', 'ayrıca', 'bana', 'bazı', 'belki', 'ben', 'benden', 'beni', 'benim', 'beri', 'beş', 'bile', 'bin', 'bir', 'birçok', 'biri', 'birkaç', 'birkez', 'birşey', 'birşeyi', 'biz', 'bize', 'bizden', 'bizi', 'bizim', 'böyle', 'böylece', 'bu', 'buna', 'bunda', 'bundan', 'bunlar', 'bunları', 'bunların', 'bunu', 'bunun', 'burada', 'çok', 'çünkü', 'da', 'daha', 'dahi', 'de', 'defa', 'değil', 'diğer', 'diye', 'doksan', 'dokuz', 'dolayı', 'dolayısıyla', 'dört', 'edecek', 'eden', 'ederek', 'edilecek', 'ediliyor', 'edilmesi', 'ediyor', 'eğer', 'elli', 'en', 'etmesi', 'etti', 'ettiği', 'ettiğini', 'gibi', 'göre', 'halen', 'hangi', 'hatta', 'hem', 'henüz', 'hep', 'hepsi', 'her', 'herhangi', 'herkesin', 'hiç', 'hiçbir', 'için', 'iki', 'ile', 'ilgili', 'ise', 'işte', 'itibaren', 'itibariyle', 'kadar', 'karşın', 'katrilyon', 'kendi', 'kendilerine', 'kendini', 'kendisi', 'kendisine', 'kendisini', 'kez', 'ki', 'kim', 'kimden', 'kime', 'kimi', 'kimse', 'kırk', 'milyar', 'milyon', 'mu', 'mü', 'mı', 'nasıl', 'ne', 'neden', 'nedenle', 'nerde', 'nerede', 'nereye', 'niye', 'niçin', 'o', 'olan', 'olarak', 'oldu', 'olduğu', 'olduğunu', 'olduklarını', 'olmadı', 'olmadığı', 'olmak', 'olması', 'olmayan', 'olmaz', 'olsa', 'olsun', 'olup', 'olur', 'olursa', 'oluyor', 'on', 'ona', 'ondan', 'onlar', 'onlardan', 'onları', 'onların', 'onu', 'onun', 'otuz', 'oysa', 'öyle', 'pek', 'rağmen', 'sadece', 'sanki', 'sekiz', 'seksen', 'sen', 'senden', 'seni', 'senin', 'siz', 'sizden', 'sizi', 'sizin', 'şey', 'şeyden', 'şeyi', 'şeyler', 'şöyle', 'şu', 'şuna', 'şunda', 'şundan', 'şunları', 'şunu', 'tarafından', 'trilyon', 'tüm', 'üç', 'üzere', 'var', 'vardı', 've', 'veya', 'ya', 'yani', 'yapacak', 'yapılan', 'yapılması', 'yapıyor', 'yapmak', 'yaptı', 'yaptığı', 'yaptığını', 'yaptıkları', 'yedi', 'yerine', 'yetmiş', 'yine', 'yirmi', 'yoksa', 'yüz', 'zaten'] "
     ]
    }
   ],
   "source": [
    "my_stopwords = ['acaba', 'altmış', 'altı', 'ama', 'ancak', 'arada', 'aslında', 'ayrıca', 'bana', 'bazı', 'belki', 'ben', 'benden', 'beni', 'benim', 'beri', 'beş', 'bile', 'bin', 'bir', 'birçok', 'biri', 'birkaç', 'birkez', 'birşey', 'birşeyi', 'biz', 'bize', 'bizden', 'bizi', 'bizim', 'böyle', 'böylece', 'bu', 'buna', 'bunda', 'bundan', 'bunlar', 'bunları', 'bunların', 'bunu', 'bunun', 'burada', 'çok', 'çünkü', 'da', 'daha', 'dahi', 'de', 'defa', 'değil', 'diğer', 'diye', 'doksan', 'dokuz', 'dolayı', 'dolayısıyla', 'dört', 'edecek', 'eden', 'ederek', 'edilecek', 'ediliyor', 'edilmesi', 'ediyor', 'eğer', 'elli', 'en', 'etmesi', 'etti', 'ettiği', 'ettiğini', 'gibi', 'göre', 'halen', 'hangi', 'hatta', 'hem', 'henüz', 'hep', 'hepsi', 'her', 'herhangi', 'herkesin', 'hiç', 'hiçbir', 'için', 'iki', 'ile', 'ilgili', 'ise', 'işte', 'itibaren', 'itibariyle', 'kadar', 'karşın', 'katrilyon', 'kendi', 'kendilerine', 'kendini', 'kendisi', 'kendisine', 'kendisini', 'kez', 'ki', 'kim', 'kimden', 'kime', 'kimi', 'kimse', 'kırk', 'milyar', 'milyon', 'mu', 'mü', 'mı', 'nasıl', 'ne', 'neden', 'nedenle', 'nerde', 'nerede', 'nereye', 'niye', 'niçin', 'o', 'olan', 'olarak', 'oldu', 'olduğu', 'olduğunu', 'olduklarını', 'olmadı', 'olmadığı', 'olmak', 'olması', 'olmayan', 'olmaz', 'olsa', 'olsun', 'olup', 'olur', 'olursa', 'oluyor', 'on', 'ona', 'ondan', 'onlar', 'onlardan', 'onları', 'onların', 'onu', 'onun', 'otuz', 'oysa', 'öyle', 'pek', 'rağmen', 'sadece', 'sanki', 'sekiz', 'seksen', 'sen', 'senden', 'seni', 'senin', 'siz', 'sizden', 'sizi', 'sizin', 'şey', 'şeyden', 'şeyi', 'şeyler', 'şöyle', 'şu', 'şuna', 'şunda', 'şundan', 'şunları', 'şunu', 'tarafından', 'trilyon', 'tüm', 'üç', 'üzere', 'var', 'vardı', 've', 'veya', 'ya', 'yani', 'yapacak', 'yapılan', 'yapılması', 'yapıyor', 'yapmak', 'yaptı', 'yaptığı', 'yaptığını', 'yaptıkları', 'yedi', 'yerine', 'yetmiş', 'yine', 'yirmi', 'yoksa', 'yüz', 'zaten'] \n",
    "print(my_stopwords, end =' ')"
   ]
  },
  {
   "cell_type": "markdown",
   "metadata": {},
   "source": [
    "In the first 5 lines, I combined different regular expression patterns into pattern objects, which I can use for pattern matching. I used those pattern objects in the *clean_text* function. \n",
    "\n",
    "Inside the fuction, respectively, these lines:\n",
    "\n",
    "- Lowercase the text and saves it again.\n",
    "- Replace the symbols in replace_with_space symbols with the space in text.\n",
    "- Delete symbols which are in remove_symbols from text.\n",
    "- Delete the words less than 4 characters.\n",
    "- Delete stopwords from text."
   ]
  },
  {
   "cell_type": "code",
   "execution_count": 15,
   "metadata": {},
   "outputs": [],
   "source": [
    "replace_with_space = re.compile('[/(){}\\[\\]\\|@,;]')\n",
    "remove_symbols1 = re.compile(\"[^0-9a-z_ğüşıöç .']\")\n",
    "stopwords = nltk.corpus.stopwords.words('turkish')\n",
    "stopwords.extend(my_stopwords)\n",
    "remove_3chars = re.compile(r'\\b\\w{1,3}\\b')\n",
    "\n",
    "def clean_text(text):\n",
    "    \"\"\"\n",
    "        text: a string\n",
    "        \n",
    "        return: modified initial string\n",
    "    \"\"\"\n",
    "    text = text.lower() \n",
    "    text = replace_with_space.sub(' ', text) \n",
    "    text = remove_symbols1.sub('', text) \n",
    "    text = remove_3chars.sub('', text)\n",
    "    text = ' '.join([word for word in text.split() if word not in stopwords])\n",
    "    return text"
   ]
  },
  {
   "cell_type": "markdown",
   "metadata": {},
   "source": [
    "I used the function above to clean raw_txt:"
   ]
  },
  {
   "cell_type": "code",
   "execution_count": 16,
   "metadata": {
    "scrolled": true
   },
   "outputs": [
    {
     "name": "stdout",
     "output_type": "stream",
     "text": [
      "[\"mart mahalli idareler seçimleri' muğla' parti' mehmet hıdır ' osman gürün ' mehmet kocadon bağımsız behçet saatcı yarışacak. muğla ilçelerinde yarıştan çekildi. muğla başkanı yılmaz yüksel konuyla açıklamada muğla' büyükşehir belediye başkan adayımız mehmet polat dahil bodrum dalaman köyceğiz marmaris milas menteşe ortaca ilçelerindeki adaylarımızı çektik. datça fethiye seydikemer yatağan kavaklıdere' adayımız yoktu. adaylarımızı geri çekmemizin nedeni parti ' oluşturduğu cumhur ittifakı' tepki göstermek. ' destekleyeceğimiz kesinleşmiş değil. kararını genel merkezimiz verecek dedi.\", \"beyoğlu' kişinin öldüğü yangınla gözaltına alınan özkan ' yangını arkadaşlarını korkutmak çıkardığını belirterek tartıştığım ramazan demir aramızda husumet vardı. olay sabahı geldiğimde eşyalarımı dışarı attığını gördüm. sinirlendim. yattığı kanepeye gazete kağıtlarını yerleştirip yaktım. . pişmanım dediği öğrenildi.beyoğlu asmalı mescit' kişinin öldüğü kişinin yaralandığı yangınla hatay' yakalanan şüphelinin emniyetteki sorgusu sürüyor. istanbul' garsonluk ağrı' gelen yaşındaki murat kayacan siirt' gelen yaşındaki muhammet yaşındaki yunus akyüz manisa' gelen yaşındaki eren ersin büker diyarbakır' gelen yaşındaki ramazan demir hatay' gelen yaşındaki özkan . aynı dairede yaşıyordu.işten çikarilinca arkadaşlarina kizdiözkan . geçtiğimiz günlerde işten çıkartıldı. edinilen bilgiye özkan . aynı yerde çalıştığı arkadaşlarının işten çıkartıldıktan sonra kendisiyle ilgilenmemesine kızdı. özkan . arkadaşlarıyla kavga ettikten sonra küstü.memleketine dönmek uçak biletini alan özkan . sabah saatlerinde evde yangın çıkardı. yangın kısa sürede sarınca özkan . durumu itfaiye ekiplerine haber vererek havalimanına gitti. yangında murat kayacan muhammet yunus akyüz eren ersin büker hayatını kaybederken ramazan demir yaralı hastaneye kaldırıldı.hatay polisi uçaktan inince gözaltina aldiistanbul asayiş şube müdürlüğü ekipleri çalışmalarda yangını özkan .' çıkardığını belirledi. üzerine istanbul polisi hatay emniyet müdürlüğü ekipleriyle irtibata geçerek uçak iner inmez özkan .' yakalanmasını sağladı.yangini kanepeyi yakarak çikarmişistanbul' hatay' giden asayiş şube müdürlüğü ekipleri özkan . sabah saatlerinde istanbul' getirdi. özkan .' ifadesinde süre önce kavga küstüğü arkadaşlarını korkutmak yangını çıkardığını büyümesi üzerine korktuğunu itfaiye ekiplerine bilgi verdiğini söylediği öğrenildi. asayiş şube müdürlüğü' sorgulanan özkan ' yaralı kurtulan ramazan demir sürekli psikolojik baskı yapıyordu. küfürler ediyordu. aramızda husumet vardı. olay sabahı geldiğimde eşyalarımı dışarı attığını gördüm. sinirlendim. yattığı kanepeye gazete kağıtlarını yerleştirip yaktım. amacım öldürmek değildi. pişmanım dediği öğrenildi.özkan .' gayrettepe' bulunan asayiş şube müdürlüğü' işlemlerinin tamamlanmasının ardından öğlenden sonra adliyeye sevk bekleniyor.\", \"olay akşam saatlerinde maksut mahallesi' meydana geldi. tesisatçısı bağış yakının düğününe ailesiyle birlikte katıldı. bağış çeyizin getirildiği sırada üzerindeki bulundurma ruhsatlı tabancasıyla havaya ateş açtı. süre sonra tabancasında kurşun kalıp kalmadığını kontrol bağış kazara tetiğe dokundu.tabancadan çıkan kurşun bağış' elini sıyırdıktan sonra yanındaki oğlu mehmet fatih' göğsüne isabet etti. baba oğlunu kanlar içerisinde görenler durumu sağlık ekiplerine bildirdi. hastaneye kaldırılan mehmet fatih bağış doktorların müdahalesine kurtarılamayarak hayatını kaybetti.kurşunun elini sıyırmasıyla hafif yaralanan bağış tedavisinin ardından polis ekiplerince gözaltına alındı. ölümüyle yakınlarını yasa boğan mehmet fatih bağışın cenazesi otopsinin ardından ailesine teslim edilirken ifadesi alınan baba sağlık kontrolünden geçirilerek adliyeye sevk edildi.serbest kaldi oğlunun cenazesine katildişanlıurfada kazara oğlu mehmet fatih bağışın ölümüne gözaltına alınan emniyetteki işlemlerinin ardından adliyeye sevk edilen baba bağış nöbetçi mahkemece adli kontrol şartıyla serbest kaldı. kendisinin yaralandığı olayda oğlunu kaybetmenin üzüntüsünü yaşayan baba bağış serbest kaldıktan sonra adli kurumu morguna geçti. bağış ölümüne oğlu mehmet fatih bağışın cenazesinin alınması sırasında gözyaşına boğuldu. otopsisinin tamamlanmasının ardından mehmet fatih bağış' cenazesinin aile mezarlığında toprağa verileceği öğrenildi. saatte yaşananlarson saatte yaşananlar\", \"sivas adliyesi ziyaretininardından çıkışta basın mensuplarına açıklamalarda bulunan adalet bakanı abdulhamit şükür adliye personelimizin özellikle mübaşirlerimizin teşekkürleri oldu. cumhurbaşkanımızın kararnamesiyle arkadaşlarımız genel idare hizmetler sınıfına geçti. ettikleri talepti. uzun yıllar bekledikleri konuydu. hususta mübaşirlerimizin haklı talebine bizlerde sözcülük yaptık. hamdolsun büyük hayal gerçekleşmiş dedi.hkim savcıların soruşturmalarla yargılamaları büyük titizlik özveriyle sürdürdüğünü söyleyen bakan kaydettiadalet devletin temeli adaletin temeli hukuk. terörle etkin mücadele yapan devletiz. mücadeleyi yaparken fetö başta kırmızı çizgimiz . bunlardan kararlılıktır. fetö başta ülkemizin hukukunu bağımsızlığını demokrasiyi ortadan kaldırmak isteyenlerle mücadelemiz kararlı şekilde devam edecektir. türkiye' hukuk devleti çizgisinden uzaklaştıramayacaktır. hukuktan başka üstün kişi kurum yoktur. hukukun üstünlüğünü geliştirici çalışmalar yapacağız. ikinci kırmızı çizgimiz yaparken adalet hakkaniyet çizgimizden asla ayrılmayacağız. suçluyla masum vatandaşı birbirinden ayırt mücadele yapılmaktadır. kırmızı çizgimizdir. fetö mücadele ederken fetö' üslubu örgütlerin üslubu usulüyle hukukun emrettiği usulle mücadeleyi temel kırmızı çizgimizdir. hukuk devleti olmanın diğerlerinden farkı budur. terörle mücadele ederken hukuktan ayrılmamak temel yaklaşımımız temel prensibimizdir. hkim savcı arkadaşlarımız personellerimizle çabayı şekilde göstermektedirler.'yargi reform belgesini kamuoyuyla paylaşacağiz'yargı reform belgesi' halini kamuoyu yakın zamanda paylaşacaklarını ifade bakan önemli kararlar almış durumdayız. çerçevede hkim savcı atamalarında puanın getirilmesi önemli aşamadır. sene hkim savcı arkadaşımız meslek eğitime tabitutulacaktır. hkimler savcılar kurumumuz planlamasını yaptı. duruşmalara engel olmadan çalışmayı yapacağız dedi. vatandaş iftiradan korunduadliyede kimsenin lekelenmediği yargılama sürecinin titizlikle devam belirten bakan türkiye' vatandaşımız hakkında soruşturma açılmasına gerek görülmemiştir. genel soyut iftiralarla hakkında savcılığa şikayette bulunulmuş başsavcılarımız iftirayı görmüş şekilde evine işyerine polis göndermeden lekelenmesini önlemiş vatandaşımız çıkarmış olduğumuz kanun düzenlemeyle yargı mensuplarımızın titiz çalışmasıyla vatandaşımız lekelenmemiş evine polis gitmemiştir. güçlendireceğiz. temel yaklaşımımız adaletin hukukun korunması geliştirilmesi eksikliklerin giderilmesidir ifadelerini kullandı.'avukatlik mesleğinin ikamesi yoktur'avukatlık mesleğinin ikamesinin bulunmadığını belirten bakan trafik kazalarında başka şekillerde avukatın önüne geçerek sigorta firmalarına işin simsarlarına asla edeceğim vatandaşlarımız kapılmasınlar. aramanın savunmanın temel unsuru avukattır. avukatlık mesleğinin ikamesi yoktur. şekilde alternatif çözüm yolları dahil avukatlığı ortadan kaldırmaz. konuda türlü tedbiri almaya devam edeceğiz. vatandaşlarımızın şekilde kaybına uğramasını elbette kabul edemeyiz. konuda haksızlığa ihlalini uğradıklarını düşünmeleri halinde savunma haklarını avukatlar marifetiyle yapmalarını vesileyle tavsiye ediyorum konuştu.\", \"uzunköprü' yaşayan evren kandemir yaklaşık önce balık avlanmak evinden çıkıp akşam olmasına dönmedi. ailesinin kayıp başvurusunda bulunmasıyla kandemir' bulunması arama çalışması başlatıldı.kandemir' telefonundan önce eski ergene göleti mevkisinde sinyal alındı. üzerine edirne afad ekipleri tekirdağ emniyet müdürlüğü deniz şube müdürlüğü' bağlı dalgıç polisler arama çalışması başlattı.çalışma sırasında gölet kıyısında kandemir' şapka ayakkabı bulundu. ailesinin şapka ayakkabının kandemir' tespit üzerine arama çalışmaları gölet içinde yoğunlaştırıldı. bulunamayan evren kandemir' arama çalışmaları sürdürülüyor.\"] "
     ]
    }
   ],
   "source": [
    "cleaned_data = [clean_text(içerik) for içerik in raw_txt]\n",
    "print(cleaned_data[0:5], end = ' ')"
   ]
  },
  {
   "cell_type": "markdown",
   "metadata": {},
   "source": [
    "After the pre-process, data is ready for tokenization.\n",
    "To separate a sentence into words without puctuation, I used RegexpTokenizer(r'\\w+') as a tokenizer, since I still have the 'apostrophe' and the 'dot' in the *cleaned_data*."
   ]
  },
  {
   "cell_type": "markdown",
   "metadata": {},
   "source": [
    "I created an empty list *data_tokens*. After using the tokenizer, I appended the tokens I got to that list."
   ]
  },
  {
   "cell_type": "code",
   "execution_count": 17,
   "metadata": {
    "scrolled": true
   },
   "outputs": [
    {
     "name": "stdout",
     "output_type": "stream",
     "text": [
      "[['mart', 'mahalli', 'idareler', 'seçimleri', 'muğla', 'parti', 'mehmet', 'hıdır', 'osman', 'gürün', 'mehmet', 'kocadon', 'bağımsız', 'behçet', 'saatcı', 'yarışacak', 'muğla', 'ilçelerinde', 'yarıştan', 'çekildi', 'muğla', 'başkanı', 'yılmaz', 'yüksel', 'konuyla', 'açıklamada', 'muğla', 'büyükşehir', 'belediye', 'başkan', 'adayımız', 'mehmet', 'polat', 'dahil', 'bodrum', 'dalaman', 'köyceğiz', 'marmaris', 'milas', 'menteşe', 'ortaca', 'ilçelerindeki', 'adaylarımızı', 'çektik', 'datça', 'fethiye', 'seydikemer', 'yatağan', 'kavaklıdere', 'adayımız', 'yoktu', 'adaylarımızı', 'geri', 'çekmemizin', 'nedeni', 'parti', 'oluşturduğu', 'cumhur', 'ittifakı', 'tepki', 'göstermek', 'destekleyeceğimiz', 'kesinleşmiş', 'değil', 'kararını', 'genel', 'merkezimiz', 'verecek', 'dedi'], ['beyoğlu', 'kişinin', 'öldüğü', 'yangınla', 'gözaltına', 'alınan', 'özkan', 'yangını', 'arkadaşlarını', 'korkutmak', 'çıkardığını', 'belirterek', 'tartıştığım', 'ramazan', 'demir', 'aramızda', 'husumet', 'vardı', 'olay', 'sabahı', 'geldiğimde', 'eşyalarımı', 'dışarı', 'attığını', 'gördüm', 'sinirlendim', 'yattığı', 'kanepeye', 'gazete', 'kağıtlarını', 'yerleştirip', 'yaktım', 'pişmanım', 'dediği', 'öğrenildi', 'beyoğlu', 'asmalı', 'mescit', 'kişinin', 'öldüğü', 'kişinin', 'yaralandığı', 'yangınla', 'hatay', 'yakalanan', 'şüphelinin', 'emniyetteki', 'sorgusu', 'sürüyor', 'istanbul', 'garsonluk', 'ağrı', 'gelen', 'yaşındaki', 'murat', 'kayacan', 'siirt', 'gelen', 'yaşındaki', 'muhammet', 'yaşındaki', 'yunus', 'akyüz', 'manisa', 'gelen', 'yaşındaki', 'eren', 'ersin', 'büker', 'diyarbakır', 'gelen', 'yaşındaki', 'ramazan', 'demir', 'hatay', 'gelen', 'yaşındaki', 'özkan', 'aynı', 'dairede', 'yaşıyordu', 'işten', 'çikarilinca', 'arkadaşlarina', 'kizdiözkan', 'geçtiğimiz', 'günlerde', 'işten', 'çıkartıldı', 'edinilen', 'bilgiye', 'özkan', 'aynı', 'yerde', 'çalıştığı', 'arkadaşlarının', 'işten', 'çıkartıldıktan', 'sonra', 'kendisiyle', 'ilgilenmemesine', 'kızdı', 'özkan', 'arkadaşlarıyla', 'kavga', 'ettikten', 'sonra', 'küstü', 'memleketine', 'dönmek', 'uçak', 'biletini', 'alan', 'özkan', 'sabah', 'saatlerinde', 'evde', 'yangın', 'çıkardı', 'yangın', 'kısa', 'sürede', 'sarınca', 'özkan', 'durumu', 'itfaiye', 'ekiplerine', 'haber', 'vererek', 'havalimanına', 'gitti', 'yangında', 'murat', 'kayacan', 'muhammet', 'yunus', 'akyüz', 'eren', 'ersin', 'büker', 'hayatını', 'kaybederken', 'ramazan', 'demir', 'yaralı', 'hastaneye', 'kaldırıldı', 'hatay', 'polisi', 'uçaktan', 'inince', 'gözaltina', 'aldiistanbul', 'asayiş', 'şube', 'müdürlüğü', 'ekipleri', 'çalışmalarda', 'yangını', 'özkan', 'çıkardığını', 'belirledi', 'üzerine', 'istanbul', 'polisi', 'hatay', 'emniyet', 'müdürlüğü', 'ekipleriyle', 'irtibata', 'geçerek', 'uçak', 'iner', 'inmez', 'özkan', 'yakalanmasını', 'sağladı', 'yangini', 'kanepeyi', 'yakarak', 'çikarmişistanbul', 'hatay', 'giden', 'asayiş', 'şube', 'müdürlüğü', 'ekipleri', 'özkan', 'sabah', 'saatlerinde', 'istanbul', 'getirdi', 'özkan', 'ifadesinde', 'süre', 'önce', 'kavga', 'küstüğü', 'arkadaşlarını', 'korkutmak', 'yangını', 'çıkardığını', 'büyümesi', 'üzerine', 'korktuğunu', 'itfaiye', 'ekiplerine', 'bilgi', 'verdiğini', 'söylediği', 'öğrenildi', 'asayiş', 'şube', 'müdürlüğü', 'sorgulanan', 'özkan', 'yaralı', 'kurtulan', 'ramazan', 'demir', 'sürekli', 'psikolojik', 'baskı', 'yapıyordu', 'küfürler', 'ediyordu', 'aramızda', 'husumet', 'vardı', 'olay', 'sabahı', 'geldiğimde', 'eşyalarımı', 'dışarı', 'attığını', 'gördüm', 'sinirlendim', 'yattığı', 'kanepeye', 'gazete', 'kağıtlarını', 'yerleştirip', 'yaktım', 'amacım', 'öldürmek', 'değildi', 'pişmanım', 'dediği', 'öğrenildi', 'özkan', 'gayrettepe', 'bulunan', 'asayiş', 'şube', 'müdürlüğü', 'işlemlerinin', 'tamamlanmasının', 'ardından', 'öğlenden', 'sonra', 'adliyeye', 'sevk', 'bekleniyor'], ['olay', 'akşam', 'saatlerinde', 'maksut', 'mahallesi', 'meydana', 'geldi', 'tesisatçısı', 'bağış', 'yakının', 'düğününe', 'ailesiyle', 'birlikte', 'katıldı', 'bağış', 'çeyizin', 'getirildiği', 'sırada', 'üzerindeki', 'bulundurma', 'ruhsatlı', 'tabancasıyla', 'havaya', 'ateş', 'açtı', 'süre', 'sonra', 'tabancasında', 'kurşun', 'kalıp', 'kalmadığını', 'kontrol', 'bağış', 'kazara', 'tetiğe', 'dokundu', 'tabancadan', 'çıkan', 'kurşun', 'bağış', 'elini', 'sıyırdıktan', 'sonra', 'yanındaki', 'oğlu', 'mehmet', 'fatih', 'göğsüne', 'isabet', 'etti', 'baba', 'oğlunu', 'kanlar', 'içerisinde', 'görenler', 'durumu', 'sağlık', 'ekiplerine', 'bildirdi', 'hastaneye', 'kaldırılan', 'mehmet', 'fatih', 'bağış', 'doktorların', 'müdahalesine', 'kurtarılamayarak', 'hayatını', 'kaybetti', 'kurşunun', 'elini', 'sıyırmasıyla', 'hafif', 'yaralanan', 'bağış', 'tedavisinin', 'ardından', 'polis', 'ekiplerince', 'gözaltına', 'alındı', 'ölümüyle', 'yakınlarını', 'yasa', 'boğan', 'mehmet', 'fatih', 'bağışın', 'cenazesi', 'otopsinin', 'ardından', 'ailesine', 'teslim', 'edilirken', 'ifadesi', 'alınan', 'baba', 'sağlık', 'kontrolünden', 'geçirilerek', 'adliyeye', 'sevk', 'edildi', 'serbest', 'kaldi', 'oğlunun', 'cenazesine', 'katildişanlıurfada', 'kazara', 'oğlu', 'mehmet', 'fatih', 'bağışın', 'ölümüne', 'gözaltına', 'alınan', 'emniyetteki', 'işlemlerinin', 'ardından', 'adliyeye', 'sevk', 'edilen', 'baba', 'bağış', 'nöbetçi', 'mahkemece', 'adli', 'kontrol', 'şartıyla', 'serbest', 'kaldı', 'kendisinin', 'yaralandığı', 'olayda', 'oğlunu', 'kaybetmenin', 'üzüntüsünü', 'yaşayan', 'baba', 'bağış', 'serbest', 'kaldıktan', 'sonra', 'adli', 'kurumu', 'morguna', 'geçti', 'bağış', 'ölümüne', 'oğlu', 'mehmet', 'fatih', 'bağışın', 'cenazesinin', 'alınması', 'sırasında', 'gözyaşına', 'boğuldu', 'otopsisinin', 'tamamlanmasının', 'ardından', 'mehmet', 'fatih', 'bağış', 'cenazesinin', 'aile', 'mezarlığında', 'toprağa', 'verileceği', 'öğrenildi', 'saatte', 'yaşananlarson', 'saatte', 'yaşananlar'], ['sivas', 'adliyesi', 'ziyaretininardından', 'çıkışta', 'basın', 'mensuplarına', 'açıklamalarda', 'bulunan', 'adalet', 'bakanı', 'abdulhamit', 'şükür', 'adliye', 'personelimizin', 'özellikle', 'mübaşirlerimizin', 'teşekkürleri', 'oldu', 'cumhurbaşkanımızın', 'kararnamesiyle', 'arkadaşlarımız', 'genel', 'idare', 'hizmetler', 'sınıfına', 'geçti', 'ettikleri', 'talepti', 'uzun', 'yıllar', 'bekledikleri', 'konuydu', 'hususta', 'mübaşirlerimizin', 'haklı', 'talebine', 'bizlerde', 'sözcülük', 'yaptık', 'hamdolsun', 'büyük', 'hayal', 'gerçekleşmiş', 'dedi', 'hkim', 'savcıların', 'soruşturmalarla', 'yargılamaları', 'büyük', 'titizlik', 'özveriyle', 'sürdürdüğünü', 'söyleyen', 'bakan', 'kaydettiadalet', 'devletin', 'temeli', 'adaletin', 'temeli', 'hukuk', 'terörle', 'etkin', 'mücadele', 'yapan', 'devletiz', 'mücadeleyi', 'yaparken', 'fetö', 'başta', 'kırmızı', 'çizgimiz', 'bunlardan', 'kararlılıktır', 'fetö', 'başta', 'ülkemizin', 'hukukunu', 'bağımsızlığını', 'demokrasiyi', 'ortadan', 'kaldırmak', 'isteyenlerle', 'mücadelemiz', 'kararlı', 'şekilde', 'devam', 'edecektir', 'türkiye', 'hukuk', 'devleti', 'çizgisinden', 'uzaklaştıramayacaktır', 'hukuktan', 'başka', 'üstün', 'kişi', 'kurum', 'yoktur', 'hukukun', 'üstünlüğünü', 'geliştirici', 'çalışmalar', 'yapacağız', 'ikinci', 'kırmızı', 'çizgimiz', 'yaparken', 'adalet', 'hakkaniyet', 'çizgimizden', 'asla', 'ayrılmayacağız', 'suçluyla', 'masum', 'vatandaşı', 'birbirinden', 'ayırt', 'mücadele', 'yapılmaktadır', 'kırmızı', 'çizgimizdir', 'fetö', 'mücadele', 'ederken', 'fetö', 'üslubu', 'örgütlerin', 'üslubu', 'usulüyle', 'hukukun', 'emrettiği', 'usulle', 'mücadeleyi', 'temel', 'kırmızı', 'çizgimizdir', 'hukuk', 'devleti', 'olmanın', 'diğerlerinden', 'farkı', 'budur', 'terörle', 'mücadele', 'ederken', 'hukuktan', 'ayrılmamak', 'temel', 'yaklaşımımız', 'temel', 'prensibimizdir', 'hkim', 'savcı', 'arkadaşlarımız', 'personellerimizle', 'çabayı', 'şekilde', 'göstermektedirler', 'yargi', 'reform', 'belgesini', 'kamuoyuyla', 'paylaşacağiz', 'yargı', 'reform', 'belgesi', 'halini', 'kamuoyu', 'yakın', 'zamanda', 'paylaşacaklarını', 'ifade', 'bakan', 'önemli', 'kararlar', 'almış', 'durumdayız', 'çerçevede', 'hkim', 'savcı', 'atamalarında', 'puanın', 'getirilmesi', 'önemli', 'aşamadır', 'sene', 'hkim', 'savcı', 'arkadaşımız', 'meslek', 'eğitime', 'tabitutulacaktır', 'hkimler', 'savcılar', 'kurumumuz', 'planlamasını', 'yaptı', 'duruşmalara', 'engel', 'olmadan', 'çalışmayı', 'yapacağız', 'dedi', 'vatandaş', 'iftiradan', 'korunduadliyede', 'kimsenin', 'lekelenmediği', 'yargılama', 'sürecinin', 'titizlikle', 'devam', 'belirten', 'bakan', 'türkiye', 'vatandaşımız', 'hakkında', 'soruşturma', 'açılmasına', 'gerek', 'görülmemiştir', 'genel', 'soyut', 'iftiralarla', 'hakkında', 'savcılığa', 'şikayette', 'bulunulmuş', 'başsavcılarımız', 'iftirayı', 'görmüş', 'şekilde', 'evine', 'işyerine', 'polis', 'göndermeden', 'lekelenmesini', 'önlemiş', 'vatandaşımız', 'çıkarmış', 'olduğumuz', 'kanun', 'düzenlemeyle', 'yargı', 'mensuplarımızın', 'titiz', 'çalışmasıyla', 'vatandaşımız', 'lekelenmemiş', 'evine', 'polis', 'gitmemiştir', 'güçlendireceğiz', 'temel', 'yaklaşımımız', 'adaletin', 'hukukun', 'korunması', 'geliştirilmesi', 'eksikliklerin', 'giderilmesidir', 'ifadelerini', 'kullandı', 'avukatlik', 'mesleğinin', 'ikamesi', 'yoktur', 'avukatlık', 'mesleğinin', 'ikamesinin', 'bulunmadığını', 'belirten', 'bakan', 'trafik', 'kazalarında', 'başka', 'şekillerde', 'avukatın', 'önüne', 'geçerek', 'sigorta', 'firmalarına', 'işin', 'simsarlarına', 'asla', 'edeceğim', 'vatandaşlarımız', 'kapılmasınlar', 'aramanın', 'savunmanın', 'temel', 'unsuru', 'avukattır', 'avukatlık', 'mesleğinin', 'ikamesi', 'yoktur', 'şekilde', 'alternatif', 'çözüm', 'yolları', 'dahil', 'avukatlığı', 'ortadan', 'kaldırmaz', 'konuda', 'türlü', 'tedbiri', 'almaya', 'devam', 'edeceğiz', 'vatandaşlarımızın', 'şekilde', 'kaybına', 'uğramasını', 'elbette', 'kabul', 'edemeyiz', 'konuda', 'haksızlığa', 'ihlalini', 'uğradıklarını', 'düşünmeleri', 'halinde', 'savunma', 'haklarını', 'avukatlar', 'marifetiyle', 'yapmalarını', 'vesileyle', 'tavsiye', 'ediyorum', 'konuştu'], ['uzunköprü', 'yaşayan', 'evren', 'kandemir', 'yaklaşık', 'önce', 'balık', 'avlanmak', 'evinden', 'çıkıp', 'akşam', 'olmasına', 'dönmedi', 'ailesinin', 'kayıp', 'başvurusunda', 'bulunmasıyla', 'kandemir', 'bulunması', 'arama', 'çalışması', 'başlatıldı', 'kandemir', 'telefonundan', 'önce', 'eski', 'ergene', 'göleti', 'mevkisinde', 'sinyal', 'alındı', 'üzerine', 'edirne', 'afad', 'ekipleri', 'tekirdağ', 'emniyet', 'müdürlüğü', 'deniz', 'şube', 'müdürlüğü', 'bağlı', 'dalgıç', 'polisler', 'arama', 'çalışması', 'başlattı', 'çalışma', 'sırasında', 'gölet', 'kıyısında', 'kandemir', 'şapka', 'ayakkabı', 'bulundu', 'ailesinin', 'şapka', 'ayakkabının', 'kandemir', 'tespit', 'üzerine', 'arama', 'çalışmaları', 'gölet', 'içinde', 'yoğunlaştırıldı', 'bulunamayan', 'evren', 'kandemir', 'arama', 'çalışmaları', 'sürdürülüyor']] "
     ]
    }
   ],
   "source": [
    "data_tokens = []\n",
    "tokenizer = RegexpTokenizer(r'\\w+')\n",
    "for i in range (len(cleaned_data)-1):\n",
    "    tokens = tokenizer.tokenize(cleaned_data[i])\n",
    "    data_tokens.append(tokens)\n",
    "print(data_tokens[0:5], end = ' ')"
   ]
  },
  {
   "cell_type": "markdown",
   "metadata": {},
   "source": [
    "## Experimental Validation"
   ]
  },
  {
   "cell_type": "markdown",
   "metadata": {},
   "source": [
    "### 4.1 Dictionary and Corpus\n",
    "\n",
    "A dictionary and a corpus is needed for topic modelling. \n",
    "\n",
    "Thus, I created a dictionary from ‘data_tokens’ which contains the number of times a word appears in the training set.\n",
    "\n",
    "*id2word* is the dictionary:"
   ]
  },
  {
   "cell_type": "code",
   "execution_count": 18,
   "metadata": {},
   "outputs": [],
   "source": [
    "id2word  = gensim.corpora.Dictionary(data_tokens) "
   ]
  },
  {
   "cell_type": "code",
   "execution_count": 19,
   "metadata": {
    "scrolled": true
   },
   "outputs": [
    {
     "name": "stdout",
     "output_type": "stream",
     "text": [
      "0 adaylarımızı\n",
      "1 adayımız\n",
      "2 açıklamada\n",
      "3 bağımsız\n",
      "4 başkan\n",
      "5 başkanı\n",
      "6 behçet\n",
      "7 belediye\n",
      "8 bodrum\n",
      "9 büyükşehir\n",
      "10 cumhur\n"
     ]
    }
   ],
   "source": [
    "count = 0\n",
    "for k, v in id2word.iteritems():\n",
    "    print(k, v)\n",
    "    count += 1\n",
    "    if count > 10:\n",
    "        break"
   ]
  },
  {
   "cell_type": "markdown",
   "metadata": {},
   "source": [
    "I don't want words that have high frequency, because I can't get useful information about the topic and as well as words that are too infrequent. Lastly, I will keep just 100,000 words. So I filter out tokens:\n",
    "\n",
    "- less than 15 documents (absolute number) \n",
    "- more than 0.5 documents (this is for the total corpus size, not in the absolute number).\n",
    "- keep only the first 100000 most frequent tokens."
   ]
  },
  {
   "cell_type": "code",
   "execution_count": 20,
   "metadata": {},
   "outputs": [],
   "source": [
    "id2word .filter_extremes(no_below=15, no_above=0.5, keep_n=100000)"
   ]
  },
  {
   "cell_type": "markdown",
   "metadata": {},
   "source": [
    "I created a corpus from data_tokens:"
   ]
  },
  {
   "cell_type": "code",
   "execution_count": 21,
   "metadata": {},
   "outputs": [],
   "source": [
    "texts = data_tokens"
   ]
  },
  {
   "cell_type": "markdown",
   "metadata": {},
   "source": [
    "After that I created a Term Document Frequency:\n",
    "\n",
    "For each document we create a dictionary reporting how many words and how many times those words appear using *Gensim doc2bow*.\n",
    "\n",
    "*doc2bow* creates a unique id for each word in the document. The produced corpus below above is a mapping of (word_id, word_frequency).\n",
    "\n",
    "We can check it with a sample. In this case, it is the 658th line:"
   ]
  },
  {
   "cell_type": "code",
   "execution_count": 22,
   "metadata": {},
   "outputs": [
    {
     "name": "stdout",
     "output_type": "stream",
     "text": [
      "[(10, 1), (87, 1), (152, 2), (162, 1), (163, 1), (185, 2), (219, 1), (235, 3), (253, 1), (285, 1), (329, 1), (366, 2), (408, 2), (568, 1), (683, 1), (738, 1), (752, 1), (801, 1), (803, 1), (1004, 1), (1053, 1), (1097, 1), (1101, 1), (1117, 1), (1141, 1), (1142, 1), (1159, 1), (1176, 1), (1184, 1), (1243, 2), (1289, 1), (1358, 1), (1359, 1), (1361, 1), (1363, 1), (1365, 2), (1376, 1), (1518, 1), (1558, 1), (1578, 1), (1720, 1), (1781, 2), (1946, 1), (2016, 1)] "
     ]
    }
   ],
   "source": [
    "corpus = [id2word .doc2bow(doc) for doc in data_tokens]\n",
    "print(corpus[658], end = ' ')"
   ]
  },
  {
   "cell_type": "markdown",
   "metadata": {},
   "source": [
    "For example, (10, 1) above implies, word id 10 occurs once in the first document. Likewise, word id 83 occurs once and so on.\n",
    "\n",
    "This is used as the input by the LDA model."
   ]
  },
  {
   "cell_type": "markdown",
   "metadata": {},
   "source": [
    "This the human readable format of corpus (term-frequency) for the 658th line:"
   ]
  },
  {
   "cell_type": "code",
   "execution_count": 23,
   "metadata": {
    "scrolled": true
   },
   "outputs": [
    {
     "name": "stdout",
     "output_type": "stream",
     "text": [
      "Word 10 (\"genel\") appears 1 time.\n",
      "Word 87 (\"süre\") appears 1 time.\n",
      "Word 152 (\"saatte\") appears 2 time.\n",
      "Word 162 (\"yaşananlar\") appears 1 time.\n",
      "Word 163 (\"yaşananlarson\") appears 1 time.\n",
      "Word 185 (\"devam\") appears 2 time.\n",
      "Word 219 (\"mücadele\") appears 1 time.\n"
     ]
    }
   ],
   "source": [
    "corpus_doc_658 = corpus[658]\n",
    "for i in range(len(corpus_doc_658)- 37):\n",
    "    print(\"Word {} (\\\"{}\\\") appears {} time.\".format(corpus_doc_658[i][0], \n",
    "                                                     id2word [corpus_doc_658[i][0]], corpus_doc_658[i][1]))"
   ]
  },
  {
   "cell_type": "markdown",
   "metadata": {},
   "source": [
    "### 4.2 LDA Topic Model"
   ]
  },
  {
   "cell_type": "markdown",
   "metadata": {},
   "source": [
    "Now, I have every conditon fulfilled to train the LDA model. But dictionary and corpus is not the only necessity for LDA model. I also need to provide the number of topics as well.\n",
    "\n",
    "- *alpha* is the hyperparameter that affect sparsity of the topics. According to the Gensim docs, both defaults to 1.0/num_topics prior.\n",
    "- *chunksize* is the number of documents to be used in each training chunk. \n",
    "- *update_every* determines how often the model parameters should be updated\n",
    "- *passes* is the total number of training passes."
   ]
  },
  {
   "cell_type": "code",
   "execution_count": 24,
   "metadata": {},
   "outputs": [],
   "source": [
    "lda_model = LdaModel(corpus=corpus,\n",
    "                    id2word=id2word ,\n",
    "                    num_topics=20, \n",
    "                    random_state=100,\n",
    "                    update_every=1,\n",
    "                    chunksize=100,\n",
    "                    passes=10,\n",
    "                    alpha='auto',\n",
    "                    per_word_topics=True)"
   ]
  },
  {
   "cell_type": "markdown",
   "metadata": {},
   "source": [
    "**Topics in LDA model**"
   ]
  },
  {
   "cell_type": "markdown",
   "metadata": {},
   "source": [
    "The above LDA model is built with 20 different topics where each topic is a combination of keywords and each keyword contributes a certain weightage to the topic.\n",
    "\n",
    "You can see the keywords for each topic and the weightage(importance) of each keyword using lda_model.print_topics() as shown next."
   ]
  },
  {
   "cell_type": "code",
   "execution_count": 25,
   "metadata": {
    "scrolled": true
   },
   "outputs": [
    {
     "name": "stdout",
     "output_type": "stream",
     "text": [
      "[(0,\n",
      "  '0.042*\"ceza\" + 0.040*\"sanık\" + 0.033*\"hapis\" + 0.032*\"suçundan\" + '\n",
      "  '0.032*\"karar\" + 0.030*\"ağır\" + 0.029*\"mahkeme\" + 0.026*\"cezası\" + '\n",
      "  '0.019*\"çelik\" + 0.019*\"tutuklu\"'),\n",
      " (1,\n",
      "  '0.089*\"aykırı\" + 0.073*\"kadın\" + 0.071*\"görevlisi\" + 0.054*\"genç\" + '\n",
      "  '0.038*\"ordu\" + 0.033*\"nedeni\" + 0.028*\"gaziantep\" + 0.028*\"organize\" + '\n",
      "  '0.027*\"barış\" + 0.022*\"dönemin\"'),\n",
      " (2,\n",
      "  '0.086*\"ilçe\" + 0.074*\"jandarma\" + 0.069*\"yavuz\" + 0.033*\"tespit\" + '\n",
      "  '0.028*\"arama\" + 0.028*\"belirtildi\" + 0.026*\"sonuç\" + 0.024*\"kamu\" + '\n",
      "  '0.021*\"ortadan\" + 0.018*\"sonucu\"'),\n",
      " (3,\n",
      "  '0.052*\"yılmaz\" + 0.048*\"milletvekili\" + 0.033*\"bakanı\" + 0.032*\"idareler\" + '\n",
      "  '0.032*\"mahalli\" + 0.030*\"soylu\" + 0.027*\"türkiye\" + 0.024*\"bakan\" + '\n",
      "  '0.023*\"mehmet\" + 0.022*\"içişleri\"'),\n",
      " (4,\n",
      "  '0.062*\"ekipleri\" + 0.037*\"polis\" + 0.034*\"müdürlüğü\" + 0.031*\"ekipler\" + '\n",
      "  '0.027*\"itfaiye\" + 0.026*\"şube\" + 0.025*\"asayiş\" + 0.020*\"sürüyor\" + '\n",
      "  '0.020*\"adliyeye\" + 0.019*\"sevk\"'),\n",
      " (5,\n",
      "  '0.051*\"terör\" + 0.039*\"fetö\" + 0.030*\"silahlı\" + 0.027*\"örgütü\" + '\n",
      "  '0.021*\"üyesi\" + 0.020*\"yönelik\" + 0.020*\"eski\" + 0.018*\"kabul\" + '\n",
      "  '0.018*\"örgüt\" + 0.016*\"örgütün\"'),\n",
      " (6,\n",
      "  '0.032*\"zaman\" + 0.027*\"dedi\" + 0.022*\"büyük\" + 0.021*\"allah\" + '\n",
      "  '0.020*\"konuştu\" + 0.019*\"karşı\" + 0.016*\"türkiye\" + 0.015*\"kemal\" + '\n",
      "  '0.015*\"önce\" + 0.014*\"bugün\"'),\n",
      " (7,\n",
      "  '0.205*\"saatte\" + 0.131*\"yaşananlar\" + 0.108*\"açıklamada\" + '\n",
      "  '0.068*\"yaşananlarson\" + 0.067*\"nisan\" + 0.050*\"twitter\" + 0.025*\"yolu\" + '\n",
      "  '0.025*\"resmi\" + 0.024*\"açıklama\" + 0.023*\"cumhuriyeti\"'),\n",
      " (8,\n",
      "  '0.042*\"hukuki\" + 0.034*\"altın\" + 0.033*\"yaşlı\" + 0.029*\"ilçesi\" + '\n",
      "  '0.029*\"ilçede\" + 0.026*\"olmaması\" + 0.025*\"kızı\" + 0.024*\"kavgaya\" + '\n",
      "  '0.024*\"merkezinde\" + 0.024*\"prof\"'),\n",
      " (9,\n",
      "  '0.024*\"çalışma\" + 0.024*\"yaklaşık\" + 0.019*\"bölgede\" + 0.017*\"güvenlik\" + '\n",
      "  '0.017*\"söyledi\" + 0.016*\"geçen\" + 0.013*\"dedi\" + 0.013*\"suriye\" + '\n",
      "  '0.013*\"oldu\" + 0.013*\"içinde\"'),\n",
      " (10,\n",
      "  '0.082*\"fatih\" + 0.062*\"kaydedildi\" + 0.053*\"yardım\" + 0.043*\"nöbetçi\" + '\n",
      "  '0.040*\"bildirildi\" + 0.039*\"araca\" + 0.031*\"oğlu\" + 0.031*\"yasa\" + '\n",
      "  '0.029*\"toprağa\" + 0.028*\"konuldu\"'),\n",
      " (11,\n",
      "  '0.113*\"erdoğan\" + 0.026*\"sosyal\" + 0.023*\"maltepe\" + 0.022*\"tayyip\" + '\n",
      "  '0.022*\"genel\" + 0.019*\"yeni\" + 0.018*\"istanbul\" + 0.017*\"medya\" + '\n",
      "  '0.015*\"anadolu\" + 0.014*\"teknik\"'),\n",
      " (12,\n",
      "  '0.037*\"gözaltına\" + 0.037*\"emniyet\" + 0.027*\"müdürlüğü\" + 0.023*\"tespit\" + '\n",
      "  '0.022*\"edilen\" + 0.021*\"soruşturma\" + 0.021*\"alınan\" + 0.020*\"cumhuriyet\" + '\n",
      "  '0.018*\"şüpheli\" + 0.018*\"kapsamında\"'),\n",
      " (13,\n",
      "  '0.057*\"türkiye\" + 0.025*\"görev\" + 0.022*\"devam\" + 0.021*\"imamoğlu\" + '\n",
      "  '0.016*\"bütün\" + 0.016*\"ankara\" + 0.013*\"büyük\" + 0.012*\"kılıçdaroğlu\" + '\n",
      "  '0.011*\"seçimi\" + 0.011*\"dile\"'),\n",
      " (14,\n",
      "  '0.079*\"olay\" + 0.043*\"meydana\" + 0.043*\"saat\" + 0.040*\"geldi\" + '\n",
      "  '0.030*\"ateş\" + 0.024*\"aracın\" + 0.020*\"araç\" + 0.019*\"kaza\" + 0.019*\"gelen\" '\n",
      "  '+ 0.018*\"sıralarında\"'),\n",
      " (15,\n",
      "  '0.041*\"sonra\" + 0.038*\"devam\" + 0.027*\"hava\" + 0.023*\"türk\" + 0.022*\"gece\" '\n",
      "  '+ 0.020*\"milli\" + 0.019*\"tarihi\" + 0.019*\"personel\" + 0.018*\"ihraç\" + '\n",
      "  '0.017*\"eski\"'),\n",
      " (16,\n",
      "  '0.253*\"kurulu\" + 0.107*\"adalet\" + 0.050*\"hukuk\" + 0.040*\"yargı\" + '\n",
      "  '0.034*\"hakim\" + 0.028*\"genel\" + 0.027*\"dışı\" + 0.026*\"uygun\" + '\n",
      "  '0.024*\"tespit\" + 0.024*\"önüne\"'),\n",
      " (17,\n",
      "  '0.094*\"parti\" + 0.080*\"belediye\" + 0.071*\"istanbul\" + 0.047*\"büyükşehir\" + '\n",
      "  '0.045*\"başkanı\" + 0.042*\"başkan\" + 0.042*\"yıldırım\" + 0.024*\"başkanlığı\" + '\n",
      "  '0.022*\"adayı\" + 0.022*\"seçim\"'),\n",
      " (18,\n",
      "  '0.044*\"seçim\" + 0.041*\"sandık\" + 0.017*\"ilişkin\" + 0.015*\"şekilde\" + '\n",
      "  '0.014*\"kamu\" + 0.013*\"genel\" + 0.012*\"seçmen\" + 0.012*\"ortaya\" + '\n",
      "  '0.010*\"karar\" + 0.010*\"ifade\"'),\n",
      " (19,\n",
      "  '0.035*\"ardından\" + 0.024*\"polis\" + 0.022*\"üzerine\" + 0.021*\"sonra\" + '\n",
      "  '0.017*\"sağlık\" + 0.015*\"etti\" + 0.015*\"edildi\" + 0.014*\"mahallesi\" + '\n",
      "  '0.014*\"gelen\" + 0.013*\"olay\"')]\n"
     ]
    }
   ],
   "source": [
    "# Print the Keyword in the 10 topics\n",
    "pprint.pprint(lda_model.print_topics())\n",
    "doc_lda = lda_model[corpus]"
   ]
  },
  {
   "cell_type": "markdown",
   "metadata": {},
   "source": [
    "This is how to interpret this:\n",
    "\n",
    "Topic 0 is a represented as 0.042*\"ceza\" + 0.040*\"sanık\" + 0.033*\"hapis\" + 0.032*\"suçundan\" + 0.032*\"karar\" + 0.030*\"ağır\" + 0.028*\"mahkeme\" + 0.026*\"cezası\" + 0.020*\"çelik\" + 0.019*\"tutuklu\".\n",
    "\n",
    "For topic 0, these 10 keywords are the ones that has got the heighest weight, respectively: ‘ceza’, ‘sanık’, ‘hapis’.. For example, the weight of ‘ceza’ on topic 0 is 0.042.\n",
    "\n",
    "The more a keyword has weight, the more important that keyword is for the topic. \n",
    "\n",
    "Looking at the keywords, for example, I can assign topic 0 as *law*."
   ]
  },
  {
   "cell_type": "markdown",
   "metadata": {},
   "source": [
    "### 4.3 Model Perplexity and Coherence Score"
   ]
  },
  {
   "cell_type": "markdown",
   "metadata": {},
   "source": [
    "Model perplexity and topic coherence provide a convenient measure to judge how good a given topic model is. \n",
    "\n",
    "Perplexity gives us of how good the model is. The lower it is, the better it is."
   ]
  },
  {
   "cell_type": "markdown",
   "metadata": {},
   "source": [
    "Coherence measure to be used. Fastest method is ‘u_mass’ but the ‘c_v’ usually gives the best result.\n",
    "\n",
    "- for ‘u_mass’ corpus should be provided, if texts is provided, it will be converted to corpus using the dictionary. \n",
    "- for ‘c_v’, ‘c_uci’ and ‘c_npmi’ texts should be provided"
   ]
  },
  {
   "cell_type": "code",
   "execution_count": 26,
   "metadata": {},
   "outputs": [
    {
     "name": "stdout",
     "output_type": "stream",
     "text": [
      "\n",
      "Perplexity:  -9.00519947891263\n"
     ]
    }
   ],
   "source": [
    "print('\\nPerplexity: ', lda_model.log_perplexity(corpus))"
   ]
  },
  {
   "cell_type": "code",
   "execution_count": 22,
   "metadata": {
    "scrolled": true
   },
   "outputs": [
    {
     "name": "stdout",
     "output_type": "stream",
     "text": [
      "\n",
      "Coherence Score:  0.472797646980033\n"
     ]
    }
   ],
   "source": [
    "cm = CoherenceModel(model=lda_model, texts=data_tokens, dictionary=id2word, coherence='c_v')\n",
    "coherence = cm.get_coherence()\n",
    "print('\\nCoherence Score: ', coherence)"
   ]
  },
  {
   "cell_type": "markdown",
   "metadata": {},
   "source": [
    "As you can see coherence score is 0.47."
   ]
  },
  {
   "cell_type": "markdown",
   "metadata": {},
   "source": [
    "### 4.4 Visualization of the Topics and Keywords"
   ]
  },
  {
   "cell_type": "markdown",
   "metadata": {},
   "source": [
    "LDA model is ready. Taking to the next step, I need to examine the produced topics and the associated keywords. \n",
    "\n",
    "For this, I am going to use pyLDAvis package’s interactive chart."
   ]
  },
  {
   "cell_type": "code",
   "execution_count": 27,
   "metadata": {
    "scrolled": true
   },
   "outputs": [
    {
     "name": "stderr",
     "output_type": "stream",
     "text": [
      "C:\\Users\\Lenovo\\Anaconda3\\lib\\site-packages\\pyLDAvis\\_prepare.py:257: FutureWarning: Sorting because non-concatenation axis is not aligned. A future version\n",
      "of pandas will change to not sort by default.\n",
      "\n",
      "To accept the future behavior, pass 'sort=False'.\n",
      "\n",
      "To retain the current behavior and silence the warning, pass 'sort=True'.\n",
      "\n",
      "  return pd.concat([default_term_info] + list(topic_dfs))\n"
     ]
    },
    {
     "data": {
      "text/html": [
       "\n",
       "<link rel=\"stylesheet\" type=\"text/css\" href=\"https://cdn.rawgit.com/bmabey/pyLDAvis/files/ldavis.v1.0.0.css\">\n",
       "\n",
       "\n",
       "<div id=\"ldavis_el354818574579365686533169999\"></div>\n",
       "<script type=\"text/javascript\">\n",
       "\n",
       "var ldavis_el354818574579365686533169999_data = {\"mdsDat\": {\"x\": [-0.13933189666898738, 0.21591449940218094, -0.19188429425750628, -0.17667513504639074, -0.15580798970780912, 0.22732502784028583, -0.014627715182879242, 0.030517448697028163, -0.02949806458735539, -0.09609794022584398, -0.0419479385573333, 0.23129416746280831, 0.28751941834029676, 0.03956705525022271, -0.11165677947207198, -0.0017287189947308513, 0.03261621828900837, -0.055236459697150866, -0.004441263478383571, -0.045819639405388475], \"y\": [0.1503958092647984, 0.15901098364200722, 0.16545810030034766, 0.10628852544064234, -0.00646308656828186, 0.008115019201625216, 0.1591184562061516, 0.0975426901625113, 0.005992497559887059, -0.051317512672906546, 0.15216867310898086, 0.04140289477441727, 0.03527528652708624, -0.114535634674704, -0.07392105908730992, -0.1837342394815515, -0.1465395667407976, -0.14065691839461553, -0.19650535375549963, -0.16709556481278742], \"topics\": [1, 2, 3, 4, 5, 6, 7, 8, 9, 10, 11, 12, 13, 14, 15, 16, 17, 18, 19, 20], \"cluster\": [1, 1, 1, 1, 1, 1, 1, 1, 1, 1, 1, 1, 1, 1, 1, 1, 1, 1, 1, 1], \"Freq\": [13.537378311157227, 13.173590660095215, 9.82607364654541, 7.191418647766113, 6.8894267082214355, 5.986686706542969, 5.788381099700928, 5.748191833496094, 5.14270544052124, 5.021233558654785, 4.598423004150391, 4.420533180236816, 2.980649709701538, 2.066796064376831, 1.666906476020813, 1.4719657897949219, 1.365120530128479, 1.1567732095718384, 1.0692864656448364, 0.8984624147415161]}, \"tinfo\": {\"Category\": [\"Default\", \"Default\", \"Default\", \"Default\", \"Default\", \"Default\", \"Default\", \"Default\", \"Default\", \"Default\", \"Default\", \"Default\", \"Default\", \"Default\", \"Default\", \"Default\", \"Default\", \"Default\", \"Default\", \"Default\", \"Default\", \"Default\", \"Default\", \"Default\", \"Default\", \"Default\", \"Default\", \"Default\", \"Default\", \"Default\", \"Topic1\", \"Topic1\", \"Topic1\", \"Topic1\", \"Topic1\", \"Topic1\", \"Topic1\", \"Topic1\", \"Topic1\", \"Topic1\", \"Topic1\", \"Topic1\", \"Topic1\", \"Topic1\", \"Topic1\", \"Topic1\", \"Topic1\", \"Topic1\", \"Topic1\", \"Topic1\", \"Topic1\", \"Topic1\", \"Topic1\", \"Topic1\", \"Topic1\", \"Topic1\", \"Topic1\", \"Topic1\", \"Topic1\", \"Topic1\", \"Topic1\", \"Topic1\", \"Topic1\", \"Topic1\", \"Topic1\", \"Topic1\", \"Topic1\", \"Topic1\", \"Topic1\", \"Topic1\", \"Topic1\", \"Topic1\", \"Topic1\", \"Topic1\", \"Topic1\", \"Topic1\", \"Topic1\", \"Topic1\", \"Topic1\", \"Topic1\", \"Topic1\", \"Topic1\", \"Topic1\", \"Topic1\", \"Topic1\", \"Topic1\", \"Topic2\", \"Topic2\", \"Topic2\", \"Topic2\", \"Topic2\", \"Topic2\", \"Topic2\", \"Topic2\", \"Topic2\", \"Topic2\", \"Topic2\", \"Topic2\", \"Topic2\", \"Topic2\", \"Topic2\", \"Topic2\", \"Topic2\", \"Topic2\", \"Topic2\", \"Topic2\", \"Topic2\", \"Topic2\", \"Topic2\", \"Topic2\", \"Topic2\", \"Topic2\", \"Topic2\", \"Topic2\", \"Topic2\", \"Topic2\", \"Topic2\", \"Topic2\", \"Topic2\", \"Topic2\", \"Topic2\", \"Topic2\", \"Topic2\", \"Topic2\", \"Topic2\", \"Topic2\", \"Topic2\", \"Topic2\", \"Topic2\", \"Topic2\", \"Topic2\", \"Topic2\", \"Topic2\", \"Topic2\", \"Topic2\", \"Topic2\", \"Topic2\", \"Topic2\", \"Topic2\", \"Topic2\", \"Topic2\", \"Topic2\", \"Topic2\", \"Topic2\", \"Topic2\", \"Topic2\", \"Topic3\", \"Topic3\", \"Topic3\", \"Topic3\", \"Topic3\", \"Topic3\", \"Topic3\", \"Topic3\", \"Topic3\", \"Topic3\", \"Topic3\", \"Topic3\", \"Topic3\", \"Topic3\", \"Topic3\", \"Topic3\", \"Topic3\", \"Topic3\", \"Topic3\", \"Topic3\", \"Topic3\", \"Topic3\", \"Topic3\", \"Topic3\", \"Topic3\", \"Topic3\", \"Topic3\", \"Topic3\", \"Topic3\", \"Topic3\", \"Topic3\", \"Topic3\", \"Topic3\", \"Topic3\", \"Topic3\", \"Topic3\", \"Topic3\", \"Topic3\", \"Topic3\", \"Topic3\", \"Topic3\", \"Topic3\", \"Topic3\", \"Topic3\", \"Topic3\", \"Topic3\", \"Topic3\", \"Topic3\", \"Topic3\", \"Topic3\", \"Topic3\", \"Topic3\", \"Topic3\", \"Topic3\", \"Topic3\", \"Topic3\", \"Topic3\", \"Topic3\", \"Topic4\", \"Topic4\", \"Topic4\", \"Topic4\", \"Topic4\", \"Topic4\", \"Topic4\", \"Topic4\", \"Topic4\", \"Topic4\", \"Topic4\", \"Topic4\", \"Topic4\", \"Topic4\", \"Topic4\", \"Topic4\", \"Topic4\", \"Topic4\", \"Topic4\", \"Topic4\", \"Topic4\", \"Topic4\", \"Topic4\", \"Topic4\", \"Topic4\", \"Topic4\", \"Topic4\", \"Topic4\", \"Topic4\", \"Topic4\", \"Topic4\", \"Topic4\", \"Topic4\", \"Topic4\", \"Topic4\", \"Topic4\", \"Topic4\", \"Topic4\", \"Topic4\", \"Topic4\", \"Topic4\", \"Topic4\", \"Topic4\", \"Topic4\", \"Topic4\", \"Topic4\", \"Topic4\", \"Topic4\", \"Topic4\", \"Topic4\", \"Topic4\", \"Topic4\", \"Topic4\", \"Topic4\", \"Topic4\", \"Topic4\", \"Topic4\", \"Topic5\", \"Topic5\", \"Topic5\", \"Topic5\", \"Topic5\", \"Topic5\", \"Topic5\", \"Topic5\", \"Topic5\", \"Topic5\", \"Topic5\", \"Topic5\", \"Topic5\", \"Topic5\", \"Topic5\", \"Topic5\", \"Topic5\", \"Topic5\", \"Topic5\", \"Topic5\", \"Topic5\", \"Topic5\", \"Topic5\", \"Topic5\", \"Topic5\", \"Topic5\", \"Topic5\", \"Topic5\", \"Topic5\", \"Topic5\", \"Topic5\", \"Topic5\", \"Topic5\", \"Topic5\", \"Topic5\", \"Topic5\", \"Topic5\", \"Topic5\", \"Topic5\", \"Topic5\", \"Topic5\", \"Topic5\", \"Topic5\", \"Topic5\", \"Topic5\", \"Topic5\", \"Topic5\", \"Topic5\", \"Topic6\", \"Topic6\", \"Topic6\", \"Topic6\", \"Topic6\", \"Topic6\", \"Topic6\", \"Topic6\", \"Topic6\", \"Topic6\", \"Topic6\", \"Topic6\", \"Topic6\", \"Topic6\", \"Topic6\", \"Topic6\", \"Topic6\", \"Topic6\", \"Topic6\", \"Topic6\", \"Topic6\", \"Topic6\", \"Topic6\", \"Topic6\", \"Topic6\", \"Topic6\", \"Topic6\", \"Topic6\", \"Topic6\", \"Topic6\", \"Topic6\", \"Topic6\", \"Topic6\", \"Topic6\", \"Topic6\", \"Topic6\", \"Topic6\", \"Topic6\", \"Topic6\", \"Topic6\", \"Topic6\", \"Topic6\", \"Topic6\", \"Topic6\", \"Topic6\", \"Topic6\", \"Topic6\", \"Topic6\", \"Topic6\", \"Topic6\", \"Topic6\", \"Topic6\", \"Topic6\", \"Topic6\", \"Topic6\", \"Topic6\", \"Topic6\", \"Topic7\", \"Topic7\", \"Topic7\", \"Topic7\", \"Topic7\", \"Topic7\", \"Topic7\", \"Topic7\", \"Topic7\", \"Topic7\", \"Topic7\", \"Topic7\", \"Topic7\", \"Topic7\", \"Topic7\", \"Topic7\", \"Topic7\", \"Topic7\", \"Topic7\", \"Topic7\", \"Topic7\", \"Topic7\", \"Topic7\", \"Topic7\", \"Topic7\", \"Topic7\", \"Topic7\", \"Topic7\", \"Topic7\", \"Topic7\", \"Topic7\", \"Topic7\", \"Topic7\", \"Topic7\", \"Topic7\", \"Topic7\", \"Topic7\", \"Topic7\", \"Topic7\", \"Topic7\", \"Topic7\", \"Topic7\", \"Topic7\", \"Topic7\", \"Topic7\", \"Topic7\", \"Topic7\", \"Topic7\", \"Topic7\", \"Topic7\", \"Topic7\", \"Topic7\", \"Topic7\", \"Topic7\", \"Topic8\", \"Topic8\", \"Topic8\", \"Topic8\", \"Topic8\", \"Topic8\", \"Topic8\", \"Topic8\", \"Topic8\", \"Topic8\", \"Topic8\", \"Topic8\", \"Topic8\", \"Topic8\", \"Topic8\", \"Topic8\", \"Topic8\", \"Topic8\", \"Topic8\", \"Topic8\", \"Topic8\", \"Topic8\", \"Topic8\", \"Topic8\", \"Topic8\", \"Topic8\", \"Topic8\", \"Topic8\", \"Topic8\", \"Topic8\", \"Topic8\", \"Topic8\", \"Topic8\", \"Topic8\", \"Topic8\", \"Topic8\", \"Topic8\", \"Topic8\", \"Topic8\", \"Topic8\", \"Topic8\", \"Topic8\", \"Topic8\", \"Topic8\", \"Topic8\", \"Topic8\", \"Topic8\", \"Topic8\", \"Topic8\", \"Topic9\", \"Topic9\", \"Topic9\", \"Topic9\", \"Topic9\", \"Topic9\", \"Topic9\", \"Topic9\", \"Topic9\", \"Topic9\", \"Topic9\", \"Topic9\", \"Topic9\", \"Topic9\", \"Topic9\", \"Topic9\", \"Topic9\", \"Topic9\", \"Topic9\", \"Topic9\", \"Topic9\", \"Topic9\", \"Topic9\", \"Topic9\", \"Topic9\", \"Topic9\", \"Topic9\", \"Topic9\", \"Topic9\", \"Topic9\", \"Topic9\", \"Topic9\", \"Topic9\", \"Topic9\", \"Topic9\", \"Topic9\", \"Topic9\", \"Topic9\", \"Topic9\", \"Topic9\", \"Topic9\", \"Topic9\", \"Topic9\", \"Topic9\", \"Topic9\", \"Topic9\", \"Topic9\", \"Topic10\", \"Topic10\", \"Topic10\", \"Topic10\", \"Topic10\", \"Topic10\", \"Topic10\", \"Topic10\", \"Topic10\", \"Topic10\", \"Topic10\", \"Topic10\", \"Topic10\", \"Topic10\", \"Topic10\", \"Topic10\", \"Topic10\", \"Topic10\", \"Topic10\", \"Topic10\", \"Topic10\", \"Topic10\", \"Topic10\", \"Topic10\", \"Topic10\", \"Topic10\", \"Topic10\", \"Topic10\", \"Topic10\", \"Topic10\", \"Topic10\", \"Topic10\", \"Topic10\", \"Topic10\", \"Topic10\", \"Topic10\", \"Topic10\", \"Topic10\", \"Topic10\", \"Topic10\", \"Topic10\", \"Topic10\", \"Topic10\", \"Topic10\", \"Topic10\", \"Topic10\", \"Topic10\", \"Topic11\", \"Topic11\", \"Topic11\", \"Topic11\", \"Topic11\", \"Topic11\", \"Topic11\", \"Topic11\", \"Topic11\", \"Topic11\", \"Topic11\", \"Topic11\", \"Topic11\", \"Topic11\", \"Topic11\", \"Topic11\", \"Topic11\", \"Topic11\", \"Topic11\", \"Topic11\", \"Topic11\", \"Topic11\", \"Topic11\", \"Topic11\", \"Topic11\", \"Topic11\", \"Topic11\", \"Topic11\", \"Topic11\", \"Topic11\", \"Topic11\", \"Topic11\", \"Topic11\", \"Topic11\", \"Topic11\", \"Topic11\", \"Topic11\", \"Topic11\", \"Topic11\", \"Topic11\", \"Topic11\", \"Topic11\", \"Topic11\", \"Topic11\", \"Topic11\", \"Topic11\", \"Topic11\", \"Topic12\", \"Topic12\", \"Topic12\", \"Topic12\", \"Topic12\", \"Topic12\", \"Topic12\", \"Topic12\", \"Topic12\", \"Topic12\", \"Topic12\", \"Topic12\", \"Topic12\", \"Topic12\", \"Topic12\", \"Topic12\", \"Topic12\", \"Topic12\", \"Topic12\", \"Topic12\", \"Topic12\", \"Topic12\", \"Topic12\", \"Topic12\", \"Topic12\", \"Topic12\", \"Topic12\", \"Topic12\", \"Topic12\", \"Topic12\", \"Topic12\", \"Topic12\", \"Topic12\", \"Topic12\", \"Topic12\", \"Topic12\", \"Topic12\", \"Topic12\", \"Topic12\", \"Topic12\", \"Topic12\", \"Topic12\", \"Topic12\", \"Topic12\", \"Topic12\", \"Topic12\", \"Topic12\", \"Topic12\", \"Topic12\", \"Topic12\", \"Topic13\", \"Topic13\", \"Topic13\", \"Topic13\", \"Topic13\", \"Topic13\", \"Topic13\", \"Topic13\", \"Topic13\", \"Topic13\", \"Topic13\", \"Topic13\", \"Topic13\", \"Topic13\", \"Topic13\", \"Topic13\", \"Topic13\", \"Topic13\", \"Topic13\", \"Topic13\", \"Topic13\", \"Topic13\", \"Topic13\", \"Topic13\", \"Topic13\", \"Topic13\", \"Topic13\", \"Topic13\", \"Topic13\", \"Topic13\", \"Topic13\", \"Topic13\", \"Topic13\", \"Topic13\", \"Topic13\", \"Topic13\", \"Topic13\", \"Topic13\", \"Topic13\", \"Topic13\", \"Topic13\", \"Topic13\", \"Topic13\", \"Topic13\", \"Topic13\", \"Topic13\", \"Topic13\", \"Topic14\", \"Topic14\", \"Topic14\", \"Topic14\", \"Topic14\", \"Topic14\", \"Topic14\", \"Topic14\", \"Topic14\", \"Topic14\", \"Topic14\", \"Topic14\", \"Topic14\", \"Topic14\", \"Topic14\", \"Topic14\", \"Topic14\", \"Topic14\", \"Topic14\", \"Topic14\", \"Topic14\", \"Topic14\", \"Topic14\", \"Topic14\", \"Topic14\", \"Topic14\", \"Topic14\", \"Topic14\", \"Topic14\", \"Topic14\", \"Topic14\", \"Topic14\", \"Topic14\", \"Topic14\", \"Topic14\", \"Topic14\", \"Topic14\", \"Topic14\", \"Topic14\", \"Topic14\", \"Topic14\", \"Topic14\", \"Topic14\", \"Topic15\", \"Topic15\", \"Topic15\", \"Topic15\", \"Topic15\", \"Topic15\", \"Topic15\", \"Topic15\", \"Topic15\", \"Topic15\", \"Topic15\", \"Topic15\", \"Topic15\", \"Topic15\", \"Topic15\", \"Topic15\", \"Topic15\", \"Topic15\", \"Topic15\", \"Topic15\", \"Topic15\", \"Topic15\", \"Topic15\", \"Topic15\", \"Topic15\", \"Topic15\", \"Topic15\", \"Topic15\", \"Topic15\", \"Topic15\", \"Topic15\", \"Topic15\", \"Topic15\", \"Topic15\", \"Topic15\", \"Topic15\", \"Topic15\", \"Topic15\", \"Topic15\", \"Topic16\", \"Topic16\", \"Topic16\", \"Topic16\", \"Topic16\", \"Topic16\", \"Topic16\", \"Topic16\", \"Topic16\", \"Topic16\", \"Topic16\", \"Topic16\", \"Topic16\", \"Topic16\", \"Topic16\", \"Topic16\", \"Topic16\", \"Topic16\", \"Topic16\", \"Topic16\", \"Topic16\", \"Topic16\", \"Topic16\", \"Topic16\", \"Topic16\", \"Topic16\", \"Topic16\", \"Topic16\", \"Topic16\", \"Topic16\", \"Topic16\", \"Topic16\", \"Topic16\", \"Topic16\", \"Topic16\", \"Topic16\", \"Topic16\", \"Topic17\", \"Topic17\", \"Topic17\", \"Topic17\", \"Topic17\", \"Topic17\", \"Topic17\", \"Topic17\", \"Topic17\", \"Topic17\", \"Topic17\", \"Topic17\", \"Topic17\", \"Topic17\", \"Topic17\", \"Topic17\", \"Topic17\", \"Topic17\", \"Topic17\", \"Topic17\", \"Topic17\", \"Topic17\", \"Topic17\", \"Topic17\", \"Topic17\", \"Topic17\", \"Topic17\", \"Topic17\", \"Topic17\", \"Topic17\", \"Topic17\", \"Topic17\", \"Topic17\", \"Topic17\", \"Topic17\", \"Topic17\", \"Topic17\", \"Topic17\", \"Topic17\", \"Topic17\", \"Topic17\", \"Topic18\", \"Topic18\", \"Topic18\", \"Topic18\", \"Topic18\", \"Topic18\", \"Topic18\", \"Topic18\", \"Topic18\", \"Topic18\", \"Topic18\", \"Topic18\", \"Topic18\", \"Topic18\", \"Topic18\", \"Topic18\", \"Topic18\", \"Topic18\", \"Topic18\", \"Topic18\", \"Topic18\", \"Topic18\", \"Topic18\", \"Topic18\", \"Topic18\", \"Topic18\", \"Topic18\", \"Topic18\", \"Topic18\", \"Topic18\", \"Topic18\", \"Topic18\", \"Topic18\", \"Topic18\", \"Topic18\", \"Topic18\", \"Topic19\", \"Topic19\", \"Topic19\", \"Topic19\", \"Topic19\", \"Topic19\", \"Topic19\", \"Topic19\", \"Topic19\", \"Topic19\", \"Topic19\", \"Topic19\", \"Topic19\", \"Topic19\", \"Topic19\", \"Topic19\", \"Topic19\", \"Topic19\", \"Topic19\", \"Topic19\", \"Topic19\", \"Topic19\", \"Topic19\", \"Topic19\", \"Topic19\", \"Topic19\", \"Topic19\", \"Topic19\", \"Topic19\", \"Topic19\", \"Topic19\", \"Topic19\", \"Topic20\", \"Topic20\", \"Topic20\", \"Topic20\", \"Topic20\", \"Topic20\", \"Topic20\", \"Topic20\", \"Topic20\", \"Topic20\", \"Topic20\", \"Topic20\", \"Topic20\", \"Topic20\", \"Topic20\", \"Topic20\", \"Topic20\", \"Topic20\", \"Topic20\", \"Topic20\", \"Topic20\", \"Topic20\", \"Topic20\", \"Topic20\", \"Topic20\", \"Topic20\", \"Topic20\", \"Topic20\", \"Topic20\", \"Topic20\", \"Topic20\", \"Topic20\", \"Topic20\", \"Topic20\", \"Topic20\", \"Topic20\", \"Topic20\", \"Topic20\", \"Topic20\", \"Topic20\", \"Topic20\"], \"Freq\": [795.0, 691.0, 440.0, 676.0, 876.0, 661.0, 873.0, 906.0, 673.0, 406.0, 562.0, 450.0, 225.0, 449.0, 417.0, 522.0, 626.0, 666.0, 354.0, 351.0, 878.0, 375.0, 754.0, 363.0, 344.0, 320.0, 310.0, 280.0, 300.0, 405.0, 672.80615234375, 194.6576385498047, 160.6866455078125, 158.36793518066406, 156.5306396484375, 141.8558349609375, 102.93603515625, 100.07682800292969, 90.88362121582031, 89.56221771240234, 89.28729248046875, 86.2235107421875, 72.57431030273438, 69.82486724853516, 65.70269775390625, 62.500553131103516, 61.85397720336914, 54.35406494140625, 52.78445816040039, 48.35493087768555, 45.82773208618164, 45.605384826660156, 45.53554916381836, 45.28096008300781, 43.097938537597656, 42.564064025878906, 40.976463317871094, 40.77449417114258, 38.86577224731445, 38.563228607177734, 107.36492919921875, 156.5837860107422, 62.36338806152344, 61.318416595458984, 721.0426635742188, 122.37911224365234, 230.4929656982422, 287.95098876953125, 193.58953857421875, 139.27915954589844, 246.6676025390625, 93.33657836914062, 110.50640106201172, 209.80580139160156, 172.05621337890625, 117.09190368652344, 166.26072692871094, 130.34442138671875, 87.63966369628906, 88.78414154052734, 124.26798248291016, 139.03318786621094, 131.89404296875, 102.93021392822266, 98.3028335571289, 97.15274047851562, 144.86106872558594, 100.34002685546875, 96.4751205444336, 89.24663543701172, 84.67314910888672, 82.5066146850586, 80.27249145507812, 73.9410629272461, 71.58486938476562, 70.48450469970703, 70.11035919189453, 68.31248474121094, 67.5911865234375, 63.337242126464844, 61.97644805908203, 59.688480377197266, 55.820064544677734, 53.87306213378906, 53.82298278808594, 53.44765090942383, 52.68915939331055, 49.09377670288086, 48.350502014160156, 47.93740463256836, 47.77432632446289, 47.50871658325195, 47.09092712402344, 45.85133361816406, 45.099884033203125, 42.61617660522461, 101.37955474853516, 270.84027099609375, 114.18746185302734, 140.53431701660156, 171.84024047851562, 226.3362274169922, 107.95387268066406, 555.8099365234375, 391.80364990234375, 154.12152099609375, 356.9322204589844, 78.25830841064453, 97.2040023803711, 240.0479278564453, 247.0665283203125, 219.28152465820312, 342.6712341308594, 135.49461364746094, 159.5170135498047, 129.86785888671875, 207.8551483154297, 88.5825424194336, 114.69713592529297, 131.12753295898438, 107.08901977539062, 99.23096466064453, 107.79022216796875, 114.7386474609375, 104.03870391845703, 100.33853912353516, 296.4660339355469, 252.2338409423828, 124.76982116699219, 131.0333251953125, 88.46040344238281, 87.33232116699219, 88.29219055175781, 76.04592895507812, 73.09828186035156, 65.50855255126953, 61.75596237182617, 54.53182601928711, 53.91717529296875, 53.4580078125, 111.87847137451172, 48.763397216796875, 44.127925872802734, 42.362728118896484, 40.55819320678711, 37.19648361206055, 36.09391784667969, 35.9800910949707, 35.671661376953125, 34.65221405029297, 34.62919235229492, 34.51955032348633, 34.467586517333984, 32.55955123901367, 31.781455993652344, 31.563032150268555, 60.852169036865234, 63.676883697509766, 682.3091430664062, 63.433441162109375, 134.23695373535156, 73.51673889160156, 196.8886260986328, 115.34769439697266, 146.82252502441406, 62.896018981933594, 56.05916213989258, 190.13107299804688, 133.2596893310547, 131.86744689941406, 265.2351379394531, 98.23870849609375, 126.53240966796875, 120.88275146484375, 150.0203094482422, 100.78215789794922, 122.25950622558594, 96.04605102539062, 96.03713989257812, 92.21029663085938, 88.57557678222656, 90.00101470947266, 80.07284545898438, 79.12721252441406, 115.9825439453125, 77.73648834228516, 70.96804809570312, 69.73882293701172, 67.88224792480469, 67.13976287841797, 122.15586853027344, 66.21886444091797, 65.6378173828125, 65.15888977050781, 58.92537307739258, 57.63593673706055, 56.24348449707031, 52.629295349121094, 48.72871017456055, 47.885406494140625, 47.046363830566406, 45.80513000488281, 41.003082275390625, 39.18294906616211, 36.9847526550293, 36.68327331542969, 36.57476806640625, 36.41266632080078, 35.67877960205078, 34.84171676635742, 32.61447525024414, 30.196489334106445, 28.419477462768555, 27.971492767333984, 181.3550262451172, 37.137813568115234, 281.07354736328125, 54.87260437011719, 62.670928955078125, 101.01079559326172, 132.72183227539062, 74.09571838378906, 62.00040054321289, 63.4930305480957, 83.40479278564453, 167.401611328125, 196.82791137695312, 237.28265380859375, 179.37164306640625, 126.08519744873047, 94.84373474121094, 86.12406158447266, 105.92375946044922, 92.38236236572266, 127.2188491821289, 82.90251159667969, 138.4313201904297, 93.12459564208984, 74.12059020996094, 84.04742431640625, 69.723388671875, 352.7448425292969, 349.35479736328125, 186.2721710205078, 672.6137084960938, 150.22293090820312, 140.89529418945312, 117.03886413574219, 788.4531860351562, 114.5611343383789, 113.19261169433594, 64.72047424316406, 49.38908386230469, 47.39884948730469, 40.102752685546875, 39.26797866821289, 38.94561767578125, 38.215213775634766, 36.25496292114258, 29.863197326660156, 37.63092803955078, 24.37285804748535, 24.145610809326172, 22.807647705078125, 21.54127311706543, 396.6447448730469, 19.84078598022461, 19.472902297973633, 18.567617416381836, 18.008201599121094, 17.47584342956543, 68.30469512939453, 53.13874816894531, 199.27590942382812, 593.7470703125, 67.03890228271484, 377.4913635253906, 51.93238830566406, 59.469112396240234, 162.0225067138672, 142.3276824951172, 184.931640625, 67.05853271484375, 52.77954864501953, 78.24979400634766, 66.65101623535156, 54.66395568847656, 56.749141693115234, 52.25181579589844, 128.82772827148438, 133.1643829345703, 87.82791900634766, 85.18405151367188, 83.21668243408203, 71.53150177001953, 68.16852569580078, 67.31137084960938, 65.52265930175781, 56.3206672668457, 52.18098831176758, 51.40959167480469, 48.933067321777344, 47.179866790771484, 46.682212829589844, 46.29893112182617, 45.988582611083984, 45.57293701171875, 42.677730560302734, 41.635223388671875, 40.41932678222656, 39.66274642944336, 39.36565017700195, 39.19369888305664, 38.4815788269043, 34.82307052612305, 33.762630462646484, 33.63597106933594, 31.302053451538086, 30.773029327392578, 267.22259521484375, 63.42275619506836, 97.76255798339844, 267.5079345703125, 68.71195983886719, 88.67838287353516, 195.78659057617188, 58.43362808227539, 65.13328552246094, 130.7798309326172, 154.54348754882812, 151.72109985351562, 144.75180053710938, 166.81163024902344, 66.97470092773438, 158.45384216308594, 72.84285736083984, 103.76373291015625, 118.7423324584961, 91.08515930175781, 94.10292053222656, 95.21115112304688, 107.79853820800781, 83.45572662353516, 73.73161315917969, 69.93753814697266, 68.34534454345703, 171.1039276123047, 135.2443084716797, 92.67962646484375, 64.15242004394531, 62.468753814697266, 59.9776496887207, 57.42485046386719, 54.925445556640625, 54.599246978759766, 51.91695785522461, 47.13255310058594, 46.826744079589844, 46.172210693359375, 44.38234329223633, 39.992088317871094, 39.25136947631836, 37.781028747558594, 37.11093521118164, 35.95096969604492, 35.808712005615234, 35.160430908203125, 34.733360290527344, 33.86684799194336, 33.78697967529297, 33.07786560058594, 32.83842468261719, 31.316532135009766, 30.450279235839844, 30.110628128051758, 29.2396240234375, 170.94821166992188, 62.033836364746094, 75.6950454711914, 68.93339538574219, 116.35062408447266, 59.35989761352539, 78.71430969238281, 50.090736389160156, 91.96208190917969, 62.6813850402832, 118.86800384521484, 81.30618286132812, 117.96326446533203, 49.841041564941406, 56.358577728271484, 66.00824737548828, 91.68744659423828, 84.56129455566406, 88.22063446044922, 92.8416748046875, 79.69915008544922, 55.6854362487793, 62.58454895019531, 63.58856964111328, 188.8006134033203, 123.15154266357422, 113.08060455322266, 109.76111602783203, 89.43045806884766, 87.70873260498047, 85.77970123291016, 84.43126678466797, 71.47504425048828, 71.40261840820312, 69.12953186035156, 65.92738342285156, 63.4679069519043, 56.679466247558594, 51.103172302246094, 49.06492233276367, 47.56349563598633, 44.17181396484375, 41.86887741088867, 37.9489860534668, 34.07976150512695, 33.278926849365234, 32.975955963134766, 28.190284729003906, 27.430570602416992, 26.03486442565918, 25.438030242919922, 24.411291122436523, 23.6855525970459, 23.544818878173828, 209.7686309814453, 109.23605346679688, 276.4930114746094, 359.11407470703125, 76.28720092773438, 105.00569152832031, 146.73419189453125, 108.07080078125, 82.1423568725586, 138.97630310058594, 103.27641296386719, 140.8485107421875, 129.2621307373047, 77.61168670654297, 110.13006591796875, 69.85355377197266, 92.11265563964844, 79.47988891601562, 76.24441528320312, 208.33950805664062, 111.8402328491211, 95.83621215820312, 95.4901123046875, 83.41714477539062, 78.88168334960938, 75.2552490234375, 74.1777572631836, 71.98872375488281, 64.10028076171875, 60.611324310302734, 57.96223449707031, 55.49256896972656, 55.006866455078125, 53.672943115234375, 51.30927658081055, 50.99090576171875, 50.824005126953125, 49.786380767822266, 42.10968780517578, 40.065834045410156, 39.87293243408203, 39.806396484375, 46.314369201660156, 34.81640625, 33.45956802368164, 30.036094665527344, 116.20651245117188, 29.853071212768555, 26.6213436126709, 121.16860961914062, 163.5795135498047, 198.95225524902344, 178.7915802001953, 92.82450103759766, 251.5015411376953, 191.1504669189453, 264.13922119140625, 118.90425872802734, 105.66685485839844, 197.99844360351562, 95.80940246582031, 94.98543548583984, 104.9188232421875, 104.94456481933594, 77.72671508789062, 63.03841781616211, 690.2665405273438, 139.5506134033203, 137.6067352294922, 104.28448486328125, 86.72236633300781, 79.56940460205078, 67.0208511352539, 59.80027389526367, 57.3458366394043, 54.52131271362305, 54.237770080566406, 50.640838623046875, 49.78123474121094, 48.95726013183594, 48.66625213623047, 46.58751678466797, 46.408897399902344, 46.405975341796875, 41.2515869140625, 40.4177360534668, 40.400726318359375, 39.866249084472656, 38.3589973449707, 38.2005500793457, 37.51706314086914, 37.341522216796875, 37.00796890258789, 36.76975631713867, 35.45331954956055, 35.15772247314453, 158.61000061035156, 45.50263214111328, 51.48086929321289, 90.91899108886719, 46.602256774902344, 78.33513641357422, 117.24748992919922, 137.37078857421875, 59.91572570800781, 47.52365493774414, 64.27848815917969, 107.6617660522461, 75.29203796386719, 69.1867446899414, 67.94017028808594, 48.96408462524414, 48.32887268066406, 152.00572204589844, 125.62689971923828, 105.10597229003906, 98.68618774414062, 73.8983154296875, 70.18798065185547, 57.499046325683594, 54.16022872924805, 51.81036376953125, 105.56401824951172, 46.96586990356445, 45.48860168457031, 45.24747848510742, 44.86519241333008, 42.46400451660156, 40.8415412902832, 37.926902770996094, 37.26909637451172, 36.68973922729492, 35.70501708984375, 32.587215423583984, 32.08991241455078, 30.962892532348633, 27.484521865844727, 26.832992553710938, 26.2860050201416, 25.593814849853516, 22.35466957092285, 22.119068145751953, 21.52937126159668, 63.030879974365234, 57.61412811279297, 47.54642868041992, 55.4862174987793, 56.270843505859375, 128.99400329589844, 113.17159271240234, 210.51658630371094, 55.0982780456543, 227.80702209472656, 92.91669464111328, 49.64548110961914, 76.20512390136719, 51.00814437866211, 57.42331314086914, 63.10692596435547, 54.36920928955078, 163.21009826660156, 128.8118133544922, 104.400390625, 98.53324127197266, 84.47592163085938, 80.48710632324219, 76.75489807128906, 69.6280517578125, 68.07561492919922, 66.62648010253906, 64.5709228515625, 63.190406799316406, 42.35580825805664, 38.24352264404297, 36.149269104003906, 34.402957916259766, 32.737205505371094, 30.918176651000977, 30.659860610961914, 30.609981536865234, 30.453487396240234, 29.218246459960938, 27.3026123046875, 25.959674835205078, 24.610166549682617, 23.62564468383789, 21.91976547241211, 20.86191177368164, 108.76305389404297, 19.070940017700195, 58.16189956665039, 230.66587829589844, 234.31578063964844, 426.7922058105469, 216.87171936035156, 45.758140563964844, 41.09935760498047, 74.64204406738281, 80.19963073730469, 102.84098815917969, 48.879852294921875, 58.05060958862305, 83.91199493408203, 76.81974029541016, 67.3056411743164, 65.19534301757812, 45.41434860229492, 48.7664794921875, 48.502784729003906, 45.75856399536133, 112.4996337890625, 96.59426879882812, 91.20488739013672, 64.6233139038086, 61.654502868652344, 59.285091400146484, 57.45054244995117, 53.88677215576172, 36.69330596923828, 35.017860412597656, 33.10148239135742, 32.84812545776367, 32.50982666015625, 27.173643112182617, 27.002901077270508, 26.763498306274414, 26.241994857788086, 25.595794677734375, 25.527482986450195, 19.831932067871094, 18.809656143188477, 14.551323890686035, 13.870306015014648, 12.704072952270508, 50.62989044189453, 73.91459655761719, 52.810054779052734, 18.54433822631836, 51.0712890625, 62.97646713256836, 54.147308349609375, 71.50746154785156, 226.3908233642578, 35.86430740356445, 94.00997924804688, 31.50777244567871, 123.48033905029297, 135.0943603515625, 48.466758728027344, 69.21971130371094, 33.983089447021484, 39.14393615722656, 50.501075744628906, 51.75026321411133, 42.451534271240234, 46.69007110595703, 41.547847747802734, 187.20408630371094, 45.58415222167969, 45.153968811035156, 39.502384185791016, 38.73084259033203, 38.156349182128906, 33.72004699707031, 29.99710464477539, 28.684993743896484, 26.3253231048584, 25.174522399902344, 23.168384552001953, 21.376611709594727, 20.417617797851562, 17.058345794677734, 16.658353805541992, 16.263628005981445, 15.980048179626465, 14.070963859558105, 12.941282272338867, 11.202962875366211, 26.390193939208984, 31.726903915405273, 39.79653549194336, 44.78429412841797, 173.2997283935547, 38.826507568359375, 19.626628875732422, 52.421112060546875, 39.51214599609375, 71.58531951904297, 35.08570861816406, 217.03866577148438, 65.67448425292969, 70.35326385498047, 35.56888198852539, 83.41429138183594, 35.194908142089844, 61.04413604736328, 46.57862854003906, 43.05052947998047, 37.53813552856445, 31.009504318237305, 105.06261444091797, 65.53279113769531, 64.34136962890625, 59.96120834350586, 45.246826171875, 39.174232482910156, 38.22990798950195, 37.184288024902344, 37.08609390258789, 35.20564651489258, 33.3712272644043, 29.03400421142578, 28.69369888305664, 24.99888801574707, 21.229108810424805, 19.909238815307617, 11.334049224853516, 37.655799865722656, 97.47505950927734, 23.637168884277344, 18.8050537109375, 18.524988174438477, 30.010168075561523, 21.145248413085938, 66.30396270751953, 49.317596435546875, 42.33518981933594, 7.778846263885498, 27.773571014404297, 4.5038228034973145, 31.578571319580078, 38.60812759399414, 47.64950180053711, 39.778438568115234, 33.807884216308594, 55.0812873840332, 36.256080627441406, 29.411901473999023, 29.44951820373535, 159.83602905273438, 68.2309341430664, 58.499149322509766, 50.48116683959961, 48.798702239990234, 38.685028076171875, 36.55831527709961, 35.24065017700195, 35.00501251220703, 30.61867332458496, 29.563499450683594, 130.21063232421875, 27.63473892211914, 27.479753494262695, 25.099599838256836, 24.776756286621094, 22.848302841186523, 21.585601806640625, 18.462331771850586, 18.449939727783203, 17.043006896972656, 16.67765235900879, 16.160614013671875, 39.25431823730469, 13.464910507202148, 10.801137924194336, 29.167945861816406, 97.37728118896484, 12.131922721862793, 49.51036834716797, 128.07516479492188, 31.883949279785156, 22.39109992980957, 27.78917694091797, 26.731473922729492, 19.105417251586914, 26.64609718322754, 70.13639068603516, 56.47362518310547, 54.88472366333008, 41.916744232177734, 40.50114822387695, 40.1176643371582, 31.02562141418457, 30.587087631225586, 30.500978469848633, 30.35755157470703, 30.161523818969727, 30.09410285949707, 28.032838821411133, 28.014259338378906, 27.065017700195312, 26.172529220581055, 25.125429153442383, 24.866348266601562, 22.020896911621094, 21.498268127441406, 39.86800003051758, 17.72353744506836, 17.306657791137695, 16.30656623840332, 16.20134735107422, 15.558841705322266, 9.942031860351562, 30.2880859375, 29.190032958984375, 26.81382179260254, 30.396923065185547, 43.585853576660156, 24.191856384277344, 24.46413803100586, 47.55385208129883, 26.31643295288086, 47.913761138916016, 30.96050262451172, 28.49565887451172, 27.616247177124023, 25.240854263305664, 150.16384887695312, 70.51191711425781, 56.20745086669922, 20.084888458251953, 19.48076820373535, 19.441377639770508, 19.378211975097656, 19.176189422607422, 18.003145217895508, 15.813312530517578, 15.620393753051758, 11.317986488342285, 10.477700233459473, 356.930908203125, 15.9910306930542, 28.609357833862305, 38.34721374511719, 33.366722106933594, 36.18653869628906, 13.299580574035645, 22.567434310913086, 12.77295970916748, 47.33442687988281, 15.716449737548828, 25.991912841796875, 8.247770309448242, 10.133240699768066, 5.162586688995361, 14.158157348632812, 3.033170223236084, 13.677465438842773, 28.7645320892334, 34.43754959106445, 39.9088249206543, 26.400602340698242, 12.786559104919434, 80.42704010009766, 56.5015869140625, 50.41990280151367, 40.734474182128906, 40.60761260986328, 38.33792495727539, 36.835227966308594, 36.2979621887207, 35.828121185302734, 33.40840148925781, 31.69232177734375, 28.85785675048828, 28.325448989868164, 27.198562622070312, 23.557636260986328, 21.196321487426758, 16.338682174682617, 14.889632225036621, 14.87511157989502, 107.19944763183594, 69.31889343261719, 12.403331756591797, 23.630096435546875, 52.25092315673828, 15.595766067504883, 26.693012237548828, 34.79905319213867, 14.398934364318848, 26.598344802856445, 7.241425037384033, 25.502304077148438, 18.94626808166504, 224.05096435546875, 143.5806884765625, 74.1844711303711, 55.119529724121094, 25.46971893310547, 21.15851402282715, 17.87369155883789, 16.388816833496094, 117.80976104736328, 15.631495475769043, 72.84615325927734, 7.739742279052734, 24.553874969482422, 25.628795623779297, 26.009248733520508, 27.09084129333496, 26.829364776611328, 5.551718711853027, 11.56678581237793, 14.376440048217773, 3.9640886783599854, 0.05796973407268524, 0.05797159671783447, 0.05796578899025917, 0.057963721454143524, 0.05796467512845993, 0.05796515941619873, 0.05796317383646965, 0.05796527490019798, 0.05796436220407486, 17.992361068725586, 0.05796561762690544, 0.057966772466897964, 0.4930564761161804, 0.057976752519607544, 0.05796651169657707, 0.057971108704805374, 0.05796835198998451, 0.11426353454589844, 0.21414223313331604, 0.11772248893976212], \"Term\": [\"parti\", \"erdo\\u011fan\", \"kurulu\", \"belediye\", \"t\\u00fcrkiye\", \"olay\", \"istanbul\", \"se\\u00e7im\", \"sand\\u0131k\", \"il\\u00e7e\", \"polis\", \"ter\\u00f6r\", \"saatte\", \"ekipleri\", \"b\\u00fcy\\u00fck\\u015fehir\", \"genel\", \"devam\", \"ba\\u015fkan\\u0131\", \"ba\\u015fkan\", \"y\\u0131ld\\u0131r\\u0131m\", \"sonra\", \"ceza\", \"ard\\u0131ndan\", \"tespit\", \"san\\u0131k\", \"m\\u00fcd\\u00fcrl\\u00fc\\u011f\\u00fc\", \"fet\\u00f6\", \"saat\", \"meydana\", \"karar\", \"sand\\u0131k\", \"se\\u00e7men\", \"se\\u00e7imin\", \"fazla\", \"say\\u0131m\", \"kanun\", \"m\\u00fcmk\\u00fcn\", \"kurulunun\", \"i\\u015faret\", \"orada\", \"se\\u00e7imlerin\", \"g\\u00fcven\", \"ba\\u015fkan\\u0131n\\u0131n\", \"suretiyle\", \"gerekti\\u011fini\", \"se\\u00e7imlerde\", \"somut\", \"verilmesi\", \"say\\u0131s\\u0131n\\u0131n\", \"birtak\\u0131m\", \"meslek\", \"binan\\u0131n\", \"hakk\\u0131\", \"partilerin\", \"tabii\", \"i\\u015fin\", \"gerekiyor\", \"birden\", \"kayseri\", \"g\\u00f6reve\", \"y\\u00fczde\", \"yeniden\", \"oldu\\u011funa\", \"bas\\u0131n\", \"se\\u00e7im\", \"sand\\u0131kta\", \"kamu\", \"ili\\u015fkin\", \"ortaya\", \"y\\u00fcksek\", \"\\u015fekilde\", \"say\\u0131l\\u0131\", \"siyasi\", \"genel\", \"karar\", \"e\\u011fitim\", \"ifade\", \"ba\\u015fka\", \"konusu\", \"recep\", \"s\\u00f6yledi\", \"dedi\", \"ba\\u015fkan\\u0131\", \"i\\u00e7inde\", \"\\u00f6nemli\", \"ayn\\u0131\", \"hastanesi\", \"kald\\u0131r\\u0131ld\\u0131\", \"tutuksuz\", \"tedavi\", \"g\\u00f6t\\u00fcr\\u00fcld\\u00fc\", \"yusuf\", \"koruma\", \"caddesi\", \"h\\u00fcseyin\", \"polise\", \"g\\u00f6revlileri\", \"anne\", \"ifadesinde\", \"tart\\u0131\\u015fma\", \"cinsel\", \"\\u015fikayet\\u00e7i\", \"ka\\u00e7an\", \"hastanede\", \"il\\u00e7esine\", \"tan\\u0131k\", \"incelemede\", \"kazada\", \"b\\u0131\\u00e7ak\", \"zanl\\u0131\", \"ya\\u015fad\\u0131\\u011f\\u0131\", \"fak\\u00fcltesi\", \"ya\\u015fam\\u0131n\\u0131\", \"giri\\u015f\", \"\\u00fcnc\\u00fc\", \"k\\u00f6y\\u00fc\", \"olayla\", \"sa\\u011fl\\u0131k\", \"olay\\u0131n\", \"s\\u0131rada\", \"ba\\u011fl\\u0131\", \"mahallesi\", \"durumu\", \"ard\\u0131ndan\", \"polis\", \"\\u00e7\\u0131kt\\u0131\", \"\\u00fczerine\", \"ak\\u015fam\", \"ara\\u015ft\\u0131rma\", \"edildi\", \"etti\", \"gelen\", \"sonra\", \"s\\u00fcre\", \"g\\u00fcvenlik\", \"devlet\", \"olay\", \"bilgiye\", \"al\\u0131nan\", \"\\u00f6nce\", \"bulundu\", \"al\\u0131nd\\u0131\", \"yapan\", \"geldi\", \"soru\\u015fturma\", \"bulunan\", \"g\\u00f6rev\", \"imamo\\u011flu\", \"ekrem\", \"say\\u0131n\", \"idare\", \"ekonomik\", \"\\u00fclke\", \"y\\u0131lda\", \"milletimizin\", \"\\u00fclkemizin\", \"eksik\", \"t\\u00fcrkiyenin\", \"k\\u00fcrt\", \"edece\\u011fiz\", \"vurgulayan\", \"oraya\", \"yapt\\u0131k\", \"ortada\", \"demokratik\", \"olmas\\u0131n\", \"yerli\", \"yapt\\u0131lar\", \"tekirda\\u011f\", \"hepimizin\", \"dediler\", \"e\\u015fit\", \"uygulama\", \"mutlu\", \"kuzeyinde\", \"biliyoruz\", \"asla\", \"demokrasi\", \"t\\u00fcrkiye\", \"birisi\", \"se\\u00e7imi\", \"g\\u00fc\\u00e7l\\u00fc\", \"b\\u00fct\\u00fcn\", \"hizmet\", \"k\\u0131l\\u0131\\u00e7daro\\u011flu\", \"huzur\", \"t\\u00fcrl\\u00fc\", \"ankara\", \"dile\", \"ifadelerini\", \"devam\", \"millet\", \"kulland\\u0131\", \"\\u00f6nemli\", \"b\\u00fcy\\u00fck\", \"belirten\", \"konu\\u015ftu\", \"t\\u00fcrk\", \"devlet\", \"milli\", \"m\\u00fccadele\", \"ter\\u00f6r\", \"yapan\", \"dedi\", \"insan\", \"islam\", \"insanlar\", \"\\u00fclkenin\", \"s\\u00fcreci\", \"kaydeden\", \"d\\u00fcnya\", \"geliyor\", \"ettim\", \"karadeniz\", \"gerekir\", \"partili\", \"astsubay\", \"maalesef\", \"elbette\", \"insanlar\\u0131n\", \"hepsini\", \"\\u00fclkede\", \"\\u00fclkemizde\", \"gelmi\\u015f\", \"yapt\\u0131m\", \"bat\\u0131\", \"yap\\u0131l\\u0131yor\", \"istiklal\", \"oluyor\", \"sava\\u015f\", \"\\u00e7\\u0131kar\", \"marmara\", \"boyu\", \"sana\", \"allah\", \"olmaz\", \"zaman\", \"\\u00e7\\u0131k\\u0131yor\", \"buraya\", \"ortak\", \"kemal\", \"k\\u00f6t\\u00fc\", \"onlara\", \"araya\", \"istiyorum\", \"kar\\u015f\\u0131\", \"b\\u00fcy\\u00fck\", \"dedi\", \"konu\\u015ftu\", \"bug\\u00fcn\", \"do\\u011fru\", \"g\\u00fczel\", \"ba\\u015fka\", \"\\u015fimdi\", \"\\u00f6nce\", \"sahip\", \"t\\u00fcrkiye\", \"yeni\", \"anadolu\", \"s\\u00f6yledi\", \"k\\u0131l\\u0131\\u00e7daro\\u011flu\", \"ba\\u015fkan\", \"y\\u0131ld\\u0131r\\u0131m\", \"aday\\u0131\", \"belediye\", \"ittifak\\u0131\", \"cumhur\", \"binali\", \"parti\", \"saadet\", \"b\\u00fcy\\u00fck\\u00e7ekmece\", \"g\\u00f6n\\u00fcl\", \"oylar\", \"dersi\", \"zillet\", \"cuma\", \"il\\u00e7enin\", \"vatanda\\u015flara\", \"k\\u00fcrdistan\", \"vermi\\u015f\", \"millete\", \"olaca\\u011f\\u0131\", \"halk\\u0131\", \"sizlerin\", \"hizmete\", \"b\\u00fcy\\u00fck\\u015fehir\", \"gidiyor\", \"halk\\u0131n\", \"\\u00e7al\\u0131\\u015faca\\u011f\\u0131z\", \"camisi\", \"kap\\u0131\", \"meclis\", \"olaca\\u011f\\u0131z\", \"ba\\u015fkanl\\u0131\\u011f\\u0131\", \"istanbul\", \"partisi\", \"ba\\u015fkan\\u0131\", \"aday\", \"se\\u00e7imde\", \"mart\", \"il\\u00e7e\", \"se\\u00e7im\", \"diyor\", \"beraber\", \"genel\", \"birlikte\", \"olacak\", \"\\u015fimdi\", \"ba\\u015f\\u0131na\", \"adet\", \"\\u015f\\u00fcpheli\", \"emniyetteki\", \"operasyonda\", \"aralar\\u0131nda\", \"operasyon\", \"g\\u00fcler\", \"i\\u015flemleri\", \"\\u015fah\\u0131s\", \"verme\", \"tabanca\", \"sahte\", \"ba\\u015fsavc\\u0131l\\u0131\\u011f\\u0131nca\", \"gram\", \"ba\\u015fsavc\\u0131l\\u0131\\u011f\\u0131\", \"ge\\u00e7irildi\", \"isabet\", \"intihar\", \"su\\u00e7larla\", \"yakalama\", \"kayd\\u0131\", \"sona\", \"sulh\", \"firari\", \"zamanl\\u0131\", \"su\\u00e7lar\\u0131ndan\", \"delil\", \"b\\u0131rak\\u0131ld\\u0131\", \"madde\", \"adrese\", \"emniyet\", \"mahkemece\", \"tutukland\\u0131\", \"g\\u00f6zalt\\u0131na\", \"uyu\\u015fturucu\", \"i\\u015flemlerinin\", \"m\\u00fcd\\u00fcrl\\u00fc\\u011f\\u00fc\", \"haz\\u0131rlanan\", \"y\\u00fcr\\u00fct\\u00fclen\", \"kapsam\\u0131nda\", \"soru\\u015fturma\", \"al\\u0131nan\", \"cumhuriyet\", \"tespit\", \"serbest\", \"edilen\", \"ekiplerince\", \"karar\\u0131\", \"hakk\\u0131nda\", \"al\\u0131nd\\u0131\", \"m\\u00fccadele\", \"bulunan\", \"ard\\u0131ndan\", \"sevk\", \"edildi\", \"y\\u00f6nelik\", \"\\u015fube\", \"\\u00e7al\\u0131\\u015fma\", \"b\\u00f6lgede\", \"suriye\", \"zarar\", \"kilometre\", \"sel\\u00e7uk\", \"do\\u011fan\", \"metre\", \"\\u00f6\\u011fretim\", \"do\\u011fal\", \"h\\u0131rs\\u0131zl\\u0131k\", \"erkek\", \"s\\u00f6zc\\u00fcs\\u00fc\", \"\\u015f\\u00fcphelilerden\", \"ya\\u015fam\", \"\\u00e7ocu\\u011fu\", \"ter\\u00f6ristin\", \"\\u00f6ncesi\", \"ka\\u00e7t\\u0131\", \"ya\\u015fand\\u0131\", \"\\u015fikayet\", \"a\\u00e7\\u0131ld\\u0131\", \"i\\u015flemi\", \"etkisiz\", \"derne\\u011fi\", \"esrar\", \"toplant\\u0131\", \"a\\u015fa\\u011f\\u0131\", \"yakalamak\", \"yeterli\", \"yakla\\u015f\\u0131k\", \"\\u00e7al\\u0131\\u015fmalar\", \"hafta\", \"ter\\u00f6rist\", \"ge\\u00e7en\", \"aile\", \"hale\", \"ba\\u015flayan\", \"oldu\", \"silah\", \"g\\u00fcvenlik\", \"teslim\", \"s\\u00f6yledi\", \"sonucunda\", \"tekrar\", \"toplam\", \"i\\u00e7inde\", \"bulunan\", \"\\u00f6nce\", \"dedi\", \"sonra\", \"\\u00fcniversitesi\", \"birlikte\", \"ifade\", \"\\u00f6rg\\u00fct\\u00fc\", \"\\u00f6rg\\u00fct\", \"\\u00f6rg\\u00fct\\u00fcn\", \"mahkemesi\", \"imam\", \"\\u00f6rg\\u00fct\\u00fcne\", \"bylock\", \"duru\\u015fmaya\", \"mahrem\", \"avukat\\u0131\", \"duru\\u015fmada\", \"devam\\u0131na\", \"savc\\u0131s\\u0131\", \"\\u00fcyelerinin\", \"sorumlu\", \"2016\", \"su\\u00e7lamalar\\u0131\", \"halinin\", \"davada\", \"tutukluluk\", \"yunus\", \"kapat\\u0131lan\", \"eylem\", \"kay\\u0131tl\\u0131\", \"g\\u00f6zalt\\u0131\", \"dini\", \"dea\\u015f\", \"\\u00f6rg\\u00fcte\", \"duru\\u015fmay\\u0131\", \"erteledi\", \"silahl\\u0131\", \"askeri\", \"fet\\u00f6\", \"ter\\u00f6r\", \"ter\\u00f6rle\", \"kanunu\", \"\\u00fcyesi\", \"verilen\", \"iddianamede\", \"eski\", \"iddia\", \"y\\u00f6nelik\", \"kabul\", \"san\\u0131\\u011f\\u0131n\", \"ceza\", \"temmuz\", \"san\\u0131k\", \"edilen\", \"cumhuriyet\", \"hapis\", \"talep\", \"\\u015fahin\", \"dava\", \"g\\u00f6r\\u00fclen\", \"hakk\\u0131ndaki\", \"cezas\\u0131na\", \"y\\u0131la\", \"avukatlar\\u0131\", \"kasten\", \"san\\u0131klar\\u0131n\", \"duru\\u015fma\", \"m\\u00fcebbet\", \"deprem\", \"\\u00f6ld\\u00fcrme\", \"\\u00f6\\u011fretmen\", \"y\\u0131ldan\", \"m\\u00fcd\\u00fcr\", \"mahkemesinde\", \"ikna\", \"a\\u011f\\u0131rla\\u015ft\\u0131r\\u0131lm\\u0131\\u015f\", \"a\\u00e7t\\u0131\", \"sahil\", \"inci\", \"te\\u015febb\\u00fcs\", \"duru\\u015fmas\\u0131na\", \"yaral\\u0131lar\", \"heyeti\", \"verilmesini\", \"san\\u0131\\u011fa\", \"\\u00e7elik\", \"cezas\\u0131\", \"su\\u00e7undan\", \"mahkeme\", \"ahmet\", \"san\\u0131k\", \"a\\u011f\\u0131r\", \"ceza\", \"tutuklu\", \"kat\\u0131ld\\u0131\", \"karar\", \"mehmet\", \"istedi\", \"verdi\", \"hakk\\u0131nda\", \"ili\\u015fkin\", \"san\\u0131\\u011f\\u0131n\", \"erdo\\u011fan\", \"maltepe\", \"tayyip\", \"medya\", \"teknik\", \"tarihinde\", \"ba\\u015fkanlar\\u0131\", \"cevap\", \"hesab\\u0131ndan\", \"gerek\\u00e7e\", \"denildi\", \"akdeniz\", \"yan\\u0131\", \"namaz\\u0131\", \"uzman\", \"cezaevi\", \"orta\", \"yap\\u0131ld\\u0131\\u011f\\u0131\", \"ki\\u015fiye\", \"hala\", \"ayl\\u0131k\", \"g\\u00f6steren\", \"kurtar\\u0131lamad\\u0131\", \"yasal\", \"b\\u0131rakt\\u0131\", \"kurulan\", \"g\\u00fcnden\", \"bizler\", \"sald\\u0131r\\u0131\", \"ismi\", \"sosyal\", \"kaybeden\", \"a\\u00e7\\u0131s\\u0131ndan\", \"anadolu\", \"s\\u0131ra\", \"daki\", \"yeni\", \"genel\", \"2019\", \"sonunda\", \"merkezi\", \"istanbul\", \"ifade\", \"mart\", \"ba\\u015fkan\\u0131\", \"yap\\u0131ld\\u0131\", \"yard\\u0131mc\\u0131s\\u0131\", \"hava\", \"gece\", \"personel\", \"ihra\\u00e7\", \"kara\", \"sinan\", \"kuvvetleri\", \"deniz\", \"akar\", \"tarihi\", \"pazar\", \"\\u00f6rg\\u00fct\\u00fcn\\u00fcn\", \"dedim\", \"salonu\", \"olmas\\u0131n\\u0131\", \"sonu\\u00e7lar\\u0131na\", \"toplamda\", \"hakan\", \"gitti\\u011fini\", \"buradaki\", \"grubu\", \"gelin\", \"park\\u0131\", \"gazi\", \"ayd\\u0131r\", \"yapmas\\u0131\", \"incelemelerde\", \"edin\", \"metin\", \"\\u00e7\\u0131karken\", \"\\u00e7al\\u0131\\u015fmalar\\u0131\", \"ifadesini\", \"do\\u011frultusunda\", \"al\\u0131p\", \"spor\", \"t\\u00fcrk\", \"milli\", \"devam\", \"lira\", \"sonra\", \"eski\", \"maddi\", \"mustafa\", \"savunma\", \"ediyor\", \"alan\", \"toplam\", \"ate\\u015f\", \"arac\\u0131n\", \"kaza\", \"s\\u0131ralar\\u0131nda\", \"plakal\\u0131\", \"otomobil\", \"s\\u00fcr\\u00fcc\\u00fc\", \"yaraland\\u0131\", \"hafif\", \"m\\u00fcdahale\", \"yaralanan\", \"yaral\\u0131\", \"yans\\u0131d\\u0131\", \"s\\u00fcr\\u00fcc\\u00fcs\\u00fc\", \"tebrik\", \"ekibi\", \"sokakta\", \"ismail\", \"ara\\u00e7ta\", \"arkada\\u015f\\u0131\", \"\\u00e7ekerek\", \"kameras\\u0131na\", \"bilinmeyen\", \"d\\u00f6nen\", \"otopsi\", \"\\u00e7evredeki\", \"ambulans\", \"otomobilin\", \"ara\\u00e7\", \"duyan\", \"ambulansla\", \"saat\", \"meydana\", \"olay\", \"geldi\", \"trafik\", \"acil\", \"hayat\\u0131n\\u0131\", \"\\u00fczerinde\", \"gelen\", \"hastaneye\", \"il\\u00e7esi\", \"ekipleri\", \"bulunan\", \"ki\\u015fi\", \"sevk\", \"edinilen\", \"saatlerinde\", \"\\u00fczerine\", \"sonucu\", \"ekipler\", \"itfaiye\", \"asayi\\u015f\", \"b\\u00fcro\", \"\\u00f6\\u011fle\", \"yang\\u0131n\", \"amirli\\u011fi\", \"cinayet\", \"\\u015fahs\\u0131n\", \"muhammet\", \"m\\u00fcd\\u00fcrl\\u00fc\\u011f\\u00fcne\", \"yang\\u0131n\\u0131\", \"emniyete\", \"bebek\", \"husumet\", \"polisi\", \"s\\u00f6yledi\\u011fi\", \"y\\u00fckl\\u00fc\", \"\\u00e7al\\u0131\\u015fan\\u0131\", \"gasp\", \"bask\\u0131n\", \"yang\\u0131nda\", \"s\\u00fcr\\u00fcld\\u00fc\", \"\\u00e7\\u0131kard\\u0131\", \"\\u015f\\u00fcpheliler\", \"s\\u00fcr\\u00fcyor\", \"belirledi\", \"i\\u00e7eri\", \"\\u015f\\u00fcphelilerin\", \"evde\", \"ekiplerine\", \"adliyeye\", \"ekipleri\", \"s\\u00fcrede\", \"\\u015fube\", \"itiraf\", \"m\\u00fcd\\u00fcrl\\u00fc\\u011f\\u00fc\", \"polis\", \"k\\u0131sa\", \"sevk\", \"harekete\", \"edinilen\", \"ald\\u0131\", \"bulunan\", \"\\u00e7\\u0131kan\", \"g\\u00f6zalt\\u0131na\", \"edildi\", \"jandarma\", \"uyar\\u0131nca\", \"komutan\\u0131\", \"ekip\", \"\\u00f6\\u011frenilen\", \"kurum\", \"cesedi\", \"payla\\u015f\\u0131mda\", \"hareketsiz\", \"icra\", \"sakinleri\", \"g\\u00fcvenli\\u011fi\", \"al\\u0131nd\\u0131\\u011f\\u0131\", \"hayat\\u0131\", \"yap\\u0131lan\", \"sorumlusu\", \"g\\u00fcnd\\u00fcr\", \"ailesinin\", \"bedeni\", \"vakti\", \"bulunmas\\u0131\", \"ailesi\", \"kay\\u0131p\", \"osman\", \"kullan\\u0131lan\", \"yavuz\", \"aras\\u0131ndan\", \"mersin\", \"ortadan\", \"cenazesi\", \"arama\", \"belirlenmesi\", \"il\\u00e7e\", \"sonu\\u00e7\", \"belirtildi\", \"ndan\", \"tespit\", \"halde\", \"kamu\", \"sonucu\", \"\\u00f6zel\", \"say\\u0131l\\u0131\", \"il\\u00e7esi\", \"y\\u0131lmaz\", \"idareler\", \"mahalli\", \"soylu\", \"i\\u00e7i\\u015fleri\", \"kesinle\\u015fmi\\u015f\", \"seyhan\", \"sakarya\", \"arkas\\u0131nda\", \"e\\u015flik\", \"s\\u00fcleyman\", \"altun\", \"il\\u00e7elerinde\", \"d\\u00fc\\u015ft\\u00fc\\u011f\\u00fc\", \"amerika\", \"\\u00e7ocuklara\", \"vatanda\\u015flarla\", \"diyarbak\\u0131r\", \"milletvekili\", \"sohbet\", \"edece\\u011fi\", \"g\\u00fcneydo\\u011fu\", \"ileti\\u015fim\", \"ger\\u00e7ekle\\u015fen\", \"bakan\\u0131\", \"bakan\", \"y\\u0131l\\u0131nda\", \"y\\u0131llarda\", \"se\\u00e7imlerinin\", \"lideri\", \"tane\", \"izmir\", \"mehmet\", \"recep\", \"daki\", \"t\\u00fcrkiye\", \"etti\", \"se\\u00e7imi\", \"genel\", \"ayk\\u0131r\\u0131\", \"ordu\", \"nedeni\", \"gaziantep\", \"bar\\u0131\\u015f\", \"al\\u0131nm\\u0131\\u015ft\\u0131\", \"ka\\u00e7ak\\u00e7\\u0131l\\u0131k\", \"umut\", \"tamamland\\u0131\", \"zanl\\u0131lar\\u0131n\", \"farkla\", \"kad\\u0131n\", \"konuyla\", \"konuk\", \"ara\\u00e7tan\", \"s\\u00fcper\", \"esnas\\u0131nda\", \"\\u015fanl\\u0131urfa\", \"birbirine\", \"toto\", \"bulan\", \"k\\u0131sm\\u0131\", \"kad\\u0131na\", \"d\\u00f6nemin\", \"ma\\u00e7\\u0131\", \"kad\\u0131n\\u0131\", \"kad\\u0131n\\u0131n\", \"gen\\u00e7\", \"y\\u00fckselen\", \"organize\", \"g\\u00f6revlisi\", \"yaz\\u0131l\\u0131\", \"kar\\u015f\\u0131ya\", \"konya\", \"\\u00e7al\\u0131\\u015fan\", \"ilde\", \"g\\u00fcn\\u00fc\", \"hukuki\", \"alt\\u0131n\", \"ya\\u015fl\\u0131\", \"k\\u0131z\\u0131\", \"kavgaya\", \"merkezinde\", \"\\u00fc\\u00e7\\u00fcnc\\u00fc\", \"\\u00f6nde\", \"darp\", \"tart\\u0131\\u015fman\\u0131n\", \"istendi\", \"osmangazi\", \"k\\u0131z\\u0131n\\u0131n\", \"arad\\u0131\", \"\\u00e7\\u0131kt\\u0131\\u011f\\u0131\", \"al\\u0131yor\", \"sonuna\", \"bulunmad\\u0131\\u011f\\u0131n\\u0131\", \"erken\", \"yolunu\", \"prof\", \"ba\\u015flad\\u0131\\u011f\\u0131\", \"ki\\u015fiden\", \"girerek\", \"kad\\u0131nlar\\u0131n\", \"sald\\u0131r\\u0131s\\u0131na\", \"ge\\u00e7irdi\\u011fi\", \"ge\\u00e7ti\\u011fimiz\", \"g\\u00fcnlerde\", \"nefes\", \"\\u015fiddet\", \"olmamas\\u0131\", \"ma\\u011fdur\", \"almaya\", \"il\\u00e7ede\", \"kent\", \"il\\u00e7esi\", \"uzun\", \"evine\", \"sabah\", \"\\u015fehir\", \"adalet\", \"hukuk\", \"yarg\\u0131\", \"k\\u0131rm\\u0131z\\u0131\", \"edilmi\\u015ftir\", \"hizmetler\", \"tarihine\", \"y\\u0131l\\u0131ndan\", \"mensuplar\\u0131na\", \"sivas\", \"oldu\\u011fumuz\", \"savc\\u0131lar\", \"vatanda\\u015flar\\u0131m\\u0131z\\u0131n\", \"kurulu\", \"bilgisi\", \"as\\u0131l\", \"d\\u0131\\u015f\\u0131\", \"\\u00f6n\\u00fcne\", \"uygun\", \"adliye\", \"savc\\u0131\", \"hakk\\u0131n\\u0131\", \"hakim\", \"devleti\", \"temel\", \"olmadan\", \"ettik\", \"vermeye\", \"ortadan\", \"altyap\\u0131\", \"bakan\", \"kabul\", \"tespit\", \"genel\", \"\\u015fekilde\", \"kar\\u015f\\u0131\", \"kaydedildi\", \"n\\u00f6bet\\u00e7i\", \"araca\", \"o\\u011flu\", \"yasa\", \"topra\\u011fa\", \"konuldu\", \"internet\", \"\\u00f6zt\\u00fcrk\", \"s\\u00fcrecin\", \"\\u00e7\\u0131k\\u0131\\u015f\", \"\\u00f6len\", \"edilirken\", \"kad\\u0131k\\u00f6y\", \"aras\\u0131\", \"koyarak\", \"yan\\u0131ndaki\", \"ara\\u00e7la\", \"\\u00e7al\\u0131\\u015fmalara\", \"fatih\", \"yard\\u0131m\", \"yard\\u0131m\\u0131yla\", \"ifadesi\", \"bildirildi\", \"kald\\u0131r\\u0131lan\", \"olduklar\\u0131\", \"ki\\u015filerin\", \"temin\", \"baba\", \"istismar\", \"konu\", \"teslim\", \"saatte\", \"ya\\u015fananlar\", \"ya\\u015fananlarson\", \"twitter\", \"olmu\\u015ftur\", \"g\\u00f6r\\u00fcl\\u00fcyor\", \"g\\u00f6r\\u00fcnt\\u00fclerde\", \"kazan\\u0131n\", \"a\\u00e7\\u0131klamada\", \"b\\u00f6l\\u00fcc\\u00fc\", \"nisan\", \"\\u00e7ekilen\", \"ger\\u00e7ekle\\u015ftirilen\", \"cumhuriyeti\", \"a\\u00e7\\u0131klama\", \"yolu\", \"resmi\", \"payla\\u015ft\\u0131\", \"bildirildi\", \"milli\", \"geldi\\u011fi\", \"tipi\", \"kapal\\u0131\", \"zelanda\", \"fenerbah\\u00e7e\", \"imha\", \"vurguland\\u0131\", \"derin\", \"gizli\", \"m\\u00fchimmat\", \"ili\\u015fkin\", \"samsun\", \"bah\\u00e7eli\", \"g\\u00f6r\\u00fcnt\\u00fcler\", \"cumhurba\\u015fkan\\u0131\", \"\\u00f6mer\", \"darbe\", \"komutanl\\u0131\\u011f\\u0131\", \"ailesine\", \"mart\", \"savunma\"], \"Total\": [795.0, 691.0, 440.0, 676.0, 876.0, 661.0, 873.0, 906.0, 673.0, 406.0, 562.0, 450.0, 225.0, 449.0, 417.0, 522.0, 626.0, 666.0, 354.0, 351.0, 878.0, 375.0, 754.0, 363.0, 344.0, 320.0, 310.0, 280.0, 300.0, 405.0, 673.8701171875, 195.72166442871094, 161.75067138671875, 159.4319610595703, 157.59466552734375, 142.91986083984375, 104.00006866455078, 101.14085388183594, 91.94764709472656, 90.6262435913086, 90.351318359375, 87.28753662109375, 73.63833618164062, 70.8888931274414, 66.7667236328125, 63.564571380615234, 62.91799545288086, 55.41808319091797, 53.84855270385742, 49.418949127197266, 46.891754150390625, 46.669403076171875, 46.59956741333008, 46.34497833251953, 44.161956787109375, 43.628082275390625, 42.04048156738281, 41.8385124206543, 39.92979049682617, 39.62724685668945, 111.30791473388672, 163.75994873046875, 65.0724105834961, 64.51342010498047, 906.97265625, 138.5035400390625, 292.5567626953125, 409.49029541015625, 256.1248474121094, 179.66387939453125, 415.5645751953125, 131.89434814453125, 173.3610382080078, 522.5037841796875, 405.40228271484375, 202.79071044921875, 388.4546203613281, 283.0176696777344, 122.9200668334961, 129.55892944335938, 366.8550720214844, 609.4195556640625, 666.2064208984375, 349.3484802246094, 228.66818237304688, 305.7098083496094, 145.92222595214844, 101.40118408203125, 97.5362777709961, 90.30779266357422, 85.73430633544922, 83.5677719116211, 81.33364868164062, 75.0022201538086, 72.64603424072266, 71.54566192626953, 71.17151641845703, 69.37371063232422, 68.65486907958984, 64.39839935302734, 63.037601470947266, 60.7496337890625, 56.88121795654297, 54.9342155456543, 54.88413619995117, 54.50880432128906, 53.75031280517578, 50.154930114746094, 49.41165542602539, 48.998573303222656, 48.835479736328125, 48.56986999511719, 48.152099609375, 46.9124870300293, 46.16103744506836, 43.677330017089844, 108.12737274169922, 310.7884826660156, 125.23748779296875, 157.26406860351562, 197.6623992919922, 269.1570739746094, 119.41587829589844, 754.00390625, 562.0574951171875, 196.88507080078125, 550.8168334960938, 86.64730072021484, 116.60443878173828, 397.2147521972656, 472.6315002441406, 401.65283203125, 878.365234375, 221.06350708007812, 311.3648376464844, 236.67666625976562, 661.1028442382812, 122.64302062988281, 272.6690673828125, 483.0672607421875, 273.3176574707031, 200.24696350097656, 287.3298034667969, 403.3491516113281, 259.5978698730469, 415.8798828125, 297.5068664550781, 253.27471923828125, 125.8106918334961, 132.40548706054688, 89.50127410888672, 88.3731918334961, 89.40778350830078, 77.08679962158203, 74.13915252685547, 66.54979705810547, 62.79683303833008, 55.572696685791016, 54.958045959472656, 54.498878479003906, 114.2242660522461, 49.80426788330078, 45.16879653930664, 43.40375900268555, 41.599063873291016, 38.23735427856445, 37.134788513183594, 37.02096176147461, 36.71253204345703, 35.693084716796875, 35.67006301879883, 35.560420989990234, 35.50845718383789, 33.60042190551758, 32.82232666015625, 32.60390090942383, 63.568355560302734, 67.41616821289062, 876.7868041992188, 70.3789291381836, 164.62205505371094, 83.83401489257812, 263.22271728515625, 145.5770721435547, 217.5164337158203, 74.49171447753906, 64.87006378173828, 325.02093505859375, 205.20022583007812, 208.757080078125, 626.9357299804688, 148.2235870361328, 246.71690368652344, 228.66818237304688, 424.1192932128906, 204.0506591796875, 406.19110107421875, 231.16543579101562, 236.67666625976562, 220.67916870117188, 223.86837768554688, 450.1079406738281, 287.3298034667969, 609.4195556640625, 117.02533721923828, 78.7792739868164, 72.01083374023438, 70.78160858154297, 68.92503356933594, 68.18254852294922, 124.06005096435547, 67.26377868652344, 66.68277740478516, 66.20167541503906, 59.9681510925293, 58.678714752197266, 57.28626251220703, 53.67207336425781, 49.771488189697266, 48.928184509277344, 48.089141845703125, 46.84790802001953, 42.045860290527344, 40.22572708129883, 38.027530670166016, 37.726051330566406, 37.61754608154297, 37.4554443359375, 36.7215576171875, 35.88449478149414, 33.65725326538086, 31.2392635345459, 29.462251663208008, 29.014266967773438, 196.95945739746094, 38.847198486328125, 324.07568359375, 58.657955169677734, 67.95578002929688, 115.2344970703125, 157.12063598632812, 85.94539642333984, 72.95111083984375, 79.75054931640625, 115.9966049194336, 319.4873962402344, 424.1192932128906, 609.4195556640625, 406.19110107421875, 260.0635986328125, 165.57965087890625, 140.05032348632812, 283.0176696777344, 204.06919860839844, 483.0672607421875, 174.3494415283203, 876.7868041992188, 325.14306640625, 166.020751953125, 366.8550720214844, 217.5164337158203, 354.2962646484375, 351.1846618652344, 187.3197021484375, 676.9942626953125, 151.2704620361328, 141.9428253173828, 118.08638763427734, 795.5440063476562, 115.60865783691406, 114.2401351928711, 65.76799774169922, 50.43659973144531, 48.44636535644531, 41.1502685546875, 40.315494537353516, 39.993133544921875, 39.26272964477539, 37.3024787902832, 30.910707473754883, 38.95460891723633, 25.420368194580078, 25.1931209564209, 23.85515785217285, 22.588783264160156, 417.1075439453125, 20.888296127319336, 20.52041244506836, 19.615127563476562, 19.05571174621582, 18.523353576660156, 75.46719360351562, 60.227176666259766, 262.8152160644531, 873.9779052734375, 83.17705535888672, 666.2064208984375, 65.3548355102539, 78.8086929321289, 361.052001953125, 406.7486267089844, 906.97265625, 138.37091064453125, 97.3579330444336, 522.5037841796875, 320.34906005859375, 145.61170959472656, 204.06919860839844, 124.072021484375, 129.8954315185547, 134.27162170410156, 88.8956298828125, 86.25176239013672, 84.28439331054688, 72.59921264648438, 69.2423324584961, 68.37908172607422, 66.59037017822266, 57.38836669921875, 53.248687744140625, 52.477291107177734, 50.00076675415039, 48.24756622314453, 47.74991226196289, 47.36663055419922, 47.05628204345703, 46.6406364440918, 43.74542999267578, 42.70292282104492, 41.48702621459961, 40.730445861816406, 40.433349609375, 40.26139831542969, 39.549278259277344, 35.890769958496094, 34.83032989501953, 34.703834533691406, 32.369747161865234, 31.84072494506836, 289.2441101074219, 66.65678405761719, 108.40258026123047, 320.9994812011719, 76.09492492675781, 105.49784088134766, 320.2848815917969, 67.81571960449219, 79.25336456298828, 204.53883361816406, 259.5978698730469, 272.6690673828125, 272.1701354980469, 363.4797668457031, 87.18267059326172, 382.7672119140625, 101.72018432617188, 203.55015563964844, 300.04412841796875, 200.24696350097656, 223.86837768554688, 415.8798828125, 754.00390625, 295.6549987792969, 397.2147521972656, 269.7457580566406, 163.37327575683594, 172.15846252441406, 136.29885864257812, 93.73417663574219, 65.20697021484375, 63.52328872680664, 61.03218460083008, 58.47938537597656, 55.9799919128418, 55.65378189086914, 52.971492767333984, 48.18708801269531, 47.88127899169922, 47.22674560546875, 45.4368782043457, 41.04662322998047, 40.305904388427734, 38.83556365966797, 38.165470123291016, 37.0055046081543, 36.86324691772461, 36.2149658203125, 35.78789520263672, 34.921382904052734, 34.841514587402344, 34.13240051269531, 33.89295959472656, 32.371063232421875, 31.504812240600586, 31.1651611328125, 30.294157028198242, 199.88876342773438, 70.59637451171875, 88.67996978759766, 87.83574676513672, 178.84642028808594, 74.98595428466797, 115.74390411376953, 65.3495101928711, 183.0347137451172, 99.21530151367188, 311.3648376464844, 162.23016357421875, 366.8550720214844, 71.73296356201172, 95.0163345336914, 139.4810791015625, 349.3484802246094, 415.8798828125, 483.0672607421875, 609.4195556640625, 878.365234375, 127.80292510986328, 320.34906005859375, 388.4546203613281, 189.86569213867188, 124.21662902832031, 114.14569091796875, 110.82620239257812, 90.49554443359375, 88.77381896972656, 86.84478759765625, 85.49635314941406, 72.54013061523438, 72.46770477294922, 70.19461822509766, 66.99246978759766, 64.53298950195312, 57.74454116821289, 52.16824722290039, 50.12999725341797, 48.628570556640625, 45.23688888549805, 42.93395233154297, 39.014060974121094, 35.14483642578125, 34.34400177001953, 34.04103088378906, 29.25535774230957, 28.495643615722656, 27.099937438964844, 26.503103256225586, 25.476364135742188, 24.750625610351562, 24.609891891479492, 223.13351440429688, 118.7556381225586, 310.6360168457031, 450.1079406738281, 85.62989807128906, 124.00416564941406, 196.15769958496094, 154.40997314453125, 109.4194564819336, 232.89801025390625, 169.04884338378906, 269.7457580566406, 238.0369110107422, 141.6682891845703, 375.28759765625, 136.49264526367188, 344.6323547363281, 382.7672119140625, 272.1701354980469, 209.40576171875, 112.90648651123047, 96.9024658203125, 96.55636596679688, 84.4833984375, 79.94793701171875, 76.32150268554688, 75.24401092529297, 73.05497741699219, 65.16653442382812, 61.677574157714844, 59.02848434448242, 56.55881881713867, 56.073116302490234, 54.739192962646484, 52.375526428222656, 52.05715560913086, 51.890254974365234, 50.852630615234375, 43.17593765258789, 41.132083892822266, 40.93918228149414, 40.87264633178711, 47.56131362915039, 35.88265609741211, 34.52581787109375, 31.102340698242188, 120.35330963134766, 30.9193172454834, 27.687589645385742, 127.15299987792969, 180.67770385742188, 250.9887237548828, 223.0500030517578, 108.22032165527344, 344.6323547363281, 250.73387145996094, 375.28759765625, 147.79237365722656, 156.93064880371094, 405.40228271484375, 173.86341857910156, 175.23187255859375, 287.52435302734375, 300.04412841796875, 409.49029541015625, 141.6682891845703, 691.318115234375, 140.60214233398438, 138.65826416015625, 105.33604431152344, 87.77391815185547, 80.62095642089844, 68.07240295410156, 60.8518180847168, 58.39738082885742, 55.57285690307617, 55.28931427001953, 51.6923828125, 50.83277893066406, 50.00880432128906, 49.717796325683594, 47.639060974121094, 47.46044158935547, 47.45751953125, 42.303131103515625, 41.46928024291992, 41.4522705078125, 40.91779327392578, 39.41054153442383, 39.25209426879883, 38.568607330322266, 38.39306640625, 38.059513092041016, 37.8213005065918, 36.50661087036133, 36.209266662597656, 167.1727752685547, 52.45219802856445, 63.49674987792969, 166.020751953125, 55.710323333740234, 141.94078063964844, 325.14306640625, 522.5037841796875, 98.88316345214844, 64.85489654541016, 151.52545166015625, 873.9779052734375, 388.4546203613281, 361.052001953125, 666.2064208984375, 106.74160766601562, 92.62905883789062, 153.05780029296875, 126.67779541015625, 106.15686798095703, 99.7370834350586, 74.94921112060547, 71.23887634277344, 58.549930572509766, 55.21111297607422, 52.861263275146484, 107.87337493896484, 48.016754150390625, 46.539485931396484, 46.298362731933594, 45.91607666015625, 43.514888763427734, 41.892425537109375, 38.977787017822266, 38.31998062133789, 37.740623474121094, 36.75617218017578, 33.638099670410156, 33.14079666137695, 32.01377487182617, 28.53545570373535, 27.883874893188477, 27.33688735961914, 26.644697189331055, 23.40555191040039, 23.169950485229492, 22.58025360107422, 76.09428405761719, 71.07259368896484, 56.98435974121094, 70.16339874267578, 72.65007781982422, 231.16543579101562, 220.67916870117188, 626.9357299804688, 78.28374481201172, 878.365234375, 232.89801025390625, 75.70207977294922, 210.15689086914062, 90.13884735107422, 136.4322509765625, 198.70834350585938, 139.4810791015625, 164.33340454101562, 129.87318420410156, 105.46177673339844, 99.59468078613281, 85.53730773925781, 81.54849243164062, 77.8162841796875, 70.68943786621094, 69.13700103759766, 67.68811798095703, 65.63230895996094, 64.25180053710938, 43.41718292236328, 39.30489730834961, 37.21064376831055, 35.464332580566406, 33.798580169677734, 31.979549407958984, 31.721233367919922, 31.671356201171875, 31.514860153198242, 30.279632568359375, 28.363985061645508, 27.021047592163086, 25.671539306640625, 24.6870174407959, 22.981138229370117, 21.92328453063965, 114.72100067138672, 20.132312774658203, 64.73638916015625, 280.3323669433594, 300.7821350097656, 661.1028442382812, 403.3491516113281, 58.588951110839844, 53.268943786621094, 141.89451599121094, 183.42710876464844, 401.65283203125, 86.17509460449219, 137.93479919433594, 449.4165954589844, 415.8798828125, 305.8058776855469, 295.6549987792969, 87.70121765136719, 166.47923278808594, 550.8168334960938, 156.0752410888672, 113.56303405761719, 97.65766906738281, 92.2682876586914, 65.68671417236328, 62.7178955078125, 60.34848403930664, 58.51393508911133, 54.950164794921875, 37.75669860839844, 36.08125305175781, 34.16487503051758, 33.91151809692383, 33.58737564086914, 28.237037658691406, 28.066295623779297, 27.826892852783203, 27.305389404296875, 26.659189224243164, 26.590877532958984, 20.895326614379883, 19.873050689697266, 15.614717483520508, 14.933699607849121, 13.76746654510498, 55.227439880371094, 84.44701385498047, 64.2085189819336, 22.777454376220703, 65.96891784667969, 82.139404296875, 72.58160400390625, 103.44010162353516, 449.4165954589844, 48.12451171875, 163.37327575683594, 41.510955810546875, 320.2848815917969, 562.0574951171875, 103.95747375488281, 295.6549987792969, 51.12561798095703, 87.70121765136719, 211.2940673828125, 415.8798828125, 171.428955078125, 320.9994812011719, 397.2147521972656, 188.27284240722656, 46.65290832519531, 46.22272491455078, 40.57114028930664, 39.799598693847656, 39.22510528564453, 34.78880310058594, 31.065860748291016, 29.75374984741211, 27.394079208374023, 26.24327850341797, 24.237140655517578, 22.44536781311035, 21.486373901367188, 18.12710189819336, 17.727109909057617, 17.33238410949707, 17.048803329467773, 15.139720916748047, 14.010039329528809, 12.271719932556152, 28.99609375, 35.2164192199707, 44.8746337890625, 51.1022834777832, 200.98565673828125, 46.28105163574219, 24.40753173828125, 67.60932922363281, 51.16423416137695, 102.28079223632812, 46.838897705078125, 406.7486267089844, 111.66181945800781, 163.33067321777344, 58.15170669555664, 363.4797668457031, 72.9268798828125, 292.5567626953125, 156.0752410888672, 195.52569580078125, 131.89434814453125, 137.93479919433594, 106.10807800292969, 66.57825469970703, 65.38683319091797, 61.00666427612305, 46.29228210449219, 40.219688415527344, 39.27536392211914, 38.22974395751953, 38.138179779052734, 36.251102447509766, 34.416683197021484, 30.079458236694336, 29.739152908325195, 26.097259521484375, 22.27456283569336, 20.954692840576172, 12.379505157470703, 42.528751373291016, 116.30375671386719, 28.62685775756836, 23.345104217529297, 26.23431396484375, 43.21968078613281, 30.888927459716797, 104.81803894042969, 92.79942321777344, 81.07096862792969, 15.405251502990723, 55.36486053466797, 11.103206634521484, 86.51043701171875, 122.68069458007812, 173.86341857910156, 129.55892944335938, 141.94078063964844, 876.7868041992188, 472.6315002441406, 164.62205505371094, 522.5037841796875, 160.8892364501953, 69.28414916992188, 59.5523567199707, 51.53437423706055, 49.85190963745117, 39.73823547363281, 37.61152267456055, 36.29385757446289, 36.05821990966797, 31.671878814697266, 30.6167049407959, 135.10220336914062, 28.687944412231445, 28.532958984375, 26.15280532836914, 25.8299617767334, 23.901508331298828, 22.63880729675293, 19.51553726196289, 19.503145217895508, 18.09621238708496, 17.730857849121094, 17.21381950378418, 42.14625549316406, 14.51811695098877, 11.854387283325195, 32.58528518676758, 119.59928131103516, 15.662328720092773, 67.8316421508789, 179.84764099121094, 55.80445098876953, 35.532737731933594, 53.413734436035156, 95.36402130126953, 30.675430297851562, 242.830078125, 71.19345092773438, 57.530677795410156, 55.941776275634766, 42.97379684448242, 41.55820083618164, 41.17471694946289, 32.08267593383789, 31.644142150878906, 31.558032989501953, 31.41460609436035, 31.218578338623047, 31.15115737915039, 29.089893341064453, 29.071313858032227, 28.122072219848633, 27.229583740234375, 26.182483673095703, 25.923402786254883, 23.077951431274414, 22.555322647094727, 42.116207122802734, 18.78059196472168, 18.363712310791016, 17.36362075805664, 17.25840187072754, 16.615896224975586, 10.99908447265625, 34.26382064819336, 33.968772888183594, 31.613056182861328, 37.059932708740234, 56.73493194580078, 29.11257553100586, 29.797161102294922, 74.22811889648438, 34.254764556884766, 137.93479919433594, 81.827392578125, 67.99388122558594, 148.9960174560547, 66.88499450683594, 151.23828125, 71.58635711669922, 57.281883239746094, 21.15937042236328, 20.555200576782227, 20.515810012817383, 20.452669143676758, 20.250621795654297, 19.077577590942383, 16.887744903564453, 16.694826126098633, 12.392417907714844, 11.552131652832031, 440.2124328613281, 21.021427154541016, 41.69914627075195, 63.864017486572266, 59.81761169433594, 65.05196380615234, 24.249162673950195, 41.268829345703125, 25.153255462646484, 94.82062530517578, 38.04637145996094, 66.15452575683594, 26.469127655029297, 36.4123649597168, 20.640727996826172, 67.60932922363281, 19.868175506591797, 92.79942321777344, 238.0369110107422, 363.4797668457031, 522.5037841796875, 415.5645751953125, 319.4873962402344, 81.48548126220703, 57.56002426147461, 51.47834014892578, 41.792911529541016, 41.66604995727539, 39.3963623046875, 37.8936653137207, 37.35639953613281, 36.886558532714844, 34.46683883666992, 32.75075912475586, 29.91629409790039, 29.383886337280273, 28.257001876831055, 24.616073608398438, 22.254758834838867, 17.397119522094727, 15.94806957244873, 15.933548927307129, 116.00790405273438, 84.90302276611328, 17.19908905029297, 35.79450225830078, 85.55137634277344, 26.05744743347168, 49.27853012084961, 65.28972625732422, 29.504880905151367, 55.23836135864258, 15.372139930725098, 65.74700164794922, 162.23016357421875, 225.10614013671875, 144.6358642578125, 75.2396469116211, 56.17470932006836, 26.524898529052734, 22.21369171142578, 18.928871154785156, 17.44399642944336, 138.57843017578125, 24.438196182250977, 141.92440795898438, 15.738143920898438, 51.44624328613281, 56.029930114746094, 73.21690368652344, 76.49422454833984, 86.77273559570312, 23.61363983154297, 85.55137634277344, 220.67916870117188, 73.75911712646484, 1.113206148147583, 1.1132522821426392, 1.1132104396820068, 1.1131765842437744, 1.1131962537765503, 1.1132055521011353, 1.113171100616455, 1.113214373588562, 1.113196849822998, 409.49029541015625, 1.113223671913147, 1.1132497787475586, 15.235750198364258, 1.1134995222091675, 1.1132551431655884, 1.1134861707687378, 1.1133930683135986, 20.070924758911133, 361.052001953125, 90.13884735107422], \"loglift\": [30.0, 29.0, 28.0, 27.0, 26.0, 25.0, 24.0, 23.0, 22.0, 21.0, 20.0, 19.0, 18.0, 17.0, 16.0, 15.0, 14.0, 13.0, 12.0, 11.0, 10.0, 9.0, 8.0, 7.0, 6.0, 5.0, 4.0, 3.0, 2.0, 1.0, 1.9981000423431396, 1.9943000078201294, 1.9931000471115112, 1.9930000305175781, 1.992900013923645, 1.9922000169754028, 1.989400029182434, 1.9890999794006348, 1.9881000518798828, 1.9879000186920166, 1.9879000186920166, 1.9874999523162842, 1.985200047492981, 1.9845999479293823, 1.9837000370025635, 1.982800006866455, 1.982699990272522, 1.980299949645996, 1.9797999858856201, 1.9780000448226929, 1.9767999649047852, 1.976699948310852, 1.9766000509262085, 1.9765000343322754, 1.9752999544143677, 1.975000023841858, 1.9740999937057495, 1.9739999771118164, 1.9726999998092651, 1.972499966621399, 1.9636000394821167, 1.9549000263214111, 1.957200050354004, 1.9488999843597412, 1.770300030708313, 1.8759000301361084, 1.761299967765808, 1.6476000547409058, 1.7197999954223633, 1.7451000213623047, 1.4780999422073364, 1.6539000272750854, 1.549399971961975, 1.0872999429702759, 1.142699956893921, 1.4505000114440918, 1.1511000394821167, 1.2244000434875488, 1.6613999605178833, 1.6217999458312988, 0.9172000288963318, 0.5218999981880188, 0.3801000118255615, 0.7777000069618225, 1.155500054359436, 0.8533999919891357, 2.019700050354004, 2.016400098800659, 2.0160000324249268, 2.0151000022888184, 2.0144999027252197, 2.01419997215271, 2.0137999057769775, 2.012700080871582, 2.012200117111206, 2.01200008392334, 2.011899948120117, 2.0114998817443848, 2.0113000869750977, 2.0102999210357666, 2.009999990463257, 2.0092999935150146, 2.0081000328063965, 2.007499933242798, 2.0074000358581543, 2.0072999000549316, 2.006999969482422, 2.0055999755859375, 2.005199909210205, 2.0051000118255615, 2.005000114440918, 2.0048999786376953, 2.004699945449829, 2.0041000843048096, 2.003700017929077, 2.0023999214172363, 1.962499976158142, 1.8894000053405762, 1.9345999956130981, 1.9144999980926514, 1.8869999647140503, 1.853700041770935, 1.9259999990463257, 1.722000002861023, 1.666100025177002, 1.782099962234497, 1.5930999517440796, 1.9250999689102173, 1.8450000286102295, 1.523300051689148, 1.3782999515533447, 1.4217000007629395, 1.0857000350952148, 1.5374000072479248, 1.3581000566482544, 1.426800012588501, 0.8698999881744385, 1.7015999555587769, 1.1610000133514404, 0.7229999899864197, 1.090000033378601, 1.3249000310897827, 1.0464999675750732, 0.7698000073432922, 1.1125999689102173, 0.6050999760627747, 2.3166000843048096, 2.315999984741211, 2.311800003051758, 2.3097000122070312, 2.3083999156951904, 2.308300018310547, 2.3076000213623047, 2.30649995803833, 2.305999994277954, 2.3043999671936035, 2.3034000396728516, 2.3011999130249023, 2.3010001182556152, 2.300800085067749, 2.2994000911712646, 2.2990000247955322, 2.296799898147583, 2.2959001064300537, 2.294800043106079, 2.2925000190734863, 2.2916998863220215, 2.291599988937378, 2.2913999557495117, 2.2904999256134033, 2.2904999256134033, 2.2904000282287598, 2.2904000282287598, 2.2887001037597656, 2.287899971008301, 2.2876999378204346, 2.2764999866485596, 2.2630999088287354, 2.0692999362945557, 2.216200113296509, 2.1161000728607178, 2.188800096511841, 2.0297999382019043, 2.087399959564209, 1.9270999431610107, 2.150899887084961, 2.1742000579833984, 1.784000039100647, 1.8883999586105347, 1.86080002784729, 1.4599000215530396, 1.9088000059127808, 1.652400016784668, 1.6827000379562378, 1.280900001525879, 1.6146999597549438, 1.1195000410079956, 1.4417999982833862, 1.4182000160217285, 1.4474999904632568, 1.392899990081787, 0.7105000019073486, 1.0424000024795532, 0.27869999408721924, 2.623300075531006, 2.61899995803833, 2.6177000999450684, 2.6173999309539795, 2.617000102996826, 2.6168999671936035, 2.61680006980896, 2.6166000366210938, 2.616499900817871, 2.6164000034332275, 2.6147000789642334, 2.6143999099731445, 2.6138999462127686, 2.6126999855041504, 2.6110999584198, 2.6106998920440674, 2.6103999614715576, 2.609800100326538, 2.6071999073028564, 2.6059999465942383, 2.6045000553131104, 2.604300022125244, 2.6041998863220215, 2.6040000915527344, 2.6034998893737793, 2.602799892425537, 2.600800037384033, 2.598299980163574, 2.5961999893188477, 2.5957000255584717, 2.5497000217437744, 2.5873000621795654, 2.4899001121520996, 2.5655999183654785, 2.551300048828125, 2.500499963760376, 2.4635000228881836, 2.4839000701904297, 2.469599962234497, 2.4042999744415283, 2.3024001121520996, 1.9859999418258667, 1.8645999431610107, 1.6890000104904175, 1.8149000406265259, 1.9083000421524048, 2.0750999450683594, 2.1461000442504883, 1.6495000123977661, 1.8398000001907349, 1.2979999780654907, 1.8889000415802002, 0.7864000201225281, 1.3819999694824219, 1.8258999586105347, 1.1586999893188477, 1.4945000410079956, 2.670799970626831, 2.6700000762939453, 2.669600009918213, 2.6686999797821045, 2.6682000160217285, 2.667799949645996, 2.666300058364868, 2.6661999225616455, 2.666100025177002, 2.6659998893737793, 2.65910005569458, 2.6542000770568848, 2.6533000469207764, 2.649399995803833, 2.648900032043457, 2.6486001014709473, 2.648099899291992, 2.646699905395508, 2.640700101852417, 2.6405999660491943, 2.6331000328063965, 2.632699966430664, 2.6303000450134277, 2.627700090408325, 2.6249001026153564, 2.623699903488159, 2.62280011177063, 2.620300054550171, 2.6185998916625977, 2.617000102996826, 2.575500011444092, 2.549999952316284, 2.398400068283081, 2.288599967956543, 2.4595000743865967, 2.107100009918213, 2.4453001022338867, 2.3935999870300293, 1.873900055885315, 1.625100016593933, 1.0851000547409058, 1.9507999420166016, 2.0629000663757324, 0.7764999866485596, 1.1052000522613525, 1.6953999996185303, 1.395400047302246, 1.8104000091552734, 2.8073999881744385, 2.8073999881744385, 2.803499937057495, 2.8032000064849854, 2.8029000759124756, 2.800800085067749, 2.799999952316284, 2.7999000549316406, 2.799499988555908, 2.7969000339508057, 2.7953999042510986, 2.795099973678589, 2.7939999103546143, 2.793299913406372, 2.7929999828338623, 2.792799949645996, 2.7927000522613525, 2.7925000190734863, 2.7908999919891357, 2.790299892425537, 2.789599895477295, 2.789099931716919, 2.7888998985290527, 2.788800001144409, 2.788300037384033, 2.785399913787842, 2.7844998836517334, 2.78439998626709, 2.782099962234497, 2.7815001010894775, 2.7363998889923096, 2.765899896621704, 2.7123000621795654, 2.6333000659942627, 2.713599920272827, 2.6419999599456787, 2.3234000205993652, 2.6666998863220215, 2.6194000244140625, 2.3684000968933105, 2.296999931335449, 2.2293999195098877, 2.1842000484466553, 2.036799907684326, 2.5518999099731445, 1.9336999654769897, 2.4816999435424805, 2.1417999267578125, 1.888700008392334, 2.027899980545044, 1.9490000009536743, 1.3413000106811523, 0.8705000281333923, 1.5507999658584595, 1.131600022315979, 1.4658000469207764, 1.944200038909912, 2.8431999683380127, 2.841599941253662, 2.8380000591278076, 2.8329999446868896, 2.8326001167297363, 2.831899881362915, 2.8310999870300293, 2.8303000926971436, 2.830199956893921, 2.829200029373169, 2.827199935913086, 2.8269999027252197, 2.82669997215271, 2.8257999420166016, 2.8232998847961426, 2.8227999210357666, 2.8217999935150146, 2.8213000297546387, 2.8203999996185303, 2.8203001022338867, 2.8197999000549316, 2.8194000720977783, 2.818700075149536, 2.8185999393463135, 2.8178999423980713, 2.817699909210205, 2.816200017929077, 2.8152999877929688, 2.8148999214172363, 2.8138999938964844, 2.6928999423980713, 2.7200000286102295, 2.690999984741211, 2.6070001125335693, 2.4193999767303467, 2.615600109100342, 2.4637999534606934, 2.583400011062622, 2.1610000133514404, 2.3901000022888184, 1.8863999843597412, 2.1584999561309814, 1.7146999835968018, 2.4851999282836914, 2.3269999027252197, 2.1012001037597656, 1.5116000175476074, 1.2563999891281128, 1.1490000486373901, 0.9677000045776367, 0.4494999945163727, 2.0185000896453857, 1.2164000272750854, 1.0396000146865845, 2.8506999015808105, 2.8477001190185547, 2.84689998626709, 2.84660005569458, 2.844399929046631, 2.8441998958587646, 2.843899965286255, 2.8436999320983887, 2.8415000438690186, 2.8415000438690186, 2.8410000801086426, 2.8403000831604004, 2.839600086212158, 2.8376998901367188, 2.835700035095215, 2.8348000049591064, 2.8341000080108643, 2.8324999809265137, 2.831199884414673, 2.8285999298095703, 2.825500011444092, 2.8248000144958496, 2.82450008392334, 2.819200038909912, 2.81820011138916, 2.816200017929077, 2.8152999877929688, 2.8136000633239746, 2.812299966812134, 2.812000036239624, 2.7945001125335693, 2.772700071334839, 2.739799976348877, 2.6303999423980713, 2.740799903869629, 2.690000057220459, 2.565999984741211, 2.499500036239624, 2.5696001052856445, 2.3399999141693115, 2.3635001182556152, 2.2065000534057617, 2.245699882507324, 2.254499912261963, 1.6303000450134277, 2.1863999366760254, 1.5368000268936157, 1.2843999862670898, 1.583799958229065, 2.9625000953674316, 2.9581000804901123, 2.9565000534057617, 2.9565000534057617, 2.954900026321411, 2.954200029373169, 2.9535000324249268, 2.9532999992370605, 2.952899932861328, 2.9511001110076904, 2.950200080871582, 2.949399948120117, 2.9486000537872314, 2.9484000205993652, 2.9479000568389893, 2.947000026702881, 2.946899890899658, 2.9467999935150146, 2.9463999271392822, 2.9426000118255615, 2.9412999153137207, 2.941200017929077, 2.941200017929077, 2.940999984741211, 2.9374001026153564, 2.936199903488159, 2.9326999187469482, 2.932499885559082, 2.932499885559082, 2.928299903869629, 2.9193999767303467, 2.8682000637054443, 2.7351999282836914, 2.7464001178741455, 2.8141000270843506, 2.652600049972534, 2.6963000297546387, 2.6164000034332275, 2.7500998973846436, 2.5720999240875244, 2.250999927520752, 2.3717000484466553, 2.3552000522613525, 1.9594999551773071, 1.917099952697754, 1.305899977684021, 2.1577999591827393, 2.990000009536743, 2.9839999675750732, 2.9839000701904297, 2.9814999103546143, 2.9793999195098877, 2.9783999919891357, 2.9758999347686768, 2.974100112915039, 2.973299980163574, 2.972399950027466, 2.9723000526428223, 2.970900058746338, 2.970599889755249, 2.9702000617980957, 2.970099925994873, 2.9691998958587646, 2.969099998474121, 2.969099998474121, 2.9663000106811523, 2.9658000469207764, 2.9658000469207764, 2.9655001163482666, 2.9644999504089355, 2.9642999172210693, 2.963900089263916, 2.96370005607605, 2.9635000228881836, 2.9632999897003174, 2.9621999263763428, 2.9619998931884766, 2.9388999938964844, 2.849400043487549, 2.7816998958587646, 2.389400005340576, 2.812999963760376, 2.3970999717712402, 1.971500039100647, 1.655500054359436, 2.490499973297119, 2.6805999279022217, 2.134000062942505, 0.8974000215530396, 1.3507000207901, 1.3393000364303589, 0.7085000276565552, 2.2121999263763428, 2.34089994430542, 3.0725998878479004, 3.0710999965667725, 3.069499969482422, 3.0689001083374023, 3.0652999877929688, 3.0645999908447266, 3.061300039291382, 3.0601999759674072, 3.0594000816345215, 3.057800054550171, 3.057300090789795, 3.0566000938415527, 3.05649995803833, 3.056299924850464, 3.055000066757202, 3.0541000366210938, 3.0520999431610107, 3.0515999794006348, 3.0511999130249023, 3.0504000186920166, 3.0476999282836914, 3.0471999645233154, 3.046099901199341, 3.0418999195098877, 3.0409998893737793, 3.040299892425537, 3.0392000675201416, 3.0334999561309814, 3.0329999923706055, 3.0318000316619873, 2.8910999298095703, 2.869499921798706, 2.898400068283081, 2.8447999954223633, 2.8239998817443848, 2.4960999488830566, 2.4117000102996826, 1.9881999492645264, 2.7281999588012695, 1.7299000024795532, 2.160599946975708, 2.657599925994873, 2.065000057220459, 2.5100998878479004, 2.214099884033203, 1.9323999881744385, 2.1373000144958496, 3.1120998859405518, 3.1106998920440674, 3.108799934387207, 3.1082000732421875, 3.1064000129699707, 3.105799913406372, 3.1052000522613525, 3.103800058364868, 3.1033999919891357, 3.103100061416626, 3.10260009765625, 3.102299928665161, 3.0941998958587646, 3.0915000438690186, 3.0899999141693115, 3.0885000228881836, 3.0869998931884766, 3.085200071334839, 3.08489990234375, 3.0848000049591064, 3.084700107574463, 3.083199977874756, 3.0808000564575195, 3.0787999629974365, 3.07669997215271, 3.075000047683716, 3.0715999603271484, 3.0692999362945557, 3.0655999183654785, 3.06469988822937, 3.0118000507354736, 2.9238998889923096, 2.8691999912261963, 2.681299924850464, 2.4983999729156494, 2.8717000484466553, 2.859499931335449, 2.4765000343322754, 2.291599988937378, 1.756500005722046, 2.5518999099731445, 2.2534000873565674, 1.4407000541687012, 1.4299999475479126, 1.6052000522613525, 1.607100009918213, 2.4607999324798584, 1.8911000490188599, 0.6891000270843506, 1.8919999599456787, 3.5035998821258545, 3.5020999908447266, 3.5013999938964844, 3.4967000484466553, 3.4958999156951904, 3.495300054550171, 3.4946999549865723, 3.493499994277954, 3.484499931335449, 3.483099937438965, 3.4814000129699707, 3.4811999797821045, 3.4804000854492188, 3.474600076675415, 3.474400043487549, 3.474100112915039, 3.473299980163574, 3.4723000526428223, 3.4721999168395996, 3.4607999324798584, 3.4579999446868896, 3.442500114440918, 3.439199924468994, 3.4326000213623047, 3.426100015640259, 3.3798000812530518, 3.3176000118255615, 3.3073999881744385, 3.2571001052856445, 3.2474000453948975, 3.2200000286102295, 3.1438000202178955, 2.8273000717163086, 3.2190001010894775, 2.960400104522705, 3.237299919128418, 2.5599000453948975, 2.087399959564209, 2.7499001026153564, 2.0611000061035156, 3.104599952697754, 2.7063000202178955, 2.0817999839782715, 1.4291000366210938, 2.1171998977661133, 1.5851000547409058, 1.2553999423980713, 3.873500108718872, 3.8559999465942383, 3.855799913406372, 3.8524999618530273, 3.8519999980926514, 3.8515000343322754, 3.8480000495910645, 3.8441998958587646, 3.842600107192993, 3.839400053024292, 3.837599992752075, 3.8341000080108643, 3.830399990081787, 3.8280999660491943, 3.8183999061584473, 3.816999912261963, 3.815500020980835, 3.8143999576568604, 3.805999994277954, 3.799799919128418, 3.788100004196167, 3.7850000858306885, 3.7748000621795654, 3.7590999603271484, 3.7472000122070312, 3.7309999465942383, 3.7035000324249268, 3.6612000465393066, 3.6247000694274902, 3.620699882507324, 3.5223000049591064, 3.5903000831604004, 3.2511000633239746, 3.348400115966797, 3.036900043487549, 3.3875999450683594, 2.4072999954223633, 3.150599956512451, 2.3120999336242676, 2.6700000762939453, 2.3659000396728516, 2.622499942779541, 2.386699914932251, 4.0843000411987305, 4.078400135040283, 4.078100204467773, 4.076900005340576, 4.071400165557861, 4.06790018081665, 4.067200183868408, 4.066500186920166, 4.066199779510498, 4.064899921417236, 4.063399791717529, 4.058800220489502, 4.0584001541137695, 4.051199913024902, 4.04610013961792, 4.043000221252441, 4.00600004196167, 3.9725000858306885, 3.91759991645813, 3.9026999473571777, 3.8778998851776123, 3.746299982070923, 3.7293999195098877, 3.7151999473571777, 3.636199951171875, 3.4619998931884766, 3.444499969482422, 3.410900115966797, 3.4042999744415283, 3.1919000148773193, 3.086400032043457, 2.9381000995635986, 2.799799919128418, 2.9133999347686768, 2.6594998836517334, 1.32669997215271, 1.5264999866485596, 2.3719000816345215, 1.2181999683380127, 4.211999893188477, 4.2032999992370605, 4.200699806213379, 4.19789981842041, 4.197199821472168, 4.191699981689453, 4.190199851989746, 4.1890997886657715, 4.188899993896484, 4.184800148010254, 4.183599948883057, 4.181700229644775, 4.18120002746582, 4.181000232696533, 4.177499771118164, 4.1768999099731445, 4.173500061035156, 4.170899868011475, 4.163099765777588, 4.163099765777588, 4.158599853515625, 4.157299995422363, 4.155399799346924, 4.147500038146973, 4.1433000564575195, 4.125500202178955, 4.107800006866455, 4.013000011444092, 3.963200092315674, 3.903700113296509, 3.8791000843048096, 3.658799886703491, 3.7567999362945557, 3.565200090408325, 2.946700096130371, 3.7451000213623047, 2.0088999271392822, 4.2789998054504395, 4.275400161743164, 4.274899959564209, 4.269000053405762, 4.268199920654297, 4.267899990081787, 4.26039981842041, 4.260000228881836, 4.259900093078613, 4.259699821472168, 4.259500026702881, 4.259399890899658, 4.256899833679199, 4.256899833679199, 4.2555999755859375, 4.254300117492676, 4.252699851989746, 4.252299785614014, 4.247000217437744, 4.2459001541137695, 4.239099979400635, 4.236000061035156, 4.234600067138672, 4.231100082397461, 4.2307000160217285, 4.2281999588012695, 4.19290018081665, 4.170599937438965, 4.142300128936768, 4.129300117492676, 4.095699787139893, 4.030300140380859, 4.108799934387207, 4.096700191497803, 3.848599910736084, 4.030300140380859, 3.2365000247955322, 3.322000026702881, 3.424299955368042, 2.6084001064300537, 3.3194000720977783, 4.452400207519531, 4.444399833679199, 4.4405999183654785, 4.407400131225586, 4.405799865722656, 4.405700206756592, 4.405600070953369, 4.40500020980835, 4.401599884033203, 4.393799781799316, 4.39300012588501, 4.368800163269043, 4.3618998527526855, 4.249800205230713, 4.185999870300293, 4.082799911499023, 3.94950008392334, 3.8757998943328857, 3.872999906539917, 3.8589000701904297, 3.8559000492095947, 3.781899929046631, 3.7648000717163086, 3.5754001140594482, 3.5253000259399414, 3.2934999465942383, 3.1803998947143555, 3.073699951171875, 2.8961000442504883, 2.5799999237060547, 2.544800043106079, 2.346299886703491, 2.1029999256134033, 1.8875000476837158, 1.7032999992370605, 1.2411999702453613, 4.525100231170654, 4.519599914550781, 4.517399787902832, 4.512499809265137, 4.512400150299072, 4.510900020599365, 4.509799957275391, 4.509399890899658, 4.509099960327148, 4.506999969482422, 4.505300045013428, 4.502200126647949, 4.501500129699707, 4.5, 4.494200229644775, 4.489500045776367, 4.475399971008301, 4.4695000648498535, 4.469399929046631, 4.459199905395508, 4.335400104522705, 4.211299896240234, 4.122900009155273, 4.045100212097168, 4.024899959564209, 3.925100088119507, 3.908900022506714, 3.8208000659942627, 3.8073999881744385, 3.785399913787842, 3.591099977493286, 2.3907999992370605, 4.707499980926514, 4.704899787902832, 4.6981000900268555, 4.693299770355225, 4.671599864959717, 4.663599967956543, 4.654900074005127, 4.649799823760986, 4.549900054931641, 4.265399932861328, 4.045300006866455, 4.002500057220459, 3.972599983215332, 3.9300999641418457, 3.677299976348877, 3.6742000579833984, 3.5383999347686768, 3.2644999027252197, 2.7112998962402344, 1.9810999631881714, 1.788699984550476, 1.757200002670288, 1.757200002670288, 1.757099986076355, 1.757099986076355, 1.757099986076355, 1.757099986076355, 1.757099986076355, 1.757099986076355, 1.757099986076355, 1.5872999429702759, 1.757099986076355, 1.757099986076355, 1.281499981880188, 1.7569999694824219, 1.757099986076355, 1.7568999528884888, 1.7569999694824219, -0.4562999904155731, -2.717900037765503, -1.9285000562667847], \"logprob\": [30.0, 29.0, 28.0, 27.0, 26.0, 25.0, 24.0, 23.0, 22.0, 21.0, 20.0, 19.0, 18.0, 17.0, 16.0, 15.0, 14.0, 13.0, 12.0, 11.0, 10.0, 9.0, 8.0, 7.0, 6.0, 5.0, 4.0, 3.0, 2.0, 1.0, -3.1995999813079834, -4.439799785614014, -4.6315999031066895, -4.646200180053711, -4.657800197601318, -4.75629997253418, -5.077000141143799, -5.105100154876709, -5.201499938964844, -5.21619987487793, -5.219200134277344, -5.2540998458862305, -5.426499843597412, -5.465099811553955, -5.525899887084961, -5.575900077819824, -5.586299896240234, -5.71560001373291, -5.744900226593018, -5.832499980926514, -5.886199951171875, -5.89109992980957, -5.892600059509277, -5.898200035095215, -5.9475998878479, -5.960100173950195, -5.9980998039245605, -6.002999782562256, -6.051000118255615, -6.058800220489502, -5.034900188446045, -4.65749979019165, -5.578100204467773, -5.59499979019165, -3.1303999423980713, -4.9039998054504395, -4.270899772644043, -4.048299789428711, -4.445300102233887, -4.774600028991699, -4.203000068664551, -5.174900054931641, -5.00600004196167, -4.3649001121521, -4.563300132751465, -4.9481000900268555, -4.597499847412109, -4.84089994430542, -5.2378997802734375, -5.224899768829346, -4.888599872589111, -4.776400089263916, -4.829100131988525, -5.077000141143799, -5.123000144958496, -5.134799957275391, -4.708099842071533, -5.075300216674805, -5.11460018157959, -5.192399978637695, -5.244999885559082, -5.270999908447266, -5.298399925231934, -5.3805999755859375, -5.413000106811523, -5.428500175476074, -5.433800220489502, -5.459799766540527, -5.470399856567383, -5.535399913787842, -5.55709981918335, -5.594699859619141, -5.6616997718811035, -5.697199821472168, -5.6981000900268555, -5.705100059509277, -5.719399929046631, -5.79010009765625, -5.8053998947143555, -5.813899993896484, -5.817399978637695, -5.82289981842041, -5.8317999839782715, -5.858399868011475, -5.875, -5.931600093841553, -5.065000057220459, -4.082300186157227, -4.946000099182129, -4.738399982452393, -4.537300109863281, -4.2617998123168945, -5.002099990844727, -3.3633999824523926, -3.713099956512451, -4.646100044250488, -3.806299924850464, -5.323800086975098, -5.10699987411499, -4.203000068664551, -4.174200057983398, -4.293499946594238, -3.847100019454956, -4.774899959564209, -4.611700057983398, -4.817299842834473, -4.3470001220703125, -5.199900150299072, -4.941500186920166, -4.807700157165527, -5.010200023651123, -5.086400032043457, -5.003699779510498, -4.941199779510498, -5.039100170135498, -5.075300216674805, -3.698699951171875, -3.860300064086914, -4.564199924468994, -4.515200138092041, -4.908100128173828, -4.920899868011475, -4.909999847412109, -5.059299945831299, -5.098899841308594, -5.208499908447266, -5.267499923706055, -5.391900062561035, -5.403200149536133, -5.411799907684326, -4.673299789428711, -5.503699779510498, -5.603600025177002, -5.644400119781494, -5.687900066375732, -5.774499893188477, -5.804500102996826, -5.807700157165527, -5.816299915313721, -5.845300197601318, -5.8460001945495605, -5.849100112915039, -5.850599765777588, -5.907599925994873, -5.93179988861084, -5.938700199127197, -5.282199859619141, -5.236800193786621, -2.8652000427246094, -5.240699768066406, -4.491099834442139, -5.093200206756592, -4.107999801635742, -4.6427001953125, -4.401400089263916, -5.249199867248535, -5.364299774169922, -4.14300012588501, -4.4984002113342285, -4.508900165557861, -3.8101000785827637, -4.803299903869629, -4.55019998550415, -4.595799922943115, -4.379899978637695, -4.777699947357178, -4.584499835968018, -4.825799942016602, -4.825900077819824, -4.866600036621094, -4.906799793243408, -4.8907999992370605, -5.007699966430664, -5.019599914550781, -4.325099945068359, -4.725200176239014, -4.816299915313721, -4.833799839019775, -4.8607001304626465, -4.871699810028076, -4.273200035095215, -4.8856000900268555, -4.894400119781494, -4.901700019836426, -5.002200126647949, -5.024400234222412, -5.048799991607666, -5.115200042724609, -5.192299842834473, -5.209700107574463, -5.227399826049805, -5.2540998458862305, -5.3649001121521, -5.410299777984619, -5.4679999351501465, -5.476200103759766, -5.4791998863220215, -5.48360013961792, -5.504000186920166, -5.527699947357178, -5.593800067901611, -5.67080020904541, -5.731400012969971, -5.747300148010254, -3.8780999183654785, -5.463900089263916, -3.4398999214172363, -5.073500156402588, -4.9405999183654785, -4.4633002281188965, -4.190299987792969, -4.773200035095215, -4.951399803161621, -4.927599906921387, -4.654799938201904, -3.9581000804901123, -3.7962000370025635, -3.609299898147583, -3.8891000747680664, -4.241600036621094, -4.526299953460693, -4.622700214385986, -4.415800094604492, -4.552599906921387, -4.232600212097168, -4.660900115966797, -4.148099899291992, -4.544600009918213, -4.772799968719482, -4.64709997177124, -4.834000110626221, -3.1698999404907227, -3.179500102996826, -3.8083999156951904, -2.524399995803833, -4.023499965667725, -4.087600231170654, -4.273099899291992, -2.365499973297119, -4.29449987411499, -4.30649995803833, -4.865499973297119, -5.135900020599365, -5.177000045776367, -5.344200134277344, -5.365200042724609, -5.373499870300293, -5.392399787902832, -5.445000171661377, -5.638999938964844, -5.407800197601318, -5.842100143432617, -5.851500034332275, -5.9085001945495605, -5.96560001373291, -3.0525999069213867, -6.047900199890137, -6.0665998458862305, -6.114200115203857, -6.144800186157227, -6.174799919128418, -4.811600208282471, -5.062699794769287, -3.7409000396728516, -2.649199962615967, -4.8302998542785645, -3.102099895477295, -5.085700035095215, -4.950200080871582, -3.9479000568389893, -4.077499866485596, -3.8155999183654785, -4.830100059509277, -5.069499969482422, -4.6757001876831055, -4.836100101470947, -5.03439998626709, -4.997000217437744, -5.079500198364258, -4.0366997718811035, -4.003600120544434, -4.4197998046875, -4.450399875640869, -4.473700046539307, -4.625, -4.6732001304626465, -4.685800075531006, -4.712800025939941, -4.864099979400635, -4.940400123596191, -4.9552998542785645, -5.004700183868408, -5.041200160980225, -5.051799774169922, -5.059999942779541, -5.066800117492676, -5.075900077819824, -5.141499996185303, -5.166200160980225, -5.195899963378906, -5.214799880981445, -5.222300052642822, -5.2266998291015625, -5.244999885559082, -5.344900131225586, -5.375800132751465, -5.3796000480651855, -5.451499938964844, -5.468500137329102, -3.3071000576019287, -4.745299816131592, -4.312600135803223, -3.305999994277954, -4.665200233459473, -4.410200119018555, -3.6180999279022217, -4.827300071716309, -4.718699932098389, -4.021699905395508, -3.8547000885009766, -3.8731000423431396, -3.920099973678589, -3.7783000469207764, -4.690899848937988, -3.829699993133545, -4.606900215148926, -4.2530999183654785, -4.118199825286865, -4.383399963378906, -4.350800037384033, -4.339099884033203, -4.214900016784668, -4.470900058746338, -4.594699859619141, -4.647600173950195, -4.670599937438965, -3.7191998958587646, -3.954400062561035, -4.332300186157227, -4.700200080871582, -4.726799964904785, -4.767499923706055, -4.810999870300293, -4.855500221252441, -4.861499786376953, -4.911799907684326, -5.008500099182129, -5.014999866485596, -5.029099941253662, -5.068600177764893, -5.172800064086914, -5.191500186920166, -5.229700088500977, -5.247600078582764, -5.279300212860107, -5.283299922943115, -5.301599979400635, -5.313799858093262, -5.339000225067139, -5.341400146484375, -5.362599849700928, -5.369900226593018, -5.417300224304199, -5.445400238037109, -5.456600189208984, -5.486000061035156, -3.720099925994873, -4.733799934387207, -4.534800052642822, -4.628300189971924, -4.104899883270264, -4.777900218963623, -4.495699882507324, -4.9475998878479, -4.340099811553955, -4.723400115966797, -4.083499908447266, -4.4633002281188965, -4.091100215911865, -4.952600002288818, -4.829699993133545, -4.6717000007629395, -4.343100070953369, -4.423999786376953, -4.3815999031066895, -4.330599784851074, -4.4832000732421875, -4.841800212860107, -4.724999904632568, -4.709000110626221, -3.613800048828125, -4.041100025177002, -4.126399993896484, -4.156199932098389, -4.361100196838379, -4.380499839782715, -4.402699947357178, -4.418600082397461, -4.58519983291626, -4.58620023727417, -4.618500232696533, -4.665999889373779, -4.703999996185303, -4.8171000480651855, -4.9207000732421875, -4.961400032043457, -4.992400169372559, -5.066400051116943, -5.119999885559082, -5.218299865722656, -5.325799942016602, -5.349599838256836, -5.358699798583984, -5.515500068664551, -5.542900085449219, -5.595099925994873, -5.618299961090088, -5.6595001220703125, -5.689599990844727, -5.6956000328063965, -3.508500099182129, -4.160999774932861, -3.232300043106079, -2.970900058746338, -4.519999980926514, -4.200500011444092, -3.8659000396728516, -4.1717000007629395, -4.446100234985352, -3.9202001094818115, -4.217100143432617, -3.9068000316619873, -3.9927000999450684, -4.502799987792969, -4.152900218963623, -4.608099937438965, -4.331500053405762, -4.479000091552734, -4.520599842071533, -3.4040000438690186, -4.026100158691406, -4.180600166320801, -4.184199810028076, -4.319399833679199, -4.37529993057251, -4.422299861907959, -4.436699867248535, -4.466700077056885, -4.582799911499023, -4.638700008392334, -4.6834001541137695, -4.7270002365112305, -4.735799789428711, -4.760300159454346, -4.805300235748291, -4.811600208282471, -4.814799785614014, -4.8354997634887695, -5.002900123596191, -5.052700042724609, -5.057499885559082, -5.059199810028076, -4.907800197601318, -5.1930999755859375, -5.232900142669678, -5.340799808502197, -3.987799882888794, -5.34689998626709, -5.46150016784668, -3.946000099182129, -3.645900011062622, -3.4500999450683594, -3.556999921798706, -4.212500095367432, -3.2158000469207764, -3.4900999069213867, -3.1666998863220215, -3.964900016784668, -4.082900047302246, -3.4549999237060547, -4.180799961090088, -4.189499855041504, -4.090000152587891, -4.089799880981445, -4.389999866485596, -4.5995001792907715, -2.1821999549865723, -3.780900001525879, -3.7948999404907227, -4.072199821472168, -4.2565999031066895, -4.342700004577637, -4.5142998695373535, -4.628300189971924, -4.670199871063232, -4.720699787139893, -4.725900173187256, -4.79449987411499, -4.811699867248535, -4.828400135040283, -4.8343000411987305, -4.877999782562256, -4.881800174713135, -4.881899833679199, -4.999599933624268, -5.019999980926514, -5.020500183105469, -5.03380012512207, -5.072299957275391, -5.076499938964844, -5.0945000648498535, -5.0991997718811035, -5.1082000732421875, -5.11460018157959, -5.151100158691406, -5.1595001220703125, -3.652899980545044, -4.901500225067139, -4.77810001373291, -4.2093000411987305, -4.877699851989746, -4.35830020904541, -3.9549999237060547, -3.796600103378296, -4.626399993896484, -4.858099937438965, -4.556099891662598, -4.040299892425537, -4.397900104522705, -4.482500076293945, -4.500699996948242, -4.828199863433838, -4.841300010681152, -3.6073999404907227, -3.7980000972747803, -3.9763998985290527, -4.039400100708008, -4.328700065612793, -4.380199909210205, -4.579599857330322, -4.639400005340576, -4.683800220489502, -3.9719998836517334, -4.781899929046631, -4.813899993896484, -4.819200038909912, -4.827700138092041, -4.882699966430664, -4.921599864959717, -4.995699882507324, -5.013199806213379, -5.028800010681152, -5.056099891662598, -5.14739990234375, -5.162799835205078, -5.198599815368652, -5.317699909210205, -5.341700077056885, -5.362299919128418, -5.388999938964844, -5.5243000984191895, -5.534900188446045, -5.5619001388549805, -4.48769998550415, -4.577600002288818, -4.769599914550781, -4.615200042724609, -4.601200103759766, -3.7716000080108643, -3.902400016784668, -3.2818000316619873, -4.622200012207031, -3.2028000354766846, -4.099599838256836, -4.726399898529053, -4.297900199890137, -4.699399948120117, -4.580900192260742, -4.486499786376953, -4.635499954223633, -3.4969000816345215, -3.7335000038146973, -3.943700075149536, -4.001500129699707, -4.155399799346924, -4.203800201416016, -4.251299858093262, -4.348700046539307, -4.371300220489502, -4.3927998542785645, -4.424099922180176, -4.445700168609619, -4.845799922943115, -4.94789981842041, -5.004199981689453, -5.053699970245361, -5.103400230407715, -5.1605000495910645, -5.168900012969971, -5.170599937438965, -5.1757001876831055, -5.217100143432617, -5.284900188446045, -5.335299968719482, -5.388700008392334, -5.429599761962891, -5.504499912261963, -5.553999900817871, -3.9026999473571777, -5.643700122833252, -4.52869987487793, -3.150899887084961, -3.135200023651123, -2.535599946975708, -3.212599992752075, -4.768499851226807, -4.875899791717529, -4.279200077056885, -4.207399845123291, -3.958699941635132, -4.702499866485596, -4.530600070953369, -4.162099838256836, -4.250400066375732, -4.382599830627441, -4.4145002365112305, -4.776100158691406, -4.704800128936768, -4.710299968719482, -4.768499851226807, -3.4748001098632812, -3.6273000240325928, -3.6847000122070312, -4.029200077056885, -4.076200008392334, -4.1153998374938965, -4.1468000411987305, -4.210899829864502, -4.595200061798096, -4.641900062561035, -4.698200225830078, -4.705900192260742, -4.71619987487793, -4.895500183105469, -4.901800155639648, -4.910699844360352, -4.9303998947143555, -4.9552998542785645, -4.958000183105469, -5.2104997634887695, -5.263400077819824, -5.520100116729736, -5.567999839782715, -5.655799865722656, -4.273200035095215, -3.89490008354187, -4.231100082397461, -5.277599811553955, -4.264500141143799, -4.054999828338623, -4.206099987030029, -3.927999973297119, -2.7755000591278076, -4.618000030517578, -3.654400110244751, -4.747499942779541, -3.381700038909912, -3.291800022125244, -4.31689977645874, -3.9605000019073486, -4.671899795532227, -4.5304999351501465, -4.2758002281188965, -4.251299858093262, -4.449399948120117, -4.3541998863220215, -4.470900058746338, -2.599400043487549, -4.0121002197265625, -4.021599769592285, -4.155300140380859, -4.175000190734863, -4.189899921417236, -4.313499927520752, -4.430500030517578, -4.475299835205078, -4.561100006103516, -4.605800151824951, -4.688799858093262, -4.7692999839782715, -4.815199851989746, -4.994999885559082, -5.018700122833252, -5.042699813842773, -5.060299873352051, -5.1875, -5.271200180053711, -5.415500164031982, -4.558599948883057, -4.374499797821045, -4.147799968719482, -4.029799938201904, -2.6765999794006348, -4.172500133514404, -4.854700088500977, -3.872299909591675, -4.15500020980835, -3.560699939727783, -4.273799896240234, -2.4516000747680664, -3.646899938583374, -3.5780999660491943, -4.260200023651123, -3.4077999591827393, -4.270699977874756, -3.7200000286102295, -3.990499973297119, -4.069300174713135, -4.206299781799316, -4.397299766540527, -2.9619998931884766, -3.434000015258789, -3.452399969100952, -3.522900104522705, -3.804500102996826, -3.9486000537872314, -3.9730000495910645, -4.000699996948242, -4.003399848937988, -4.0553998947143555, -4.10890007019043, -4.2480998039245605, -4.259900093078613, -4.397799968719482, -4.561200141906738, -4.625400066375732, -5.188799858093262, -3.988100051879883, -3.0369999408721924, -4.453800201416016, -4.682499885559082, -4.697500228881836, -4.215099811553955, -4.565199851989746, -3.422300100326538, -3.7183001041412354, -3.871000051498413, -5.565199851989746, -4.292500019073486, -6.111700057983398, -4.164100170135498, -3.963099956512451, -3.752700090408325, -3.933300018310547, -4.095900058746338, -3.607800006866455, -4.026000022888184, -4.235199928283691, -4.23390007019043, -2.418100118637085, -3.2692999839782715, -3.4231998920440674, -3.5706000328063965, -3.6045000553131104, -3.8368000984191895, -3.8933000564575195, -3.930000066757202, -3.9367001056671143, -4.0706000328063965, -4.1057000160217285, -2.6231000423431396, -4.1732001304626465, -4.178800106048584, -4.269400119781494, -4.282299995422363, -4.363399982452393, -4.420199871063232, -4.576499938964844, -4.577199935913086, -4.656499862670898, -4.678199768066406, -4.709700107574463, -3.822200059890747, -4.892099857330322, -5.112599849700928, -4.119200229644775, -2.913599967956543, -4.996399879455566, -3.5899999141693115, -2.6396000385284424, -4.030099868774414, -4.383600234985352, -4.167600154876709, -4.206399917602539, -4.542300224304199, -4.20959997177124, -3.1663999557495117, -3.3831000328063965, -3.411600112915039, -3.6812000274658203, -3.7155001163482666, -3.725100040435791, -3.982100009918213, -3.996299982070923, -3.9990999698638916, -4.003799915313721, -4.010300159454346, -4.012499809265137, -4.083499908447266, -4.084199905395508, -4.118599891662598, -4.152200222015381, -4.192999839782715, -4.203400135040283, -4.324900150299072, -4.348899841308594, -3.731300115585327, -4.541999816894531, -4.565800189971924, -4.62529993057251, -4.631800174713135, -4.6722002029418945, -5.120100021362305, -4.006100177764893, -4.043000221252441, -4.127999782562256, -4.002500057220459, -3.6421000957489014, -4.230899810791016, -4.219699859619141, -3.555000066757202, -4.146699905395508, -3.547499895095825, -3.9842000007629395, -4.0671000480651855, -4.098499774932861, -4.188399791717529, -2.239500045776367, -2.995500087738037, -3.2221999168395996, -4.251299858093262, -4.281799793243408, -4.283899784088135, -4.287099838256836, -4.297599792480469, -4.3607001304626465, -4.4903998374938965, -4.502699851989746, -4.824900150299072, -4.9019999504089355, -1.3737000226974487, -4.4791998863220215, -3.8975000381469727, -3.604599952697754, -3.7437000274658203, -3.662600040435791, -4.66349983215332, -4.134799957275391, -4.70389986038208, -3.3940000534057617, -4.496600151062012, -3.993499994277954, -5.141300201416016, -4.935400009155273, -5.609799861907959, -4.60099983215332, -6.14169979095459, -4.635499954223633, -3.8921000957489014, -3.712100028991699, -3.56469988822937, -3.9779000282287598, -4.702899932861328, -2.7853000164031982, -3.138400077819824, -3.25219988822937, -3.4655001163482666, -3.4686999320983887, -3.52620005607605, -3.566200017929077, -3.580899953842163, -3.593899965286255, -3.663800001144409, -3.7165000438690186, -3.8101999759674072, -3.828900098800659, -3.869499921798706, -4.013199806213379, -4.118800163269043, -4.3790998458862305, -4.4720001220703125, -4.472899913787842, -2.4979000091552734, -2.9339001178741455, -4.654699802398682, -4.0100998878479, -3.216599941253662, -4.425600051879883, -3.888200044631958, -3.622999906539917, -4.505499839782715, -3.8917999267578125, -5.192800045013428, -3.9339001178741455, -4.230999946594238, -1.5866999626159668, -2.0316998958587646, -2.691999912261963, -2.9890999794006348, -3.7611000537872314, -3.946500062942505, -4.115200042724609, -4.202000141143799, -2.2295000553131104, -4.249300003051758, -2.710200071334839, -4.952199935913086, -3.7976999282836914, -3.7548000812530518, -3.7400999069213867, -3.699399948120117, -3.7091000080108643, -5.2845001220703125, -4.5503997802734375, -4.333000183105469, -5.621300220489502, -9.846400260925293, -9.846400260925293, -9.846500396728516, -9.846500396728516, -9.846500396728516, -9.846500396728516, -9.846500396728516, -9.846500396728516, -9.846500396728516, -4.10860013961792, -9.846500396728516, -9.846400260925293, -7.705699920654297, -9.84630012512207, -9.846400260925293, -9.846400260925293, -9.846400260925293, -9.167799949645996, -8.53969955444336, -9.137999534606934]}, \"token.table\": {\"Topic\": [8, 7, 10, 14, 7, 9, 12, 18, 1, 5, 5, 6, 10, 18, 2, 8, 13, 6, 5, 9, 1, 3, 7, 9, 14, 4, 14, 7, 14, 11, 10, 2, 5, 1, 2, 4, 7, 8, 9, 11, 2, 6, 10, 11, 13, 3, 4, 3, 17, 15, 5, 18, 17, 2, 6, 8, 2, 6, 13, 14, 16, 11, 13, 17, 12, 2, 12, 15, 13, 4, 10, 1, 3, 8, 2, 19, 12, 17, 6, 6, 14, 19, 11, 14, 3, 4, 5, 10, 12, 19, 12, 16, 1, 2, 2, 5, 6, 8, 11, 12, 13, 12, 15, 13, 3, 8, 3, 10, 4, 5, 18, 12, 9, 8, 11, 16, 10, 1, 3, 4, 7, 9, 11, 12, 13, 9, 1, 20, 1, 20, 7, 5, 10, 2, 8, 9, 9, 7, 2, 19, 3, 15, 18, 3, 11, 15, 16, 13, 1, 7, 4, 1, 2, 11, 1, 2, 3, 4, 5, 9, 3, 5, 10, 1, 5, 9, 10, 1, 3, 5, 10, 11, 15, 1, 17, 1, 7, 6, 6, 1, 5, 7, 13, 14, 3, 5, 2, 13, 2, 14, 1, 3, 7, 11, 2, 6, 8, 14, 3, 4, 5, 6, 19, 20, 10, 18, 2, 11, 13, 12, 3, 5, 1, 16, 1, 1, 3, 1, 2, 3, 4, 5, 7, 10, 1, 10, 4, 3, 4, 7, 12, 14, 15, 17, 16, 1, 2, 6, 7, 12, 13, 1, 2, 5, 7, 8, 10, 11, 14, 17, 14, 11, 4, 5, 8, 7, 5, 20, 13, 1, 3, 4, 1, 3, 4, 10, 11, 15, 5, 5, 10, 15, 10, 6, 2, 2, 5, 14, 19, 14, 10, 8, 9, 10, 6, 9, 9, 13, 2, 5, 5, 4, 6, 8, 15, 4, 20, 1, 5, 8, 9, 10, 15, 17, 9, 8, 8, 1, 3, 4, 7, 9, 12, 13, 15, 3, 11, 6, 3, 5, 3, 10, 11, 9, 7, 5, 1, 2, 3, 5, 7, 8, 11, 8, 1, 2, 3, 3, 18, 1, 3, 4, 7, 8, 10, 15, 3, 4, 5, 7, 7, 1, 2, 4, 9, 11, 2, 13, 9, 8, 9, 8, 8, 12, 4, 16, 12, 1, 4, 15, 2, 18, 6, 15, 3, 2, 6, 8, 12, 13, 14, 1, 2, 6, 7, 8, 11, 19, 18, 11, 2, 12, 13, 2, 3, 5, 11, 12, 14, 13, 2, 6, 12, 13, 2, 6, 12, 13, 3, 3, 3, 4, 6, 13, 13, 6, 10, 7, 17, 8, 8, 11, 16, 7, 7, 2, 3, 4, 5, 7, 8, 9, 10, 11, 15, 4, 18, 4, 7, 13, 2, 7, 17, 8, 1, 2, 3, 15, 2, 16, 9, 19, 1, 3, 8, 6, 13, 11, 16, 11, 2, 3, 4, 5, 7, 11, 12, 13, 2, 3, 10, 20, 2, 3, 10, 11, 12, 13, 15, 17, 11, 4, 4, 1, 3, 5, 10, 15, 18, 15, 16, 4, 1, 1, 10, 8, 15, 4, 18, 20, 2, 4, 7, 11, 17, 6, 5, 17, 5, 17, 2, 11, 6, 11, 5, 3, 1, 2, 2, 6, 16, 9, 20, 7, 10, 20, 10, 2, 8, 2, 6, 13, 6, 10, 14, 4, 15, 15, 17, 1, 2, 5, 6, 10, 14, 16, 1, 2, 6, 7, 12, 14, 3, 4, 5, 15, 3, 4, 12, 2, 7, 11, 11, 9, 18, 1, 1, 4, 6, 8, 9, 9, 4, 18, 10, 2, 4, 14, 1, 3, 7, 8, 5, 5, 9, 1, 6, 13, 14, 2, 2, 2, 12, 11, 14, 7, 10, 12, 4, 6, 3, 4, 10, 8, 9, 1, 3, 10, 5, 18, 18, 17, 13, 3, 7, 2, 7, 14, 3, 15, 2, 8, 6, 8, 1, 3, 4, 7, 8, 10, 1, 3, 7, 11, 6, 19, 2, 8, 11, 11, 9, 5, 8, 16, 8, 15, 1, 7, 9, 10, 20, 1, 2, 5, 14, 7, 17, 15, 5, 12, 14, 17, 2, 8, 3, 2, 11, 9, 4, 4, 4, 19, 6, 6, 4, 12, 10, 1, 5, 6, 9, 10, 1, 2, 9, 10, 13, 17, 4, 5, 19, 1, 3, 4, 9, 13, 8, 13, 5, 3, 8, 12, 15, 13, 14, 1, 2, 3, 4, 7, 10, 11, 15, 1, 1, 7, 6, 6, 13, 14, 2, 3, 8, 10, 11, 18, 19, 16, 17, 16, 17, 16, 2, 16, 9, 19, 2, 12, 1, 14, 1, 7, 8, 8, 6, 7, 8, 15, 5, 11, 4, 1, 8, 9, 1, 6, 8, 1, 2, 3, 4, 7, 8, 9, 12, 18, 15, 16, 9, 4, 5, 9, 10, 15, 17, 9, 10, 4, 19, 6, 1, 7, 14, 8, 12, 2, 20, 16, 2, 7, 4, 5, 3, 17, 15, 7, 1, 2, 3, 6, 10, 12, 13, 17, 2, 10, 19, 10, 14, 4, 19, 16, 19, 1, 7, 8, 16, 1, 3, 4, 5, 7, 16, 2, 19, 1, 3, 4, 7, 8, 11, 2, 14, 10, 10, 1, 18, 1, 14, 11, 3, 1, 4, 2, 5, 3, 3, 4, 18, 1, 11, 13, 16, 17, 17, 4, 10, 15, 6, 11, 4, 6, 8, 11, 2, 5, 12, 13, 15, 8, 9, 2, 6, 8, 9, 8, 10, 4, 1, 2, 5, 7, 10, 14, 15, 16, 16, 4, 17, 5, 10, 10, 5, 9, 10, 15, 18, 1, 2, 5, 10, 17, 3, 14, 1, 11, 7, 2, 12, 13, 3, 5, 15, 5, 3, 5, 15, 3, 11, 20, 13, 2, 4, 10, 11, 3, 3, 6, 8, 12, 9, 6, 13, 13, 9, 1, 10, 3, 14, 16, 4, 17, 3, 20, 19, 1, 3, 4, 5, 5, 1, 5, 2, 12, 13, 2, 6, 1, 2, 1, 2, 3, 7, 11, 9, 11, 19, 18, 1, 8, 3, 18, 7, 17, 3, 11, 4, 5, 20, 4, 3, 4, 6, 6, 1, 3, 16, 1, 3, 16, 10, 3, 14, 18, 1, 4, 1, 3, 4, 6, 13, 19, 14, 15, 17, 12, 12, 12, 5, 19, 11, 1, 5, 1, 4, 1, 3, 5, 7, 20, 14, 11, 11, 12, 2, 12, 13, 2, 13, 1, 17, 1, 15, 5, 9, 20, 5, 1, 12, 2, 12, 13, 17, 20, 2, 11, 12, 17, 9, 1, 4, 5, 10, 6, 15, 14, 10, 17, 11, 4, 1, 1, 3, 8, 9, 9, 9, 8, 9, 4, 6, 17, 18, 18, 8, 8, 9, 11, 1, 14, 1, 3, 1, 2, 12, 7, 2, 6, 16, 2, 6, 12, 13, 15, 1, 5, 1, 5, 3, 15, 1, 1, 1, 4, 15, 1, 3, 7, 8, 12, 8, 11, 11, 18, 1, 4, 15, 5, 8, 15, 12, 1, 6, 1, 2, 3, 4, 5, 7, 9, 11, 12, 2, 10, 12, 14, 19, 7, 14, 17, 2, 5, 10, 3, 14, 11, 8, 14, 2, 6, 1, 10, 15, 11, 16, 6, 1, 7, 8, 6, 6, 6, 8, 9, 1, 2, 4, 5, 7, 9, 11, 13, 7, 15, 16, 2, 7, 8, 11, 12, 4, 19, 1, 13, 12, 12, 13, 8, 13, 16, 10, 15, 2, 9, 12, 12, 6, 1, 9, 16, 1, 5, 11, 15, 2, 1, 11, 10, 18, 2, 17, 10, 12, 2, 3, 10, 1, 3, 7, 1, 3, 18, 3, 19, 3, 8, 3, 8, 3, 7, 7, 3, 8, 2, 4, 7, 13, 19, 1, 2, 6, 8, 13, 14, 18, 9, 1, 7, 11, 16, 11, 7, 19, 16, 1, 12, 2, 6, 8, 9, 8, 2, 20, 3, 8, 11, 3, 4, 15, 3, 1, 3, 4, 16, 14, 3, 4, 18, 6, 15, 10, 4, 7, 11, 17, 14, 5, 15, 18, 1, 2, 7, 9, 11, 12, 8, 10, 11, 1, 9, 6, 5, 18, 5, 1, 3, 6, 7, 1, 7, 11, 13, 13, 13, 13, 12, 10, 19, 1, 2, 3, 6, 7, 8, 9, 18, 11, 3, 3, 4, 14, 3, 6, 10, 10, 4, 12, 12, 12, 9, 3, 12, 19, 1, 9, 10, 17, 19, 18, 19, 10, 3, 14, 10, 16, 2, 7, 2, 20, 20, 7, 17, 1, 3, 4, 5, 10, 1, 11, 3, 7, 4, 5, 20, 17, 8, 2, 1, 3, 6, 8, 13, 1, 8, 11, 1, 16, 6, 7, 1, 7, 9, 3, 9, 5, 9, 1, 15, 15, 7, 15, 19, 18, 1, 3, 4, 10, 6, 2, 16, 7, 5, 5, 2, 4, 8, 9, 16, 13, 7, 7, 14, 16, 19, 1, 5, 11, 12, 6, 20, 5, 9, 12, 15, 7, 1, 2, 3, 9, 11, 13, 4, 13, 11, 1, 2, 13, 16, 17, 1, 4, 19, 9, 19, 1, 2, 4, 6, 7, 8, 9, 11, 7, 17, 1, 3, 4, 10, 12, 18, 8, 8, 8, 8, 8, 11, 1, 2, 6, 7, 14, 19, 13, 14, 7, 9, 3, 4, 4, 3, 4, 2, 2, 7, 8, 1, 8, 1, 2, 3, 11, 12, 13, 17, 1, 2, 3, 5, 8, 9, 12, 13, 17, 9, 13, 6, 16, 1, 17, 1, 3, 7, 11, 12, 18, 8, 17, 7, 2, 3, 4, 5, 6, 13, 6, 8, 13, 7, 8, 13], \"Freq\": [0.977458655834198, 0.2932754158973694, 0.6067767143249512, 0.0910165086388588, 0.15018130838871002, 0.07509065419435501, 0.7696792483329773, 0.9918124079704285, 0.18361304700374603, 0.7956565022468567, 0.9929547905921936, 0.9931065440177917, 0.41238537430763245, 0.5361009836196899, 0.14501145482063293, 0.15467889606952667, 0.696054995059967, 0.973595917224884, 0.1293657273054123, 0.859358012676239, 0.02667166106402874, 0.08001498132944107, 0.7868140339851379, 0.01333583053201437, 0.08001498132944107, 0.0689748078584671, 0.8966724872589111, 0.9466429948806763, 0.9384822845458984, 0.983707070350647, 0.986605703830719, 0.900201141834259, 0.0807872861623764, 0.1560075432062149, 0.09561752527952194, 0.12078002840280533, 0.23652756214141846, 0.005032501183450222, 0.06542252004146576, 0.3170475959777832, 0.364421010017395, 0.11831851303577423, 0.09938754886388779, 0.17511139810085297, 0.24136976897716522, 0.07615780830383301, 0.9189708232879639, 0.13424097001552582, 0.8054458498954773, 0.9641131162643433, 0.8053079843521118, 0.15099523961544037, 0.9733937382698059, 0.42175668478012085, 0.5574523210525513, 0.018337246030569077, 0.49438953399658203, 0.45443886518478394, 0.04494450241327286, 0.9356050491333008, 0.9814225435256958, 0.7838844656944275, 0.19953423738479614, 0.9548438191413879, 0.9573068022727966, 0.0926835760474205, 0.8959412574768066, 0.9427794218063354, 0.974126935005188, 0.4457274079322815, 0.5481242537498474, 0.20921729505062103, 0.584577739238739, 0.20306384563446045, 0.9801983833312988, 0.9712823033332825, 0.9932766556739807, 0.9631487727165222, 0.9847611784934998, 0.2933101952075958, 0.7039445042610168, 0.9749727249145508, 0.12964269518852234, 0.8426774740219116, 0.012539098970592022, 0.7899631857872009, 0.17554737627506256, 0.04358400031924248, 0.9501311779022217, 0.9405527114868164, 0.9772633910179138, 0.955920398235321, 0.154368057847023, 0.831872284412384, 0.7373967170715332, 0.014588783495128155, 0.14323532581329346, 0.037135086953639984, 0.054376374930143356, 0.003978759050369263, 0.007957518100738525, 0.9788024425506592, 0.9701564311981201, 0.9862543344497681, 0.06736522167921066, 0.9178511500358582, 0.9595969319343567, 0.03146219626069069, 0.977546751499176, 0.2877756655216217, 0.6954578757286072, 0.9918859601020813, 0.9855591058731079, 0.9797467589378357, 0.9683015942573547, 0.9944729804992676, 0.9649652242660522, 0.3172943592071533, 0.21916209161281586, 0.21261993050575256, 0.06869259476661682, 0.032710760831832886, 0.08831904828548431, 0.032710760831832886, 0.02289753220975399, 0.9770590662956238, 0.6282702088356018, 0.35510924458503723, 0.14432260394096375, 0.8515033721923828, 0.9779843091964722, 0.17323721945285797, 0.8031907081604004, 0.14357852935791016, 0.09173072874546051, 0.761763870716095, 0.9724768400192261, 0.9522354602813721, 0.5068941116333008, 0.48879075050354004, 0.3125019371509552, 0.5280205011367798, 0.15086300671100616, 0.31483131647109985, 0.038161370903253555, 0.6296626329421997, 0.9829111695289612, 0.9560686349868774, 0.9455397129058838, 0.031001301482319832, 0.9807546138763428, 0.08094609528779984, 0.870170533657074, 0.04553218185901642, 0.4593352675437927, 0.035333484411239624, 0.0565335713326931, 0.3745349049568176, 0.017666742205619812, 0.05300022289156914, 0.002822496695443988, 0.9963412880897522, 0.9842461347579956, 0.19785764813423157, 0.7571859955787659, 0.03043963760137558, 0.011414864100515842, 0.19813679158687592, 0.07204974442720413, 0.5658906698226929, 0.10207046568393707, 0.052536267787218094, 0.009006218053400517, 0.9913314580917358, 0.9584362506866455, 0.2142326682806015, 0.7651166915893555, 0.9842950105667114, 0.9799849987030029, 0.20149587094783783, 0.4191114008426666, 0.37075239419937134, 0.9561909437179565, 0.9247198104858398, 0.0044313520193099976, 0.994100034236908, 0.1557425707578659, 0.8254356384277344, 0.2348475456237793, 0.7472421526908875, 0.3087468445301056, 0.49497511982917786, 0.09801487624645233, 0.09801487624645233, 0.41633331775665283, 0.14081862568855286, 0.012245097197592258, 0.4285784065723419, 0.10271376371383667, 0.34922680258750916, 0.5443829894065857, 0.24546653032302856, 0.6078218817710876, 0.14026659727096558, 0.19028203189373016, 0.7611281275749207, 0.7256833910942078, 0.03261498361825943, 0.23645862936973572, 0.9519113898277283, 0.981477677822113, 0.9908000826835632, 0.9856564998626709, 0.9223420023918152, 0.9799583554267883, 0.0852527916431427, 0.8951542973518372, 0.19041728973388672, 0.20290367305278778, 0.015607974492013454, 0.1092558205127716, 0.20914685726165771, 0.19666047394275665, 0.07491827756166458, 0.9712873697280884, 0.9782847166061401, 0.9503686428070068, 0.28454577922821045, 0.4844968616962433, 0.026916492730379105, 0.09228511899709702, 0.034606918692588806, 0.007690426427870989, 0.06921383738517761, 0.9394230842590332, 0.014427242800593376, 0.2404540479183197, 0.2284313440322876, 0.2043859362602234, 0.18514961004257202, 0.1250361055135727, 0.16464358568191528, 0.39148586988449097, 0.05488119646906853, 0.05488119646906853, 0.21220728754997253, 0.032928716391325, 0.018293732777237892, 0.06585743278265, 0.9643795490264893, 0.8963698744773865, 0.9794273376464844, 0.9270734786987305, 0.058861806988716125, 0.9902724623680115, 0.9904705286026001, 0.32735639810562134, 0.6547127962112427, 0.9895456433296204, 0.21274758875370026, 0.7484156489372253, 0.037990640848875046, 0.025936098769307137, 0.3536740839481354, 0.46449196338653564, 0.02122044377028942, 0.0895974338054657, 0.04244088754057884, 0.989144504070282, 0.9517928957939148, 0.03116702288389206, 0.0167822428047657, 0.9852572679519653, 0.979718804359436, 0.9714307188987732, 0.9866374731063843, 0.9445986747741699, 0.7817960977554321, 0.2149939388036728, 0.977325975894928, 0.9860017895698547, 0.2931085526943207, 0.7034605145454407, 0.9865853786468506, 0.0885554775595665, 0.90769362449646, 0.9826850295066833, 0.9827086329460144, 0.9835399389266968, 0.9673699736595154, 0.9933577179908752, 0.13594438135623932, 0.5327550172805786, 0.2792370915412903, 0.04776424169540405, 0.517580509185791, 0.4640377163887024, 0.03522595763206482, 0.06340672820806503, 0.05636153370141983, 0.049316342920064926, 0.5495249629020691, 0.23953650891780853, 0.9823172688484192, 0.9838812947273254, 0.9782467484474182, 0.9432857632637024, 0.22808589041233063, 0.12963154911994934, 0.388894647359848, 0.15260422229766846, 0.07055894285440445, 0.004922716878354549, 0.011486339382827282, 0.013127245008945465, 0.9812150001525879, 0.9719566106796265, 0.9761607050895691, 0.9493271708488464, 0.0444997102022171, 0.9855991005897522, 0.9766805768013, 0.9780639410018921, 0.9808622002601624, 0.9668232798576355, 0.970145046710968, 0.052636973559856415, 0.14834056794643402, 0.42269086837768555, 0.017545657232403755, 0.011165418662130833, 0.011165418662130833, 0.33655762672424316, 0.9851853251457214, 0.04225173592567444, 0.5492725372314453, 0.4056166708469391, 0.5519580245018005, 0.4205394387245178, 0.3070172071456909, 0.648147463798523, 0.029239734634757042, 0.009746577590703964, 0.9594117999076843, 0.09405402094125748, 0.8935132026672363, 0.2457163780927658, 0.2673972547054291, 0.48420581221580505, 0.9816600680351257, 0.9747024178504944, 0.29593008756637573, 0.1268271803855896, 0.5737419724464417, 0.14038939774036407, 0.8423364162445068, 0.9044023156166077, 0.0837409570813179, 0.9825764894485474, 0.9829813241958618, 0.9558064937591553, 0.982498049736023, 0.969672441482544, 0.9437564611434937, 0.047453802078962326, 0.9253491163253784, 0.962212860584259, 0.008060612715780735, 0.9833947420120239, 0.957955002784729, 0.37579846382141113, 0.595014214515686, 0.171342134475708, 0.813875138759613, 0.9724971055984497, 0.6042071580886841, 0.186297208070755, 0.05286812782287598, 0.012587649747729301, 0.10573625564575195, 0.037762947380542755, 0.04180086404085159, 0.2534177303314209, 0.41278353333473206, 0.039188310503959656, 0.20639176666736603, 0.04441341757774353, 0.9529032111167908, 0.9243403077125549, 0.9399479031562805, 0.02280469983816147, 0.5131057500839233, 0.44469165802001953, 0.13193361461162567, 0.3444933295249939, 0.09528538584709167, 0.4177897870540619, 0.958709716796875, 0.9859225153923035, 0.9862363934516907, 0.19580940902233124, 0.11125534772872925, 0.18690899014472961, 0.5028741955757141, 0.2752649486064911, 0.7176550030708313, 0.23421913385391235, 0.7439901828765869, 0.9844614267349243, 0.9935562610626221, 0.9873109459877014, 0.9844993948936462, 0.923095703125, 0.07260303199291229, 0.9825119972229004, 0.9899249076843262, 0.99809330701828, 0.9815945029258728, 0.9532908797264099, 0.9752176403999329, 0.5968277454376221, 0.3993164300918579, 0.9622823596000671, 0.9736535549163818, 0.9758473634719849, 0.5226058959960938, 0.057126957923173904, 0.004231626633554697, 0.06770602613687515, 0.11002229154109955, 0.025389758870005608, 0.10155903548002243, 0.004231626633554697, 0.029621385037899017, 0.07616927474737167, 0.6865799427032471, 0.27463197708129883, 0.9897608160972595, 0.21913965046405792, 0.7669887542724609, 0.17648646235466003, 0.3970945477485657, 0.4118017554283142, 0.9694183468818665, 0.5769494771957397, 0.41915133595466614, 0.9842402935028076, 0.9654878973960876, 0.9882670044898987, 0.9798572659492493, 0.06896081566810608, 0.9223509430885315, 0.9910183548927307, 0.10623365640640259, 0.8884996771812439, 0.9686697721481323, 0.9571518301963806, 0.9461913108825684, 0.9702261686325073, 0.9946494698524475, 0.28511279821395874, 0.06446028500795364, 0.029750898480415344, 0.024792416021227837, 0.002479241695255041, 0.022313173860311508, 0.537995457649231, 0.034709382802248, 0.6236517429351807, 0.1084611713886261, 0.20336468517780304, 0.05423058569431305, 0.5452470183372498, 0.004979424644261599, 0.059753093868494034, 0.06224280595779419, 0.2564403712749481, 0.029876546934247017, 0.014938273467123508, 0.024897122755646706, 0.965577244758606, 0.9812116026878357, 0.9695287942886353, 0.4019109606742859, 0.051674265414476395, 0.14928121864795685, 0.2621990442276001, 0.055501990020275116, 0.07655446976423264, 0.17558634281158447, 0.8110416531562805, 0.9838556051254272, 0.9752504825592041, 0.9885163903236389, 0.9896917939186096, 0.2913665473461151, 0.6798552870750427, 0.42763084173202515, 0.07775106281042099, 0.48594412207603455, 0.2236555814743042, 0.061505284160375595, 0.6486011743545532, 0.05591389536857605, 0.9091665744781494, 0.9711478352546692, 0.0875559076666832, 0.8755590915679932, 0.9574739933013916, 0.9214667677879333, 0.980549156665802, 0.9803759455680847, 0.9741423726081848, 0.9810304641723633, 0.9883226156234741, 0.9949350357055664, 0.9841713309288025, 0.9835395216941833, 0.005560262128710747, 0.27801311016082764, 0.7117135524749756, 0.9824415445327759, 0.94536292552948, 0.32817551493644714, 0.5907158851623535, 0.9509283304214478, 0.9775698184967041, 0.9914351105690002, 0.9475132822990417, 0.018691619858145714, 0.8348923325538635, 0.14641767740249634, 0.9820581674575806, 0.9721616506576538, 0.9231274724006653, 0.2668261229991913, 0.7242423295974731, 0.1177552118897438, 0.853725254535675, 0.2676768898963928, 0.39945629239082336, 0.10295265167951584, 0.008236211724579334, 0.07824401557445526, 0.028826741501688957, 0.1111888587474823, 0.9852494597434998, 0.5138666033744812, 0.02569333091378212, 0.3821883201599121, 0.07707999646663666, 0.9489568471908569, 0.1071043610572815, 0.6140649914741516, 0.24276988208293915, 0.02856116183102131, 0.8826966285705566, 0.10735499113798141, 0.9835543632507324, 0.04510601609945297, 0.8570142984390259, 0.09021203219890594, 0.9655537009239197, 0.4851265251636505, 0.4956727623939514, 0.9871336221694946, 0.09998529404401779, 0.013331372290849686, 0.3966083228588104, 0.13997940719127655, 0.349948525428772, 0.9881430864334106, 0.4373191297054291, 0.5168316960334778, 0.9645694494247437, 0.26053494215011597, 0.2468225657939911, 0.4799327850341797, 0.03455905616283417, 0.285112202167511, 0.6825413703918457, 0.9726575016975403, 0.9526410102844238, 0.9259073138237, 0.9932869076728821, 0.21515631675720215, 0.09779833257198334, 0.6650286316871643, 0.9746670722961426, 0.9829939007759094, 0.9936800003051758, 0.4177541136741638, 0.5686097741127014, 0.9930889010429382, 0.930822491645813, 0.14799726009368896, 0.32418447732925415, 0.5285616517066956, 0.11796674877405167, 0.8552589416503906, 0.9805821180343628, 0.9773516058921814, 0.9760711789131165, 0.02492661029100418, 0.9638289213180542, 0.020607640966773033, 0.7899595499038696, 0.178599551320076, 0.9739347100257874, 0.9261150360107422, 0.991809070110321, 0.9832364916801453, 0.9620079398155212, 0.8457316160202026, 0.14766742289066315, 0.9911071062088013, 0.9753650426864624, 0.949110209941864, 0.9832262396812439, 0.9913146495819092, 0.3845042586326599, 0.6092913746833801, 0.23761770129203796, 0.7494096755981445, 0.42733433842658997, 0.1029721274971962, 0.03861454874277115, 0.16475540399551392, 0.07208049297332764, 0.19307275116443634, 0.15807847678661346, 0.6323139071464539, 0.15328821539878845, 0.052692823112010956, 0.3073097765445709, 0.670494019985199, 0.9904614090919495, 0.16884145140647888, 0.8160670399665833, 0.9926097393035889, 0.9727640748023987, 0.09779813885688782, 0.2607950270175934, 0.619388222694397, 0.27765128016471863, 0.6941282153129578, 0.7033133506774902, 0.02686266414821148, 0.19048070907592773, 0.03418884426355362, 0.04395708441734314, 0.10571639984846115, 0.007375562563538551, 0.3491099774837494, 0.5334990620613098, 0.3502715826034546, 0.6466552019119263, 0.9751454591751099, 0.9751673936843872, 0.42048853635787964, 0.22474387288093567, 0.3479905128479004, 0.9838908314704895, 0.9834738373756409, 0.9949670433998108, 0.9860407710075378, 0.9758039116859436, 0.9671726226806641, 0.9912383556365967, 0.9859627485275269, 0.9810296297073364, 0.9636902809143066, 0.9862644076347351, 0.9775527715682983, 0.9901081323623657, 0.9693695306777954, 0.9666033983230591, 0.10183323919773102, 0.6796510219573975, 0.0732283964753151, 0.0205954872071743, 0.12357291579246521, 0.017120173200964928, 0.3309900164604187, 0.5421388149261475, 0.05706724524497986, 0.05706724524497986, 0.9609662294387817, 0.9611420035362244, 0.4553692638874054, 0.4553692638874054, 0.12069318443536758, 0.0689675360918045, 0.7155382037162781, 0.08620941638946533, 0.9932655692100525, 0.2168102264404297, 0.7708808183670044, 0.9916014075279236, 0.13041986525058746, 0.39941084384918213, 0.14672234654426575, 0.3178984224796295, 0.834158182144165, 0.13170918822288513, 0.29483455419540405, 0.1373986154794693, 0.2089603990316391, 0.06869930773973465, 0.2633473575115204, 0.008587413467466831, 0.01431235671043396, 0.9720842838287354, 0.9896936416625977, 0.9856036901473999, 0.9736155271530151, 0.9798318147659302, 0.843619167804718, 0.15166187286376953, 0.9932394027709961, 0.07981955260038376, 0.15543808043003082, 0.5419327616691589, 0.06301543861627579, 0.03360823169350624, 0.12182984501123428, 0.9555153846740723, 0.9622344970703125, 0.029607215896248817, 0.9294857382774353, 0.9270846843719482, 0.9279264807701111, 0.061377398669719696, 0.8899722695350647, 0.3453907072544098, 0.6140279173851013, 0.9861817955970764, 0.9577394723892212, 0.7861722111701965, 0.2085065394639969, 0.9935637712478638, 0.14515641331672668, 0.8467457294464111, 0.9608664512634277, 0.6404651999473572, 0.1711166501045227, 0.14667141437530518, 0.03911237791180611, 0.9177603721618652, 0.9873352646827698, 0.9818482398986816, 0.4242699444293976, 0.08386731147766113, 0.4884037673473358, 0.39793631434440613, 0.510930597782135, 0.08843029290437698, 0.1533706784248352, 0.009390042163431644, 0.04069017991423607, 0.5227123498916626, 0.02191009745001793, 0.05008022114634514, 0.05321023613214493, 0.10642047226428986, 0.04069017991423607, 0.3377167284488678, 0.6191473603248596, 0.982099175453186, 0.025488967075943947, 0.17842276394367218, 0.6754575967788696, 0.07009465992450714, 0.044605690985918045, 0.9865682125091553, 0.11438986659049988, 0.8769890069961548, 0.9826561212539673, 0.9817699790000916, 0.9641568660736084, 0.9767143726348877, 0.05679168924689293, 0.9086670279502869, 0.9570896625518799, 0.9861392974853516, 0.976972758769989, 0.9172210097312927, 0.9837411046028137, 0.9845077395439148, 0.9728282690048218, 0.8464833498001099, 0.1463843435049057, 0.20435112714767456, 0.7590184807777405, 0.9696743488311768, 0.9760199785232544, 0.003270048415288329, 0.3008444607257843, 0.12426183372735977, 0.18312270939350128, 0.09810145199298859, 0.2190932333469391, 0.06867101788520813, 0.9257387518882751, 0.1684798002243042, 0.2910105586051941, 0.5360720753669739, 0.9691954255104065, 0.973547101020813, 0.5931829214096069, 0.3954553008079529, 0.9462741017341614, 0.9764165282249451, 0.715912401676178, 0.08948905020952225, 0.19524884223937988, 0.9760197401046753, 0.2191086858510971, 0.30035123229026794, 0.44067928194999695, 0.03692843019962311, 0.4680444002151489, 0.52420973777771, 0.98360276222229, 0.9436184167861938, 0.2553533911705017, 0.5147600173950195, 0.044585514813661575, 0.036479055881500244, 0.04053228721022606, 0.10943716764450073, 0.0978429839015007, 0.8805868625640869, 0.9642090201377869, 0.963715672492981, 0.1862737089395523, 0.8109720945358276, 0.9887201189994812, 0.9687673449516296, 0.9735280275344849, 0.974946141242981, 0.12798823416233063, 0.861011803150177, 0.9844924211502075, 0.9650833010673523, 0.9825676679611206, 0.6758109927177429, 0.32181477546691895, 0.9452077150344849, 0.23086363077163696, 0.2885795533657074, 0.4617272615432739, 0.9587804675102234, 0.9773397445678711, 0.9625335931777954, 0.18012814223766327, 0.2701922059059143, 0.45032036304473877, 0.28102895617485046, 0.7025724053382874, 0.9874781370162964, 0.957684338092804, 0.3302419185638428, 0.6604838371276855, 0.8396583795547485, 0.0037153027951717377, 0.07802135497331619, 0.07802135497331619, 0.9787903428077698, 0.19278188049793243, 0.8025106191635132, 0.03000444732606411, 0.9451401233673096, 0.9925450682640076, 0.9832333326339722, 0.9787685871124268, 0.9957174062728882, 0.9603299498558044, 0.13294483721256256, 0.002769684186205268, 0.4486888349056244, 0.14956294000148773, 0.19110821187496185, 0.027696840465068817, 0.002769684186205268, 0.041545260697603226, 0.8954329490661621, 0.1373976618051529, 0.8243860006332397, 0.901053786277771, 0.07950474321842194, 0.987316370010376, 0.005751641001552343, 0.5521575808525085, 0.16104595363140106, 0.2760787904262543, 0.9435160160064697, 0.13199102878570557, 0.10559282451868057, 0.3299775719642639, 0.4223712980747223, 0.9714699387550354, 0.16388383507728577, 0.8194192051887512, 0.9809827208518982, 0.9495056867599487, 0.9824938774108887, 0.16623327136039734, 0.7779717445373535, 0.05319464951753616, 0.661163330078125, 0.3238351047039032, 0.0067465645261108875, 0.9754943251609802, 0.9846349358558655, 0.15476714074611664, 0.8340229392051697, 0.4168948233127594, 0.5120555758476257, 0.06344051659107208, 0.970032811164856, 0.2664676010608673, 0.29025933146476746, 0.076133593916893, 0.36163458228111267, 0.9821305274963379, 0.39755502343177795, 0.41988956928253174, 0.17867641150951385, 0.9898340106010437, 0.9828435182571411, 0.6119552254676819, 0.38403311371803284, 0.9659042954444885, 0.9724389910697937, 0.9903839826583862, 0.9798274636268616, 0.3783207833766937, 0.6190704107284546, 0.9739329218864441, 0.1265300065279007, 0.8540775179862976, 0.47912830114364624, 0.5143583416938782, 0.9902706146240234, 0.3433789908885956, 0.2678356170654297, 0.006867579650133848, 0.37771686911582947, 0.9441248178482056, 0.09962280094623566, 0.880001425743103, 0.3146257698535919, 0.6458904147148132, 0.037815600633621216, 0.9340835213661194, 0.05549011006951332, 0.07984829694032669, 0.9102705717086792, 0.054634444415569305, 0.08195167034864426, 0.24585500359535217, 0.5026369094848633, 0.11473233252763748, 0.1826353222131729, 0.2638065814971924, 0.5479059815406799, 0.9583807587623596, 0.9527847170829773, 0.030734991654753685, 0.6422576308250427, 0.30223891139030457, 0.21150989830493927, 0.775536298751831, 0.9676401615142822, 0.9651868939399719, 0.95244961977005, 0.025741882622241974, 0.9425106644630432, 0.9803505539894104, 0.13707810640335083, 0.8498842716217041, 0.9917463064193726, 0.9854871034622192, 0.9930897951126099, 0.983851432800293, 0.9814654588699341, 0.014742381870746613, 0.2358781099319458, 0.7371191382408142, 0.969228208065033, 0.9676581025123596, 0.7691246271133423, 0.20707201957702637, 0.11281344294548035, 0.8764736652374268, 0.7574431300163269, 0.03123476728796959, 0.06637387722730637, 0.027330420911312103, 0.10932168364524841, 0.0039043459109961987, 0.8913722038269043, 0.08913721889257431, 0.9630460739135742, 0.9810113906860352, 0.9578856825828552, 0.9738410711288452, 0.9715167284011841, 0.9810276031494141, 0.9683331847190857, 0.007542008999735117, 0.9905171990394592, 0.9709789752960205, 0.9884333610534668, 0.14427055418491364, 0.03606763854622841, 0.8055105805397034, 0.7199229001998901, 0.25409042835235596, 0.9656903147697449, 0.978825032711029, 0.989102303981781, 0.9820276498794556, 0.6974375247955322, 0.060492031276226044, 0.24018895626068115, 0.9783961772918701, 0.9702844023704529, 0.023743828758597374, 0.9497531652450562, 0.6869460940361023, 0.3087398111820221, 0.47249865531921387, 0.2074384242296219, 0.3111576437950134, 0.9947351813316345, 0.17479251325130463, 0.8240218758583069, 0.4685268998146057, 0.29433101415634155, 0.17419590055942535, 0.05406079813838005, 0.995086133480072, 0.429541677236557, 0.2818867266178131, 0.09396224468946457, 0.18792448937892914, 0.9786496162414551, 0.20074626803398132, 0.47605544328689575, 0.06882729381322861, 0.24663113057613373, 0.9718489646911621, 0.9678328037261963, 0.9526248574256897, 0.9587304592132568, 0.9629333019256592, 0.9800488948822021, 0.9650424718856812, 0.9987087845802307, 0.8808439373970032, 0.10830047726631165, 0.26695114374160767, 0.7312139868736267, 0.9890142679214478, 0.9751661419868469, 0.5505819320678711, 0.44470077753067017, 0.9753516316413879, 0.16961954534053802, 0.26654499769210815, 0.5573213696479797, 0.8876395225524902, 0.9762448668479919, 0.23297391831874847, 0.19969192147254944, 0.5657938122749329, 0.7051098346710205, 0.2881093919277191, 0.9962266087532043, 0.9893849492073059, 0.9842418432235718, 0.8719756603240967, 0.1254872828722, 0.9830878376960754, 0.12617185711860657, 0.768501341342926, 0.09176135808229446, 0.2604386806488037, 0.2807326018810272, 0.2198508381843567, 0.23338012397289276, 0.9675276279449463, 0.7949522733688354, 0.20397527515888214, 0.22840119898319244, 0.7486484050750732, 0.8139857053756714, 0.17616108059883118, 0.9953590631484985, 0.9911181330680847, 0.9850437045097351, 0.48767393827438354, 0.5057359337806702, 0.9963127970695496, 0.05039545148611069, 0.634982705116272, 0.11086999624967575, 0.19150272011756897, 0.9411405324935913, 0.05377946048974991, 0.9826095700263977, 0.9474325776100159, 0.6402822732925415, 0.29418376088142395, 0.06345139443874359, 0.9641520977020264, 0.13972891867160797, 0.8383735418319702, 0.9763723611831665, 0.985409677028656, 0.9820663332939148, 0.08993981033563614, 0.39049816131591797, 0.05123153701424599, 0.0375697948038578, 0.04895457997918129, 0.09107828885316849, 0.030738921836018562, 0.2595731019973755, 0.0011384785175323486, 0.17940065264701843, 0.2178436517715454, 0.29472965002059937, 0.3011368215084076, 0.006407166365534067, 0.6970295906066895, 0.2927524447441101, 0.9548368453979492, 0.030838072299957275, 0.21586650609970093, 0.7401137351989746, 0.4030025601387024, 0.5910704135894775, 0.9786971807479858, 0.9776061773300171, 0.9589831829071045, 0.40061962604522705, 0.5970773100852966, 0.04785468056797981, 0.9511117935180664, 0.9834991097450256, 0.7708181738853455, 0.20646914839744568, 0.9645503163337708, 0.987460732460022, 0.9921674728393555, 0.987074077129364, 0.9829598069190979, 0.9751811027526855, 0.10757455229759216, 0.09960606694221497, 0.7928643226623535, 0.3380081355571747, 0.03271046653389931, 0.22897325456142426, 0.03816220909357071, 0.32165291905403137, 0.029984593391418457, 0.008177616633474827, 0.9521929621696472, 0.9740243554115295, 0.9588373303413391, 0.9678682684898376, 0.6106842160224915, 0.049759455025196075, 0.06333021819591522, 0.1990378201007843, 0.07237739115953445, 0.9865791201591492, 0.957442045211792, 0.2285737544298172, 0.7480595111846924, 0.9895101189613342, 0.9668006300926208, 0.9374769926071167, 0.04736698046326637, 0.8762891292572021, 0.05920872464776039, 0.8436497449874878, 0.1435999572277069, 0.8965811729431152, 0.006358731538057327, 0.09538097679615021, 0.9940289855003357, 0.9765498638153076, 0.9736887216567993, 0.9919713735580444, 0.9706524610519409, 0.011559299193322659, 0.33521968126296997, 0.2658638656139374, 0.3698975741863251, 0.9723199605941772, 0.00927012786269188, 0.9826335906982422, 0.9922978281974792, 0.9289740920066833, 0.9782851934432983, 0.9549698233604431, 0.9952526092529297, 0.9674651026725769, 0.9855185151100159, 0.9805915951728821, 0.991182804107666, 0.2104901224374771, 0.18944111466407776, 0.5893723368644714, 0.15116123855113983, 0.4383675754070282, 0.3930192291736603, 0.4744977653026581, 0.4744977653026581, 0.4835425317287445, 0.5128481388092041, 0.19995203614234924, 0.7975864410400391, 0.2049279510974884, 0.7855571508407593, 0.978484570980072, 0.09342531114816666, 0.8875404596328735, 0.0986253097653389, 0.184922456741333, 0.4992906153202057, 0.0924612283706665, 0.11711755394935608, 0.07703317701816559, 0.06877961754798889, 0.45944786071777344, 0.06052606552839279, 0.008253553882241249, 0.22834832966327667, 0.09354028105735779, 0.9754015803337097, 0.05018601939082146, 0.47318246960639954, 0.38714927434921265, 0.0860331729054451, 0.9749142527580261, 0.9576454162597656, 0.9645560383796692, 0.9229280352592468, 0.2048167735338211, 0.7851309776306152, 0.09224873036146164, 0.9040375351905823, 0.18945497274398804, 0.8051836490631104, 0.974007785320282, 0.9842491745948792, 0.979088306427002, 0.41528698801994324, 0.02162953093647957, 0.5580419301986694, 0.7778401970863342, 0.15739287436008453, 0.06272904574871063, 0.9896946549415588, 0.04624629393219948, 0.8632641434669495, 0.07707715779542923, 0.9643505215644836, 0.9860050082206726, 0.9575183391571045, 0.43042513728141785, 0.5534037351608276, 0.9067621827125549, 0.07884888350963593, 0.9855625629425049, 0.3177420198917389, 0.06110423058271408, 0.24441692233085632, 0.3788462281227112, 0.9279060363769531, 0.9678390026092529, 0.8885654211044312, 0.8656411170959473, 0.22954577207565308, 0.3338847756385803, 0.0034779661800712347, 0.3651864528656006, 0.048691526055336, 0.017389832064509392, 0.6994366645812988, 0.2720031440258026, 0.0194287970662117, 0.9744111895561218, 0.9702672362327576, 0.9758075475692749, 0.6782706379890442, 0.24223951995372772, 0.9705374836921692, 0.00875470694154501, 0.9805272221565247, 0.9835392236709595, 0.9626133441925049, 0.015008347108960152, 0.8554757833480835, 0.06003338843584061, 0.07003895193338394, 0.9776550531387329, 0.9606321454048157, 0.9731206893920898, 0.9673589468002319, 0.9836173057556152, 0.9196924567222595, 0.08004738390445709, 0.37587469816207886, 0.2784256935119629, 0.059165459126234055, 0.08004738390445709, 0.048724494874477386, 0.07308674603700638, 0.010440963320434093, 0.9510958194732666, 0.9741238355636597, 0.9724220633506775, 0.9729793071746826, 0.9378222823143005, 0.19673678278923035, 0.3372630476951599, 0.4590524733066559, 0.9692879319190979, 0.9835835695266724, 0.9903658628463745, 0.9902469515800476, 0.9805172681808472, 0.9645576477050781, 0.04711257293820381, 0.12955957651138306, 0.8126919269561768, 0.21591496467590332, 0.24830220639705658, 0.5181959271430969, 0.23257045447826385, 0.6977113485336304, 0.9776214957237244, 0.9840145707130432, 0.9681012034416199, 0.13433794677257538, 0.8607579469680786, 0.4121535122394562, 0.5734309554100037, 0.9828919768333435, 0.9745016098022461, 0.9760737419128418, 0.9956036806106567, 0.9835240244865417, 0.9765824675559998, 0.9831650853157043, 0.17530743777751923, 0.16608074307441711, 0.2860279381275177, 0.009226707741618156, 0.35984158515930176, 0.9587203860282898, 0.03663899376988411, 0.9694413542747498, 0.9572803378105164, 0.4052593410015106, 0.22223900258541107, 0.3529678285121918, 0.9310441017150879, 0.9674251675605774, 0.9932058453559875, 0.05931511148810387, 0.15570217370986938, 0.2595036029815674, 0.5227144360542297, 0.9752734899520874, 0.7736669182777405, 0.011131898500025272, 0.2059401124715805, 0.19154240190982819, 0.7661696076393127, 0.8201544284820557, 0.16403089463710785, 0.961297333240509, 0.026952261105179787, 0.9834669828414917, 0.9859015941619873, 0.9796923995018005, 0.993779182434082, 0.0028475048020482063, 0.4543904960155487, 0.5193034410476685, 0.9895570874214172, 0.39471590518951416, 0.5180646181106567, 0.06167436018586159, 0.9382427930831909, 0.02777129039168358, 0.06479968130588531, 0.8670814037322998, 0.03702838718891144, 0.9608266353607178, 0.9796203374862671, 0.978786289691925, 0.9814901947975159, 0.9720470905303955, 0.968640148639679, 0.3565285801887512, 0.24118110537528992, 0.06291680783033371, 0.05243067443370819, 0.283125638961792, 0.9777789115905762, 0.9932709336280823, 0.8782320618629456, 0.014165033586323261, 0.0991552323102951, 0.9414098262786865, 0.06570795923471451, 0.09199114143848419, 0.8279202580451965, 0.951931893825531, 0.44477924704551697, 0.5083191394805908, 0.03932270407676697, 0.9516094923019409, 0.972170889377594, 0.9544401168823242, 0.9676001667976379, 0.09333312511444092, 0.3674991726875305, 0.14583300054073334, 0.017499960958957672, 0.13416635990142822, 0.2449994534254074, 0.9804721474647522, 0.9442550539970398, 0.9743025898933411, 0.025395525619387627, 0.7821822166442871, 0.1472940593957901, 0.04063284397125244, 0.9600999355316162, 0.051143959164619446, 0.9376392364501953, 0.9770765900611877, 0.986496090888977, 0.9693713784217834, 0.15939809381961823, 0.2711837589740753, 0.2629033625125885, 0.002070105168968439, 0.18216924369335175, 0.03726189211010933, 0.002070105168968439, 0.07866399735212326, 0.9694626927375793, 0.9796441793441772, 0.42856860160827637, 0.5291510224342346, 0.017492596060037613, 0.017492596060037613, 0.41793709993362427, 0.5516769886016846, 0.9902055859565735, 0.9420496821403503, 0.9954404830932617, 0.9899629354476929, 0.9912832379341125, 0.9669208526611328, 0.30686503648757935, 0.2301487773656845, 0.005114417523145676, 0.23526319861412048, 0.21991994976997375, 0.9759652614593506, 0.9885535836219788, 0.979909360408783, 0.9882526993751526, 0.9737372398376465, 0.9842543601989746, 0.9819008111953735, 0.9751257300376892, 0.9917385578155518, 0.9889574646949768, 0.9748480916023254, 0.5555428266525269, 0.43817463517189026, 0.9871063232421875, 0.2447010725736618, 0.7493970394134521, 0.22897379100322723, 0.010903513990342617, 0.07632459700107574, 0.1253904104232788, 0.4361405372619629, 0.04361405596137047, 0.07087283581495285, 0.1361614167690277, 0.64812833070755, 0.04901811107993126, 0.003630971070379019, 0.01815485581755638, 0.021785827353596687, 0.08895879238843918, 0.03086325339972973, 0.9662535786628723, 0.9906868934631348, 0.9799585342407227, 0.9911342859268188, 0.9717826247215271, 0.612992525100708, 0.3737759292125702, 0.5943721532821655, 0.15160098671913147, 0.05053366348147392, 0.06256549060344696, 0.07700367271900177, 0.06256549060344696, 0.16189990937709808, 0.8094995617866516, 0.9664512872695923, 0.98766028881073, 0.26461613178253174, 0.4508274793624878, 0.2793170213699341, 0.41622474789619446, 0.5753694772720337, 0.990529477596283, 0.07242776453495026, 0.9234539866447449, 0.9683763980865479, 0.212221160531044, 0.7730913758277893], \"Term\": [\"2016\", \"2019\", \"2019\", \"2019\", \"acil\", \"acil\", \"acil\", \"adalet\", \"aday\", \"aday\", \"aday\\u0131\", \"adet\", \"adliye\", \"adliye\", \"adliyeye\", \"adliyeye\", \"adliyeye\", \"adrese\", \"ahmet\", \"ahmet\", \"aile\", \"aile\", \"aile\", \"aile\", \"aile\", \"ailesi\", \"ailesi\", \"ailesine\", \"ailesinin\", \"akar\", \"akdeniz\", \"ak\\u015fam\", \"ak\\u015fam\", \"alan\", \"alan\", \"alan\", \"alan\", \"alan\", \"alan\", \"alan\", \"ald\\u0131\", \"ald\\u0131\", \"ald\\u0131\", \"ald\\u0131\", \"ald\\u0131\", \"allah\", \"allah\", \"almaya\", \"almaya\", \"altun\", \"altyap\\u0131\", \"altyap\\u0131\", \"alt\\u0131n\", \"al\\u0131nan\", \"al\\u0131nan\", \"al\\u0131nan\", \"al\\u0131nd\\u0131\", \"al\\u0131nd\\u0131\", \"al\\u0131nd\\u0131\", \"al\\u0131nd\\u0131\\u011f\\u0131\", \"al\\u0131nm\\u0131\\u015ft\\u0131\", \"al\\u0131p\", \"al\\u0131p\", \"al\\u0131yor\", \"ambulans\", \"ambulansla\", \"ambulansla\", \"amerika\", \"amirli\\u011fi\", \"anadolu\", \"anadolu\", \"ankara\", \"ankara\", \"ankara\", \"anne\", \"araca\", \"arac\\u0131n\", \"arad\\u0131\", \"aralar\\u0131nda\", \"arama\", \"arama\", \"aras\\u0131\", \"aras\\u0131ndan\", \"aras\\u0131ndan\", \"araya\", \"araya\", \"araya\", \"ara\\u00e7\", \"ara\\u00e7\", \"ara\\u00e7la\", \"ara\\u00e7ta\", \"ara\\u00e7tan\", \"ara\\u015ft\\u0131rma\", \"ara\\u015ft\\u0131rma\", \"ard\\u0131ndan\", \"ard\\u0131ndan\", \"ard\\u0131ndan\", \"ard\\u0131ndan\", \"ard\\u0131ndan\", \"ard\\u0131ndan\", \"ard\\u0131ndan\", \"arkada\\u015f\\u0131\", \"arkas\\u0131nda\", \"asayi\\u015f\", \"askeri\", \"askeri\", \"asla\", \"asla\", \"astsubay\", \"as\\u0131l\", \"as\\u0131l\", \"ate\\u015f\", \"avukatlar\\u0131\", \"avukat\\u0131\", \"ayd\\u0131r\", \"ayk\\u0131r\\u0131\", \"ayl\\u0131k\", \"ayn\\u0131\", \"ayn\\u0131\", \"ayn\\u0131\", \"ayn\\u0131\", \"ayn\\u0131\", \"ayn\\u0131\", \"ayn\\u0131\", \"ayn\\u0131\", \"a\\u00e7t\\u0131\", \"a\\u00e7\\u0131klama\", \"a\\u00e7\\u0131klama\", \"a\\u00e7\\u0131klamada\", \"a\\u00e7\\u0131klamada\", \"a\\u00e7\\u0131ld\\u0131\", \"a\\u00e7\\u0131s\\u0131ndan\", \"a\\u00e7\\u0131s\\u0131ndan\", \"a\\u011f\\u0131r\", \"a\\u011f\\u0131r\", \"a\\u011f\\u0131r\", \"a\\u011f\\u0131rla\\u015ft\\u0131r\\u0131lm\\u0131\\u015f\", \"a\\u015fa\\u011f\\u0131\", \"baba\", \"baba\", \"bakan\", \"bakan\", \"bakan\", \"bakan\\u0131\", \"bakan\\u0131\", \"bakan\\u0131\", \"bar\\u0131\\u015f\", \"bask\\u0131n\", \"bas\\u0131n\", \"bas\\u0131n\", \"bat\\u0131\", \"ba\\u011fl\\u0131\", \"ba\\u011fl\\u0131\", \"ba\\u011fl\\u0131\", \"ba\\u015fka\", \"ba\\u015fka\", \"ba\\u015fka\", \"ba\\u015fka\", \"ba\\u015fka\", \"ba\\u015fka\", \"ba\\u015fkan\", \"ba\\u015fkan\", \"ba\\u015fkanlar\\u0131\", \"ba\\u015fkanl\\u0131\\u011f\\u0131\", \"ba\\u015fkanl\\u0131\\u011f\\u0131\", \"ba\\u015fkanl\\u0131\\u011f\\u0131\", \"ba\\u015fkanl\\u0131\\u011f\\u0131\", \"ba\\u015fkan\\u0131\", \"ba\\u015fkan\\u0131\", \"ba\\u015fkan\\u0131\", \"ba\\u015fkan\\u0131\", \"ba\\u015fkan\\u0131\", \"ba\\u015fkan\\u0131\", \"ba\\u015fkan\\u0131n\\u0131n\", \"ba\\u015flad\\u0131\\u011f\\u0131\", \"ba\\u015flayan\", \"ba\\u015flayan\", \"ba\\u015fsavc\\u0131l\\u0131\\u011f\\u0131\", \"ba\\u015fsavc\\u0131l\\u0131\\u011f\\u0131nca\", \"ba\\u015f\\u0131na\", \"ba\\u015f\\u0131na\", \"ba\\u015f\\u0131na\", \"bebek\", \"bedeni\", \"belediye\", \"belediye\", \"belirledi\", \"belirledi\", \"belirlenmesi\", \"belirlenmesi\", \"belirten\", \"belirten\", \"belirten\", \"belirten\", \"belirtildi\", \"belirtildi\", \"belirtildi\", \"belirtildi\", \"beraber\", \"beraber\", \"beraber\", \"bildirildi\", \"bildirildi\", \"bildirildi\", \"bilgisi\", \"bilgisi\", \"bilgiye\", \"bilgiye\", \"bilgiye\", \"bilinmeyen\", \"biliyoruz\", \"binali\", \"binan\\u0131n\", \"birbirine\", \"birden\", \"birisi\", \"birisi\", \"birlikte\", \"birlikte\", \"birlikte\", \"birlikte\", \"birlikte\", \"birlikte\", \"birlikte\", \"birtak\\u0131m\", \"bizler\", \"boyu\", \"bug\\u00fcn\", \"bug\\u00fcn\", \"bug\\u00fcn\", \"bug\\u00fcn\", \"bug\\u00fcn\", \"bug\\u00fcn\", \"bug\\u00fcn\", \"bulan\", \"bulunan\", \"bulunan\", \"bulunan\", \"bulunan\", \"bulunan\", \"bulunan\", \"bulundu\", \"bulundu\", \"bulundu\", \"bulundu\", \"bulundu\", \"bulundu\", \"bulundu\", \"bulundu\", \"bulunmad\\u0131\\u011f\\u0131n\\u0131\", \"bulunmas\\u0131\", \"buradaki\", \"buraya\", \"buraya\", \"bylock\", \"b\\u00f6lgede\", \"b\\u00f6l\\u00fcc\\u00fc\", \"b\\u00f6l\\u00fcc\\u00fc\", \"b\\u00fcro\", \"b\\u00fct\\u00fcn\", \"b\\u00fct\\u00fcn\", \"b\\u00fct\\u00fcn\", \"b\\u00fcy\\u00fck\", \"b\\u00fcy\\u00fck\", \"b\\u00fcy\\u00fck\", \"b\\u00fcy\\u00fck\", \"b\\u00fcy\\u00fck\", \"b\\u00fcy\\u00fck\", \"b\\u00fcy\\u00fck\\u00e7ekmece\", \"b\\u00fcy\\u00fck\\u015fehir\", \"b\\u00fcy\\u00fck\\u015fehir\", \"b\\u00fcy\\u00fck\\u015fehir\", \"b\\u0131rakt\\u0131\", \"b\\u0131rak\\u0131ld\\u0131\", \"b\\u0131\\u00e7ak\", \"caddesi\", \"camisi\", \"cenazesi\", \"cenazesi\", \"cesedi\", \"cevap\", \"ceza\", \"ceza\", \"cezaevi\", \"cezas\\u0131\", \"cezas\\u0131\", \"cezas\\u0131na\", \"cinayet\", \"cinsel\", \"cuma\", \"cumhur\", \"cumhuriyet\", \"cumhuriyet\", \"cumhuriyet\", \"cumhuriyet\", \"cumhuriyeti\", \"cumhuriyeti\", \"daki\", \"daki\", \"daki\", \"daki\", \"daki\", \"daki\", \"darp\", \"dava\", \"davada\", \"dea\\u015f\", \"dedi\", \"dedi\", \"dedi\", \"dedi\", \"dedi\", \"dedi\", \"dedi\", \"dedi\", \"dediler\", \"dedim\", \"delil\", \"demokrasi\", \"demokrasi\", \"demokratik\", \"denildi\", \"deniz\", \"deprem\", \"derne\\u011fi\", \"dersi\", \"devam\", \"devam\", \"devam\", \"devam\", \"devam\", \"devam\", \"devam\", \"devam\\u0131na\", \"devlet\", \"devlet\", \"devlet\", \"devleti\", \"devleti\", \"dile\", \"dile\", \"dile\", \"dile\", \"dini\", \"diyarbak\\u0131r\", \"diyarbak\\u0131r\", \"diyor\", \"diyor\", \"diyor\", \"do\\u011fal\", \"do\\u011fan\", \"do\\u011fru\", \"do\\u011fru\", \"do\\u011fru\", \"do\\u011frultusunda\", \"do\\u011frultusunda\", \"durumu\", \"durumu\", \"duru\\u015fma\", \"duru\\u015fmada\", \"duru\\u015fmas\\u0131na\", \"duru\\u015fmaya\", \"duru\\u015fmay\\u0131\", \"duyan\", \"d\\u00f6nemin\", \"d\\u00f6nemin\", \"d\\u00f6nen\", \"d\\u00fcnya\", \"d\\u00fcnya\", \"d\\u00fc\\u015ft\\u00fc\\u011f\\u00fc\", \"d\\u0131\\u015f\\u0131\", \"d\\u0131\\u015f\\u0131\", \"edece\\u011fi\", \"edece\\u011fi\", \"edece\\u011fiz\", \"edildi\", \"edildi\", \"edildi\", \"edildi\", \"edildi\", \"edildi\", \"edilen\", \"edilen\", \"edilen\", \"edilen\", \"edilen\", \"edilen\", \"edilirken\", \"edilmi\\u015ftir\", \"edin\", \"edinilen\", \"edinilen\", \"edinilen\", \"ediyor\", \"ediyor\", \"ediyor\", \"ediyor\", \"ekibi\", \"ekip\", \"ekipler\", \"ekipleri\", \"ekipleri\", \"ekipleri\", \"ekipleri\", \"ekiplerince\", \"ekiplerince\", \"ekiplerine\", \"ekiplerine\", \"ekonomik\", \"ekrem\", \"eksik\", \"elbette\", \"emniyet\", \"emniyet\", \"emniyete\", \"emniyetteki\", \"erdo\\u011fan\", \"erkek\", \"erken\", \"erteledi\", \"eski\", \"eski\", \"esnas\\u0131nda\", \"esrar\", \"etkisiz\", \"etti\", \"etti\", \"etti\", \"etti\", \"etti\", \"etti\", \"etti\", \"etti\", \"etti\", \"etti\", \"ettik\", \"ettik\", \"ettim\", \"evde\", \"evde\", \"evine\", \"evine\", \"evine\", \"eylem\", \"e\\u011fitim\", \"e\\u011fitim\", \"e\\u015fit\", \"e\\u015flik\", \"fak\\u00fcltesi\", \"farkla\", \"fatih\", \"fatih\", \"fazla\", \"fet\\u00f6\", \"fet\\u00f6\", \"firari\", \"gasp\", \"gazi\", \"gaziantep\", \"gece\", \"geldi\", \"geldi\", \"geldi\", \"geldi\", \"geldi\", \"geldi\", \"geldi\", \"geldi\", \"geldi\\u011fi\", \"geldi\\u011fi\", \"geldi\\u011fi\", \"geldi\\u011fi\", \"gelen\", \"gelen\", \"gelen\", \"gelen\", \"gelen\", \"gelen\", \"gelen\", \"gelen\", \"gelin\", \"geliyor\", \"gelmi\\u015f\", \"genel\", \"genel\", \"genel\", \"genel\", \"genel\", \"genel\", \"gen\\u00e7\", \"gen\\u00e7\", \"gerekir\", \"gerekiyor\", \"gerekti\\u011fini\", \"gerek\\u00e7e\", \"ger\\u00e7ekle\\u015fen\", \"ger\\u00e7ekle\\u015fen\", \"ger\\u00e7ekle\\u015ftirilen\", \"ger\\u00e7ekle\\u015ftirilen\", \"ger\\u00e7ekle\\u015ftirilen\", \"ge\\u00e7en\", \"ge\\u00e7en\", \"ge\\u00e7en\", \"ge\\u00e7en\", \"ge\\u00e7irdi\\u011fi\", \"ge\\u00e7irildi\", \"ge\\u00e7ti\\u011fimiz\", \"ge\\u00e7ti\\u011fimiz\", \"gidiyor\", \"girerek\", \"giri\\u015f\", \"gitti\\u011fini\", \"gram\", \"grubu\", \"g\\u00f6n\\u00fcl\", \"g\\u00f6rev\", \"g\\u00f6reve\", \"g\\u00f6revlileri\", \"g\\u00f6revlisi\", \"g\\u00f6revlisi\", \"g\\u00f6revlisi\", \"g\\u00f6r\\u00fclen\", \"g\\u00f6r\\u00fcl\\u00fcyor\", \"g\\u00f6r\\u00fcnt\\u00fcler\", \"g\\u00f6r\\u00fcnt\\u00fcler\", \"g\\u00f6r\\u00fcnt\\u00fclerde\", \"g\\u00f6steren\", \"g\\u00f6t\\u00fcr\\u00fcld\\u00fc\", \"g\\u00f6zalt\\u0131\", \"g\\u00f6zalt\\u0131na\", \"g\\u00f6zalt\\u0131na\", \"g\\u00f6zalt\\u0131na\", \"g\\u00fcler\", \"g\\u00fcnden\", \"g\\u00fcnd\\u00fcr\", \"g\\u00fcneydo\\u011fu\", \"g\\u00fcneydo\\u011fu\", \"g\\u00fcnlerde\", \"g\\u00fcnlerde\", \"g\\u00fcn\\u00fc\", \"g\\u00fcn\\u00fc\", \"g\\u00fcn\\u00fc\", \"g\\u00fcn\\u00fc\", \"g\\u00fcn\\u00fc\", \"g\\u00fcn\\u00fc\", \"g\\u00fcn\\u00fc\", \"g\\u00fcven\", \"g\\u00fcvenlik\", \"g\\u00fcvenlik\", \"g\\u00fcvenlik\", \"g\\u00fcvenlik\", \"g\\u00fcvenli\\u011fi\", \"g\\u00fczel\", \"g\\u00fczel\", \"g\\u00fczel\", \"g\\u00fczel\", \"g\\u00fc\\u00e7l\\u00fc\", \"g\\u00fc\\u00e7l\\u00fc\", \"hafif\", \"hafta\", \"hafta\", \"hafta\", \"hakan\", \"hakim\", \"hakim\", \"hakk\\u0131\", \"hakk\\u0131nda\", \"hakk\\u0131nda\", \"hakk\\u0131nda\", \"hakk\\u0131nda\", \"hakk\\u0131nda\", \"hakk\\u0131ndaki\", \"hakk\\u0131n\\u0131\", \"hakk\\u0131n\\u0131\", \"hala\", \"halde\", \"halde\", \"halde\", \"hale\", \"hale\", \"hale\", \"halinin\", \"halk\\u0131\", \"halk\\u0131n\", \"hapis\", \"harekete\", \"harekete\", \"harekete\", \"hareketsiz\", \"hastanede\", \"hastanesi\", \"hastaneye\", \"hastaneye\", \"hava\", \"hayat\\u0131\", \"hayat\\u0131n\\u0131\", \"hayat\\u0131n\\u0131\", \"hayat\\u0131n\\u0131\", \"haz\\u0131rlanan\", \"haz\\u0131rlanan\", \"hepimizin\", \"hepsini\", \"hesab\\u0131ndan\", \"heyeti\", \"heyeti\", \"hizmet\", \"hizmet\", \"hizmet\", \"hizmete\", \"hizmetler\", \"hukuk\", \"hukuki\", \"husumet\", \"huzur\", \"huzur\", \"h\\u00fcseyin\", \"h\\u0131rs\\u0131zl\\u0131k\", \"icra\", \"idare\", \"idareler\", \"iddia\", \"iddia\", \"iddianamede\", \"iddianamede\", \"ifade\", \"ifade\", \"ifade\", \"ifade\", \"ifade\", \"ifade\", \"ifadelerini\", \"ifadelerini\", \"ifadelerini\", \"ifadelerini\", \"ifadesi\", \"ifadesi\", \"ifadesinde\", \"ifadesini\", \"ifadesini\", \"ihra\\u00e7\", \"ikna\", \"ilde\", \"ilde\", \"ilde\", \"ileti\\u015fim\", \"ileti\\u015fim\", \"ili\\u015fkin\", \"ili\\u015fkin\", \"ili\\u015fkin\", \"ili\\u015fkin\", \"ili\\u015fkin\", \"il\\u00e7e\", \"il\\u00e7e\", \"il\\u00e7e\", \"il\\u00e7e\", \"il\\u00e7ede\", \"il\\u00e7ede\", \"il\\u00e7elerinde\", \"il\\u00e7enin\", \"il\\u00e7esi\", \"il\\u00e7esi\", \"il\\u00e7esi\", \"il\\u00e7esine\", \"imam\", \"imamo\\u011flu\", \"incelemede\", \"incelemelerde\", \"inci\", \"insan\", \"insanlar\", \"insanlar\\u0131n\", \"internet\", \"intihar\", \"isabet\", \"islam\", \"ismail\", \"ismi\", \"istanbul\", \"istanbul\", \"istanbul\", \"istanbul\", \"istanbul\", \"istedi\", \"istedi\", \"istedi\", \"istedi\", \"istedi\", \"istendi\", \"istiklal\", \"istismar\", \"istismar\", \"istiyorum\", \"istiyorum\", \"istiyorum\", \"istiyorum\", \"itfaiye\", \"itiraf\", \"itiraf\", \"ittifak\\u0131\", \"izmir\", \"izmir\", \"izmir\", \"izmir\", \"i\\u00e7eri\", \"i\\u00e7eri\", \"i\\u00e7inde\", \"i\\u00e7inde\", \"i\\u00e7inde\", \"i\\u00e7inde\", \"i\\u00e7inde\", \"i\\u00e7inde\", \"i\\u00e7inde\", \"i\\u00e7i\\u015fleri\", \"i\\u015faret\", \"i\\u015fin\", \"i\\u015flemi\", \"i\\u015flemleri\", \"i\\u015flemlerinin\", \"i\\u015flemlerinin\", \"jandarma\", \"kabul\", \"kabul\", \"kabul\", \"kabul\", \"kabul\", \"kabul\", \"kad\\u0131k\\u00f6y\", \"kad\\u0131n\", \"kad\\u0131n\", \"kad\\u0131na\", \"kad\\u0131nlar\\u0131n\", \"kad\\u0131n\\u0131\", \"kad\\u0131n\\u0131n\", \"kad\\u0131n\\u0131n\", \"kald\\u0131r\\u0131lan\", \"kald\\u0131r\\u0131lan\", \"kald\\u0131r\\u0131ld\\u0131\", \"kameras\\u0131na\", \"kamu\", \"kamu\", \"kanun\", \"kanunu\", \"kanunu\", \"kapat\\u0131lan\", \"kapsam\\u0131nda\", \"kapsam\\u0131nda\", \"kapsam\\u0131nda\", \"kapsam\\u0131nda\", \"kap\\u0131\", \"kara\", \"karadeniz\", \"karar\", \"karar\", \"karar\", \"karar\\u0131\", \"karar\\u0131\", \"karar\\u0131\", \"kar\\u015f\\u0131\", \"kar\\u015f\\u0131\", \"kar\\u015f\\u0131\", \"kar\\u015f\\u0131\", \"kar\\u015f\\u0131\", \"kar\\u015f\\u0131\", \"kar\\u015f\\u0131\", \"kar\\u015f\\u0131\", \"kar\\u015f\\u0131\", \"kar\\u015f\\u0131ya\", \"kar\\u015f\\u0131ya\", \"kasten\", \"kat\\u0131ld\\u0131\", \"kat\\u0131ld\\u0131\", \"kat\\u0131ld\\u0131\", \"kat\\u0131ld\\u0131\", \"kat\\u0131ld\\u0131\", \"kavgaya\", \"kaybeden\", \"kaybeden\", \"kaydeden\", \"kaydedildi\", \"kayd\\u0131\", \"kayseri\", \"kay\\u0131p\", \"kay\\u0131p\", \"kay\\u0131tl\\u0131\", \"kaza\", \"kazada\", \"kazan\\u0131n\", \"ka\\u00e7ak\\u00e7\\u0131l\\u0131k\", \"ka\\u00e7an\", \"ka\\u00e7t\\u0131\", \"kemal\", \"kemal\", \"kent\", \"kent\", \"kesinle\\u015fmi\\u015f\", \"kilometre\", \"ki\\u015fi\", \"ki\\u015fi\", \"ki\\u015fi\", \"ki\\u015fi\", \"ki\\u015fi\", \"ki\\u015fi\", \"ki\\u015fi\", \"ki\\u015fiden\", \"ki\\u015filerin\", \"ki\\u015filerin\", \"ki\\u015filerin\", \"ki\\u015fiye\", \"komutan\\u0131\", \"konu\", \"konu\", \"konuk\", \"konuldu\", \"konusu\", \"konusu\", \"konusu\", \"konuyla\", \"konu\\u015ftu\", \"konu\\u015ftu\", \"konu\\u015ftu\", \"konu\\u015ftu\", \"konya\", \"konya\", \"koruma\", \"koyarak\", \"kulland\\u0131\", \"kulland\\u0131\", \"kulland\\u0131\", \"kulland\\u0131\", \"kulland\\u0131\", \"kulland\\u0131\", \"kullan\\u0131lan\", \"kullan\\u0131lan\", \"kurtar\\u0131lamad\\u0131\", \"kurulan\", \"kurulu\", \"kurulu\", \"kurulunun\", \"kurum\", \"kuvvetleri\", \"kuzeyinde\", \"k\\u00f6t\\u00fc\", \"k\\u00f6t\\u00fc\", \"k\\u00f6y\\u00fc\", \"k\\u00fcrdistan\", \"k\\u00fcrt\", \"k\\u0131l\\u0131\\u00e7daro\\u011flu\", \"k\\u0131l\\u0131\\u00e7daro\\u011flu\", \"k\\u0131rm\\u0131z\\u0131\", \"k\\u0131sa\", \"k\\u0131sa\", \"k\\u0131sa\", \"k\\u0131sm\\u0131\", \"k\\u0131z\\u0131\", \"k\\u0131z\\u0131n\\u0131n\", \"lideri\", \"lideri\", \"lideri\", \"lira\", \"lira\", \"maalesef\", \"madde\", \"maddi\", \"maddi\", \"mahallesi\", \"mahallesi\", \"mahallesi\", \"mahallesi\", \"mahalli\", \"mahkeme\", \"mahkeme\", \"mahkemece\", \"mahkemece\", \"mahkemesi\", \"mahkemesinde\", \"mahrem\", \"maltepe\", \"marmara\", \"mart\", \"mart\", \"mart\", \"mart\", \"mart\", \"mart\", \"mart\", \"mart\", \"ma\\u00e7\\u0131\", \"ma\\u011fdur\", \"ma\\u011fdur\", \"meclis\", \"meclis\", \"medya\", \"mehmet\", \"mehmet\", \"mehmet\", \"mehmet\", \"mensuplar\\u0131na\", \"merkezi\", \"merkezi\", \"merkezi\", \"merkezi\", \"merkezinde\", \"mersin\", \"mersin\", \"meslek\", \"metin\", \"metre\", \"meydana\", \"meydana\", \"meydana\", \"millet\", \"millet\", \"millet\", \"millete\", \"milletimizin\", \"milletvekili\", \"milletvekili\", \"milli\", \"milli\", \"milli\", \"muhammet\", \"mustafa\", \"mustafa\", \"mustafa\", \"mustafa\", \"mutlu\", \"m\\u00fccadele\", \"m\\u00fccadele\", \"m\\u00fccadele\", \"m\\u00fcdahale\", \"m\\u00fcd\\u00fcr\", \"m\\u00fcd\\u00fcrl\\u00fc\\u011f\\u00fc\", \"m\\u00fcd\\u00fcrl\\u00fc\\u011f\\u00fc\", \"m\\u00fcd\\u00fcrl\\u00fc\\u011f\\u00fcne\", \"m\\u00fcebbet\", \"m\\u00fcmk\\u00fcn\", \"namaz\\u0131\", \"ndan\", \"ndan\", \"nedeni\", \"nefes\", \"nefes\", \"nisan\", \"nisan\", \"n\\u00f6bet\\u00e7i\", \"olacak\", \"olacak\", \"olacak\", \"olacak\", \"olaca\\u011f\\u0131\", \"olaca\\u011f\\u0131z\", \"olaca\\u011f\\u0131z\", \"olay\", \"olay\", \"olay\", \"olayla\", \"olayla\", \"olay\\u0131n\", \"olay\\u0131n\", \"oldu\", \"oldu\", \"oldu\", \"oldu\", \"oldu\", \"olduklar\\u0131\", \"olduklar\\u0131\", \"olduklar\\u0131\", \"oldu\\u011fumuz\", \"oldu\\u011funa\", \"oldu\\u011funa\", \"olmadan\", \"olmadan\", \"olmamas\\u0131\", \"olmamas\\u0131\", \"olmas\\u0131n\", \"olmas\\u0131n\\u0131\", \"olmaz\", \"olmaz\", \"olmu\\u015ftur\", \"oluyor\", \"onlara\", \"onlara\", \"operasyon\", \"operasyonda\", \"orada\", \"oraya\", \"ordu\", \"organize\", \"organize\", \"organize\", \"orta\", \"ortada\", \"ortadan\", \"ortadan\", \"ortak\", \"ortak\", \"ortaya\", \"ortaya\", \"ortaya\", \"ortaya\", \"ortaya\", \"ortaya\", \"osman\", \"osman\", \"osmangazi\", \"otomobil\", \"otomobilin\", \"otopsi\", \"oylar\", \"o\\u011flu\", \"park\\u0131\", \"parti\", \"parti\", \"partilerin\", \"partili\", \"partisi\", \"partisi\", \"partisi\", \"payla\\u015ft\\u0131\", \"payla\\u015ft\\u0131\", \"payla\\u015f\\u0131mda\", \"pazar\", \"personel\", \"plakal\\u0131\", \"polis\", \"polis\", \"polis\", \"polise\", \"polisi\", \"prof\", \"prof\", \"recep\", \"recep\", \"resmi\", \"resmi\", \"resmi\", \"saadet\", \"saat\", \"saat\", \"saatlerinde\", \"saatlerinde\", \"saatlerinde\", \"saatlerinde\", \"saatte\", \"sabah\", \"sabah\", \"sabah\", \"sabah\", \"sahil\", \"sahip\", \"sahip\", \"sahip\", \"sahip\", \"sahte\", \"sakarya\", \"sakinleri\", \"sald\\u0131r\\u0131\", \"sald\\u0131r\\u0131s\\u0131na\", \"salonu\", \"sana\", \"sand\\u0131k\", \"sand\\u0131kta\", \"sand\\u0131kta\", \"san\\u0131k\", \"san\\u0131k\", \"san\\u0131klar\\u0131n\", \"san\\u0131\\u011fa\", \"san\\u0131\\u011f\\u0131n\", \"san\\u0131\\u011f\\u0131n\", \"sava\\u015f\", \"savc\\u0131\", \"savc\\u0131\", \"savc\\u0131\", \"savc\\u0131lar\", \"savc\\u0131s\\u0131\", \"savunma\", \"savunma\", \"savunma\", \"say\\u0131l\\u0131\", \"say\\u0131l\\u0131\", \"say\\u0131m\", \"say\\u0131n\", \"say\\u0131s\\u0131n\\u0131n\", \"sa\\u011fl\\u0131k\", \"sa\\u011fl\\u0131k\", \"sel\\u00e7uk\", \"serbest\", \"serbest\", \"serbest\", \"sevk\", \"sevk\", \"sevk\", \"sevk\", \"seyhan\", \"se\\u00e7im\", \"se\\u00e7im\", \"se\\u00e7imde\", \"se\\u00e7imde\", \"se\\u00e7imi\", \"se\\u00e7imi\", \"se\\u00e7imin\", \"se\\u00e7imlerde\", \"se\\u00e7imlerin\", \"se\\u00e7imlerinin\", \"se\\u00e7imlerinin\", \"se\\u00e7men\", \"silah\", \"silah\", \"silah\", \"silah\", \"silahl\\u0131\", \"silahl\\u0131\", \"sinan\", \"sivas\", \"siyasi\", \"siyasi\", \"siyasi\", \"sizlerin\", \"sohbet\", \"sohbet\", \"sokakta\", \"somut\", \"sona\", \"sonra\", \"sonra\", \"sonra\", \"sonra\", \"sonra\", \"sonra\", \"sonra\", \"sonra\", \"sonra\", \"sonucu\", \"sonucu\", \"sonucu\", \"sonucu\", \"sonucu\", \"sonucunda\", \"sonucunda\", \"sonuna\", \"sonunda\", \"sonunda\", \"sonunda\", \"sonu\\u00e7\", \"sonu\\u00e7\", \"sonu\\u00e7lar\\u0131na\", \"sorumlu\", \"sorumlusu\", \"soru\\u015fturma\", \"soru\\u015fturma\", \"sosyal\", \"sosyal\", \"soylu\", \"spor\", \"spor\", \"sulh\", \"suretiyle\", \"suriye\", \"su\\u00e7lamalar\\u0131\", \"su\\u00e7larla\", \"su\\u00e7lar\\u0131ndan\", \"su\\u00e7undan\", \"su\\u00e7undan\", \"su\\u00e7undan\", \"s\\u00f6yledi\", \"s\\u00f6yledi\", \"s\\u00f6yledi\", \"s\\u00f6yledi\", \"s\\u00f6yledi\", \"s\\u00f6yledi\", \"s\\u00f6yledi\", \"s\\u00f6yledi\\u011fi\", \"s\\u00f6zc\\u00fcs\\u00fc\", \"s\\u00fcleyman\", \"s\\u00fcper\", \"s\\u00fcre\", \"s\\u00fcre\", \"s\\u00fcre\", \"s\\u00fcre\", \"s\\u00fcre\", \"s\\u00fcreci\", \"s\\u00fcrecin\", \"s\\u00fcrede\", \"s\\u00fcrede\", \"s\\u00fcr\\u00fcc\\u00fc\", \"s\\u00fcr\\u00fcc\\u00fcs\\u00fc\", \"s\\u00fcr\\u00fcld\\u00fc\", \"s\\u00fcr\\u00fcyor\", \"s\\u00fcr\\u00fcyor\", \"s\\u00fcr\\u00fcyor\", \"s\\u0131ra\", \"s\\u0131ra\", \"s\\u0131rada\", \"s\\u0131rada\", \"s\\u0131rada\", \"s\\u0131ralar\\u0131nda\", \"tabanca\", \"tabii\", \"talep\", \"tamamland\\u0131\", \"tane\", \"tane\", \"tane\", \"tane\", \"tan\\u0131k\", \"tarihi\", \"tarihi\", \"tarihinde\", \"tarihine\", \"tart\\u0131\\u015fma\", \"tart\\u0131\\u015fman\\u0131n\", \"tayyip\", \"tebrik\", \"tedavi\", \"tekirda\\u011f\", \"teknik\", \"tekrar\", \"tekrar\", \"tekrar\", \"temel\", \"temel\", \"temel\", \"temin\", \"temin\", \"temmuz\", \"temmuz\", \"ter\\u00f6r\", \"ter\\u00f6r\", \"ter\\u00f6rist\", \"ter\\u00f6rist\", \"ter\\u00f6ristin\", \"ter\\u00f6rle\", \"ter\\u00f6rle\", \"teslim\", \"teslim\", \"teslim\", \"teslim\", \"teslim\", \"tespit\", \"tespit\", \"tespit\", \"tespit\", \"tespit\", \"tespit\", \"tespit\", \"te\\u015febb\\u00fcs\", \"toplam\", \"toplam\", \"toplam\", \"toplam\", \"toplamda\", \"toplant\\u0131\", \"topra\\u011fa\", \"toto\", \"trafik\", \"trafik\", \"tutukland\\u0131\", \"tutukland\\u0131\", \"tutuklu\", \"tutuklu\", \"tutukluluk\", \"tutuksuz\", \"twitter\", \"t\\u00fcrk\", \"t\\u00fcrk\", \"t\\u00fcrk\", \"t\\u00fcrkiye\", \"t\\u00fcrkiye\", \"t\\u00fcrkiye\", \"t\\u00fcrkiyenin\", \"t\\u00fcrl\\u00fc\", \"t\\u00fcrl\\u00fc\", \"t\\u00fcrl\\u00fc\", \"umut\", \"uyar\\u0131nca\", \"uygulama\", \"uygun\", \"uygun\", \"uyu\\u015fturucu\", \"uyu\\u015fturucu\", \"uzman\", \"uzun\", \"uzun\", \"uzun\", \"uzun\", \"vakti\", \"vatanda\\u015flara\", \"vatanda\\u015flarla\", \"vatanda\\u015flar\\u0131m\\u0131z\\u0131n\", \"verdi\", \"verdi\", \"verdi\", \"verdi\", \"verdi\", \"verdi\", \"verilen\", \"verilen\", \"verilen\", \"verilmesi\", \"verilmesini\", \"verme\", \"vermeye\", \"vermeye\", \"vermi\\u015f\", \"vurgulayan\", \"vurgulayan\", \"yakalama\", \"yakalamak\", \"yakla\\u015f\\u0131k\", \"yakla\\u015f\\u0131k\", \"yakla\\u015f\\u0131k\", \"yakla\\u015f\\u0131k\", \"yang\\u0131n\", \"yang\\u0131nda\", \"yang\\u0131n\\u0131\", \"yans\\u0131d\\u0131\", \"yan\\u0131\", \"yan\\u0131ndaki\", \"yapan\", \"yapan\", \"yapan\", \"yapan\", \"yapan\", \"yapan\", \"yapan\", \"yapan\", \"yapmas\\u0131\", \"yapt\\u0131k\", \"yapt\\u0131lar\", \"yapt\\u0131m\", \"yap\\u0131lan\", \"yap\\u0131ld\\u0131\", \"yap\\u0131ld\\u0131\", \"yap\\u0131ld\\u0131\", \"yap\\u0131ld\\u0131\\u011f\\u0131\", \"yap\\u0131l\\u0131yor\", \"yaralanan\", \"yaraland\\u0131\", \"yaral\\u0131\", \"yaral\\u0131lar\", \"yard\\u0131m\", \"yard\\u0131m\", \"yard\\u0131m\", \"yard\\u0131mc\\u0131s\\u0131\", \"yard\\u0131mc\\u0131s\\u0131\", \"yard\\u0131mc\\u0131s\\u0131\", \"yard\\u0131m\\u0131yla\", \"yard\\u0131m\\u0131yla\", \"yarg\\u0131\", \"yasa\", \"yasal\", \"yavuz\", \"yavuz\", \"yaz\\u0131l\\u0131\", \"yaz\\u0131l\\u0131\", \"ya\\u015fad\\u0131\\u011f\\u0131\", \"ya\\u015fam\", \"ya\\u015fam\\u0131n\\u0131\", \"ya\\u015fananlar\", \"ya\\u015fananlarson\", \"ya\\u015fand\\u0131\", \"ya\\u015fl\\u0131\", \"yeni\", \"yeni\", \"yeni\", \"yeni\", \"yeni\", \"yeniden\", \"yeniden\", \"yerli\", \"yeterli\", \"yolu\", \"yolu\", \"yolu\", \"yolunu\", \"yunus\", \"yusuf\", \"y\\u00f6nelik\", \"y\\u00f6nelik\", \"y\\u00f6nelik\", \"y\\u00f6nelik\", \"y\\u00fckl\\u00fc\", \"y\\u00fcksek\", \"y\\u00fcksek\", \"y\\u00fcksek\", \"y\\u00fckselen\", \"y\\u00fckselen\", \"y\\u00fcr\\u00fct\\u00fclen\", \"y\\u00fcr\\u00fct\\u00fclen\", \"y\\u00fczde\", \"y\\u00fczde\", \"y\\u0131la\", \"y\\u0131lda\", \"y\\u0131ldan\", \"y\\u0131ld\\u0131r\\u0131m\", \"y\\u0131ld\\u0131r\\u0131m\", \"y\\u0131llarda\", \"y\\u0131llarda\", \"y\\u0131lmaz\", \"y\\u0131l\\u0131nda\", \"y\\u0131l\\u0131nda\", \"y\\u0131l\\u0131nda\", \"y\\u0131l\\u0131ndan\", \"zaman\", \"zaman\", \"zaman\", \"zaman\", \"zamanl\\u0131\", \"zanl\\u0131\", \"zanl\\u0131lar\\u0131n\", \"zarar\", \"zillet\", \"\\u00e7al\\u0131\\u015faca\\u011f\\u0131z\", \"\\u00e7al\\u0131\\u015fan\", \"\\u00e7al\\u0131\\u015fan\", \"\\u00e7al\\u0131\\u015fan\", \"\\u00e7al\\u0131\\u015fan\", \"\\u00e7al\\u0131\\u015fan\", \"\\u00e7al\\u0131\\u015fan\\u0131\", \"\\u00e7al\\u0131\\u015fma\", \"\\u00e7al\\u0131\\u015fmalar\", \"\\u00e7al\\u0131\\u015fmalar\", \"\\u00e7al\\u0131\\u015fmalar\", \"\\u00e7al\\u0131\\u015fmalara\", \"\\u00e7al\\u0131\\u015fmalar\\u0131\", \"\\u00e7al\\u0131\\u015fmalar\\u0131\", \"\\u00e7al\\u0131\\u015fmalar\\u0131\", \"\\u00e7ekerek\", \"\\u00e7ekilen\", \"\\u00e7ekilen\", \"\\u00e7elik\", \"\\u00e7elik\", \"\\u00e7evredeki\", \"\\u00e7ocuklara\", \"\\u00e7ocu\\u011fu\", \"\\u00e7\\u0131kan\", \"\\u00e7\\u0131kan\", \"\\u00e7\\u0131kan\", \"\\u00e7\\u0131kan\", \"\\u00e7\\u0131kan\", \"\\u00e7\\u0131kan\", \"\\u00e7\\u0131kar\", \"\\u00e7\\u0131kard\\u0131\", \"\\u00e7\\u0131karken\", \"\\u00e7\\u0131kt\\u0131\", \"\\u00e7\\u0131kt\\u0131\", \"\\u00e7\\u0131kt\\u0131\", \"\\u00e7\\u0131kt\\u0131\", \"\\u00e7\\u0131kt\\u0131\\u011f\\u0131\", \"\\u00e7\\u0131k\\u0131yor\", \"\\u00e7\\u0131k\\u0131yor\", \"\\u00e7\\u0131k\\u0131\\u015f\", \"\\u00f6ld\\u00fcrme\", \"\\u00f6len\", \"\\u00f6nce\", \"\\u00f6nce\", \"\\u00f6nce\", \"\\u00f6nce\", \"\\u00f6nce\", \"\\u00f6nce\", \"\\u00f6nce\", \"\\u00f6nce\", \"\\u00f6ncesi\", \"\\u00f6nde\", \"\\u00f6nemli\", \"\\u00f6nemli\", \"\\u00f6nemli\", \"\\u00f6nemli\", \"\\u00f6n\\u00fcne\", \"\\u00f6n\\u00fcne\", \"\\u00f6rg\\u00fct\", \"\\u00f6rg\\u00fcte\", \"\\u00f6rg\\u00fct\\u00fc\", \"\\u00f6rg\\u00fct\\u00fcn\", \"\\u00f6rg\\u00fct\\u00fcne\", \"\\u00f6rg\\u00fct\\u00fcn\\u00fcn\", \"\\u00f6zel\", \"\\u00f6zel\", \"\\u00f6zel\", \"\\u00f6zel\", \"\\u00f6zel\", \"\\u00f6zt\\u00fcrk\", \"\\u00f6\\u011fle\", \"\\u00f6\\u011frenilen\", \"\\u00f6\\u011fretim\", \"\\u00f6\\u011fretmen\", \"\\u00fclke\", \"\\u00fclkede\", \"\\u00fclkemizde\", \"\\u00fclkemizin\", \"\\u00fclkenin\", \"\\u00fcnc\\u00fc\", \"\\u00fcniversitesi\", \"\\u00fcniversitesi\", \"\\u00fcyelerinin\", \"\\u00fcyesi\", \"\\u00fcyesi\", \"\\u00fczerinde\", \"\\u00fczerinde\", \"\\u00fczerinde\", \"\\u00fczerinde\", \"\\u00fczerinde\", \"\\u00fczerinde\", \"\\u00fczerinde\", \"\\u00fczerine\", \"\\u00fczerine\", \"\\u00fczerine\", \"\\u00fczerine\", \"\\u00fczerine\", \"\\u00fczerine\", \"\\u00fczerine\", \"\\u00fczerine\", \"\\u00fc\\u00e7\\u00fcnc\\u00fc\", \"\\u015fahin\", \"\\u015fahs\\u0131n\", \"\\u015fah\\u0131s\", \"\\u015fanl\\u0131urfa\", \"\\u015fehir\", \"\\u015fehir\", \"\\u015fekilde\", \"\\u015fekilde\", \"\\u015fekilde\", \"\\u015fekilde\", \"\\u015fekilde\", \"\\u015fekilde\", \"\\u015fiddet\", \"\\u015fiddet\", \"\\u015fikayet\", \"\\u015fikayet\\u00e7i\", \"\\u015fimdi\", \"\\u015fimdi\", \"\\u015fimdi\", \"\\u015fube\", \"\\u015fube\", \"\\u015f\\u00fcpheli\", \"\\u015f\\u00fcpheliler\", \"\\u015f\\u00fcpheliler\", \"\\u015f\\u00fcphelilerden\", \"\\u015f\\u00fcphelilerin\", \"\\u015f\\u00fcphelilerin\"]}, \"R\": 30, \"lambda.step\": 0.01, \"plot.opts\": {\"xlab\": \"PC1\", \"ylab\": \"PC2\"}, \"topic.order\": [19, 20, 14, 7, 18, 13, 10, 6, 1, 12, 16, 15, 5, 3, 4, 2, 9, 17, 11, 8]};\n",
       "\n",
       "function LDAvis_load_lib(url, callback){\n",
       "  var s = document.createElement('script');\n",
       "  s.src = url;\n",
       "  s.async = true;\n",
       "  s.onreadystatechange = s.onload = callback;\n",
       "  s.onerror = function(){console.warn(\"failed to load library \" + url);};\n",
       "  document.getElementsByTagName(\"head\")[0].appendChild(s);\n",
       "}\n",
       "\n",
       "if(typeof(LDAvis) !== \"undefined\"){\n",
       "   // already loaded: just create the visualization\n",
       "   !function(LDAvis){\n",
       "       new LDAvis(\"#\" + \"ldavis_el354818574579365686533169999\", ldavis_el354818574579365686533169999_data);\n",
       "   }(LDAvis);\n",
       "}else if(typeof define === \"function\" && define.amd){\n",
       "   // require.js is available: use it to load d3/LDAvis\n",
       "   require.config({paths: {d3: \"https://cdnjs.cloudflare.com/ajax/libs/d3/3.5.5/d3.min\"}});\n",
       "   require([\"d3\"], function(d3){\n",
       "      window.d3 = d3;\n",
       "      LDAvis_load_lib(\"https://cdn.rawgit.com/bmabey/pyLDAvis/files/ldavis.v1.0.0.js\", function(){\n",
       "        new LDAvis(\"#\" + \"ldavis_el354818574579365686533169999\", ldavis_el354818574579365686533169999_data);\n",
       "      });\n",
       "    });\n",
       "}else{\n",
       "    // require.js not available: dynamically load d3 & LDAvis\n",
       "    LDAvis_load_lib(\"https://cdnjs.cloudflare.com/ajax/libs/d3/3.5.5/d3.min.js\", function(){\n",
       "         LDAvis_load_lib(\"https://cdn.rawgit.com/bmabey/pyLDAvis/files/ldavis.v1.0.0.js\", function(){\n",
       "                 new LDAvis(\"#\" + \"ldavis_el354818574579365686533169999\", ldavis_el354818574579365686533169999_data);\n",
       "            })\n",
       "         });\n",
       "}\n",
       "</script>"
      ],
      "text/plain": [
       "PreparedData(topic_coordinates=              x         y  topics  cluster       Freq\n",
       "topic                                                \n",
       "18    -0.139332  0.150396       1        1  13.537378\n",
       "19     0.215914  0.159011       2        1  13.173591\n",
       "13    -0.191884  0.165458       3        1   9.826074\n",
       "6     -0.176675  0.106289       4        1   7.191419\n",
       "17    -0.155808 -0.006463       5        1   6.889427\n",
       "12     0.227325  0.008115       6        1   5.986687\n",
       "9     -0.014628  0.159118       7        1   5.788381\n",
       "5      0.030517  0.097543       8        1   5.748192\n",
       "0     -0.029498  0.005992       9        1   5.142705\n",
       "11    -0.096098 -0.051318      10        1   5.021234\n",
       "15    -0.041948  0.152169      11        1   4.598423\n",
       "14     0.231294  0.041403      12        1   4.420533\n",
       "4      0.287519  0.035275      13        1   2.980650\n",
       "2      0.039567 -0.114536      14        1   2.066796\n",
       "3     -0.111657 -0.073921      15        1   1.666906\n",
       "1     -0.001729 -0.183734      16        1   1.471966\n",
       "8      0.032616 -0.146540      17        1   1.365121\n",
       "16    -0.055236 -0.140657      18        1   1.156773\n",
       "10    -0.004441 -0.196505      19        1   1.069286\n",
       "7     -0.045820 -0.167096      20        1   0.898462, topic_info=     Category        Freq              Term       Total  loglift  logprob\n",
       "23    Default  795.000000             parti  795.000000  30.0000  30.0000\n",
       "1599  Default  691.000000           erdoğan  691.000000  29.0000  29.0000\n",
       "928   Default  440.000000            kurulu  440.000000  28.0000  28.0000\n",
       "4     Default  676.000000          belediye  676.000000  27.0000  27.0000\n",
       "235   Default  876.000000           türkiye  876.000000  26.0000  26.0000\n",
       "78    Default  661.000000              olay  661.000000  25.0000  25.0000\n",
       "67    Default  873.000000          istanbul  873.000000  24.0000  24.0000\n",
       "400   Default  906.000000             seçim  906.000000  23.0000  23.0000\n",
       "576   Default  673.000000            sandık  673.000000  22.0000  22.0000\n",
       "563   Default  406.000000              ilçe  406.000000  21.0000  21.0000\n",
       "151   Default  562.000000             polis  562.000000  20.0000  20.0000\n",
       "408   Default  450.000000             terör  450.000000  19.0000  19.0000\n",
       "152   Default  225.000000            saatte  225.000000  18.0000  18.0000\n",
       "47    Default  449.000000          ekipleri  449.000000  17.0000  17.0000\n",
       "5     Default  417.000000        büyükşehir  417.000000  16.0000  16.0000\n",
       "10    Default  522.000000             genel  522.000000  15.0000  15.0000\n",
       "185   Default  626.000000             devam  626.000000  14.0000  14.0000\n",
       "3     Default  666.000000           başkanı  666.000000  13.0000  13.0000\n",
       "2     Default  354.000000            başkan  354.000000  12.0000  12.0000\n",
       "661   Default  351.000000          yıldırım  351.000000  11.0000  11.0000\n",
       "85    Default  878.000000             sonra  878.000000  10.0000  10.0000\n",
       "951   Default  375.000000              ceza  375.000000   9.0000   9.0000\n",
       "32    Default  754.000000          ardından  754.000000   8.0000   8.0000\n",
       "274   Default  363.000000            tespit  363.000000   7.0000   7.0000\n",
       "966   Default  344.000000             sanık  344.000000   6.0000   6.0000\n",
       "77    Default  320.000000         müdürlüğü  320.000000   5.0000   5.0000\n",
       "196   Default  310.000000              fetö  310.000000   4.0000   4.0000\n",
       "299   Default  280.000000              saat  280.000000   3.0000   3.0000\n",
       "146   Default  300.000000           meydana  300.000000   2.0000   2.0000\n",
       "566   Default  405.000000             karar  405.000000   1.0000   1.0000\n",
       "...       ...         ...               ...         ...      ...      ...\n",
       "1052  Topic20    7.739742           çekilen   15.738144   4.0025  -4.9522\n",
       "344   Topic20   24.553875  gerçekleştirilen   51.446243   3.9726  -3.7977\n",
       "329   Topic20   25.628796       cumhuriyeti   56.029930   3.9301  -3.7548\n",
       "1067  Topic20   26.009249          açıklama   73.216904   3.6773  -3.7401\n",
       "419   Topic20   27.090841              yolu   76.494225   3.6742  -3.6994\n",
       "394   Topic20   26.829365             resmi   86.772736   3.5384  -3.7091\n",
       "675   Topic20    5.551719          paylaştı   23.613640   3.2645  -5.2845\n",
       "1265  Topic20   11.566786        bildirildi   85.551376   2.7113  -4.5504\n",
       "377   Topic20   14.376440             milli  220.679169   1.9811  -4.3330\n",
       "341   Topic20    3.964089           geldiği   73.759117   1.7887  -5.6213\n",
       "2049  Topic20    0.057970              tipi    1.113206   1.7572  -9.8464\n",
       "1833  Topic20    0.057972            kapalı    1.113252   1.7572  -9.8464\n",
       "2068  Topic20    0.057966           zelanda    1.113210   1.7571  -9.8465\n",
       "1965  Topic20    0.057964        fenerbahçe    1.113177   1.7571  -9.8465\n",
       "2010  Topic20    0.057965              imha    1.113196   1.7571  -9.8465\n",
       "1946  Topic20    0.057965        vurgulandı    1.113206   1.7571  -9.8465\n",
       "1758  Topic20    0.057963             derin    1.113171   1.7571  -9.8465\n",
       "1923  Topic20    0.057965             gizli    1.113214   1.7571  -9.8465\n",
       "1993  Topic20    0.057964          mühimmat    1.113197   1.7571  -9.8465\n",
       "752   Topic20   17.992361           ilişkin  409.490295   1.5873  -4.1086\n",
       "1920  Topic20    0.057966            samsun    1.113224   1.7571  -9.8465\n",
       "1701  Topic20    0.057967           bahçeli    1.113250   1.7571  -9.8464\n",
       "1048  Topic20    0.493056        görüntüler   15.235750   1.2815  -7.7057\n",
       "1719  Topic20    0.057977     cumhurbaşkanı    1.113500   1.7570  -9.8463\n",
       "1827  Topic20    0.057967              ömer    1.113255   1.7571  -9.8464\n",
       "1757  Topic20    0.057971             darbe    1.113486   1.7569  -9.8464\n",
       "1936  Topic20    0.057968       komutanlığı    1.113393   1.7570  -9.8464\n",
       "111   Topic20    0.114264          ailesine   20.070925  -0.4563  -9.1678\n",
       "19    Topic20    0.214142              mart  361.052002  -2.7179  -8.5397\n",
       "227   Topic20    0.117722           savunma   90.138847  -1.9285  -9.1380\n",
       "\n",
       "[976 rows x 6 columns], token_table=      Topic      Freq           Term\n",
       "term                                \n",
       "1133      8  0.977459           2016\n",
       "1147      7  0.293275           2019\n",
       "1147     10  0.606777           2019\n",
       "1147     14  0.091017           2019\n",
       "280       7  0.150181           acil\n",
       "280       9  0.075091           acil\n",
       "280      12  0.769679           acil\n",
       "168      18  0.991812         adalet\n",
       "314       1  0.183613           aday\n",
       "314       5  0.795657           aday\n",
       "315       5  0.992955          adayı\n",
       "1463      6  0.993107           adet\n",
       "169      10  0.412385         adliye\n",
       "169      18  0.536101         adliye\n",
       "29        2  0.145011       adliyeye\n",
       "29        8  0.154679       adliyeye\n",
       "29       13  0.696055       adliyeye\n",
       "1211      6  0.973596         adrese\n",
       "1002      5  0.129366          ahmet\n",
       "1002      9  0.859358          ahmet\n",
       "110       1  0.026672           aile\n",
       "110       3  0.080015           aile\n",
       "110       7  0.786814           aile\n",
       "110       9  0.013336           aile\n",
       "110      14  0.080015           aile\n",
       "1084      4  0.068975         ailesi\n",
       "1084     14  0.896672         ailesi\n",
       "111       7  0.946643       ailesine\n",
       "259      14  0.938482      ailesinin\n",
       "1351     11  0.983707           akar\n",
       "...     ...       ...            ...\n",
       "106      12  0.088959        üzerine\n",
       "106      13  0.030863        üzerine\n",
       "1680     17  0.966254         üçüncü\n",
       "1146      9  0.990687          şahin\n",
       "456      13  0.979959         şahsın\n",
       "1426      6  0.991134          şahıs\n",
       "973      16  0.971783      şanlıurfa\n",
       "710       1  0.612993          şehir\n",
       "710      17  0.373776          şehir\n",
       "257       1  0.594372        şekilde\n",
       "257       3  0.151601        şekilde\n",
       "257       7  0.050534        şekilde\n",
       "257      11  0.062565        şekilde\n",
       "257      12  0.077004        şekilde\n",
       "257      18  0.062565        şekilde\n",
       "311       8  0.161900         şiddet\n",
       "311      17  0.809500         şiddet\n",
       "429       7  0.966451        şikayet\n",
       "1132      2  0.987660      şikayetçi\n",
       "430       3  0.264616          şimdi\n",
       "430       4  0.450827          şimdi\n",
       "430       5  0.279317          şimdi\n",
       "107       6  0.416225           şube\n",
       "107      13  0.575369           şube\n",
       "457       6  0.990529        şüpheli\n",
       "1594      8  0.072428     şüpheliler\n",
       "1594     13  0.923454     şüpheliler\n",
       "1185      7  0.968376  şüphelilerden\n",
       "1595      8  0.212221   şüphelilerin\n",
       "1595     13  0.773091   şüphelilerin\n",
       "\n",
       "[1540 rows x 3 columns], R=30, lambda_step=0.01, plot_opts={'xlab': 'PC1', 'ylab': 'PC2'}, topic_order=[19, 20, 14, 7, 18, 13, 10, 6, 1, 12, 16, 15, 5, 3, 4, 2, 9, 17, 11, 8])"
      ]
     },
     "execution_count": 27,
     "metadata": {},
     "output_type": "execute_result"
    }
   ],
   "source": [
    "# Visualize the topics\n",
    "pyLDAvis.enable_notebook()\n",
    "vis = pyLDAvis.gensim.prepare(lda_model, corpus, id2word)\n",
    "vis"
   ]
  },
  {
   "cell_type": "markdown",
   "metadata": {},
   "source": [
    "Below, you can see the image of the pyLDAvis' graph. "
   ]
  },
  {
   "cell_type": "code",
   "execution_count": 69,
   "metadata": {
    "scrolled": true
   },
   "outputs": [
    {
     "data": {
      "text/html": [
       "<img src = \"pyLDavis.png\">\n"
      ],
      "text/plain": [
       "<IPython.core.display.HTML object>"
      ]
     },
     "metadata": {},
     "output_type": "display_data"
    }
   ],
   "source": [
    "%%html\n",
    "<img src = \"pyLDavis.png\">"
   ]
  },
  {
   "cell_type": "markdown",
   "metadata": {},
   "source": [
    "In the interactive graph:\n",
    "\n",
    "Each circle on Intertopic Distance Map shows a topic. These circles are proportional to topic frequencies, so if a circle is more large, that topic is more prevalent.\n",
    "\n",
    "If you have a big, non-overlapping circles scattered around the chart, that means you have a fairly good topic model.\n",
    "\n",
    "If you end up with too many topics, you will have many overlaps with small sized bubbles being clustered in one region of the map.\n",
    "\n",
    "If you select a circle or a *topic*, you will see it highlighted and when you look at the right-side, it will automatically give you the most relevant terms for that topic. Red bars indicate term-frequency within the selected topic. Gray bars indicate overall term-frequencies across the corpus. "
   ]
  },
  {
   "cell_type": "markdown",
   "metadata": {},
   "source": [
    "### **5. Conclusion**"
   ]
  },
  {
   "cell_type": "markdown",
   "metadata": {},
   "source": [
    "With the evaluation of data mining tools, there will be surely different models for the fast process of huge collections of datasets. The possibilities of natural language process is getting much more bigger and there is so much to learn in this field. It is still improving and the world is starting to get more dependent on the technology. LDA model is one of the examples of it.\n",
    "\n",
    "Latent Dirichlet allocation is trained on non-labeled documents. It is usually assessed in two ways. The first way to evaluate is by calculating performance on a secondary task, such as document classification or information retrieval, or by estimating the probability of unnoticed held-out documents given some training documents. The second way to *evaluate* is to follow your instinct. You can usually tell a story about the generated topics when you have a decent model.  \n",
    "\n",
    "I have proposed a topic model-based approach to journalistic text analysis. On every update, I calculated the evolution of topics to detect newly emerged topics in the document collection. To do that, I applied the methodology to a collection of online articles and demonstrated the model’s strength. \n",
    "The results are good. The topics are diverse and scattered throughout the map. But I couldn't eliminate all the stopwords, so some of the salient terms does not give meaningful insights. \n",
    "\n",
    "Most of the data I collected are from political news and the keywords I got mostly belongs to the category of *politics*. So there is a relation between topics and documents. If you look at the results you can also see the corrolation using your instinct. Overall  "
   ]
  },
  {
   "cell_type": "markdown",
   "metadata": {},
   "source": [
    "# Sources"
   ]
  },
  {
   "cell_type": "markdown",
   "metadata": {},
   "source": [
    "- Natural Language Annotation for Machine Learning\n",
    "- http://www.jmlr.org/papers/volume3/blei03a/blei03a.pdf\n",
    "- https://www.machinelearningplus.com/nlp/topic-modeling-gensim-python/#9createbigramandtrigrammodels\n",
    "- http://delivery.acm.org/10.1145/2140000/2133826/p77-blei.pdf?ip=94.54.17.207&id=2133826&acc=OPEN&key=4D4702B0C3E38B35%2E4D4702B0C3E38B35%2E4D4702B0C3E38B35%2E6D218144511F3437&__acm__=1558621368_230868b64b41596adbd5eba7f4c6ecbd"
   ]
  }
 ],
 "metadata": {
  "kernelspec": {
   "display_name": "Python 3",
   "language": "python",
   "name": "python3"
  },
  "language_info": {
   "codemirror_mode": {
    "name": "ipython",
    "version": 3
   },
   "file_extension": ".py",
   "mimetype": "text/x-python",
   "name": "python",
   "nbconvert_exporter": "python",
   "pygments_lexer": "ipython3",
   "version": "3.7.1"
  }
 },
 "nbformat": 4,
 "nbformat_minor": 2
}
